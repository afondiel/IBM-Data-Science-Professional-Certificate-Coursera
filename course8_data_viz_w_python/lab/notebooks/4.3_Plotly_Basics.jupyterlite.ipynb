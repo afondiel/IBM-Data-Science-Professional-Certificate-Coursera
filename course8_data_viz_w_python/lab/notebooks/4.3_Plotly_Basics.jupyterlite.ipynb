{
  "cells": [
    {
      "cell_type": "markdown",
      "metadata": {},
      "source": [
        "<center>\n",
        "    <img src=\"https://cf-courses-data.s3.us.cloud-object-storage.appdomain.cloud/IBMDeveloperSkillsNetwork-DV0101EN-SkillsNetwork/labs/Module%204/logo.png\" width=\"300\" alt=\"cognitiveclass.ai logo\" />\n",
        "</center>\n"
      ]
    },
    {
      "cell_type": "markdown",
      "metadata": {},
      "source": [
        "# Basic Plotly Charts\n",
        "\n",
        "Estimated time needed: 30 minutes\n"
      ]
    },
    {
      "cell_type": "markdown",
      "metadata": {},
      "source": [
        "## Objectives\n",
        "\n",
        "In this lab, you will learn about creating plotly charts using plotly.graph_objects and plotly.express.\n",
        "\n",
        "Learn more about:\n",
        "\n",
        "*   [Plotly python](https://plotly.com/python/?utm_medium=Exinfluencer&utm_source=Exinfluencer&utm_content=000026UJ&utm_term=10006555&utm_id=NA-SkillsNetwork-Channel-SkillsNetworkCoursesIBMDeveloperSkillsNetworkDV0101ENSkillsNetwork20297740-2021-01-01)\n",
        "*   [Plotly Graph Objects](https://plotly.com/python/graph-objects/?utm_medium=Exinfluencer&utm_source=Exinfluencer&utm_content=000026UJ&utm_term=10006555&utm_id=NA-SkillsNetwork-Channel-SkillsNetworkCoursesIBMDeveloperSkillsNetworkDV0101ENSkillsNetwork20297740-2021-01-01)\n",
        "*   [Plotly Express](https://plotly.com/python/plotly-express/?utm_medium=Exinfluencer&utm_source=Exinfluencer&utm_content=000026UJ&utm_term=10006555&utm_id=NA-SkillsNetwork-Channel-SkillsNetworkCoursesIBMDeveloperSkillsNetworkDV0101ENSkillsNetwork20297740-2021-01-01)\n",
        "*   Handling data using [Pandas](https://pandas.pydata.org/?utm_medium=Exinfluencer&utm_source=Exinfluencer&utm_content=000026UJ&utm_term=10006555&utm_id=NA-SkillsNetwork-Channel-SkillsNetworkCoursesIBMDeveloperSkillsNetworkDV0101ENSkillsNetwork20297740-2021-01-01)\n",
        "\n",
        "We will be using the [airline dataset](https://developer.ibm.com/exchanges/data/all/airline/?utm_medium=Exinfluencer&utm_source=Exinfluencer&utm_content=000026UJ&utm_term=10006555&utm_id=NA-SkillsNetwork-Channel-SkillsNetworkCoursesIBMDeveloperSkillsNetworkDV0101ENSkillsNetwork20297740-2021-01-01) from [Data Asset eXchange](https://developer.ibm.com/exchanges/data/).\n",
        "\n",
        "#### Airline Reporting Carrier On-Time Performance Dataset\n",
        "\n",
        "The Reporting Carrier On-Time Performance Dataset contains information on approximately 200 million domestic US flights reported to the United States Bureau of Transportation Statistics. The dataset contains basic information about each flight (such as date, time, departure airport, arrival airport) and, if applicable, the amount of time the flight was delayed and information about the reason for the delay. This dataset can be used to predict the likelihood of a flight arriving on time.\n",
        "\n",
        "Preview data, dataset metadata, and data glossary [here.](https://dax-cdn.cdn.appdomain.cloud/dax-airline/1.0.1/data-preview/index.html)\n"
      ]
    },
    {
      "cell_type": "code",
      "execution_count": 25,
      "metadata": {
        "trusted": true
      },
      "outputs": [],
      "source": [
        "import piplite\n",
        "\n",
        "await piplite.install(['nbformat', 'plotly'])"
      ]
    },
    {
      "cell_type": "code",
      "execution_count": 26,
      "metadata": {
        "trusted": true
      },
      "outputs": [],
      "source": [
        "# Import required libraries\n",
        "import pandas as pd\n",
        "import plotly.express as px\n",
        "import plotly.graph_objects as go"
      ]
    },
    {
      "cell_type": "markdown",
      "metadata": {},
      "source": [
        "# Read Data\n"
      ]
    },
    {
      "cell_type": "code",
      "execution_count": 27,
      "metadata": {
        "trusted": true
      },
      "outputs": [
        {
          "name": "stdout",
          "output_type": "stream",
          "text": [
            "Data downloaded and read into a dataframe!\n"
          ]
        }
      ],
      "source": [
        "# Read the airline data into pandas dataframe\n",
        "from js import fetch\n",
        "import io\n",
        "\n",
        "URL = 'https://cf-courses-data.s3.us.cloud-object-storage.appdomain.cloud/IBMDeveloperSkillsNetwork-DV0101EN-SkillsNetwork/Data%20Files/airline_data.csv'\n",
        "resp = await fetch(URL)\n",
        "text = io.BytesIO((await resp.arrayBuffer()).to_py())\n",
        "\n",
        "airline_data =  pd.read_csv(text,\n",
        "                            encoding = \"ISO-8859-1\",\n",
        "                            dtype={'Div1Airport': str, 'Div1TailNum': str, \n",
        "                                   'Div2Airport': str, 'Div2TailNum': str})\n",
        "\n",
        "print('Data downloaded and read into a dataframe!')"
      ]
    },
    {
      "cell_type": "code",
      "execution_count": 30,
      "metadata": {
        "trusted": true
      },
      "outputs": [
        {
          "data": {
            "text/html": [
              "<div>\n",
              "<style scoped>\n",
              "    .dataframe tbody tr th:only-of-type {\n",
              "        vertical-align: middle;\n",
              "    }\n",
              "\n",
              "    .dataframe tbody tr th {\n",
              "        vertical-align: top;\n",
              "    }\n",
              "\n",
              "    .dataframe thead th {\n",
              "        text-align: right;\n",
              "    }\n",
              "</style>\n",
              "<table border=\"1\" class=\"dataframe\">\n",
              "  <thead>\n",
              "    <tr style=\"text-align: right;\">\n",
              "      <th></th>\n",
              "      <th>Unnamed: 0</th>\n",
              "      <th>Year</th>\n",
              "      <th>Quarter</th>\n",
              "      <th>Month</th>\n",
              "      <th>DayofMonth</th>\n",
              "      <th>DayOfWeek</th>\n",
              "      <th>FlightDate</th>\n",
              "      <th>Reporting_Airline</th>\n",
              "      <th>DOT_ID_Reporting_Airline</th>\n",
              "      <th>IATA_CODE_Reporting_Airline</th>\n",
              "      <th>...</th>\n",
              "      <th>Div4WheelsOff</th>\n",
              "      <th>Div4TailNum</th>\n",
              "      <th>Div5Airport</th>\n",
              "      <th>Div5AirportID</th>\n",
              "      <th>Div5AirportSeqID</th>\n",
              "      <th>Div5WheelsOn</th>\n",
              "      <th>Div5TotalGTime</th>\n",
              "      <th>Div5LongestGTime</th>\n",
              "      <th>Div5WheelsOff</th>\n",
              "      <th>Div5TailNum</th>\n",
              "    </tr>\n",
              "  </thead>\n",
              "  <tbody>\n",
              "    <tr>\n",
              "      <th>0</th>\n",
              "      <td>1295781</td>\n",
              "      <td>1998</td>\n",
              "      <td>2</td>\n",
              "      <td>4</td>\n",
              "      <td>2</td>\n",
              "      <td>4</td>\n",
              "      <td>1998-04-02</td>\n",
              "      <td>AS</td>\n",
              "      <td>19930</td>\n",
              "      <td>AS</td>\n",
              "      <td>...</td>\n",
              "      <td>NaN</td>\n",
              "      <td>NaN</td>\n",
              "      <td>NaN</td>\n",
              "      <td>NaN</td>\n",
              "      <td>NaN</td>\n",
              "      <td>NaN</td>\n",
              "      <td>NaN</td>\n",
              "      <td>NaN</td>\n",
              "      <td>NaN</td>\n",
              "      <td>NaN</td>\n",
              "    </tr>\n",
              "    <tr>\n",
              "      <th>1</th>\n",
              "      <td>1125375</td>\n",
              "      <td>2013</td>\n",
              "      <td>2</td>\n",
              "      <td>5</td>\n",
              "      <td>13</td>\n",
              "      <td>1</td>\n",
              "      <td>2013-05-13</td>\n",
              "      <td>EV</td>\n",
              "      <td>20366</td>\n",
              "      <td>EV</td>\n",
              "      <td>...</td>\n",
              "      <td>NaN</td>\n",
              "      <td>NaN</td>\n",
              "      <td>NaN</td>\n",
              "      <td>NaN</td>\n",
              "      <td>NaN</td>\n",
              "      <td>NaN</td>\n",
              "      <td>NaN</td>\n",
              "      <td>NaN</td>\n",
              "      <td>NaN</td>\n",
              "      <td>NaN</td>\n",
              "    </tr>\n",
              "    <tr>\n",
              "      <th>2</th>\n",
              "      <td>118824</td>\n",
              "      <td>1993</td>\n",
              "      <td>3</td>\n",
              "      <td>9</td>\n",
              "      <td>25</td>\n",
              "      <td>6</td>\n",
              "      <td>1993-09-25</td>\n",
              "      <td>UA</td>\n",
              "      <td>19977</td>\n",
              "      <td>UA</td>\n",
              "      <td>...</td>\n",
              "      <td>NaN</td>\n",
              "      <td>NaN</td>\n",
              "      <td>NaN</td>\n",
              "      <td>NaN</td>\n",
              "      <td>NaN</td>\n",
              "      <td>NaN</td>\n",
              "      <td>NaN</td>\n",
              "      <td>NaN</td>\n",
              "      <td>NaN</td>\n",
              "      <td>NaN</td>\n",
              "    </tr>\n",
              "    <tr>\n",
              "      <th>3</th>\n",
              "      <td>634825</td>\n",
              "      <td>1994</td>\n",
              "      <td>4</td>\n",
              "      <td>11</td>\n",
              "      <td>12</td>\n",
              "      <td>6</td>\n",
              "      <td>1994-11-12</td>\n",
              "      <td>HP</td>\n",
              "      <td>19991</td>\n",
              "      <td>HP</td>\n",
              "      <td>...</td>\n",
              "      <td>NaN</td>\n",
              "      <td>NaN</td>\n",
              "      <td>NaN</td>\n",
              "      <td>NaN</td>\n",
              "      <td>NaN</td>\n",
              "      <td>NaN</td>\n",
              "      <td>NaN</td>\n",
              "      <td>NaN</td>\n",
              "      <td>NaN</td>\n",
              "      <td>NaN</td>\n",
              "    </tr>\n",
              "    <tr>\n",
              "      <th>4</th>\n",
              "      <td>1888125</td>\n",
              "      <td>2017</td>\n",
              "      <td>3</td>\n",
              "      <td>8</td>\n",
              "      <td>17</td>\n",
              "      <td>4</td>\n",
              "      <td>2017-08-17</td>\n",
              "      <td>UA</td>\n",
              "      <td>19977</td>\n",
              "      <td>UA</td>\n",
              "      <td>...</td>\n",
              "      <td>NaN</td>\n",
              "      <td>NaN</td>\n",
              "      <td>NaN</td>\n",
              "      <td>NaN</td>\n",
              "      <td>NaN</td>\n",
              "      <td>NaN</td>\n",
              "      <td>NaN</td>\n",
              "      <td>NaN</td>\n",
              "      <td>NaN</td>\n",
              "      <td>NaN</td>\n",
              "    </tr>\n",
              "  </tbody>\n",
              "</table>\n",
              "<p>5 rows × 110 columns</p>\n",
              "</div>"
            ],
            "text/plain": [
              "   Unnamed: 0  Year  Quarter  Month  DayofMonth  DayOfWeek  FlightDate  \\\n",
              "0     1295781  1998        2      4           2          4  1998-04-02   \n",
              "1     1125375  2013        2      5          13          1  2013-05-13   \n",
              "2      118824  1993        3      9          25          6  1993-09-25   \n",
              "3      634825  1994        4     11          12          6  1994-11-12   \n",
              "4     1888125  2017        3      8          17          4  2017-08-17   \n",
              "\n",
              "  Reporting_Airline  DOT_ID_Reporting_Airline IATA_CODE_Reporting_Airline  \\\n",
              "0                AS                     19930                          AS   \n",
              "1                EV                     20366                          EV   \n",
              "2                UA                     19977                          UA   \n",
              "3                HP                     19991                          HP   \n",
              "4                UA                     19977                          UA   \n",
              "\n",
              "   ... Div4WheelsOff  Div4TailNum  Div5Airport  Div5AirportID  \\\n",
              "0  ...           NaN          NaN          NaN            NaN   \n",
              "1  ...           NaN          NaN          NaN            NaN   \n",
              "2  ...           NaN          NaN          NaN            NaN   \n",
              "3  ...           NaN          NaN          NaN            NaN   \n",
              "4  ...           NaN          NaN          NaN            NaN   \n",
              "\n",
              "   Div5AirportSeqID Div5WheelsOn Div5TotalGTime Div5LongestGTime  \\\n",
              "0               NaN          NaN            NaN              NaN   \n",
              "1               NaN          NaN            NaN              NaN   \n",
              "2               NaN          NaN            NaN              NaN   \n",
              "3               NaN          NaN            NaN              NaN   \n",
              "4               NaN          NaN            NaN              NaN   \n",
              "\n",
              "   Div5WheelsOff Div5TailNum  \n",
              "0            NaN         NaN  \n",
              "1            NaN         NaN  \n",
              "2            NaN         NaN  \n",
              "3            NaN         NaN  \n",
              "4            NaN         NaN  \n",
              "\n",
              "[5 rows x 110 columns]"
            ]
          },
          "execution_count": 30,
          "metadata": {},
          "output_type": "execute_result"
        }
      ],
      "source": [
        "# Preview the first 5 lines of the loaded data \n",
        "airline_data.head()"
      ]
    },
    {
      "cell_type": "code",
      "execution_count": 31,
      "metadata": {
        "trusted": true
      },
      "outputs": [
        {
          "data": {
            "text/plain": [
              "(27000, 110)"
            ]
          },
          "execution_count": 31,
          "metadata": {},
          "output_type": "execute_result"
        }
      ],
      "source": [
        "# Shape of the data\n",
        "airline_data.shape"
      ]
    },
    {
      "cell_type": "code",
      "execution_count": 32,
      "metadata": {
        "trusted": true
      },
      "outputs": [],
      "source": [
        "# Randomly sample 500 data points. Setting the random state to be 42 so that we get same result.\n",
        "data = airline_data.sample(n=500, random_state=42)"
      ]
    },
    {
      "cell_type": "code",
      "execution_count": 33,
      "metadata": {
        "trusted": true
      },
      "outputs": [
        {
          "data": {
            "text/plain": [
              "(500, 110)"
            ]
          },
          "execution_count": 33,
          "metadata": {},
          "output_type": "execute_result"
        }
      ],
      "source": [
        "# Get the shape of the trimmed data\n",
        "data.shape"
      ]
    },
    {
      "cell_type": "markdown",
      "metadata": {},
      "source": [
        "### Lab structure\n",
        "\n",
        "#### plotly.graph_objects\n",
        "\n",
        "1.  Review scatter plot creation\n",
        "\n",
        "    Theme: How departure time changes with respect to airport distance\n",
        "\n",
        "2.  **To do** - Create line plot\n",
        "\n",
        "    Theme: Extract average monthly delay time and see how it changes over the year\n",
        "\n",
        "#### plotly.express\n",
        "\n",
        "1.  Review bar chart creation\n",
        "\n",
        "    Theme: Extract number of flights from a specific airline that goes to a destination\n",
        "\n",
        "2.  **To do** - Create bubble chart\n",
        "\n",
        "    Theme: Get number of flights as per reporting airline\n",
        "\n",
        "3.  **To do** - Create histogram\n",
        "\n",
        "    Theme: Get distribution of arrival delay\n",
        "\n",
        "4.  Review pie chart\n",
        "\n",
        "    Theme: Proportion of distance group by month (month indicated by numbers)\n",
        "\n",
        "5.  **To do** - Create sunburst chart\n",
        "\n",
        "    Theme: Hierarchical view in othe order of month and destination state holding value of number of flights\n"
      ]
    },
    {
      "cell_type": "markdown",
      "metadata": {},
      "source": [
        "# plotly.graph_objects¶\n"
      ]
    },
    {
      "cell_type": "markdown",
      "metadata": {},
      "source": [
        "## 1. Scatter Plot\n"
      ]
    },
    {
      "cell_type": "markdown",
      "metadata": {},
      "source": [
        "Learn more about usage of scatter plot [here](https://plotly.com/python/line-and-scatter/?utm_medium=Exinfluencer&utm_source=Exinfluencer&utm_content=000026UJ&utm_term=10006555&utm_id=NA-SkillsNetwork-Channel-SkillsNetworkCoursesIBMDeveloperSkillsNetworkDV0101ENSkillsNetwork20297740-2021-01-01)\n",
        "\n",
        "#### Idea: How departure time changes with respect to airport distance\n"
      ]
    },
    {
      "cell_type": "code",
      "execution_count": 34,
      "metadata": {
        "trusted": true
      },
      "outputs": [
        {
          "data": {
            "application/vnd.plotly.v1+json": {
              "config": {
                "plotlyServerURL": "https://plot.ly"
              },
              "data": [
                {
                  "marker": {
                    "color": "red"
                  },
                  "mode": "markers",
                  "type": "scatter",
                  "x": [
                    109,
                    732,
                    117,
                    1846,
                    432,
                    1532,
                    2139,
                    793,
                    209,
                    866,
                    347,
                    372,
                    100,
                    1589,
                    264,
                    2288,
                    451,
                    647,
                    484,
                    2036,
                    395,
                    936,
                    324,
                    200,
                    237,
                    280,
                    812,
                    1205,
                    144,
                    2401,
                    369,
                    336,
                    1557,
                    931,
                    967,
                    406,
                    214,
                    247,
                    503,
                    1009,
                    938,
                    95,
                    419,
                    185,
                    1745,
                    2565,
                    547,
                    992,
                    569,
                    375,
                    271,
                    246,
                    113,
                    977,
                    1197,
                    473,
                    258,
                    284,
                    1237,
                    314,
                    397,
                    1015,
                    532,
                    157,
                    949,
                    237,
                    2338,
                    338,
                    155,
                    228,
                    395,
                    1437,
                    874,
                    326,
                    113,
                    526,
                    425,
                    408,
                    236,
                    321,
                    363,
                    1827,
                    545,
                    1342,
                    461,
                    185,
                    297,
                    253,
                    515,
                    874,
                    723,
                    187,
                    714,
                    1050,
                    317,
                    370,
                    1182,
                    416,
                    1772,
                    2565,
                    787,
                    160,
                    229,
                    323,
                    719,
                    342,
                    920,
                    647,
                    1635,
                    603,
                    463,
                    399,
                    606,
                    224,
                    183,
                    235,
                    581,
                    1823,
                    318,
                    732,
                    261,
                    190,
                    1979,
                    256,
                    630,
                    528,
                    342,
                    2475,
                    1290,
                    868,
                    1205,
                    318,
                    667,
                    679,
                    745,
                    833,
                    651,
                    70,
                    1024,
                    240,
                    773,
                    448,
                    881,
                    406,
                    1814,
                    237,
                    844,
                    570,
                    480,
                    2419,
                    2139,
                    628,
                    240,
                    106,
                    100,
                    1024,
                    1050,
                    654,
                    585,
                    272,
                    73,
                    258,
                    1546,
                    140,
                    874,
                    1249,
                    936,
                    444,
                    366,
                    362,
                    587,
                    386,
                    1671,
                    446,
                    271,
                    337,
                    604,
                    239,
                    409,
                    431,
                    225,
                    936,
                    312,
                    418,
                    125,
                    1121,
                    590,
                    1086,
                    605,
                    399,
                    605,
                    679,
                    1310,
                    103,
                    606,
                    499,
                    70,
                    303,
                    1726,
                    2295,
                    239,
                    133,
                    757,
                    590,
                    280,
                    588,
                    874,
                    425,
                    861,
                    1571,
                    507,
                    539,
                    236,
                    89,
                    1754,
                    802,
                    239,
                    1338,
                    679,
                    462,
                    395,
                    337,
                    1124,
                    364,
                    627,
                    1121,
                    2475,
                    628,
                    900,
                    403,
                    1372,
                    874,
                    322,
                    978,
                    337,
                    1189,
                    630,
                    188,
                    957,
                    562,
                    964,
                    562,
                    2585,
                    1452,
                    1050,
                    373,
                    1562,
                    296,
                    867,
                    427,
                    966,
                    1050,
                    443,
                    1979,
                    1744,
                    299,
                    110,
                    336,
                    317,
                    74,
                    211,
                    224,
                    516,
                    2576,
                    1105,
                    1303,
                    197,
                    689,
                    397,
                    738,
                    511,
                    925,
                    572,
                    292,
                    694,
                    443,
                    413,
                    173,
                    83,
                    462,
                    2611,
                    787,
                    965,
                    931,
                    776,
                    601,
                    852,
                    761,
                    1946,
                    313,
                    1121,
                    349,
                    972,
                    305,
                    292,
                    2694,
                    367,
                    580,
                    419,
                    73,
                    645,
                    1723,
                    337,
                    1813,
                    363,
                    1188,
                    192,
                    678,
                    906,
                    1133,
                    213,
                    1235,
                    290,
                    425,
                    412,
                    978,
                    96,
                    1195,
                    109,
                    1055,
                    1097,
                    1584,
                    341,
                    1389,
                    446,
                    1250,
                    587,
                    931,
                    679,
                    642,
                    296,
                    427,
                    303,
                    689,
                    334,
                    335,
                    1929,
                    1450,
                    328,
                    80,
                    120,
                    223,
                    1489,
                    1020,
                    802,
                    1121,
                    603,
                    925,
                    193,
                    451,
                    337,
                    1736,
                    762,
                    125,
                    663,
                    1090,
                    868,
                    675,
                    446,
                    1726,
                    408,
                    231,
                    236,
                    2569,
                    770,
                    1124,
                    397,
                    569,
                    325,
                    416,
                    1698,
                    336,
                    190,
                    526,
                    358,
                    646,
                    328,
                    2585,
                    759,
                    457,
                    1121,
                    200,
                    693,
                    592,
                    473,
                    982,
                    1546,
                    554,
                    721,
                    693,
                    775,
                    1200,
                    802,
                    335,
                    432,
                    596,
                    399,
                    120,
                    436,
                    695,
                    867,
                    937,
                    1023,
                    576,
                    786,
                    328,
                    189,
                    181,
                    1262,
                    655,
                    229,
                    475,
                    308,
                    223,
                    1005,
                    448,
                    528,
                    1235,
                    564,
                    386,
                    931,
                    550,
                    787,
                    1745,
                    554,
                    679,
                    393,
                    669,
                    590,
                    588,
                    1815,
                    602,
                    679,
                    163,
                    469,
                    1946,
                    230,
                    213,
                    347,
                    1235,
                    508,
                    190,
                    68,
                    286,
                    1744,
                    191,
                    944,
                    2586,
                    967,
                    216,
                    966,
                    408,
                    972,
                    89,
                    272,
                    2338,
                    1173,
                    828,
                    209,
                    76,
                    1093,
                    229,
                    712,
                    177,
                    487,
                    765,
                    873,
                    328,
                    887,
                    487,
                    185,
                    2586,
                    541,
                    308,
                    229,
                    324,
                    2036,
                    1546,
                    622,
                    612,
                    337,
                    1501,
                    834,
                    196,
                    120,
                    1263,
                    612,
                    624,
                    1844,
                    106,
                    972,
                    936,
                    589,
                    1050,
                    173,
                    254,
                    1514,
                    1044,
                    366,
                    1182
                  ],
                  "y": [
                    742,
                    1900,
                    2120,
                    1625,
                    1355,
                    1143,
                    1630,
                    1432,
                    858,
                    1015,
                    1546,
                    900,
                    1053,
                    1205,
                    1745,
                    1651,
                    2137,
                    641,
                    925,
                    1627,
                    613,
                    1920,
                    1129,
                    941,
                    1222,
                    1252,
                    701,
                    1131,
                    1453,
                    1310,
                    538,
                    1146,
                    1815,
                    1742,
                    1904,
                    1437,
                    1140,
                    null,
                    1301,
                    950,
                    1048,
                    523,
                    1030,
                    1030,
                    1137,
                    1143,
                    1101,
                    830,
                    950,
                    853,
                    804,
                    620,
                    1941,
                    931,
                    1911,
                    1621,
                    1439,
                    750,
                    658,
                    1355,
                    957,
                    625,
                    1115,
                    null,
                    1545,
                    944,
                    1609,
                    651,
                    1937,
                    1535,
                    2015,
                    1647,
                    827,
                    1905,
                    930,
                    1958,
                    1855,
                    1015,
                    725,
                    601,
                    2056,
                    737,
                    829,
                    715,
                    1245,
                    843,
                    1958,
                    1707,
                    1601,
                    1025,
                    1334,
                    2103,
                    2052,
                    812,
                    550,
                    835,
                    2005,
                    1236,
                    1155,
                    1454,
                    1312,
                    720,
                    1850,
                    1403,
                    1639,
                    1025,
                    1515,
                    747,
                    711,
                    1554,
                    1814,
                    1053,
                    1235,
                    1740,
                    1055,
                    1827,
                    1701,
                    740,
                    2020,
                    1056,
                    2340,
                    1837,
                    1321,
                    2110,
                    1033,
                    1720,
                    732,
                    1819,
                    1746,
                    515,
                    737,
                    1441,
                    617,
                    1728,
                    556,
                    1249,
                    914,
                    1333,
                    1912,
                    1546,
                    2056,
                    655,
                    1320,
                    1945,
                    29,
                    1726,
                    2158,
                    1240,
                    910,
                    1004,
                    1749,
                    900,
                    1542,
                    1148,
                    2011,
                    1846,
                    704,
                    1349,
                    1455,
                    1020,
                    1602,
                    2305,
                    1643,
                    1424,
                    1152,
                    1704,
                    641,
                    1125,
                    1656,
                    1125,
                    1540,
                    1028,
                    930,
                    1100,
                    930,
                    1624,
                    1435,
                    1954,
                    1048,
                    1855,
                    1743,
                    1422,
                    1323,
                    1331,
                    2051,
                    1400,
                    920,
                    1058,
                    2051,
                    620,
                    1918,
                    632,
                    1416,
                    2043,
                    1241,
                    1200,
                    1725,
                    745,
                    1137,
                    740,
                    1936,
                    1652,
                    707,
                    2036,
                    1141,
                    658,
                    1129,
                    2329,
                    1335,
                    1814,
                    1339,
                    830,
                    null,
                    1353,
                    1724,
                    1525,
                    2030,
                    734,
                    902,
                    1451,
                    1328,
                    1555,
                    1258,
                    1655,
                    null,
                    1122,
                    1823,
                    840,
                    631,
                    1642,
                    833,
                    2213,
                    1707,
                    1211,
                    556,
                    1336,
                    1448,
                    1944,
                    2105,
                    1607,
                    1227,
                    1752,
                    1203,
                    null,
                    613,
                    1145,
                    621,
                    1504,
                    655,
                    2146,
                    809,
                    1925,
                    1925,
                    826,
                    811,
                    1123,
                    2246,
                    1326,
                    900,
                    1333,
                    1726,
                    1603,
                    1455,
                    654,
                    null,
                    1353,
                    1255,
                    919,
                    1717,
                    2026,
                    2245,
                    1039,
                    1954,
                    1525,
                    1116,
                    1059,
                    805,
                    1423,
                    null,
                    1930,
                    2125,
                    1340,
                    1129,
                    1551,
                    821,
                    1436,
                    1836,
                    948,
                    1631,
                    1222,
                    2253,
                    719,
                    1342,
                    1853,
                    1401,
                    959,
                    750,
                    2000,
                    1025,
                    1734,
                    841,
                    1031,
                    940,
                    1823,
                    627,
                    1621,
                    1617,
                    null,
                    1133,
                    2017,
                    2059,
                    125,
                    1623,
                    1344,
                    1454,
                    1404,
                    555,
                    1001,
                    1840,
                    1432,
                    706,
                    1013,
                    1430,
                    1224,
                    1015,
                    1809,
                    2103,
                    1120,
                    1757,
                    1711,
                    null,
                    733,
                    1055,
                    1111,
                    925,
                    722,
                    1444,
                    640,
                    1646,
                    2100,
                    2049,
                    1600,
                    1547,
                    1936,
                    1023,
                    1614,
                    2037,
                    1458,
                    1851,
                    1034,
                    2007,
                    1154,
                    1951,
                    1538,
                    1153,
                    1210,
                    909,
                    1144,
                    2339,
                    2002,
                    1627,
                    944,
                    1806,
                    1309,
                    1539,
                    809,
                    1703,
                    2142,
                    830,
                    1255,
                    721,
                    1136,
                    1925,
                    1621,
                    1439,
                    813,
                    2114,
                    1414,
                    1343,
                    1037,
                    1050,
                    1351,
                    842,
                    1419,
                    2014,
                    4,
                    1157,
                    1548,
                    1442,
                    1016,
                    1934,
                    857,
                    1513,
                    2144,
                    1644,
                    857,
                    1048,
                    531,
                    1502,
                    1302,
                    839,
                    1324,
                    742,
                    557,
                    1110,
                    1742,
                    1636,
                    1910,
                    1015,
                    1654,
                    1155,
                    1338,
                    1458,
                    2158,
                    1900,
                    1326,
                    954,
                    1745,
                    1118,
                    1108,
                    821,
                    2011,
                    1320,
                    703,
                    1710,
                    1714,
                    758,
                    1239,
                    2147,
                    1956,
                    1802,
                    2152,
                    1705,
                    1713,
                    1009,
                    1135,
                    1255,
                    920,
                    1315,
                    720,
                    1210,
                    1036,
                    1215,
                    1108,
                    1704,
                    1357,
                    2005,
                    2004,
                    1651,
                    1409,
                    1637,
                    2138,
                    null,
                    1337,
                    1840,
                    1830,
                    1903,
                    1426,
                    2101,
                    829,
                    1628,
                    1828,
                    1010,
                    1313,
                    1854,
                    645,
                    1142,
                    2035,
                    2036,
                    1747,
                    1829,
                    641,
                    1350,
                    1133,
                    null,
                    1604,
                    923,
                    926,
                    645,
                    null,
                    625,
                    526,
                    831,
                    830,
                    700,
                    759,
                    829,
                    600,
                    745,
                    1257,
                    1458,
                    1008,
                    1502,
                    1250,
                    1755,
                    1225,
                    2001,
                    1815,
                    1728,
                    1208
                  ]
                }
              ],
              "layout": {
                "autosize": true,
                "template": {
                  "data": {
                    "bar": [
                      {
                        "error_x": {
                          "color": "#2a3f5f"
                        },
                        "error_y": {
                          "color": "#2a3f5f"
                        },
                        "marker": {
                          "line": {
                            "color": "#E5ECF6",
                            "width": 0.5
                          },
                          "pattern": {
                            "fillmode": "overlay",
                            "size": 10,
                            "solidity": 0.2
                          }
                        },
                        "type": "bar"
                      }
                    ],
                    "barpolar": [
                      {
                        "marker": {
                          "line": {
                            "color": "#E5ECF6",
                            "width": 0.5
                          },
                          "pattern": {
                            "fillmode": "overlay",
                            "size": 10,
                            "solidity": 0.2
                          }
                        },
                        "type": "barpolar"
                      }
                    ],
                    "carpet": [
                      {
                        "aaxis": {
                          "endlinecolor": "#2a3f5f",
                          "gridcolor": "white",
                          "linecolor": "white",
                          "minorgridcolor": "white",
                          "startlinecolor": "#2a3f5f"
                        },
                        "baxis": {
                          "endlinecolor": "#2a3f5f",
                          "gridcolor": "white",
                          "linecolor": "white",
                          "minorgridcolor": "white",
                          "startlinecolor": "#2a3f5f"
                        },
                        "type": "carpet"
                      }
                    ],
                    "choropleth": [
                      {
                        "colorbar": {
                          "outlinewidth": 0,
                          "ticks": ""
                        },
                        "type": "choropleth"
                      }
                    ],
                    "contour": [
                      {
                        "colorbar": {
                          "outlinewidth": 0,
                          "ticks": ""
                        },
                        "colorscale": [
                          [
                            0,
                            "#0d0887"
                          ],
                          [
                            0.1111111111111111,
                            "#46039f"
                          ],
                          [
                            0.2222222222222222,
                            "#7201a8"
                          ],
                          [
                            0.3333333333333333,
                            "#9c179e"
                          ],
                          [
                            0.4444444444444444,
                            "#bd3786"
                          ],
                          [
                            0.5555555555555556,
                            "#d8576b"
                          ],
                          [
                            0.6666666666666666,
                            "#ed7953"
                          ],
                          [
                            0.7777777777777778,
                            "#fb9f3a"
                          ],
                          [
                            0.8888888888888888,
                            "#fdca26"
                          ],
                          [
                            1,
                            "#f0f921"
                          ]
                        ],
                        "type": "contour"
                      }
                    ],
                    "contourcarpet": [
                      {
                        "colorbar": {
                          "outlinewidth": 0,
                          "ticks": ""
                        },
                        "type": "contourcarpet"
                      }
                    ],
                    "heatmap": [
                      {
                        "colorbar": {
                          "outlinewidth": 0,
                          "ticks": ""
                        },
                        "colorscale": [
                          [
                            0,
                            "#0d0887"
                          ],
                          [
                            0.1111111111111111,
                            "#46039f"
                          ],
                          [
                            0.2222222222222222,
                            "#7201a8"
                          ],
                          [
                            0.3333333333333333,
                            "#9c179e"
                          ],
                          [
                            0.4444444444444444,
                            "#bd3786"
                          ],
                          [
                            0.5555555555555556,
                            "#d8576b"
                          ],
                          [
                            0.6666666666666666,
                            "#ed7953"
                          ],
                          [
                            0.7777777777777778,
                            "#fb9f3a"
                          ],
                          [
                            0.8888888888888888,
                            "#fdca26"
                          ],
                          [
                            1,
                            "#f0f921"
                          ]
                        ],
                        "type": "heatmap"
                      }
                    ],
                    "heatmapgl": [
                      {
                        "colorbar": {
                          "outlinewidth": 0,
                          "ticks": ""
                        },
                        "colorscale": [
                          [
                            0,
                            "#0d0887"
                          ],
                          [
                            0.1111111111111111,
                            "#46039f"
                          ],
                          [
                            0.2222222222222222,
                            "#7201a8"
                          ],
                          [
                            0.3333333333333333,
                            "#9c179e"
                          ],
                          [
                            0.4444444444444444,
                            "#bd3786"
                          ],
                          [
                            0.5555555555555556,
                            "#d8576b"
                          ],
                          [
                            0.6666666666666666,
                            "#ed7953"
                          ],
                          [
                            0.7777777777777778,
                            "#fb9f3a"
                          ],
                          [
                            0.8888888888888888,
                            "#fdca26"
                          ],
                          [
                            1,
                            "#f0f921"
                          ]
                        ],
                        "type": "heatmapgl"
                      }
                    ],
                    "histogram": [
                      {
                        "marker": {
                          "pattern": {
                            "fillmode": "overlay",
                            "size": 10,
                            "solidity": 0.2
                          }
                        },
                        "type": "histogram"
                      }
                    ],
                    "histogram2d": [
                      {
                        "colorbar": {
                          "outlinewidth": 0,
                          "ticks": ""
                        },
                        "colorscale": [
                          [
                            0,
                            "#0d0887"
                          ],
                          [
                            0.1111111111111111,
                            "#46039f"
                          ],
                          [
                            0.2222222222222222,
                            "#7201a8"
                          ],
                          [
                            0.3333333333333333,
                            "#9c179e"
                          ],
                          [
                            0.4444444444444444,
                            "#bd3786"
                          ],
                          [
                            0.5555555555555556,
                            "#d8576b"
                          ],
                          [
                            0.6666666666666666,
                            "#ed7953"
                          ],
                          [
                            0.7777777777777778,
                            "#fb9f3a"
                          ],
                          [
                            0.8888888888888888,
                            "#fdca26"
                          ],
                          [
                            1,
                            "#f0f921"
                          ]
                        ],
                        "type": "histogram2d"
                      }
                    ],
                    "histogram2dcontour": [
                      {
                        "colorbar": {
                          "outlinewidth": 0,
                          "ticks": ""
                        },
                        "colorscale": [
                          [
                            0,
                            "#0d0887"
                          ],
                          [
                            0.1111111111111111,
                            "#46039f"
                          ],
                          [
                            0.2222222222222222,
                            "#7201a8"
                          ],
                          [
                            0.3333333333333333,
                            "#9c179e"
                          ],
                          [
                            0.4444444444444444,
                            "#bd3786"
                          ],
                          [
                            0.5555555555555556,
                            "#d8576b"
                          ],
                          [
                            0.6666666666666666,
                            "#ed7953"
                          ],
                          [
                            0.7777777777777778,
                            "#fb9f3a"
                          ],
                          [
                            0.8888888888888888,
                            "#fdca26"
                          ],
                          [
                            1,
                            "#f0f921"
                          ]
                        ],
                        "type": "histogram2dcontour"
                      }
                    ],
                    "mesh3d": [
                      {
                        "colorbar": {
                          "outlinewidth": 0,
                          "ticks": ""
                        },
                        "type": "mesh3d"
                      }
                    ],
                    "parcoords": [
                      {
                        "line": {
                          "colorbar": {
                            "outlinewidth": 0,
                            "ticks": ""
                          }
                        },
                        "type": "parcoords"
                      }
                    ],
                    "pie": [
                      {
                        "automargin": true,
                        "type": "pie"
                      }
                    ],
                    "scatter": [
                      {
                        "fillpattern": {
                          "fillmode": "overlay",
                          "size": 10,
                          "solidity": 0.2
                        },
                        "type": "scatter"
                      }
                    ],
                    "scatter3d": [
                      {
                        "line": {
                          "colorbar": {
                            "outlinewidth": 0,
                            "ticks": ""
                          }
                        },
                        "marker": {
                          "colorbar": {
                            "outlinewidth": 0,
                            "ticks": ""
                          }
                        },
                        "type": "scatter3d"
                      }
                    ],
                    "scattercarpet": [
                      {
                        "marker": {
                          "colorbar": {
                            "outlinewidth": 0,
                            "ticks": ""
                          }
                        },
                        "type": "scattercarpet"
                      }
                    ],
                    "scattergeo": [
                      {
                        "marker": {
                          "colorbar": {
                            "outlinewidth": 0,
                            "ticks": ""
                          }
                        },
                        "type": "scattergeo"
                      }
                    ],
                    "scattergl": [
                      {
                        "marker": {
                          "colorbar": {
                            "outlinewidth": 0,
                            "ticks": ""
                          }
                        },
                        "type": "scattergl"
                      }
                    ],
                    "scattermapbox": [
                      {
                        "marker": {
                          "colorbar": {
                            "outlinewidth": 0,
                            "ticks": ""
                          }
                        },
                        "type": "scattermapbox"
                      }
                    ],
                    "scatterpolar": [
                      {
                        "marker": {
                          "colorbar": {
                            "outlinewidth": 0,
                            "ticks": ""
                          }
                        },
                        "type": "scatterpolar"
                      }
                    ],
                    "scatterpolargl": [
                      {
                        "marker": {
                          "colorbar": {
                            "outlinewidth": 0,
                            "ticks": ""
                          }
                        },
                        "type": "scatterpolargl"
                      }
                    ],
                    "scatterternary": [
                      {
                        "marker": {
                          "colorbar": {
                            "outlinewidth": 0,
                            "ticks": ""
                          }
                        },
                        "type": "scatterternary"
                      }
                    ],
                    "surface": [
                      {
                        "colorbar": {
                          "outlinewidth": 0,
                          "ticks": ""
                        },
                        "colorscale": [
                          [
                            0,
                            "#0d0887"
                          ],
                          [
                            0.1111111111111111,
                            "#46039f"
                          ],
                          [
                            0.2222222222222222,
                            "#7201a8"
                          ],
                          [
                            0.3333333333333333,
                            "#9c179e"
                          ],
                          [
                            0.4444444444444444,
                            "#bd3786"
                          ],
                          [
                            0.5555555555555556,
                            "#d8576b"
                          ],
                          [
                            0.6666666666666666,
                            "#ed7953"
                          ],
                          [
                            0.7777777777777778,
                            "#fb9f3a"
                          ],
                          [
                            0.8888888888888888,
                            "#fdca26"
                          ],
                          [
                            1,
                            "#f0f921"
                          ]
                        ],
                        "type": "surface"
                      }
                    ],
                    "table": [
                      {
                        "cells": {
                          "fill": {
                            "color": "#EBF0F8"
                          },
                          "line": {
                            "color": "white"
                          }
                        },
                        "header": {
                          "fill": {
                            "color": "#C8D4E3"
                          },
                          "line": {
                            "color": "white"
                          }
                        },
                        "type": "table"
                      }
                    ]
                  },
                  "layout": {
                    "annotationdefaults": {
                      "arrowcolor": "#2a3f5f",
                      "arrowhead": 0,
                      "arrowwidth": 1
                    },
                    "autotypenumbers": "strict",
                    "coloraxis": {
                      "colorbar": {
                        "outlinewidth": 0,
                        "ticks": ""
                      }
                    },
                    "colorscale": {
                      "diverging": [
                        [
                          0,
                          "#8e0152"
                        ],
                        [
                          0.1,
                          "#c51b7d"
                        ],
                        [
                          0.2,
                          "#de77ae"
                        ],
                        [
                          0.3,
                          "#f1b6da"
                        ],
                        [
                          0.4,
                          "#fde0ef"
                        ],
                        [
                          0.5,
                          "#f7f7f7"
                        ],
                        [
                          0.6,
                          "#e6f5d0"
                        ],
                        [
                          0.7,
                          "#b8e186"
                        ],
                        [
                          0.8,
                          "#7fbc41"
                        ],
                        [
                          0.9,
                          "#4d9221"
                        ],
                        [
                          1,
                          "#276419"
                        ]
                      ],
                      "sequential": [
                        [
                          0,
                          "#0d0887"
                        ],
                        [
                          0.1111111111111111,
                          "#46039f"
                        ],
                        [
                          0.2222222222222222,
                          "#7201a8"
                        ],
                        [
                          0.3333333333333333,
                          "#9c179e"
                        ],
                        [
                          0.4444444444444444,
                          "#bd3786"
                        ],
                        [
                          0.5555555555555556,
                          "#d8576b"
                        ],
                        [
                          0.6666666666666666,
                          "#ed7953"
                        ],
                        [
                          0.7777777777777778,
                          "#fb9f3a"
                        ],
                        [
                          0.8888888888888888,
                          "#fdca26"
                        ],
                        [
                          1,
                          "#f0f921"
                        ]
                      ],
                      "sequentialminus": [
                        [
                          0,
                          "#0d0887"
                        ],
                        [
                          0.1111111111111111,
                          "#46039f"
                        ],
                        [
                          0.2222222222222222,
                          "#7201a8"
                        ],
                        [
                          0.3333333333333333,
                          "#9c179e"
                        ],
                        [
                          0.4444444444444444,
                          "#bd3786"
                        ],
                        [
                          0.5555555555555556,
                          "#d8576b"
                        ],
                        [
                          0.6666666666666666,
                          "#ed7953"
                        ],
                        [
                          0.7777777777777778,
                          "#fb9f3a"
                        ],
                        [
                          0.8888888888888888,
                          "#fdca26"
                        ],
                        [
                          1,
                          "#f0f921"
                        ]
                      ]
                    },
                    "colorway": [
                      "#636efa",
                      "#EF553B",
                      "#00cc96",
                      "#ab63fa",
                      "#FFA15A",
                      "#19d3f3",
                      "#FF6692",
                      "#B6E880",
                      "#FF97FF",
                      "#FECB52"
                    ],
                    "font": {
                      "color": "#2a3f5f"
                    },
                    "geo": {
                      "bgcolor": "white",
                      "lakecolor": "white",
                      "landcolor": "#E5ECF6",
                      "showlakes": true,
                      "showland": true,
                      "subunitcolor": "white"
                    },
                    "hoverlabel": {
                      "align": "left"
                    },
                    "hovermode": "closest",
                    "mapbox": {
                      "style": "light"
                    },
                    "paper_bgcolor": "white",
                    "plot_bgcolor": "#E5ECF6",
                    "polar": {
                      "angularaxis": {
                        "gridcolor": "white",
                        "linecolor": "white",
                        "ticks": ""
                      },
                      "bgcolor": "#E5ECF6",
                      "radialaxis": {
                        "gridcolor": "white",
                        "linecolor": "white",
                        "ticks": ""
                      }
                    },
                    "scene": {
                      "xaxis": {
                        "backgroundcolor": "#E5ECF6",
                        "gridcolor": "white",
                        "gridwidth": 2,
                        "linecolor": "white",
                        "showbackground": true,
                        "ticks": "",
                        "zerolinecolor": "white"
                      },
                      "yaxis": {
                        "backgroundcolor": "#E5ECF6",
                        "gridcolor": "white",
                        "gridwidth": 2,
                        "linecolor": "white",
                        "showbackground": true,
                        "ticks": "",
                        "zerolinecolor": "white"
                      },
                      "zaxis": {
                        "backgroundcolor": "#E5ECF6",
                        "gridcolor": "white",
                        "gridwidth": 2,
                        "linecolor": "white",
                        "showbackground": true,
                        "ticks": "",
                        "zerolinecolor": "white"
                      }
                    },
                    "shapedefaults": {
                      "line": {
                        "color": "#2a3f5f"
                      }
                    },
                    "ternary": {
                      "aaxis": {
                        "gridcolor": "white",
                        "linecolor": "white",
                        "ticks": ""
                      },
                      "baxis": {
                        "gridcolor": "white",
                        "linecolor": "white",
                        "ticks": ""
                      },
                      "bgcolor": "#E5ECF6",
                      "caxis": {
                        "gridcolor": "white",
                        "linecolor": "white",
                        "ticks": ""
                      }
                    },
                    "title": {
                      "x": 0.05
                    },
                    "xaxis": {
                      "automargin": true,
                      "gridcolor": "white",
                      "linecolor": "white",
                      "ticks": "",
                      "title": {
                        "standoff": 15
                      },
                      "zerolinecolor": "white",
                      "zerolinewidth": 2
                    },
                    "yaxis": {
                      "automargin": true,
                      "gridcolor": "white",
                      "linecolor": "white",
                      "ticks": "",
                      "title": {
                        "standoff": 15
                      },
                      "zerolinecolor": "white",
                      "zerolinewidth": 2
                    }
                  }
                },
                "title": {
                  "text": "Distance vs Departure Time"
                },
                "xaxis": {
                  "autorange": true,
                  "range": [
                    -92.36773852057695,
                    2854.367738520577
                  ],
                  "title": {
                    "text": "Distance"
                  },
                  "type": "linear"
                },
                "yaxis": {
                  "autorange": true,
                  "range": [
                    -188.7766990291262,
                    2532.776699029126
                  ],
                  "title": {
                    "text": "DepTime"
                  },
                  "type": "linear"
                }
              }
            },
            "image/png": "[encoded data removed]",
            "text/html": [
              "<div>                            <div id=\"c43ddefe-79a1-4322-93b9-1ed017443d2e\" class=\"plotly-graph-div\" style=\"height:525px; width:100%;\"></div>            <script type=\"text/javascript\">                require([\"plotly\"], function(Plotly) {                    window.PLOTLYENV=window.PLOTLYENV || {};                                    if (document.getElementById(\"c43ddefe-79a1-4322-93b9-1ed017443d2e\")) {                    Plotly.newPlot(                        \"c43ddefe-79a1-4322-93b9-1ed017443d2e\",                        [{\"marker\":{\"color\":\"red\"},\"mode\":\"markers\",\"x\":[109.0,732.0,117.0,1846.0,432.0,1532.0,2139.0,793.0,209.0,866.0,347.0,372.0,100.0,1589.0,264.0,2288.0,451.0,647.0,484.0,2036.0,395.0,936.0,324.0,200.0,237.0,280.0,812.0,1205.0,144.0,2401.0,369.0,336.0,1557.0,931.0,967.0,406.0,214.0,247.0,503.0,1009.0,938.0,95.0,419.0,185.0,1745.0,2565.0,547.0,992.0,569.0,375.0,271.0,246.0,113.0,977.0,1197.0,473.0,258.0,284.0,1237.0,314.0,397.0,1015.0,532.0,157.0,949.0,237.0,2338.0,338.0,155.0,228.0,395.0,1437.0,874.0,326.0,113.0,526.0,425.0,408.0,236.0,321.0,363.0,1827.0,545.0,1342.0,461.0,185.0,297.0,253.0,515.0,874.0,723.0,187.0,714.0,1050.0,317.0,370.0,1182.0,416.0,1772.0,2565.0,787.0,160.0,229.0,323.0,719.0,342.0,920.0,647.0,1635.0,603.0,463.0,399.0,606.0,224.0,183.0,235.0,581.0,1823.0,318.0,732.0,261.0,190.0,1979.0,256.0,630.0,528.0,342.0,2475.0,1290.0,868.0,1205.0,318.0,667.0,679.0,745.0,833.0,651.0,70.0,1024.0,240.0,773.0,448.0,881.0,406.0,1814.0,237.0,844.0,570.0,480.0,2419.0,2139.0,628.0,240.0,106.0,100.0,1024.0,1050.0,654.0,585.0,272.0,73.0,258.0,1546.0,140.0,874.0,1249.0,936.0,444.0,366.0,362.0,587.0,386.0,1671.0,446.0,271.0,337.0,604.0,239.0,409.0,431.0,225.0,936.0,312.0,418.0,125.0,1121.0,590.0,1086.0,605.0,399.0,605.0,679.0,1310.0,103.0,606.0,499.0,70.0,303.0,1726.0,2295.0,239.0,133.0,757.0,590.0,280.0,588.0,874.0,425.0,861.0,1571.0,507.0,539.0,236.0,89.0,1754.0,802.0,239.0,1338.0,679.0,462.0,395.0,337.0,1124.0,364.0,627.0,1121.0,2475.0,628.0,900.0,403.0,1372.0,874.0,322.0,978.0,337.0,1189.0,630.0,188.0,957.0,562.0,964.0,562.0,2585.0,1452.0,1050.0,373.0,1562.0,296.0,867.0,427.0,966.0,1050.0,443.0,1979.0,1744.0,299.0,110.0,336.0,317.0,74.0,211.0,224.0,516.0,2576.0,1105.0,1303.0,197.0,689.0,397.0,738.0,511.0,925.0,572.0,292.0,694.0,443.0,413.0,173.0,83.0,462.0,2611.0,787.0,965.0,931.0,776.0,601.0,852.0,761.0,1946.0,313.0,1121.0,349.0,972.0,305.0,292.0,2694.0,367.0,580.0,419.0,73.0,645.0,1723.0,337.0,1813.0,363.0,1188.0,192.0,678.0,906.0,1133.0,213.0,1235.0,290.0,425.0,412.0,978.0,96.0,1195.0,109.0,1055.0,1097.0,1584.0,341.0,1389.0,446.0,1250.0,587.0,931.0,679.0,642.0,296.0,427.0,303.0,689.0,334.0,335.0,1929.0,1450.0,328.0,80.0,120.0,223.0,1489.0,1020.0,802.0,1121.0,603.0,925.0,193.0,451.0,337.0,1736.0,762.0,125.0,663.0,1090.0,868.0,675.0,446.0,1726.0,408.0,231.0,236.0,2569.0,770.0,1124.0,397.0,569.0,325.0,416.0,1698.0,336.0,190.0,526.0,358.0,646.0,328.0,2585.0,759.0,457.0,1121.0,200.0,693.0,592.0,473.0,982.0,1546.0,554.0,721.0,693.0,775.0,1200.0,802.0,335.0,432.0,596.0,399.0,120.0,436.0,695.0,867.0,937.0,1023.0,576.0,786.0,328.0,189.0,181.0,1262.0,655.0,229.0,475.0,308.0,223.0,1005.0,448.0,528.0,1235.0,564.0,386.0,931.0,550.0,787.0,1745.0,554.0,679.0,393.0,669.0,590.0,588.0,1815.0,602.0,679.0,163.0,469.0,1946.0,230.0,213.0,347.0,1235.0,508.0,190.0,68.0,286.0,1744.0,191.0,944.0,2586.0,967.0,216.0,966.0,408.0,972.0,89.0,272.0,2338.0,1173.0,828.0,209.0,76.0,1093.0,229.0,712.0,177.0,487.0,765.0,873.0,328.0,887.0,487.0,185.0,2586.0,541.0,308.0,229.0,324.0,2036.0,1546.0,622.0,612.0,337.0,1501.0,834.0,196.0,120.0,1263.0,612.0,624.0,1844.0,106.0,972.0,936.0,589.0,1050.0,173.0,254.0,1514.0,1044.0,366.0,1182.0],\"y\":[742.0,1900.0,2120.0,1625.0,1355.0,1143.0,1630.0,1432.0,858.0,1015.0,1546.0,900.0,1053.0,1205.0,1745.0,1651.0,2137.0,641.0,925.0,1627.0,613.0,1920.0,1129.0,941.0,1222.0,1252.0,701.0,1131.0,1453.0,1310.0,538.0,1146.0,1815.0,1742.0,1904.0,1437.0,1140.0,null,1301.0,950.0,1048.0,523.0,1030.0,1030.0,1137.0,1143.0,1101.0,830.0,950.0,853.0,804.0,620.0,1941.0,931.0,1911.0,1621.0,1439.0,750.0,658.0,1355.0,957.0,625.0,1115.0,null,1545.0,944.0,1609.0,651.0,1937.0,1535.0,2015.0,1647.0,827.0,1905.0,930.0,1958.0,1855.0,1015.0,725.0,601.0,2056.0,737.0,829.0,715.0,1245.0,843.0,1958.0,1707.0,1601.0,1025.0,1334.0,2103.0,2052.0,812.0,550.0,835.0,2005.0,1236.0,1155.0,1454.0,1312.0,720.0,1850.0,1403.0,1639.0,1025.0,1515.0,747.0,711.0,1554.0,1814.0,1053.0,1235.0,1740.0,1055.0,1827.0,1701.0,740.0,2020.0,1056.0,2340.0,1837.0,1321.0,2110.0,1033.0,1720.0,732.0,1819.0,1746.0,515.0,737.0,1441.0,617.0,1728.0,556.0,1249.0,914.0,1333.0,1912.0,1546.0,2056.0,655.0,1320.0,1945.0,29.0,1726.0,2158.0,1240.0,910.0,1004.0,1749.0,900.0,1542.0,1148.0,2011.0,1846.0,704.0,1349.0,1455.0,1020.0,1602.0,2305.0,1643.0,1424.0,1152.0,1704.0,641.0,1125.0,1656.0,1125.0,1540.0,1028.0,930.0,1100.0,930.0,1624.0,1435.0,1954.0,1048.0,1855.0,1743.0,1422.0,1323.0,1331.0,2051.0,1400.0,920.0,1058.0,2051.0,620.0,1918.0,632.0,1416.0,2043.0,1241.0,1200.0,1725.0,745.0,1137.0,740.0,1936.0,1652.0,707.0,2036.0,1141.0,658.0,1129.0,2329.0,1335.0,1814.0,1339.0,830.0,null,1353.0,1724.0,1525.0,2030.0,734.0,902.0,1451.0,1328.0,1555.0,1258.0,1655.0,null,1122.0,1823.0,840.0,631.0,1642.0,833.0,2213.0,1707.0,1211.0,556.0,1336.0,1448.0,1944.0,2105.0,1607.0,1227.0,1752.0,1203.0,null,613.0,1145.0,621.0,1504.0,655.0,2146.0,809.0,1925.0,1925.0,826.0,811.0,1123.0,2246.0,1326.0,900.0,1333.0,1726.0,1603.0,1455.0,654.0,null,1353.0,1255.0,919.0,1717.0,2026.0,2245.0,1039.0,1954.0,1525.0,1116.0,1059.0,805.0,1423.0,null,1930.0,2125.0,1340.0,1129.0,1551.0,821.0,1436.0,1836.0,948.0,1631.0,1222.0,2253.0,719.0,1342.0,1853.0,1401.0,959.0,750.0,2000.0,1025.0,1734.0,841.0,1031.0,940.0,1823.0,627.0,1621.0,1617.0,null,1133.0,2017.0,2059.0,125.0,1623.0,1344.0,1454.0,1404.0,555.0,1001.0,1840.0,1432.0,706.0,1013.0,1430.0,1224.0,1015.0,1809.0,2103.0,1120.0,1757.0,1711.0,null,733.0,1055.0,1111.0,925.0,722.0,1444.0,640.0,1646.0,2100.0,2049.0,1600.0,1547.0,1936.0,1023.0,1614.0,2037.0,1458.0,1851.0,1034.0,2007.0,1154.0,1951.0,1538.0,1153.0,1210.0,909.0,1144.0,2339.0,2002.0,1627.0,944.0,1806.0,1309.0,1539.0,809.0,1703.0,2142.0,830.0,1255.0,721.0,1136.0,1925.0,1621.0,1439.0,813.0,2114.0,1414.0,1343.0,1037.0,1050.0,1351.0,842.0,1419.0,2014.0,4.0,1157.0,1548.0,1442.0,1016.0,1934.0,857.0,1513.0,2144.0,1644.0,857.0,1048.0,531.0,1502.0,1302.0,839.0,1324.0,742.0,557.0,1110.0,1742.0,1636.0,1910.0,1015.0,1654.0,1155.0,1338.0,1458.0,2158.0,1900.0,1326.0,954.0,1745.0,1118.0,1108.0,821.0,2011.0,1320.0,703.0,1710.0,1714.0,758.0,1239.0,2147.0,1956.0,1802.0,2152.0,1705.0,1713.0,1009.0,1135.0,1255.0,920.0,1315.0,720.0,1210.0,1036.0,1215.0,1108.0,1704.0,1357.0,2005.0,2004.0,1651.0,1409.0,1637.0,2138.0,null,1337.0,1840.0,1830.0,1903.0,1426.0,2101.0,829.0,1628.0,1828.0,1010.0,1313.0,1854.0,645.0,1142.0,2035.0,2036.0,1747.0,1829.0,641.0,1350.0,1133.0,null,1604.0,923.0,926.0,645.0,null,625.0,526.0,831.0,830.0,700.0,759.0,829.0,600.0,745.0,1257.0,1458.0,1008.0,1502.0,1250.0,1755.0,1225.0,2001.0,1815.0,1728.0,1208.0],\"type\":\"scatter\"}],                        {\"template\":{\"data\":{\"histogram2dcontour\":[{\"type\":\"histogram2dcontour\",\"colorbar\":{\"outlinewidth\":0,\"ticks\":\"\"},\"colorscale\":[[0.0,\"#0d0887\"],[0.1111111111111111,\"#46039f\"],[0.2222222222222222,\"#7201a8\"],[0.3333333333333333,\"#9c179e\"],[0.4444444444444444,\"#bd3786\"],[0.5555555555555556,\"#d8576b\"],[0.6666666666666666,\"#ed7953\"],[0.7777777777777778,\"#fb9f3a\"],[0.8888888888888888,\"#fdca26\"],[1.0,\"#f0f921\"]]}],\"choropleth\":[{\"type\":\"choropleth\",\"colorbar\":{\"outlinewidth\":0,\"ticks\":\"\"}}],\"histogram2d\":[{\"type\":\"histogram2d\",\"colorbar\":{\"outlinewidth\":0,\"ticks\":\"\"},\"colorscale\":[[0.0,\"#0d0887\"],[0.1111111111111111,\"#46039f\"],[0.2222222222222222,\"#7201a8\"],[0.3333333333333333,\"#9c179e\"],[0.4444444444444444,\"#bd3786\"],[0.5555555555555556,\"#d8576b\"],[0.6666666666666666,\"#ed7953\"],[0.7777777777777778,\"#fb9f3a\"],[0.8888888888888888,\"#fdca26\"],[1.0,\"#f0f921\"]]}],\"heatmap\":[{\"type\":\"heatmap\",\"colorbar\":{\"outlinewidth\":0,\"ticks\":\"\"},\"colorscale\":[[0.0,\"#0d0887\"],[0.1111111111111111,\"#46039f\"],[0.2222222222222222,\"#7201a8\"],[0.3333333333333333,\"#9c179e\"],[0.4444444444444444,\"#bd3786\"],[0.5555555555555556,\"#d8576b\"],[0.6666666666666666,\"#ed7953\"],[0.7777777777777778,\"#fb9f3a\"],[0.8888888888888888,\"#fdca26\"],[1.0,\"#f0f921\"]]}],\"heatmapgl\":[{\"type\":\"heatmapgl\",\"colorbar\":{\"outlinewidth\":0,\"ticks\":\"\"},\"colorscale\":[[0.0,\"#0d0887\"],[0.1111111111111111,\"#46039f\"],[0.2222222222222222,\"#7201a8\"],[0.3333333333333333,\"#9c179e\"],[0.4444444444444444,\"#bd3786\"],[0.5555555555555556,\"#d8576b\"],[0.6666666666666666,\"#ed7953\"],[0.7777777777777778,\"#fb9f3a\"],[0.8888888888888888,\"#fdca26\"],[1.0,\"#f0f921\"]]}],\"contourcarpet\":[{\"type\":\"contourcarpet\",\"colorbar\":{\"outlinewidth\":0,\"ticks\":\"\"}}],\"contour\":[{\"type\":\"contour\",\"colorbar\":{\"outlinewidth\":0,\"ticks\":\"\"},\"colorscale\":[[0.0,\"#0d0887\"],[0.1111111111111111,\"#46039f\"],[0.2222222222222222,\"#7201a8\"],[0.3333333333333333,\"#9c179e\"],[0.4444444444444444,\"#bd3786\"],[0.5555555555555556,\"#d8576b\"],[0.6666666666666666,\"#ed7953\"],[0.7777777777777778,\"#fb9f3a\"],[0.8888888888888888,\"#fdca26\"],[1.0,\"#f0f921\"]]}],\"surface\":[{\"type\":\"surface\",\"colorbar\":{\"outlinewidth\":0,\"ticks\":\"\"},\"colorscale\":[[0.0,\"#0d0887\"],[0.1111111111111111,\"#46039f\"],[0.2222222222222222,\"#7201a8\"],[0.3333333333333333,\"#9c179e\"],[0.4444444444444444,\"#bd3786\"],[0.5555555555555556,\"#d8576b\"],[0.6666666666666666,\"#ed7953\"],[0.7777777777777778,\"#fb9f3a\"],[0.8888888888888888,\"#fdca26\"],[1.0,\"#f0f921\"]]}],\"mesh3d\":[{\"type\":\"mesh3d\",\"colorbar\":{\"outlinewidth\":0,\"ticks\":\"\"}}],\"scatter\":[{\"fillpattern\":{\"fillmode\":\"overlay\",\"size\":10,\"solidity\":0.2},\"type\":\"scatter\"}],\"parcoords\":[{\"type\":\"parcoords\",\"line\":{\"colorbar\":{\"outlinewidth\":0,\"ticks\":\"\"}}}],\"scatterpolargl\":[{\"type\":\"scatterpolargl\",\"marker\":{\"colorbar\":{\"outlinewidth\":0,\"ticks\":\"\"}}}],\"bar\":[{\"error_x\":{\"color\":\"#2a3f5f\"},\"error_y\":{\"color\":\"#2a3f5f\"},\"marker\":{\"line\":{\"color\":\"#E5ECF6\",\"width\":0.5},\"pattern\":{\"fillmode\":\"overlay\",\"size\":10,\"solidity\":0.2}},\"type\":\"bar\"}],\"scattergeo\":[{\"type\":\"scattergeo\",\"marker\":{\"colorbar\":{\"outlinewidth\":0,\"ticks\":\"\"}}}],\"scatterpolar\":[{\"type\":\"scatterpolar\",\"marker\":{\"colorbar\":{\"outlinewidth\":0,\"ticks\":\"\"}}}],\"histogram\":[{\"marker\":{\"pattern\":{\"fillmode\":\"overlay\",\"size\":10,\"solidity\":0.2}},\"type\":\"histogram\"}],\"scattergl\":[{\"type\":\"scattergl\",\"marker\":{\"colorbar\":{\"outlinewidth\":0,\"ticks\":\"\"}}}],\"scatter3d\":[{\"type\":\"scatter3d\",\"line\":{\"colorbar\":{\"outlinewidth\":0,\"ticks\":\"\"}},\"marker\":{\"colorbar\":{\"outlinewidth\":0,\"ticks\":\"\"}}}],\"scattermapbox\":[{\"type\":\"scattermapbox\",\"marker\":{\"colorbar\":{\"outlinewidth\":0,\"ticks\":\"\"}}}],\"scatterternary\":[{\"type\":\"scatterternary\",\"marker\":{\"colorbar\":{\"outlinewidth\":0,\"ticks\":\"\"}}}],\"scattercarpet\":[{\"type\":\"scattercarpet\",\"marker\":{\"colorbar\":{\"outlinewidth\":0,\"ticks\":\"\"}}}],\"carpet\":[{\"aaxis\":{\"endlinecolor\":\"#2a3f5f\",\"gridcolor\":\"white\",\"linecolor\":\"white\",\"minorgridcolor\":\"white\",\"startlinecolor\":\"#2a3f5f\"},\"baxis\":{\"endlinecolor\":\"#2a3f5f\",\"gridcolor\":\"white\",\"linecolor\":\"white\",\"minorgridcolor\":\"white\",\"startlinecolor\":\"#2a3f5f\"},\"type\":\"carpet\"}],\"table\":[{\"cells\":{\"fill\":{\"color\":\"#EBF0F8\"},\"line\":{\"color\":\"white\"}},\"header\":{\"fill\":{\"color\":\"#C8D4E3\"},\"line\":{\"color\":\"white\"}},\"type\":\"table\"}],\"barpolar\":[{\"marker\":{\"line\":{\"color\":\"#E5ECF6\",\"width\":0.5},\"pattern\":{\"fillmode\":\"overlay\",\"size\":10,\"solidity\":0.2}},\"type\":\"barpolar\"}],\"pie\":[{\"automargin\":true,\"type\":\"pie\"}]},\"layout\":{\"autotypenumbers\":\"strict\",\"colorway\":[\"#636efa\",\"#EF553B\",\"#00cc96\",\"#ab63fa\",\"#FFA15A\",\"#19d3f3\",\"#FF6692\",\"#B6E880\",\"#FF97FF\",\"#FECB52\"],\"font\":{\"color\":\"#2a3f5f\"},\"hovermode\":\"closest\",\"hoverlabel\":{\"align\":\"left\"},\"paper_bgcolor\":\"white\",\"plot_bgcolor\":\"#E5ECF6\",\"polar\":{\"bgcolor\":\"#E5ECF6\",\"angularaxis\":{\"gridcolor\":\"white\",\"linecolor\":\"white\",\"ticks\":\"\"},\"radialaxis\":{\"gridcolor\":\"white\",\"linecolor\":\"white\",\"ticks\":\"\"}},\"ternary\":{\"bgcolor\":\"#E5ECF6\",\"aaxis\":{\"gridcolor\":\"white\",\"linecolor\":\"white\",\"ticks\":\"\"},\"baxis\":{\"gridcolor\":\"white\",\"linecolor\":\"white\",\"ticks\":\"\"},\"caxis\":{\"gridcolor\":\"white\",\"linecolor\":\"white\",\"ticks\":\"\"}},\"coloraxis\":{\"colorbar\":{\"outlinewidth\":0,\"ticks\":\"\"}},\"colorscale\":{\"sequential\":[[0.0,\"#0d0887\"],[0.1111111111111111,\"#46039f\"],[0.2222222222222222,\"#7201a8\"],[0.3333333333333333,\"#9c179e\"],[0.4444444444444444,\"#bd3786\"],[0.5555555555555556,\"#d8576b\"],[0.6666666666666666,\"#ed7953\"],[0.7777777777777778,\"#fb9f3a\"],[0.8888888888888888,\"#fdca26\"],[1.0,\"#f0f921\"]],\"sequentialminus\":[[0.0,\"#0d0887\"],[0.1111111111111111,\"#46039f\"],[0.2222222222222222,\"#7201a8\"],[0.3333333333333333,\"#9c179e\"],[0.4444444444444444,\"#bd3786\"],[0.5555555555555556,\"#d8576b\"],[0.6666666666666666,\"#ed7953\"],[0.7777777777777778,\"#fb9f3a\"],[0.8888888888888888,\"#fdca26\"],[1.0,\"#f0f921\"]],\"diverging\":[[0,\"#8e0152\"],[0.1,\"#c51b7d\"],[0.2,\"#de77ae\"],[0.3,\"#f1b6da\"],[0.4,\"#fde0ef\"],[0.5,\"#f7f7f7\"],[0.6,\"#e6f5d0\"],[0.7,\"#b8e186\"],[0.8,\"#7fbc41\"],[0.9,\"#4d9221\"],[1,\"#276419\"]]},\"xaxis\":{\"gridcolor\":\"white\",\"linecolor\":\"white\",\"ticks\":\"\",\"title\":{\"standoff\":15},\"zerolinecolor\":\"white\",\"automargin\":true,\"zerolinewidth\":2},\"yaxis\":{\"gridcolor\":\"white\",\"linecolor\":\"white\",\"ticks\":\"\",\"title\":{\"standoff\":15},\"zerolinecolor\":\"white\",\"automargin\":true,\"zerolinewidth\":2},\"scene\":{\"xaxis\":{\"backgroundcolor\":\"#E5ECF6\",\"gridcolor\":\"white\",\"linecolor\":\"white\",\"showbackground\":true,\"ticks\":\"\",\"zerolinecolor\":\"white\",\"gridwidth\":2},\"yaxis\":{\"backgroundcolor\":\"#E5ECF6\",\"gridcolor\":\"white\",\"linecolor\":\"white\",\"showbackground\":true,\"ticks\":\"\",\"zerolinecolor\":\"white\",\"gridwidth\":2},\"zaxis\":{\"backgroundcolor\":\"#E5ECF6\",\"gridcolor\":\"white\",\"linecolor\":\"white\",\"showbackground\":true,\"ticks\":\"\",\"zerolinecolor\":\"white\",\"gridwidth\":2}},\"shapedefaults\":{\"line\":{\"color\":\"#2a3f5f\"}},\"annotationdefaults\":{\"arrowcolor\":\"#2a3f5f\",\"arrowhead\":0,\"arrowwidth\":1},\"geo\":{\"bgcolor\":\"white\",\"landcolor\":\"#E5ECF6\",\"subunitcolor\":\"white\",\"showland\":true,\"showlakes\":true,\"lakecolor\":\"white\"},\"title\":{\"x\":0.05},\"mapbox\":{\"style\":\"light\"}}},\"title\":{\"text\":\"Distance vs Departure Time\"},\"xaxis\":{\"title\":{\"text\":\"Distance\"}},\"yaxis\":{\"title\":{\"text\":\"DepTime\"}}},                        {\"responsive\": true}                    ).then(function(){\n",
              "                            \n",
              "var gd = document.getElementById('c43ddefe-79a1-4322-93b9-1ed017443d2e');\n",
              "var x = new MutationObserver(function (mutations, observer) {{\n",
              "        var display = window.getComputedStyle(gd).display;\n",
              "        if (!display || display === 'none') {{\n",
              "            console.log([gd, 'removed!']);\n",
              "            Plotly.purge(gd);\n",
              "            observer.disconnect();\n",
              "        }}\n",
              "}});\n",
              "\n",
              "// Listen for the removal of the full notebook cells\n",
              "var notebookContainer = gd.closest('#notebook-container');\n",
              "if (notebookContainer) {{\n",
              "    x.observe(notebookContainer, {childList: true});\n",
              "}}\n",
              "\n",
              "// Listen for the clearing of the current output cell\n",
              "var outputEl = gd.closest('.output');\n",
              "if (outputEl) {{\n",
              "    x.observe(outputEl, {childList: true});\n",
              "}}\n",
              "\n",
              "                        })                };                });            </script>        </div>"
            ]
          },
          "metadata": {},
          "output_type": "display_data"
        }
      ],
      "source": [
        "# First we create a figure using go.Figure and adding trace to it through go.scatter\n",
        "fig = go.Figure(data=go.Scatter(x=data['Distance'], y=data['DepTime'], mode='markers', marker=dict(color='red')))\n",
        "# Updating layout through `update_layout`. Here we are adding title to the plot and providing title to x and y axis.\n",
        "fig.update_layout(title='Distance vs Departure Time', xaxis_title='Distance', yaxis_title='DepTime')\n",
        "# Display the figure\n",
        "fig.show()"
      ]
    },
    {
      "cell_type": "markdown",
      "metadata": {},
      "source": [
        "## 2. Line Plot\n"
      ]
    },
    {
      "cell_type": "markdown",
      "metadata": {},
      "source": [
        "Learn more about line plot [here](https://plotly.com/python/line-charts/?utm_medium=Exinfluencer&utm_source=Exinfluencer&utm_content=000026UJ&utm_term=10006555&utm_id=NA-SkillsNetwork-Channel-SkillsNetworkCoursesIBMDeveloperSkillsNetworkDV0101ENSkillsNetwork20297740-2021-01-01)\n",
        "\n",
        "#### Idea: Extract average monthly arrival delay time and see how it changes over the year.\n"
      ]
    },
    {
      "cell_type": "code",
      "execution_count": 35,
      "metadata": {
        "trusted": true
      },
      "outputs": [],
      "source": [
        "# Group the data by Month and compute average over arrival delay time.\n",
        "line_data = data.groupby('Month')['ArrDelay'].mean().reset_index()"
      ]
    },
    {
      "cell_type": "code",
      "execution_count": 36,
      "metadata": {
        "trusted": true
      },
      "outputs": [
        {
          "data": {
            "text/html": [
              "<div>\n",
              "<style scoped>\n",
              "    .dataframe tbody tr th:only-of-type {\n",
              "        vertical-align: middle;\n",
              "    }\n",
              "\n",
              "    .dataframe tbody tr th {\n",
              "        vertical-align: top;\n",
              "    }\n",
              "\n",
              "    .dataframe thead th {\n",
              "        text-align: right;\n",
              "    }\n",
              "</style>\n",
              "<table border=\"1\" class=\"dataframe\">\n",
              "  <thead>\n",
              "    <tr style=\"text-align: right;\">\n",
              "      <th></th>\n",
              "      <th>Month</th>\n",
              "      <th>ArrDelay</th>\n",
              "    </tr>\n",
              "  </thead>\n",
              "  <tbody>\n",
              "    <tr>\n",
              "      <th>0</th>\n",
              "      <td>1</td>\n",
              "      <td>2.232558</td>\n",
              "    </tr>\n",
              "    <tr>\n",
              "      <th>1</th>\n",
              "      <td>2</td>\n",
              "      <td>2.687500</td>\n",
              "    </tr>\n",
              "    <tr>\n",
              "      <th>2</th>\n",
              "      <td>3</td>\n",
              "      <td>10.868421</td>\n",
              "    </tr>\n",
              "    <tr>\n",
              "      <th>3</th>\n",
              "      <td>4</td>\n",
              "      <td>6.229167</td>\n",
              "    </tr>\n",
              "    <tr>\n",
              "      <th>4</th>\n",
              "      <td>5</td>\n",
              "      <td>-0.279070</td>\n",
              "    </tr>\n",
              "    <tr>\n",
              "      <th>5</th>\n",
              "      <td>6</td>\n",
              "      <td>17.310345</td>\n",
              "    </tr>\n",
              "    <tr>\n",
              "      <th>6</th>\n",
              "      <td>7</td>\n",
              "      <td>5.088889</td>\n",
              "    </tr>\n",
              "    <tr>\n",
              "      <th>7</th>\n",
              "      <td>8</td>\n",
              "      <td>3.121951</td>\n",
              "    </tr>\n",
              "    <tr>\n",
              "      <th>8</th>\n",
              "      <td>9</td>\n",
              "      <td>9.081081</td>\n",
              "    </tr>\n",
              "    <tr>\n",
              "      <th>9</th>\n",
              "      <td>10</td>\n",
              "      <td>1.200000</td>\n",
              "    </tr>\n",
              "    <tr>\n",
              "      <th>10</th>\n",
              "      <td>11</td>\n",
              "      <td>-3.975000</td>\n",
              "    </tr>\n",
              "    <tr>\n",
              "      <th>11</th>\n",
              "      <td>12</td>\n",
              "      <td>3.240741</td>\n",
              "    </tr>\n",
              "  </tbody>\n",
              "</table>\n",
              "</div>"
            ],
            "text/plain": [
              "    Month   ArrDelay\n",
              "0       1   2.232558\n",
              "1       2   2.687500\n",
              "2       3  10.868421\n",
              "3       4   6.229167\n",
              "4       5  -0.279070\n",
              "5       6  17.310345\n",
              "6       7   5.088889\n",
              "7       8   3.121951\n",
              "8       9   9.081081\n",
              "9      10   1.200000\n",
              "10     11  -3.975000\n",
              "11     12   3.240741"
            ]
          },
          "execution_count": 36,
          "metadata": {},
          "output_type": "execute_result"
        }
      ],
      "source": [
        "# Display the data\n",
        "line_data"
      ]
    },
    {
      "cell_type": "markdown",
      "metadata": {},
      "source": [
        "#### To do:\n",
        "\n",
        "*   Create a line plot with x-axis being the month and y-axis being computed average delay time. Update plot title,\\\n",
        "    xaxis, and yaxis title.\n",
        "\n",
        "*   Hint: Scatter and line plot vary by updating mode parameter.\n"
      ]
    },
    {
      "cell_type": "code",
      "execution_count": 38,
      "metadata": {
        "trusted": true
      },
      "outputs": [
        {
          "data": {
            "application/vnd.plotly.v1+json": {
              "config": {
                "plotlyServerURL": "https://plot.ly"
              },
              "data": [
                {
                  "marker": {
                    "color": "green"
                  },
                  "mode": "lines",
                  "type": "scatter",
                  "x": [
                    1,
                    2,
                    3,
                    4,
                    5,
                    6,
                    7,
                    8,
                    9,
                    10,
                    11,
                    12
                  ],
                  "y": [
                    2.2325581395348837,
                    2.6875,
                    10.868421052631579,
                    6.229166666666667,
                    -0.27906976744186046,
                    17.310344827586206,
                    5.088888888888889,
                    3.1219512195121952,
                    9.08108108108108,
                    1.2,
                    -3.975,
                    3.240740740740741
                  ]
                }
              ],
              "layout": {
                "autosize": true,
                "template": {
                  "data": {
                    "bar": [
                      {
                        "error_x": {
                          "color": "#2a3f5f"
                        },
                        "error_y": {
                          "color": "#2a3f5f"
                        },
                        "marker": {
                          "line": {
                            "color": "#E5ECF6",
                            "width": 0.5
                          },
                          "pattern": {
                            "fillmode": "overlay",
                            "size": 10,
                            "solidity": 0.2
                          }
                        },
                        "type": "bar"
                      }
                    ],
                    "barpolar": [
                      {
                        "marker": {
                          "line": {
                            "color": "#E5ECF6",
                            "width": 0.5
                          },
                          "pattern": {
                            "fillmode": "overlay",
                            "size": 10,
                            "solidity": 0.2
                          }
                        },
                        "type": "barpolar"
                      }
                    ],
                    "carpet": [
                      {
                        "aaxis": {
                          "endlinecolor": "#2a3f5f",
                          "gridcolor": "white",
                          "linecolor": "white",
                          "minorgridcolor": "white",
                          "startlinecolor": "#2a3f5f"
                        },
                        "baxis": {
                          "endlinecolor": "#2a3f5f",
                          "gridcolor": "white",
                          "linecolor": "white",
                          "minorgridcolor": "white",
                          "startlinecolor": "#2a3f5f"
                        },
                        "type": "carpet"
                      }
                    ],
                    "choropleth": [
                      {
                        "colorbar": {
                          "outlinewidth": 0,
                          "ticks": ""
                        },
                        "type": "choropleth"
                      }
                    ],
                    "contour": [
                      {
                        "colorbar": {
                          "outlinewidth": 0,
                          "ticks": ""
                        },
                        "colorscale": [
                          [
                            0,
                            "#0d0887"
                          ],
                          [
                            0.1111111111111111,
                            "#46039f"
                          ],
                          [
                            0.2222222222222222,
                            "#7201a8"
                          ],
                          [
                            0.3333333333333333,
                            "#9c179e"
                          ],
                          [
                            0.4444444444444444,
                            "#bd3786"
                          ],
                          [
                            0.5555555555555556,
                            "#d8576b"
                          ],
                          [
                            0.6666666666666666,
                            "#ed7953"
                          ],
                          [
                            0.7777777777777778,
                            "#fb9f3a"
                          ],
                          [
                            0.8888888888888888,
                            "#fdca26"
                          ],
                          [
                            1,
                            "#f0f921"
                          ]
                        ],
                        "type": "contour"
                      }
                    ],
                    "contourcarpet": [
                      {
                        "colorbar": {
                          "outlinewidth": 0,
                          "ticks": ""
                        },
                        "type": "contourcarpet"
                      }
                    ],
                    "heatmap": [
                      {
                        "colorbar": {
                          "outlinewidth": 0,
                          "ticks": ""
                        },
                        "colorscale": [
                          [
                            0,
                            "#0d0887"
                          ],
                          [
                            0.1111111111111111,
                            "#46039f"
                          ],
                          [
                            0.2222222222222222,
                            "#7201a8"
                          ],
                          [
                            0.3333333333333333,
                            "#9c179e"
                          ],
                          [
                            0.4444444444444444,
                            "#bd3786"
                          ],
                          [
                            0.5555555555555556,
                            "#d8576b"
                          ],
                          [
                            0.6666666666666666,
                            "#ed7953"
                          ],
                          [
                            0.7777777777777778,
                            "#fb9f3a"
                          ],
                          [
                            0.8888888888888888,
                            "#fdca26"
                          ],
                          [
                            1,
                            "#f0f921"
                          ]
                        ],
                        "type": "heatmap"
                      }
                    ],
                    "heatmapgl": [
                      {
                        "colorbar": {
                          "outlinewidth": 0,
                          "ticks": ""
                        },
                        "colorscale": [
                          [
                            0,
                            "#0d0887"
                          ],
                          [
                            0.1111111111111111,
                            "#46039f"
                          ],
                          [
                            0.2222222222222222,
                            "#7201a8"
                          ],
                          [
                            0.3333333333333333,
                            "#9c179e"
                          ],
                          [
                            0.4444444444444444,
                            "#bd3786"
                          ],
                          [
                            0.5555555555555556,
                            "#d8576b"
                          ],
                          [
                            0.6666666666666666,
                            "#ed7953"
                          ],
                          [
                            0.7777777777777778,
                            "#fb9f3a"
                          ],
                          [
                            0.8888888888888888,
                            "#fdca26"
                          ],
                          [
                            1,
                            "#f0f921"
                          ]
                        ],
                        "type": "heatmapgl"
                      }
                    ],
                    "histogram": [
                      {
                        "marker": {
                          "pattern": {
                            "fillmode": "overlay",
                            "size": 10,
                            "solidity": 0.2
                          }
                        },
                        "type": "histogram"
                      }
                    ],
                    "histogram2d": [
                      {
                        "colorbar": {
                          "outlinewidth": 0,
                          "ticks": ""
                        },
                        "colorscale": [
                          [
                            0,
                            "#0d0887"
                          ],
                          [
                            0.1111111111111111,
                            "#46039f"
                          ],
                          [
                            0.2222222222222222,
                            "#7201a8"
                          ],
                          [
                            0.3333333333333333,
                            "#9c179e"
                          ],
                          [
                            0.4444444444444444,
                            "#bd3786"
                          ],
                          [
                            0.5555555555555556,
                            "#d8576b"
                          ],
                          [
                            0.6666666666666666,
                            "#ed7953"
                          ],
                          [
                            0.7777777777777778,
                            "#fb9f3a"
                          ],
                          [
                            0.8888888888888888,
                            "#fdca26"
                          ],
                          [
                            1,
                            "#f0f921"
                          ]
                        ],
                        "type": "histogram2d"
                      }
                    ],
                    "histogram2dcontour": [
                      {
                        "colorbar": {
                          "outlinewidth": 0,
                          "ticks": ""
                        },
                        "colorscale": [
                          [
                            0,
                            "#0d0887"
                          ],
                          [
                            0.1111111111111111,
                            "#46039f"
                          ],
                          [
                            0.2222222222222222,
                            "#7201a8"
                          ],
                          [
                            0.3333333333333333,
                            "#9c179e"
                          ],
                          [
                            0.4444444444444444,
                            "#bd3786"
                          ],
                          [
                            0.5555555555555556,
                            "#d8576b"
                          ],
                          [
                            0.6666666666666666,
                            "#ed7953"
                          ],
                          [
                            0.7777777777777778,
                            "#fb9f3a"
                          ],
                          [
                            0.8888888888888888,
                            "#fdca26"
                          ],
                          [
                            1,
                            "#f0f921"
                          ]
                        ],
                        "type": "histogram2dcontour"
                      }
                    ],
                    "mesh3d": [
                      {
                        "colorbar": {
                          "outlinewidth": 0,
                          "ticks": ""
                        },
                        "type": "mesh3d"
                      }
                    ],
                    "parcoords": [
                      {
                        "line": {
                          "colorbar": {
                            "outlinewidth": 0,
                            "ticks": ""
                          }
                        },
                        "type": "parcoords"
                      }
                    ],
                    "pie": [
                      {
                        "automargin": true,
                        "type": "pie"
                      }
                    ],
                    "scatter": [
                      {
                        "fillpattern": {
                          "fillmode": "overlay",
                          "size": 10,
                          "solidity": 0.2
                        },
                        "type": "scatter"
                      }
                    ],
                    "scatter3d": [
                      {
                        "line": {
                          "colorbar": {
                            "outlinewidth": 0,
                            "ticks": ""
                          }
                        },
                        "marker": {
                          "colorbar": {
                            "outlinewidth": 0,
                            "ticks": ""
                          }
                        },
                        "type": "scatter3d"
                      }
                    ],
                    "scattercarpet": [
                      {
                        "marker": {
                          "colorbar": {
                            "outlinewidth": 0,
                            "ticks": ""
                          }
                        },
                        "type": "scattercarpet"
                      }
                    ],
                    "scattergeo": [
                      {
                        "marker": {
                          "colorbar": {
                            "outlinewidth": 0,
                            "ticks": ""
                          }
                        },
                        "type": "scattergeo"
                      }
                    ],
                    "scattergl": [
                      {
                        "marker": {
                          "colorbar": {
                            "outlinewidth": 0,
                            "ticks": ""
                          }
                        },
                        "type": "scattergl"
                      }
                    ],
                    "scattermapbox": [
                      {
                        "marker": {
                          "colorbar": {
                            "outlinewidth": 0,
                            "ticks": ""
                          }
                        },
                        "type": "scattermapbox"
                      }
                    ],
                    "scatterpolar": [
                      {
                        "marker": {
                          "colorbar": {
                            "outlinewidth": 0,
                            "ticks": ""
                          }
                        },
                        "type": "scatterpolar"
                      }
                    ],
                    "scatterpolargl": [
                      {
                        "marker": {
                          "colorbar": {
                            "outlinewidth": 0,
                            "ticks": ""
                          }
                        },
                        "type": "scatterpolargl"
                      }
                    ],
                    "scatterternary": [
                      {
                        "marker": {
                          "colorbar": {
                            "outlinewidth": 0,
                            "ticks": ""
                          }
                        },
                        "type": "scatterternary"
                      }
                    ],
                    "surface": [
                      {
                        "colorbar": {
                          "outlinewidth": 0,
                          "ticks": ""
                        },
                        "colorscale": [
                          [
                            0,
                            "#0d0887"
                          ],
                          [
                            0.1111111111111111,
                            "#46039f"
                          ],
                          [
                            0.2222222222222222,
                            "#7201a8"
                          ],
                          [
                            0.3333333333333333,
                            "#9c179e"
                          ],
                          [
                            0.4444444444444444,
                            "#bd3786"
                          ],
                          [
                            0.5555555555555556,
                            "#d8576b"
                          ],
                          [
                            0.6666666666666666,
                            "#ed7953"
                          ],
                          [
                            0.7777777777777778,
                            "#fb9f3a"
                          ],
                          [
                            0.8888888888888888,
                            "#fdca26"
                          ],
                          [
                            1,
                            "#f0f921"
                          ]
                        ],
                        "type": "surface"
                      }
                    ],
                    "table": [
                      {
                        "cells": {
                          "fill": {
                            "color": "#EBF0F8"
                          },
                          "line": {
                            "color": "white"
                          }
                        },
                        "header": {
                          "fill": {
                            "color": "#C8D4E3"
                          },
                          "line": {
                            "color": "white"
                          }
                        },
                        "type": "table"
                      }
                    ]
                  },
                  "layout": {
                    "annotationdefaults": {
                      "arrowcolor": "#2a3f5f",
                      "arrowhead": 0,
                      "arrowwidth": 1
                    },
                    "autotypenumbers": "strict",
                    "coloraxis": {
                      "colorbar": {
                        "outlinewidth": 0,
                        "ticks": ""
                      }
                    },
                    "colorscale": {
                      "diverging": [
                        [
                          0,
                          "#8e0152"
                        ],
                        [
                          0.1,
                          "#c51b7d"
                        ],
                        [
                          0.2,
                          "#de77ae"
                        ],
                        [
                          0.3,
                          "#f1b6da"
                        ],
                        [
                          0.4,
                          "#fde0ef"
                        ],
                        [
                          0.5,
                          "#f7f7f7"
                        ],
                        [
                          0.6,
                          "#e6f5d0"
                        ],
                        [
                          0.7,
                          "#b8e186"
                        ],
                        [
                          0.8,
                          "#7fbc41"
                        ],
                        [
                          0.9,
                          "#4d9221"
                        ],
                        [
                          1,
                          "#276419"
                        ]
                      ],
                      "sequential": [
                        [
                          0,
                          "#0d0887"
                        ],
                        [
                          0.1111111111111111,
                          "#46039f"
                        ],
                        [
                          0.2222222222222222,
                          "#7201a8"
                        ],
                        [
                          0.3333333333333333,
                          "#9c179e"
                        ],
                        [
                          0.4444444444444444,
                          "#bd3786"
                        ],
                        [
                          0.5555555555555556,
                          "#d8576b"
                        ],
                        [
                          0.6666666666666666,
                          "#ed7953"
                        ],
                        [
                          0.7777777777777778,
                          "#fb9f3a"
                        ],
                        [
                          0.8888888888888888,
                          "#fdca26"
                        ],
                        [
                          1,
                          "#f0f921"
                        ]
                      ],
                      "sequentialminus": [
                        [
                          0,
                          "#0d0887"
                        ],
                        [
                          0.1111111111111111,
                          "#46039f"
                        ],
                        [
                          0.2222222222222222,
                          "#7201a8"
                        ],
                        [
                          0.3333333333333333,
                          "#9c179e"
                        ],
                        [
                          0.4444444444444444,
                          "#bd3786"
                        ],
                        [
                          0.5555555555555556,
                          "#d8576b"
                        ],
                        [
                          0.6666666666666666,
                          "#ed7953"
                        ],
                        [
                          0.7777777777777778,
                          "#fb9f3a"
                        ],
                        [
                          0.8888888888888888,
                          "#fdca26"
                        ],
                        [
                          1,
                          "#f0f921"
                        ]
                      ]
                    },
                    "colorway": [
                      "#636efa",
                      "#EF553B",
                      "#00cc96",
                      "#ab63fa",
                      "#FFA15A",
                      "#19d3f3",
                      "#FF6692",
                      "#B6E880",
                      "#FF97FF",
                      "#FECB52"
                    ],
                    "font": {
                      "color": "#2a3f5f"
                    },
                    "geo": {
                      "bgcolor": "white",
                      "lakecolor": "white",
                      "landcolor": "#E5ECF6",
                      "showlakes": true,
                      "showland": true,
                      "subunitcolor": "white"
                    },
                    "hoverlabel": {
                      "align": "left"
                    },
                    "hovermode": "closest",
                    "mapbox": {
                      "style": "light"
                    },
                    "paper_bgcolor": "white",
                    "plot_bgcolor": "#E5ECF6",
                    "polar": {
                      "angularaxis": {
                        "gridcolor": "white",
                        "linecolor": "white",
                        "ticks": ""
                      },
                      "bgcolor": "#E5ECF6",
                      "radialaxis": {
                        "gridcolor": "white",
                        "linecolor": "white",
                        "ticks": ""
                      }
                    },
                    "scene": {
                      "xaxis": {
                        "backgroundcolor": "#E5ECF6",
                        "gridcolor": "white",
                        "gridwidth": 2,
                        "linecolor": "white",
                        "showbackground": true,
                        "ticks": "",
                        "zerolinecolor": "white"
                      },
                      "yaxis": {
                        "backgroundcolor": "#E5ECF6",
                        "gridcolor": "white",
                        "gridwidth": 2,
                        "linecolor": "white",
                        "showbackground": true,
                        "ticks": "",
                        "zerolinecolor": "white"
                      },
                      "zaxis": {
                        "backgroundcolor": "#E5ECF6",
                        "gridcolor": "white",
                        "gridwidth": 2,
                        "linecolor": "white",
                        "showbackground": true,
                        "ticks": "",
                        "zerolinecolor": "white"
                      }
                    },
                    "shapedefaults": {
                      "line": {
                        "color": "#2a3f5f"
                      }
                    },
                    "ternary": {
                      "aaxis": {
                        "gridcolor": "white",
                        "linecolor": "white",
                        "ticks": ""
                      },
                      "baxis": {
                        "gridcolor": "white",
                        "linecolor": "white",
                        "ticks": ""
                      },
                      "bgcolor": "#E5ECF6",
                      "caxis": {
                        "gridcolor": "white",
                        "linecolor": "white",
                        "ticks": ""
                      }
                    },
                    "title": {
                      "x": 0.05
                    },
                    "xaxis": {
                      "automargin": true,
                      "gridcolor": "white",
                      "linecolor": "white",
                      "ticks": "",
                      "title": {
                        "standoff": 15
                      },
                      "zerolinecolor": "white",
                      "zerolinewidth": 2
                    },
                    "yaxis": {
                      "automargin": true,
                      "gridcolor": "white",
                      "linecolor": "white",
                      "ticks": "",
                      "title": {
                        "standoff": 15
                      },
                      "zerolinecolor": "white",
                      "zerolinewidth": 2
                    }
                  }
                },
                "title": {
                  "text": "Month vs Average Flight Delay Time"
                },
                "xaxis": {
                  "autorange": true,
                  "range": [
                    1,
                    12
                  ],
                  "title": {
                    "text": "Month"
                  },
                  "type": "linear"
                },
                "yaxis": {
                  "autorange": true,
                  "range": [
                    -5.157519157088123,
                    18.49286398467433
                  ],
                  "title": {
                    "text": "ArrDelay"
                  },
                  "type": "linear"
                }
              }
            },
            "image/png": "[encoded data removed]",
            "text/html": [
              "<div>                            <div id=\"0af8140e-d652-4ede-babf-3fb8100c2848\" class=\"plotly-graph-div\" style=\"height:525px; width:100%;\"></div>            <script type=\"text/javascript\">                require([\"plotly\"], function(Plotly) {                    window.PLOTLYENV=window.PLOTLYENV || {};                                    if (document.getElementById(\"0af8140e-d652-4ede-babf-3fb8100c2848\")) {                    Plotly.newPlot(                        \"0af8140e-d652-4ede-babf-3fb8100c2848\",                        [{\"marker\":{\"color\":\"green\"},\"mode\":\"lines\",\"x\":[1,2,3,4,5,6,7,8,9,10,11,12],\"y\":[2.2325581395348837,2.6875,10.868421052631579,6.229166666666667,-0.27906976744186046,17.310344827586206,5.088888888888889,3.1219512195121952,9.08108108108108,1.2,-3.975,3.240740740740741],\"type\":\"scatter\"}],                        {\"template\":{\"data\":{\"histogram2dcontour\":[{\"type\":\"histogram2dcontour\",\"colorbar\":{\"outlinewidth\":0,\"ticks\":\"\"},\"colorscale\":[[0.0,\"#0d0887\"],[0.1111111111111111,\"#46039f\"],[0.2222222222222222,\"#7201a8\"],[0.3333333333333333,\"#9c179e\"],[0.4444444444444444,\"#bd3786\"],[0.5555555555555556,\"#d8576b\"],[0.6666666666666666,\"#ed7953\"],[0.7777777777777778,\"#fb9f3a\"],[0.8888888888888888,\"#fdca26\"],[1.0,\"#f0f921\"]]}],\"choropleth\":[{\"type\":\"choropleth\",\"colorbar\":{\"outlinewidth\":0,\"ticks\":\"\"}}],\"histogram2d\":[{\"type\":\"histogram2d\",\"colorbar\":{\"outlinewidth\":0,\"ticks\":\"\"},\"colorscale\":[[0.0,\"#0d0887\"],[0.1111111111111111,\"#46039f\"],[0.2222222222222222,\"#7201a8\"],[0.3333333333333333,\"#9c179e\"],[0.4444444444444444,\"#bd3786\"],[0.5555555555555556,\"#d8576b\"],[0.6666666666666666,\"#ed7953\"],[0.7777777777777778,\"#fb9f3a\"],[0.8888888888888888,\"#fdca26\"],[1.0,\"#f0f921\"]]}],\"heatmap\":[{\"type\":\"heatmap\",\"colorbar\":{\"outlinewidth\":0,\"ticks\":\"\"},\"colorscale\":[[0.0,\"#0d0887\"],[0.1111111111111111,\"#46039f\"],[0.2222222222222222,\"#7201a8\"],[0.3333333333333333,\"#9c179e\"],[0.4444444444444444,\"#bd3786\"],[0.5555555555555556,\"#d8576b\"],[0.6666666666666666,\"#ed7953\"],[0.7777777777777778,\"#fb9f3a\"],[0.8888888888888888,\"#fdca26\"],[1.0,\"#f0f921\"]]}],\"heatmapgl\":[{\"type\":\"heatmapgl\",\"colorbar\":{\"outlinewidth\":0,\"ticks\":\"\"},\"colorscale\":[[0.0,\"#0d0887\"],[0.1111111111111111,\"#46039f\"],[0.2222222222222222,\"#7201a8\"],[0.3333333333333333,\"#9c179e\"],[0.4444444444444444,\"#bd3786\"],[0.5555555555555556,\"#d8576b\"],[0.6666666666666666,\"#ed7953\"],[0.7777777777777778,\"#fb9f3a\"],[0.8888888888888888,\"#fdca26\"],[1.0,\"#f0f921\"]]}],\"contourcarpet\":[{\"type\":\"contourcarpet\",\"colorbar\":{\"outlinewidth\":0,\"ticks\":\"\"}}],\"contour\":[{\"type\":\"contour\",\"colorbar\":{\"outlinewidth\":0,\"ticks\":\"\"},\"colorscale\":[[0.0,\"#0d0887\"],[0.1111111111111111,\"#46039f\"],[0.2222222222222222,\"#7201a8\"],[0.3333333333333333,\"#9c179e\"],[0.4444444444444444,\"#bd3786\"],[0.5555555555555556,\"#d8576b\"],[0.6666666666666666,\"#ed7953\"],[0.7777777777777778,\"#fb9f3a\"],[0.8888888888888888,\"#fdca26\"],[1.0,\"#f0f921\"]]}],\"surface\":[{\"type\":\"surface\",\"colorbar\":{\"outlinewidth\":0,\"ticks\":\"\"},\"colorscale\":[[0.0,\"#0d0887\"],[0.1111111111111111,\"#46039f\"],[0.2222222222222222,\"#7201a8\"],[0.3333333333333333,\"#9c179e\"],[0.4444444444444444,\"#bd3786\"],[0.5555555555555556,\"#d8576b\"],[0.6666666666666666,\"#ed7953\"],[0.7777777777777778,\"#fb9f3a\"],[0.8888888888888888,\"#fdca26\"],[1.0,\"#f0f921\"]]}],\"mesh3d\":[{\"type\":\"mesh3d\",\"colorbar\":{\"outlinewidth\":0,\"ticks\":\"\"}}],\"scatter\":[{\"fillpattern\":{\"fillmode\":\"overlay\",\"size\":10,\"solidity\":0.2},\"type\":\"scatter\"}],\"parcoords\":[{\"type\":\"parcoords\",\"line\":{\"colorbar\":{\"outlinewidth\":0,\"ticks\":\"\"}}}],\"scatterpolargl\":[{\"type\":\"scatterpolargl\",\"marker\":{\"colorbar\":{\"outlinewidth\":0,\"ticks\":\"\"}}}],\"bar\":[{\"error_x\":{\"color\":\"#2a3f5f\"},\"error_y\":{\"color\":\"#2a3f5f\"},\"marker\":{\"line\":{\"color\":\"#E5ECF6\",\"width\":0.5},\"pattern\":{\"fillmode\":\"overlay\",\"size\":10,\"solidity\":0.2}},\"type\":\"bar\"}],\"scattergeo\":[{\"type\":\"scattergeo\",\"marker\":{\"colorbar\":{\"outlinewidth\":0,\"ticks\":\"\"}}}],\"scatterpolar\":[{\"type\":\"scatterpolar\",\"marker\":{\"colorbar\":{\"outlinewidth\":0,\"ticks\":\"\"}}}],\"histogram\":[{\"marker\":{\"pattern\":{\"fillmode\":\"overlay\",\"size\":10,\"solidity\":0.2}},\"type\":\"histogram\"}],\"scattergl\":[{\"type\":\"scattergl\",\"marker\":{\"colorbar\":{\"outlinewidth\":0,\"ticks\":\"\"}}}],\"scatter3d\":[{\"type\":\"scatter3d\",\"line\":{\"colorbar\":{\"outlinewidth\":0,\"ticks\":\"\"}},\"marker\":{\"colorbar\":{\"outlinewidth\":0,\"ticks\":\"\"}}}],\"scattermapbox\":[{\"type\":\"scattermapbox\",\"marker\":{\"colorbar\":{\"outlinewidth\":0,\"ticks\":\"\"}}}],\"scatterternary\":[{\"type\":\"scatterternary\",\"marker\":{\"colorbar\":{\"outlinewidth\":0,\"ticks\":\"\"}}}],\"scattercarpet\":[{\"type\":\"scattercarpet\",\"marker\":{\"colorbar\":{\"outlinewidth\":0,\"ticks\":\"\"}}}],\"carpet\":[{\"aaxis\":{\"endlinecolor\":\"#2a3f5f\",\"gridcolor\":\"white\",\"linecolor\":\"white\",\"minorgridcolor\":\"white\",\"startlinecolor\":\"#2a3f5f\"},\"baxis\":{\"endlinecolor\":\"#2a3f5f\",\"gridcolor\":\"white\",\"linecolor\":\"white\",\"minorgridcolor\":\"white\",\"startlinecolor\":\"#2a3f5f\"},\"type\":\"carpet\"}],\"table\":[{\"cells\":{\"fill\":{\"color\":\"#EBF0F8\"},\"line\":{\"color\":\"white\"}},\"header\":{\"fill\":{\"color\":\"#C8D4E3\"},\"line\":{\"color\":\"white\"}},\"type\":\"table\"}],\"barpolar\":[{\"marker\":{\"line\":{\"color\":\"#E5ECF6\",\"width\":0.5},\"pattern\":{\"fillmode\":\"overlay\",\"size\":10,\"solidity\":0.2}},\"type\":\"barpolar\"}],\"pie\":[{\"automargin\":true,\"type\":\"pie\"}]},\"layout\":{\"autotypenumbers\":\"strict\",\"colorway\":[\"#636efa\",\"#EF553B\",\"#00cc96\",\"#ab63fa\",\"#FFA15A\",\"#19d3f3\",\"#FF6692\",\"#B6E880\",\"#FF97FF\",\"#FECB52\"],\"font\":{\"color\":\"#2a3f5f\"},\"hovermode\":\"closest\",\"hoverlabel\":{\"align\":\"left\"},\"paper_bgcolor\":\"white\",\"plot_bgcolor\":\"#E5ECF6\",\"polar\":{\"bgcolor\":\"#E5ECF6\",\"angularaxis\":{\"gridcolor\":\"white\",\"linecolor\":\"white\",\"ticks\":\"\"},\"radialaxis\":{\"gridcolor\":\"white\",\"linecolor\":\"white\",\"ticks\":\"\"}},\"ternary\":{\"bgcolor\":\"#E5ECF6\",\"aaxis\":{\"gridcolor\":\"white\",\"linecolor\":\"white\",\"ticks\":\"\"},\"baxis\":{\"gridcolor\":\"white\",\"linecolor\":\"white\",\"ticks\":\"\"},\"caxis\":{\"gridcolor\":\"white\",\"linecolor\":\"white\",\"ticks\":\"\"}},\"coloraxis\":{\"colorbar\":{\"outlinewidth\":0,\"ticks\":\"\"}},\"colorscale\":{\"sequential\":[[0.0,\"#0d0887\"],[0.1111111111111111,\"#46039f\"],[0.2222222222222222,\"#7201a8\"],[0.3333333333333333,\"#9c179e\"],[0.4444444444444444,\"#bd3786\"],[0.5555555555555556,\"#d8576b\"],[0.6666666666666666,\"#ed7953\"],[0.7777777777777778,\"#fb9f3a\"],[0.8888888888888888,\"#fdca26\"],[1.0,\"#f0f921\"]],\"sequentialminus\":[[0.0,\"#0d0887\"],[0.1111111111111111,\"#46039f\"],[0.2222222222222222,\"#7201a8\"],[0.3333333333333333,\"#9c179e\"],[0.4444444444444444,\"#bd3786\"],[0.5555555555555556,\"#d8576b\"],[0.6666666666666666,\"#ed7953\"],[0.7777777777777778,\"#fb9f3a\"],[0.8888888888888888,\"#fdca26\"],[1.0,\"#f0f921\"]],\"diverging\":[[0,\"#8e0152\"],[0.1,\"#c51b7d\"],[0.2,\"#de77ae\"],[0.3,\"#f1b6da\"],[0.4,\"#fde0ef\"],[0.5,\"#f7f7f7\"],[0.6,\"#e6f5d0\"],[0.7,\"#b8e186\"],[0.8,\"#7fbc41\"],[0.9,\"#4d9221\"],[1,\"#276419\"]]},\"xaxis\":{\"gridcolor\":\"white\",\"linecolor\":\"white\",\"ticks\":\"\",\"title\":{\"standoff\":15},\"zerolinecolor\":\"white\",\"automargin\":true,\"zerolinewidth\":2},\"yaxis\":{\"gridcolor\":\"white\",\"linecolor\":\"white\",\"ticks\":\"\",\"title\":{\"standoff\":15},\"zerolinecolor\":\"white\",\"automargin\":true,\"zerolinewidth\":2},\"scene\":{\"xaxis\":{\"backgroundcolor\":\"#E5ECF6\",\"gridcolor\":\"white\",\"linecolor\":\"white\",\"showbackground\":true,\"ticks\":\"\",\"zerolinecolor\":\"white\",\"gridwidth\":2},\"yaxis\":{\"backgroundcolor\":\"#E5ECF6\",\"gridcolor\":\"white\",\"linecolor\":\"white\",\"showbackground\":true,\"ticks\":\"\",\"zerolinecolor\":\"white\",\"gridwidth\":2},\"zaxis\":{\"backgroundcolor\":\"#E5ECF6\",\"gridcolor\":\"white\",\"linecolor\":\"white\",\"showbackground\":true,\"ticks\":\"\",\"zerolinecolor\":\"white\",\"gridwidth\":2}},\"shapedefaults\":{\"line\":{\"color\":\"#2a3f5f\"}},\"annotationdefaults\":{\"arrowcolor\":\"#2a3f5f\",\"arrowhead\":0,\"arrowwidth\":1},\"geo\":{\"bgcolor\":\"white\",\"landcolor\":\"#E5ECF6\",\"subunitcolor\":\"white\",\"showland\":true,\"showlakes\":true,\"lakecolor\":\"white\"},\"title\":{\"x\":0.05},\"mapbox\":{\"style\":\"light\"}}},\"title\":{\"text\":\"Month vs Average Flight Delay Time\"},\"xaxis\":{\"title\":{\"text\":\"Month\"}},\"yaxis\":{\"title\":{\"text\":\"ArrDelay\"}}},                        {\"responsive\": true}                    ).then(function(){\n",
              "                            \n",
              "var gd = document.getElementById('0af8140e-d652-4ede-babf-3fb8100c2848');\n",
              "var x = new MutationObserver(function (mutations, observer) {{\n",
              "        var display = window.getComputedStyle(gd).display;\n",
              "        if (!display || display === 'none') {{\n",
              "            console.log([gd, 'removed!']);\n",
              "            Plotly.purge(gd);\n",
              "            observer.disconnect();\n",
              "        }}\n",
              "}});\n",
              "\n",
              "// Listen for the removal of the full notebook cells\n",
              "var notebookContainer = gd.closest('#notebook-container');\n",
              "if (notebookContainer) {{\n",
              "    x.observe(notebookContainer, {childList: true});\n",
              "}}\n",
              "\n",
              "// Listen for the clearing of the current output cell\n",
              "var outputEl = gd.closest('.output');\n",
              "if (outputEl) {{\n",
              "    x.observe(outputEl, {childList: true});\n",
              "}}\n",
              "\n",
              "                        })                };                });            </script>        </div>"
            ]
          },
          "metadata": {},
          "output_type": "display_data"
        }
      ],
      "source": [
        "# Create line plot here\n",
        "# # First we create a figure using go.Figure and adding trace to it through go.scatter\n",
        "# fig = go.Figure(data=go.Scatter(x=line_data['Month'], y=line_data['ArrDelay'], mode='lines', marker=dict(color='red')))\n",
        "# # Updating layout through `update_layout`. Here we are adding title to the plot and providing title to x and y axis.\n",
        "# fig.update_layout(title='Month vs ArrDelay', xaxis_title='Month', yaxis_title='ArrDelay')\n",
        "# # Display the figure\n",
        "# fig.show()\n",
        "\n",
        "fig = go.Figure(data=go.Scatter(x=line_data['Month'], y=line_data['ArrDelay'], mode='lines', marker=dict(color='green')))\n",
        "fig.update_layout(title='Month vs Average Flight Delay Time', xaxis_title='Month', yaxis_title='ArrDelay')\n",
        "fig.show()"
      ]
    },
    {
      "cell_type": "markdown",
      "metadata": {},
      "source": [
        "Double-click **here** for the solution.\n",
        "\n",
        "<!-- The answer is below:\n",
        "\n",
        "fig = go.Figure(data=go.Scatter(x=line_data['Month'], y=line_data['ArrDelay'], mode='lines', marker=dict(color='green')))\n",
        "fig.update_layout(title='Month vs Average Flight Delay Time', xaxis_title='Month', yaxis_title='ArrDelay')\n",
        "fig.show()\n",
        "\n",
        "-->\n"
      ]
    },
    {
      "cell_type": "markdown",
      "metadata": {},
      "source": [
        "# plotly.express¶\n"
      ]
    },
    {
      "cell_type": "markdown",
      "metadata": {},
      "source": [
        "## 1. Bar Chart\n"
      ]
    },
    {
      "cell_type": "markdown",
      "metadata": {},
      "source": [
        "Learn more about bar chart [here](https://plotly.com/python/bar-charts/?utm_medium=Exinfluencer&utm_source=Exinfluencer&utm_content=000026UJ&utm_term=10006555&utm_id=NA-SkillsNetwork-Channel-SkillsNetworkCoursesIBMDeveloperSkillsNetworkDV0101ENSkillsNetwork20297740-2021-01-01)\n",
        "\n",
        "#### Idea: Extract number of flights from a specific airline that goes to a destination\n"
      ]
    },
    {
      "cell_type": "code",
      "execution_count": 41,
      "metadata": {
        "trusted": true
      },
      "outputs": [],
      "source": [
        "# Group the data by destination state and reporting airline. Compute total number of flights in each combination\n",
        "bar_data = data.groupby(['DestState'])['Flights'].sum().reset_index()"
      ]
    },
    {
      "cell_type": "code",
      "execution_count": 42,
      "metadata": {
        "trusted": true
      },
      "outputs": [
        {
          "data": {
            "text/html": [
              "<div>\n",
              "<style scoped>\n",
              "    .dataframe tbody tr th:only-of-type {\n",
              "        vertical-align: middle;\n",
              "    }\n",
              "\n",
              "    .dataframe tbody tr th {\n",
              "        vertical-align: top;\n",
              "    }\n",
              "\n",
              "    .dataframe thead th {\n",
              "        text-align: right;\n",
              "    }\n",
              "</style>\n",
              "<table border=\"1\" class=\"dataframe\">\n",
              "  <thead>\n",
              "    <tr style=\"text-align: right;\">\n",
              "      <th></th>\n",
              "      <th>DestState</th>\n",
              "      <th>Flights</th>\n",
              "    </tr>\n",
              "  </thead>\n",
              "  <tbody>\n",
              "    <tr>\n",
              "      <th>0</th>\n",
              "      <td>AK</td>\n",
              "      <td>4.0</td>\n",
              "    </tr>\n",
              "    <tr>\n",
              "      <th>1</th>\n",
              "      <td>AL</td>\n",
              "      <td>3.0</td>\n",
              "    </tr>\n",
              "    <tr>\n",
              "      <th>2</th>\n",
              "      <td>AZ</td>\n",
              "      <td>8.0</td>\n",
              "    </tr>\n",
              "    <tr>\n",
              "      <th>3</th>\n",
              "      <td>CA</td>\n",
              "      <td>68.0</td>\n",
              "    </tr>\n",
              "    <tr>\n",
              "      <th>4</th>\n",
              "      <td>CO</td>\n",
              "      <td>20.0</td>\n",
              "    </tr>\n",
              "    <tr>\n",
              "      <th>5</th>\n",
              "      <td>CT</td>\n",
              "      <td>5.0</td>\n",
              "    </tr>\n",
              "    <tr>\n",
              "      <th>6</th>\n",
              "      <td>FL</td>\n",
              "      <td>32.0</td>\n",
              "    </tr>\n",
              "    <tr>\n",
              "      <th>7</th>\n",
              "      <td>GA</td>\n",
              "      <td>27.0</td>\n",
              "    </tr>\n",
              "    <tr>\n",
              "      <th>8</th>\n",
              "      <td>HI</td>\n",
              "      <td>5.0</td>\n",
              "    </tr>\n",
              "    <tr>\n",
              "      <th>9</th>\n",
              "      <td>IA</td>\n",
              "      <td>1.0</td>\n",
              "    </tr>\n",
              "    <tr>\n",
              "      <th>10</th>\n",
              "      <td>ID</td>\n",
              "      <td>1.0</td>\n",
              "    </tr>\n",
              "    <tr>\n",
              "      <th>11</th>\n",
              "      <td>IL</td>\n",
              "      <td>33.0</td>\n",
              "    </tr>\n",
              "    <tr>\n",
              "      <th>12</th>\n",
              "      <td>IN</td>\n",
              "      <td>6.0</td>\n",
              "    </tr>\n",
              "    <tr>\n",
              "      <th>13</th>\n",
              "      <td>KS</td>\n",
              "      <td>1.0</td>\n",
              "    </tr>\n",
              "    <tr>\n",
              "      <th>14</th>\n",
              "      <td>KY</td>\n",
              "      <td>14.0</td>\n",
              "    </tr>\n",
              "    <tr>\n",
              "      <th>15</th>\n",
              "      <td>LA</td>\n",
              "      <td>4.0</td>\n",
              "    </tr>\n",
              "    <tr>\n",
              "      <th>16</th>\n",
              "      <td>MA</td>\n",
              "      <td>10.0</td>\n",
              "    </tr>\n",
              "    <tr>\n",
              "      <th>17</th>\n",
              "      <td>MD</td>\n",
              "      <td>7.0</td>\n",
              "    </tr>\n",
              "    <tr>\n",
              "      <th>18</th>\n",
              "      <td>MI</td>\n",
              "      <td>16.0</td>\n",
              "    </tr>\n",
              "    <tr>\n",
              "      <th>19</th>\n",
              "      <td>MN</td>\n",
              "      <td>11.0</td>\n",
              "    </tr>\n",
              "    <tr>\n",
              "      <th>20</th>\n",
              "      <td>MO</td>\n",
              "      <td>18.0</td>\n",
              "    </tr>\n",
              "    <tr>\n",
              "      <th>21</th>\n",
              "      <td>MT</td>\n",
              "      <td>3.0</td>\n",
              "    </tr>\n",
              "    <tr>\n",
              "      <th>22</th>\n",
              "      <td>NC</td>\n",
              "      <td>13.0</td>\n",
              "    </tr>\n",
              "    <tr>\n",
              "      <th>23</th>\n",
              "      <td>NE</td>\n",
              "      <td>2.0</td>\n",
              "    </tr>\n",
              "    <tr>\n",
              "      <th>24</th>\n",
              "      <td>NH</td>\n",
              "      <td>1.0</td>\n",
              "    </tr>\n",
              "    <tr>\n",
              "      <th>25</th>\n",
              "      <td>NJ</td>\n",
              "      <td>5.0</td>\n",
              "    </tr>\n",
              "    <tr>\n",
              "      <th>26</th>\n",
              "      <td>NM</td>\n",
              "      <td>1.0</td>\n",
              "    </tr>\n",
              "    <tr>\n",
              "      <th>27</th>\n",
              "      <td>NV</td>\n",
              "      <td>13.0</td>\n",
              "    </tr>\n",
              "    <tr>\n",
              "      <th>28</th>\n",
              "      <td>NY</td>\n",
              "      <td>21.0</td>\n",
              "    </tr>\n",
              "    <tr>\n",
              "      <th>29</th>\n",
              "      <td>OH</td>\n",
              "      <td>9.0</td>\n",
              "    </tr>\n",
              "    <tr>\n",
              "      <th>30</th>\n",
              "      <td>OK</td>\n",
              "      <td>6.0</td>\n",
              "    </tr>\n",
              "    <tr>\n",
              "      <th>31</th>\n",
              "      <td>OR</td>\n",
              "      <td>3.0</td>\n",
              "    </tr>\n",
              "    <tr>\n",
              "      <th>32</th>\n",
              "      <td>PA</td>\n",
              "      <td>14.0</td>\n",
              "    </tr>\n",
              "    <tr>\n",
              "      <th>33</th>\n",
              "      <td>PR</td>\n",
              "      <td>2.0</td>\n",
              "    </tr>\n",
              "    <tr>\n",
              "      <th>34</th>\n",
              "      <td>RI</td>\n",
              "      <td>1.0</td>\n",
              "    </tr>\n",
              "    <tr>\n",
              "      <th>35</th>\n",
              "      <td>SC</td>\n",
              "      <td>1.0</td>\n",
              "    </tr>\n",
              "    <tr>\n",
              "      <th>36</th>\n",
              "      <td>TN</td>\n",
              "      <td>14.0</td>\n",
              "    </tr>\n",
              "    <tr>\n",
              "      <th>37</th>\n",
              "      <td>TX</td>\n",
              "      <td>60.0</td>\n",
              "    </tr>\n",
              "    <tr>\n",
              "      <th>38</th>\n",
              "      <td>UT</td>\n",
              "      <td>7.0</td>\n",
              "    </tr>\n",
              "    <tr>\n",
              "      <th>39</th>\n",
              "      <td>VA</td>\n",
              "      <td>11.0</td>\n",
              "    </tr>\n",
              "    <tr>\n",
              "      <th>40</th>\n",
              "      <td>VI</td>\n",
              "      <td>1.0</td>\n",
              "    </tr>\n",
              "    <tr>\n",
              "      <th>41</th>\n",
              "      <td>WA</td>\n",
              "      <td>10.0</td>\n",
              "    </tr>\n",
              "    <tr>\n",
              "      <th>42</th>\n",
              "      <td>WI</td>\n",
              "      <td>8.0</td>\n",
              "    </tr>\n",
              "  </tbody>\n",
              "</table>\n",
              "</div>"
            ],
            "text/plain": [
              "   DestState  Flights\n",
              "0         AK      4.0\n",
              "1         AL      3.0\n",
              "2         AZ      8.0\n",
              "3         CA     68.0\n",
              "4         CO     20.0\n",
              "5         CT      5.0\n",
              "6         FL     32.0\n",
              "7         GA     27.0\n",
              "8         HI      5.0\n",
              "9         IA      1.0\n",
              "10        ID      1.0\n",
              "11        IL     33.0\n",
              "12        IN      6.0\n",
              "13        KS      1.0\n",
              "14        KY     14.0\n",
              "15        LA      4.0\n",
              "16        MA     10.0\n",
              "17        MD      7.0\n",
              "18        MI     16.0\n",
              "19        MN     11.0\n",
              "20        MO     18.0\n",
              "21        MT      3.0\n",
              "22        NC     13.0\n",
              "23        NE      2.0\n",
              "24        NH      1.0\n",
              "25        NJ      5.0\n",
              "26        NM      1.0\n",
              "27        NV     13.0\n",
              "28        NY     21.0\n",
              "29        OH      9.0\n",
              "30        OK      6.0\n",
              "31        OR      3.0\n",
              "32        PA     14.0\n",
              "33        PR      2.0\n",
              "34        RI      1.0\n",
              "35        SC      1.0\n",
              "36        TN     14.0\n",
              "37        TX     60.0\n",
              "38        UT      7.0\n",
              "39        VA     11.0\n",
              "40        VI      1.0\n",
              "41        WA     10.0\n",
              "42        WI      8.0"
            ]
          },
          "execution_count": 42,
          "metadata": {},
          "output_type": "execute_result"
        }
      ],
      "source": [
        "# Display the data\n",
        "bar_data"
      ]
    },
    {
      "cell_type": "code",
      "execution_count": 43,
      "metadata": {
        "trusted": true
      },
      "outputs": [
        {
          "data": {
            "application/vnd.plotly.v1+json": {
              "config": {
                "plotlyServerURL": "https://plot.ly"
              },
              "data": [
                {
                  "alignmentgroup": "True",
                  "hovertemplate": "DestState=%{x}<br>Flights=%{y}<extra></extra>",
                  "legendgroup": "",
                  "marker": {
                    "color": "#636efa",
                    "pattern": {
                      "shape": ""
                    }
                  },
                  "name": "",
                  "offsetgroup": "",
                  "orientation": "v",
                  "showlegend": false,
                  "textposition": "auto",
                  "type": "bar",
                  "x": [
                    "AK",
                    "AL",
                    "AZ",
                    "CA",
                    "CO",
                    "CT",
                    "FL",
                    "GA",
                    "HI",
                    "IA",
                    "ID",
                    "IL",
                    "IN",
                    "KS",
                    "KY",
                    "LA",
                    "MA",
                    "MD",
                    "MI",
                    "MN",
                    "MO",
                    "MT",
                    "NC",
                    "NE",
                    "NH",
                    "NJ",
                    "NM",
                    "NV",
                    "NY",
                    "OH",
                    "OK",
                    "OR",
                    "PA",
                    "PR",
                    "RI",
                    "SC",
                    "TN",
                    "TX",
                    "UT",
                    "VA",
                    "VI",
                    "WA",
                    "WI"
                  ],
                  "xaxis": "x",
                  "y": [
                    4,
                    3,
                    8,
                    68,
                    20,
                    5,
                    32,
                    27,
                    5,
                    1,
                    1,
                    33,
                    6,
                    1,
                    14,
                    4,
                    10,
                    7,
                    16,
                    11,
                    18,
                    3,
                    13,
                    2,
                    1,
                    5,
                    1,
                    13,
                    21,
                    9,
                    6,
                    3,
                    14,
                    2,
                    1,
                    1,
                    14,
                    60,
                    7,
                    11,
                    1,
                    10,
                    8
                  ],
                  "yaxis": "y"
                }
              ],
              "layout": {
                "autosize": true,
                "barmode": "relative",
                "legend": {
                  "tracegroupgap": 0
                },
                "template": {
                  "data": {
                    "bar": [
                      {
                        "error_x": {
                          "color": "#2a3f5f"
                        },
                        "error_y": {
                          "color": "#2a3f5f"
                        },
                        "marker": {
                          "line": {
                            "color": "#E5ECF6",
                            "width": 0.5
                          },
                          "pattern": {
                            "fillmode": "overlay",
                            "size": 10,
                            "solidity": 0.2
                          }
                        },
                        "type": "bar"
                      }
                    ],
                    "barpolar": [
                      {
                        "marker": {
                          "line": {
                            "color": "#E5ECF6",
                            "width": 0.5
                          },
                          "pattern": {
                            "fillmode": "overlay",
                            "size": 10,
                            "solidity": 0.2
                          }
                        },
                        "type": "barpolar"
                      }
                    ],
                    "carpet": [
                      {
                        "aaxis": {
                          "endlinecolor": "#2a3f5f",
                          "gridcolor": "white",
                          "linecolor": "white",
                          "minorgridcolor": "white",
                          "startlinecolor": "#2a3f5f"
                        },
                        "baxis": {
                          "endlinecolor": "#2a3f5f",
                          "gridcolor": "white",
                          "linecolor": "white",
                          "minorgridcolor": "white",
                          "startlinecolor": "#2a3f5f"
                        },
                        "type": "carpet"
                      }
                    ],
                    "choropleth": [
                      {
                        "colorbar": {
                          "outlinewidth": 0,
                          "ticks": ""
                        },
                        "type": "choropleth"
                      }
                    ],
                    "contour": [
                      {
                        "colorbar": {
                          "outlinewidth": 0,
                          "ticks": ""
                        },
                        "colorscale": [
                          [
                            0,
                            "#0d0887"
                          ],
                          [
                            0.1111111111111111,
                            "#46039f"
                          ],
                          [
                            0.2222222222222222,
                            "#7201a8"
                          ],
                          [
                            0.3333333333333333,
                            "#9c179e"
                          ],
                          [
                            0.4444444444444444,
                            "#bd3786"
                          ],
                          [
                            0.5555555555555556,
                            "#d8576b"
                          ],
                          [
                            0.6666666666666666,
                            "#ed7953"
                          ],
                          [
                            0.7777777777777778,
                            "#fb9f3a"
                          ],
                          [
                            0.8888888888888888,
                            "#fdca26"
                          ],
                          [
                            1,
                            "#f0f921"
                          ]
                        ],
                        "type": "contour"
                      }
                    ],
                    "contourcarpet": [
                      {
                        "colorbar": {
                          "outlinewidth": 0,
                          "ticks": ""
                        },
                        "type": "contourcarpet"
                      }
                    ],
                    "heatmap": [
                      {
                        "colorbar": {
                          "outlinewidth": 0,
                          "ticks": ""
                        },
                        "colorscale": [
                          [
                            0,
                            "#0d0887"
                          ],
                          [
                            0.1111111111111111,
                            "#46039f"
                          ],
                          [
                            0.2222222222222222,
                            "#7201a8"
                          ],
                          [
                            0.3333333333333333,
                            "#9c179e"
                          ],
                          [
                            0.4444444444444444,
                            "#bd3786"
                          ],
                          [
                            0.5555555555555556,
                            "#d8576b"
                          ],
                          [
                            0.6666666666666666,
                            "#ed7953"
                          ],
                          [
                            0.7777777777777778,
                            "#fb9f3a"
                          ],
                          [
                            0.8888888888888888,
                            "#fdca26"
                          ],
                          [
                            1,
                            "#f0f921"
                          ]
                        ],
                        "type": "heatmap"
                      }
                    ],
                    "heatmapgl": [
                      {
                        "colorbar": {
                          "outlinewidth": 0,
                          "ticks": ""
                        },
                        "colorscale": [
                          [
                            0,
                            "#0d0887"
                          ],
                          [
                            0.1111111111111111,
                            "#46039f"
                          ],
                          [
                            0.2222222222222222,
                            "#7201a8"
                          ],
                          [
                            0.3333333333333333,
                            "#9c179e"
                          ],
                          [
                            0.4444444444444444,
                            "#bd3786"
                          ],
                          [
                            0.5555555555555556,
                            "#d8576b"
                          ],
                          [
                            0.6666666666666666,
                            "#ed7953"
                          ],
                          [
                            0.7777777777777778,
                            "#fb9f3a"
                          ],
                          [
                            0.8888888888888888,
                            "#fdca26"
                          ],
                          [
                            1,
                            "#f0f921"
                          ]
                        ],
                        "type": "heatmapgl"
                      }
                    ],
                    "histogram": [
                      {
                        "marker": {
                          "pattern": {
                            "fillmode": "overlay",
                            "size": 10,
                            "solidity": 0.2
                          }
                        },
                        "type": "histogram"
                      }
                    ],
                    "histogram2d": [
                      {
                        "colorbar": {
                          "outlinewidth": 0,
                          "ticks": ""
                        },
                        "colorscale": [
                          [
                            0,
                            "#0d0887"
                          ],
                          [
                            0.1111111111111111,
                            "#46039f"
                          ],
                          [
                            0.2222222222222222,
                            "#7201a8"
                          ],
                          [
                            0.3333333333333333,
                            "#9c179e"
                          ],
                          [
                            0.4444444444444444,
                            "#bd3786"
                          ],
                          [
                            0.5555555555555556,
                            "#d8576b"
                          ],
                          [
                            0.6666666666666666,
                            "#ed7953"
                          ],
                          [
                            0.7777777777777778,
                            "#fb9f3a"
                          ],
                          [
                            0.8888888888888888,
                            "#fdca26"
                          ],
                          [
                            1,
                            "#f0f921"
                          ]
                        ],
                        "type": "histogram2d"
                      }
                    ],
                    "histogram2dcontour": [
                      {
                        "colorbar": {
                          "outlinewidth": 0,
                          "ticks": ""
                        },
                        "colorscale": [
                          [
                            0,
                            "#0d0887"
                          ],
                          [
                            0.1111111111111111,
                            "#46039f"
                          ],
                          [
                            0.2222222222222222,
                            "#7201a8"
                          ],
                          [
                            0.3333333333333333,
                            "#9c179e"
                          ],
                          [
                            0.4444444444444444,
                            "#bd3786"
                          ],
                          [
                            0.5555555555555556,
                            "#d8576b"
                          ],
                          [
                            0.6666666666666666,
                            "#ed7953"
                          ],
                          [
                            0.7777777777777778,
                            "#fb9f3a"
                          ],
                          [
                            0.8888888888888888,
                            "#fdca26"
                          ],
                          [
                            1,
                            "#f0f921"
                          ]
                        ],
                        "type": "histogram2dcontour"
                      }
                    ],
                    "mesh3d": [
                      {
                        "colorbar": {
                          "outlinewidth": 0,
                          "ticks": ""
                        },
                        "type": "mesh3d"
                      }
                    ],
                    "parcoords": [
                      {
                        "line": {
                          "colorbar": {
                            "outlinewidth": 0,
                            "ticks": ""
                          }
                        },
                        "type": "parcoords"
                      }
                    ],
                    "pie": [
                      {
                        "automargin": true,
                        "type": "pie"
                      }
                    ],
                    "scatter": [
                      {
                        "fillpattern": {
                          "fillmode": "overlay",
                          "size": 10,
                          "solidity": 0.2
                        },
                        "type": "scatter"
                      }
                    ],
                    "scatter3d": [
                      {
                        "line": {
                          "colorbar": {
                            "outlinewidth": 0,
                            "ticks": ""
                          }
                        },
                        "marker": {
                          "colorbar": {
                            "outlinewidth": 0,
                            "ticks": ""
                          }
                        },
                        "type": "scatter3d"
                      }
                    ],
                    "scattercarpet": [
                      {
                        "marker": {
                          "colorbar": {
                            "outlinewidth": 0,
                            "ticks": ""
                          }
                        },
                        "type": "scattercarpet"
                      }
                    ],
                    "scattergeo": [
                      {
                        "marker": {
                          "colorbar": {
                            "outlinewidth": 0,
                            "ticks": ""
                          }
                        },
                        "type": "scattergeo"
                      }
                    ],
                    "scattergl": [
                      {
                        "marker": {
                          "colorbar": {
                            "outlinewidth": 0,
                            "ticks": ""
                          }
                        },
                        "type": "scattergl"
                      }
                    ],
                    "scattermapbox": [
                      {
                        "marker": {
                          "colorbar": {
                            "outlinewidth": 0,
                            "ticks": ""
                          }
                        },
                        "type": "scattermapbox"
                      }
                    ],
                    "scatterpolar": [
                      {
                        "marker": {
                          "colorbar": {
                            "outlinewidth": 0,
                            "ticks": ""
                          }
                        },
                        "type": "scatterpolar"
                      }
                    ],
                    "scatterpolargl": [
                      {
                        "marker": {
                          "colorbar": {
                            "outlinewidth": 0,
                            "ticks": ""
                          }
                        },
                        "type": "scatterpolargl"
                      }
                    ],
                    "scatterternary": [
                      {
                        "marker": {
                          "colorbar": {
                            "outlinewidth": 0,
                            "ticks": ""
                          }
                        },
                        "type": "scatterternary"
                      }
                    ],
                    "surface": [
                      {
                        "colorbar": {
                          "outlinewidth": 0,
                          "ticks": ""
                        },
                        "colorscale": [
                          [
                            0,
                            "#0d0887"
                          ],
                          [
                            0.1111111111111111,
                            "#46039f"
                          ],
                          [
                            0.2222222222222222,
                            "#7201a8"
                          ],
                          [
                            0.3333333333333333,
                            "#9c179e"
                          ],
                          [
                            0.4444444444444444,
                            "#bd3786"
                          ],
                          [
                            0.5555555555555556,
                            "#d8576b"
                          ],
                          [
                            0.6666666666666666,
                            "#ed7953"
                          ],
                          [
                            0.7777777777777778,
                            "#fb9f3a"
                          ],
                          [
                            0.8888888888888888,
                            "#fdca26"
                          ],
                          [
                            1,
                            "#f0f921"
                          ]
                        ],
                        "type": "surface"
                      }
                    ],
                    "table": [
                      {
                        "cells": {
                          "fill": {
                            "color": "#EBF0F8"
                          },
                          "line": {
                            "color": "white"
                          }
                        },
                        "header": {
                          "fill": {
                            "color": "#C8D4E3"
                          },
                          "line": {
                            "color": "white"
                          }
                        },
                        "type": "table"
                      }
                    ]
                  },
                  "layout": {
                    "annotationdefaults": {
                      "arrowcolor": "#2a3f5f",
                      "arrowhead": 0,
                      "arrowwidth": 1
                    },
                    "autotypenumbers": "strict",
                    "coloraxis": {
                      "colorbar": {
                        "outlinewidth": 0,
                        "ticks": ""
                      }
                    },
                    "colorscale": {
                      "diverging": [
                        [
                          0,
                          "#8e0152"
                        ],
                        [
                          0.1,
                          "#c51b7d"
                        ],
                        [
                          0.2,
                          "#de77ae"
                        ],
                        [
                          0.3,
                          "#f1b6da"
                        ],
                        [
                          0.4,
                          "#fde0ef"
                        ],
                        [
                          0.5,
                          "#f7f7f7"
                        ],
                        [
                          0.6,
                          "#e6f5d0"
                        ],
                        [
                          0.7,
                          "#b8e186"
                        ],
                        [
                          0.8,
                          "#7fbc41"
                        ],
                        [
                          0.9,
                          "#4d9221"
                        ],
                        [
                          1,
                          "#276419"
                        ]
                      ],
                      "sequential": [
                        [
                          0,
                          "#0d0887"
                        ],
                        [
                          0.1111111111111111,
                          "#46039f"
                        ],
                        [
                          0.2222222222222222,
                          "#7201a8"
                        ],
                        [
                          0.3333333333333333,
                          "#9c179e"
                        ],
                        [
                          0.4444444444444444,
                          "#bd3786"
                        ],
                        [
                          0.5555555555555556,
                          "#d8576b"
                        ],
                        [
                          0.6666666666666666,
                          "#ed7953"
                        ],
                        [
                          0.7777777777777778,
                          "#fb9f3a"
                        ],
                        [
                          0.8888888888888888,
                          "#fdca26"
                        ],
                        [
                          1,
                          "#f0f921"
                        ]
                      ],
                      "sequentialminus": [
                        [
                          0,
                          "#0d0887"
                        ],
                        [
                          0.1111111111111111,
                          "#46039f"
                        ],
                        [
                          0.2222222222222222,
                          "#7201a8"
                        ],
                        [
                          0.3333333333333333,
                          "#9c179e"
                        ],
                        [
                          0.4444444444444444,
                          "#bd3786"
                        ],
                        [
                          0.5555555555555556,
                          "#d8576b"
                        ],
                        [
                          0.6666666666666666,
                          "#ed7953"
                        ],
                        [
                          0.7777777777777778,
                          "#fb9f3a"
                        ],
                        [
                          0.8888888888888888,
                          "#fdca26"
                        ],
                        [
                          1,
                          "#f0f921"
                        ]
                      ]
                    },
                    "colorway": [
                      "#636efa",
                      "#EF553B",
                      "#00cc96",
                      "#ab63fa",
                      "#FFA15A",
                      "#19d3f3",
                      "#FF6692",
                      "#B6E880",
                      "#FF97FF",
                      "#FECB52"
                    ],
                    "font": {
                      "color": "#2a3f5f"
                    },
                    "geo": {
                      "bgcolor": "white",
                      "lakecolor": "white",
                      "landcolor": "#E5ECF6",
                      "showlakes": true,
                      "showland": true,
                      "subunitcolor": "white"
                    },
                    "hoverlabel": {
                      "align": "left"
                    },
                    "hovermode": "closest",
                    "mapbox": {
                      "style": "light"
                    },
                    "paper_bgcolor": "white",
                    "plot_bgcolor": "#E5ECF6",
                    "polar": {
                      "angularaxis": {
                        "gridcolor": "white",
                        "linecolor": "white",
                        "ticks": ""
                      },
                      "bgcolor": "#E5ECF6",
                      "radialaxis": {
                        "gridcolor": "white",
                        "linecolor": "white",
                        "ticks": ""
                      }
                    },
                    "scene": {
                      "xaxis": {
                        "backgroundcolor": "#E5ECF6",
                        "gridcolor": "white",
                        "gridwidth": 2,
                        "linecolor": "white",
                        "showbackground": true,
                        "ticks": "",
                        "zerolinecolor": "white"
                      },
                      "yaxis": {
                        "backgroundcolor": "#E5ECF6",
                        "gridcolor": "white",
                        "gridwidth": 2,
                        "linecolor": "white",
                        "showbackground": true,
                        "ticks": "",
                        "zerolinecolor": "white"
                      },
                      "zaxis": {
                        "backgroundcolor": "#E5ECF6",
                        "gridcolor": "white",
                        "gridwidth": 2,
                        "linecolor": "white",
                        "showbackground": true,
                        "ticks": "",
                        "zerolinecolor": "white"
                      }
                    },
                    "shapedefaults": {
                      "line": {
                        "color": "#2a3f5f"
                      }
                    },
                    "ternary": {
                      "aaxis": {
                        "gridcolor": "white",
                        "linecolor": "white",
                        "ticks": ""
                      },
                      "baxis": {
                        "gridcolor": "white",
                        "linecolor": "white",
                        "ticks": ""
                      },
                      "bgcolor": "#E5ECF6",
                      "caxis": {
                        "gridcolor": "white",
                        "linecolor": "white",
                        "ticks": ""
                      }
                    },
                    "title": {
                      "x": 0.05
                    },
                    "xaxis": {
                      "automargin": true,
                      "gridcolor": "white",
                      "linecolor": "white",
                      "ticks": "",
                      "title": {
                        "standoff": 15
                      },
                      "zerolinecolor": "white",
                      "zerolinewidth": 2
                    },
                    "yaxis": {
                      "automargin": true,
                      "gridcolor": "white",
                      "linecolor": "white",
                      "ticks": "",
                      "title": {
                        "standoff": 15
                      },
                      "zerolinecolor": "white",
                      "zerolinewidth": 2
                    }
                  }
                },
                "title": {
                  "text": "Total number of flights to the destination state split by reporting airline"
                },
                "xaxis": {
                  "anchor": "y",
                  "autorange": true,
                  "domain": [
                    0,
                    1
                  ],
                  "range": [
                    -0.5,
                    42.5
                  ],
                  "title": {
                    "text": "DestState"
                  },
                  "type": "category"
                },
                "yaxis": {
                  "anchor": "x",
                  "autorange": true,
                  "domain": [
                    0,
                    1
                  ],
                  "range": [
                    0,
                    71.57894736842105
                  ],
                  "title": {
                    "text": "Flights"
                  },
                  "type": "linear"
                }
              }
            },
            "image/png": "[encoded data removed]",
            "text/html": [
              "<div>                            <div id=\"06338c8f-7786-4584-b392-3c58988c231e\" class=\"plotly-graph-div\" style=\"height:525px; width:100%;\"></div>            <script type=\"text/javascript\">                require([\"plotly\"], function(Plotly) {                    window.PLOTLYENV=window.PLOTLYENV || {};                                    if (document.getElementById(\"06338c8f-7786-4584-b392-3c58988c231e\")) {                    Plotly.newPlot(                        \"06338c8f-7786-4584-b392-3c58988c231e\",                        [{\"alignmentgroup\":\"True\",\"hovertemplate\":\"DestState=%{x}<br>Flights=%{y}<extra></extra>\",\"legendgroup\":\"\",\"marker\":{\"color\":\"#636efa\",\"pattern\":{\"shape\":\"\"}},\"name\":\"\",\"offsetgroup\":\"\",\"orientation\":\"v\",\"showlegend\":false,\"textposition\":\"auto\",\"x\":[\"AK\",\"AL\",\"AZ\",\"CA\",\"CO\",\"CT\",\"FL\",\"GA\",\"HI\",\"IA\",\"ID\",\"IL\",\"IN\",\"KS\",\"KY\",\"LA\",\"MA\",\"MD\",\"MI\",\"MN\",\"MO\",\"MT\",\"NC\",\"NE\",\"NH\",\"NJ\",\"NM\",\"NV\",\"NY\",\"OH\",\"OK\",\"OR\",\"PA\",\"PR\",\"RI\",\"SC\",\"TN\",\"TX\",\"UT\",\"VA\",\"VI\",\"WA\",\"WI\"],\"xaxis\":\"x\",\"y\":[4.0,3.0,8.0,68.0,20.0,5.0,32.0,27.0,5.0,1.0,1.0,33.0,6.0,1.0,14.0,4.0,10.0,7.0,16.0,11.0,18.0,3.0,13.0,2.0,1.0,5.0,1.0,13.0,21.0,9.0,6.0,3.0,14.0,2.0,1.0,1.0,14.0,60.0,7.0,11.0,1.0,10.0,8.0],\"yaxis\":\"y\",\"type\":\"bar\"}],                        {\"template\":{\"data\":{\"histogram2dcontour\":[{\"type\":\"histogram2dcontour\",\"colorbar\":{\"outlinewidth\":0,\"ticks\":\"\"},\"colorscale\":[[0.0,\"#0d0887\"],[0.1111111111111111,\"#46039f\"],[0.2222222222222222,\"#7201a8\"],[0.3333333333333333,\"#9c179e\"],[0.4444444444444444,\"#bd3786\"],[0.5555555555555556,\"#d8576b\"],[0.6666666666666666,\"#ed7953\"],[0.7777777777777778,\"#fb9f3a\"],[0.8888888888888888,\"#fdca26\"],[1.0,\"#f0f921\"]]}],\"choropleth\":[{\"type\":\"choropleth\",\"colorbar\":{\"outlinewidth\":0,\"ticks\":\"\"}}],\"histogram2d\":[{\"type\":\"histogram2d\",\"colorbar\":{\"outlinewidth\":0,\"ticks\":\"\"},\"colorscale\":[[0.0,\"#0d0887\"],[0.1111111111111111,\"#46039f\"],[0.2222222222222222,\"#7201a8\"],[0.3333333333333333,\"#9c179e\"],[0.4444444444444444,\"#bd3786\"],[0.5555555555555556,\"#d8576b\"],[0.6666666666666666,\"#ed7953\"],[0.7777777777777778,\"#fb9f3a\"],[0.8888888888888888,\"#fdca26\"],[1.0,\"#f0f921\"]]}],\"heatmap\":[{\"type\":\"heatmap\",\"colorbar\":{\"outlinewidth\":0,\"ticks\":\"\"},\"colorscale\":[[0.0,\"#0d0887\"],[0.1111111111111111,\"#46039f\"],[0.2222222222222222,\"#7201a8\"],[0.3333333333333333,\"#9c179e\"],[0.4444444444444444,\"#bd3786\"],[0.5555555555555556,\"#d8576b\"],[0.6666666666666666,\"#ed7953\"],[0.7777777777777778,\"#fb9f3a\"],[0.8888888888888888,\"#fdca26\"],[1.0,\"#f0f921\"]]}],\"heatmapgl\":[{\"type\":\"heatmapgl\",\"colorbar\":{\"outlinewidth\":0,\"ticks\":\"\"},\"colorscale\":[[0.0,\"#0d0887\"],[0.1111111111111111,\"#46039f\"],[0.2222222222222222,\"#7201a8\"],[0.3333333333333333,\"#9c179e\"],[0.4444444444444444,\"#bd3786\"],[0.5555555555555556,\"#d8576b\"],[0.6666666666666666,\"#ed7953\"],[0.7777777777777778,\"#fb9f3a\"],[0.8888888888888888,\"#fdca26\"],[1.0,\"#f0f921\"]]}],\"contourcarpet\":[{\"type\":\"contourcarpet\",\"colorbar\":{\"outlinewidth\":0,\"ticks\":\"\"}}],\"contour\":[{\"type\":\"contour\",\"colorbar\":{\"outlinewidth\":0,\"ticks\":\"\"},\"colorscale\":[[0.0,\"#0d0887\"],[0.1111111111111111,\"#46039f\"],[0.2222222222222222,\"#7201a8\"],[0.3333333333333333,\"#9c179e\"],[0.4444444444444444,\"#bd3786\"],[0.5555555555555556,\"#d8576b\"],[0.6666666666666666,\"#ed7953\"],[0.7777777777777778,\"#fb9f3a\"],[0.8888888888888888,\"#fdca26\"],[1.0,\"#f0f921\"]]}],\"surface\":[{\"type\":\"surface\",\"colorbar\":{\"outlinewidth\":0,\"ticks\":\"\"},\"colorscale\":[[0.0,\"#0d0887\"],[0.1111111111111111,\"#46039f\"],[0.2222222222222222,\"#7201a8\"],[0.3333333333333333,\"#9c179e\"],[0.4444444444444444,\"#bd3786\"],[0.5555555555555556,\"#d8576b\"],[0.6666666666666666,\"#ed7953\"],[0.7777777777777778,\"#fb9f3a\"],[0.8888888888888888,\"#fdca26\"],[1.0,\"#f0f921\"]]}],\"mesh3d\":[{\"type\":\"mesh3d\",\"colorbar\":{\"outlinewidth\":0,\"ticks\":\"\"}}],\"scatter\":[{\"fillpattern\":{\"fillmode\":\"overlay\",\"size\":10,\"solidity\":0.2},\"type\":\"scatter\"}],\"parcoords\":[{\"type\":\"parcoords\",\"line\":{\"colorbar\":{\"outlinewidth\":0,\"ticks\":\"\"}}}],\"scatterpolargl\":[{\"type\":\"scatterpolargl\",\"marker\":{\"colorbar\":{\"outlinewidth\":0,\"ticks\":\"\"}}}],\"bar\":[{\"error_x\":{\"color\":\"#2a3f5f\"},\"error_y\":{\"color\":\"#2a3f5f\"},\"marker\":{\"line\":{\"color\":\"#E5ECF6\",\"width\":0.5},\"pattern\":{\"fillmode\":\"overlay\",\"size\":10,\"solidity\":0.2}},\"type\":\"bar\"}],\"scattergeo\":[{\"type\":\"scattergeo\",\"marker\":{\"colorbar\":{\"outlinewidth\":0,\"ticks\":\"\"}}}],\"scatterpolar\":[{\"type\":\"scatterpolar\",\"marker\":{\"colorbar\":{\"outlinewidth\":0,\"ticks\":\"\"}}}],\"histogram\":[{\"marker\":{\"pattern\":{\"fillmode\":\"overlay\",\"size\":10,\"solidity\":0.2}},\"type\":\"histogram\"}],\"scattergl\":[{\"type\":\"scattergl\",\"marker\":{\"colorbar\":{\"outlinewidth\":0,\"ticks\":\"\"}}}],\"scatter3d\":[{\"type\":\"scatter3d\",\"line\":{\"colorbar\":{\"outlinewidth\":0,\"ticks\":\"\"}},\"marker\":{\"colorbar\":{\"outlinewidth\":0,\"ticks\":\"\"}}}],\"scattermapbox\":[{\"type\":\"scattermapbox\",\"marker\":{\"colorbar\":{\"outlinewidth\":0,\"ticks\":\"\"}}}],\"scatterternary\":[{\"type\":\"scatterternary\",\"marker\":{\"colorbar\":{\"outlinewidth\":0,\"ticks\":\"\"}}}],\"scattercarpet\":[{\"type\":\"scattercarpet\",\"marker\":{\"colorbar\":{\"outlinewidth\":0,\"ticks\":\"\"}}}],\"carpet\":[{\"aaxis\":{\"endlinecolor\":\"#2a3f5f\",\"gridcolor\":\"white\",\"linecolor\":\"white\",\"minorgridcolor\":\"white\",\"startlinecolor\":\"#2a3f5f\"},\"baxis\":{\"endlinecolor\":\"#2a3f5f\",\"gridcolor\":\"white\",\"linecolor\":\"white\",\"minorgridcolor\":\"white\",\"startlinecolor\":\"#2a3f5f\"},\"type\":\"carpet\"}],\"table\":[{\"cells\":{\"fill\":{\"color\":\"#EBF0F8\"},\"line\":{\"color\":\"white\"}},\"header\":{\"fill\":{\"color\":\"#C8D4E3\"},\"line\":{\"color\":\"white\"}},\"type\":\"table\"}],\"barpolar\":[{\"marker\":{\"line\":{\"color\":\"#E5ECF6\",\"width\":0.5},\"pattern\":{\"fillmode\":\"overlay\",\"size\":10,\"solidity\":0.2}},\"type\":\"barpolar\"}],\"pie\":[{\"automargin\":true,\"type\":\"pie\"}]},\"layout\":{\"autotypenumbers\":\"strict\",\"colorway\":[\"#636efa\",\"#EF553B\",\"#00cc96\",\"#ab63fa\",\"#FFA15A\",\"#19d3f3\",\"#FF6692\",\"#B6E880\",\"#FF97FF\",\"#FECB52\"],\"font\":{\"color\":\"#2a3f5f\"},\"hovermode\":\"closest\",\"hoverlabel\":{\"align\":\"left\"},\"paper_bgcolor\":\"white\",\"plot_bgcolor\":\"#E5ECF6\",\"polar\":{\"bgcolor\":\"#E5ECF6\",\"angularaxis\":{\"gridcolor\":\"white\",\"linecolor\":\"white\",\"ticks\":\"\"},\"radialaxis\":{\"gridcolor\":\"white\",\"linecolor\":\"white\",\"ticks\":\"\"}},\"ternary\":{\"bgcolor\":\"#E5ECF6\",\"aaxis\":{\"gridcolor\":\"white\",\"linecolor\":\"white\",\"ticks\":\"\"},\"baxis\":{\"gridcolor\":\"white\",\"linecolor\":\"white\",\"ticks\":\"\"},\"caxis\":{\"gridcolor\":\"white\",\"linecolor\":\"white\",\"ticks\":\"\"}},\"coloraxis\":{\"colorbar\":{\"outlinewidth\":0,\"ticks\":\"\"}},\"colorscale\":{\"sequential\":[[0.0,\"#0d0887\"],[0.1111111111111111,\"#46039f\"],[0.2222222222222222,\"#7201a8\"],[0.3333333333333333,\"#9c179e\"],[0.4444444444444444,\"#bd3786\"],[0.5555555555555556,\"#d8576b\"],[0.6666666666666666,\"#ed7953\"],[0.7777777777777778,\"#fb9f3a\"],[0.8888888888888888,\"#fdca26\"],[1.0,\"#f0f921\"]],\"sequentialminus\":[[0.0,\"#0d0887\"],[0.1111111111111111,\"#46039f\"],[0.2222222222222222,\"#7201a8\"],[0.3333333333333333,\"#9c179e\"],[0.4444444444444444,\"#bd3786\"],[0.5555555555555556,\"#d8576b\"],[0.6666666666666666,\"#ed7953\"],[0.7777777777777778,\"#fb9f3a\"],[0.8888888888888888,\"#fdca26\"],[1.0,\"#f0f921\"]],\"diverging\":[[0,\"#8e0152\"],[0.1,\"#c51b7d\"],[0.2,\"#de77ae\"],[0.3,\"#f1b6da\"],[0.4,\"#fde0ef\"],[0.5,\"#f7f7f7\"],[0.6,\"#e6f5d0\"],[0.7,\"#b8e186\"],[0.8,\"#7fbc41\"],[0.9,\"#4d9221\"],[1,\"#276419\"]]},\"xaxis\":{\"gridcolor\":\"white\",\"linecolor\":\"white\",\"ticks\":\"\",\"title\":{\"standoff\":15},\"zerolinecolor\":\"white\",\"automargin\":true,\"zerolinewidth\":2},\"yaxis\":{\"gridcolor\":\"white\",\"linecolor\":\"white\",\"ticks\":\"\",\"title\":{\"standoff\":15},\"zerolinecolor\":\"white\",\"automargin\":true,\"zerolinewidth\":2},\"scene\":{\"xaxis\":{\"backgroundcolor\":\"#E5ECF6\",\"gridcolor\":\"white\",\"linecolor\":\"white\",\"showbackground\":true,\"ticks\":\"\",\"zerolinecolor\":\"white\",\"gridwidth\":2},\"yaxis\":{\"backgroundcolor\":\"#E5ECF6\",\"gridcolor\":\"white\",\"linecolor\":\"white\",\"showbackground\":true,\"ticks\":\"\",\"zerolinecolor\":\"white\",\"gridwidth\":2},\"zaxis\":{\"backgroundcolor\":\"#E5ECF6\",\"gridcolor\":\"white\",\"linecolor\":\"white\",\"showbackground\":true,\"ticks\":\"\",\"zerolinecolor\":\"white\",\"gridwidth\":2}},\"shapedefaults\":{\"line\":{\"color\":\"#2a3f5f\"}},\"annotationdefaults\":{\"arrowcolor\":\"#2a3f5f\",\"arrowhead\":0,\"arrowwidth\":1},\"geo\":{\"bgcolor\":\"white\",\"landcolor\":\"#E5ECF6\",\"subunitcolor\":\"white\",\"showland\":true,\"showlakes\":true,\"lakecolor\":\"white\"},\"title\":{\"x\":0.05},\"mapbox\":{\"style\":\"light\"}}},\"xaxis\":{\"anchor\":\"y\",\"domain\":[0.0,1.0],\"title\":{\"text\":\"DestState\"}},\"yaxis\":{\"anchor\":\"x\",\"domain\":[0.0,1.0],\"title\":{\"text\":\"Flights\"}},\"legend\":{\"tracegroupgap\":0},\"title\":{\"text\":\"Total number of flights to the destination state split by reporting airline\"},\"barmode\":\"relative\"},                        {\"responsive\": true}                    ).then(function(){\n",
              "                            \n",
              "var gd = document.getElementById('06338c8f-7786-4584-b392-3c58988c231e');\n",
              "var x = new MutationObserver(function (mutations, observer) {{\n",
              "        var display = window.getComputedStyle(gd).display;\n",
              "        if (!display || display === 'none') {{\n",
              "            console.log([gd, 'removed!']);\n",
              "            Plotly.purge(gd);\n",
              "            observer.disconnect();\n",
              "        }}\n",
              "}});\n",
              "\n",
              "// Listen for the removal of the full notebook cells\n",
              "var notebookContainer = gd.closest('#notebook-container');\n",
              "if (notebookContainer) {{\n",
              "    x.observe(notebookContainer, {childList: true});\n",
              "}}\n",
              "\n",
              "// Listen for the clearing of the current output cell\n",
              "var outputEl = gd.closest('.output');\n",
              "if (outputEl) {{\n",
              "    x.observe(outputEl, {childList: true});\n",
              "}}\n",
              "\n",
              "                        })                };                });            </script>        </div>"
            ]
          },
          "metadata": {},
          "output_type": "display_data"
        }
      ],
      "source": [
        "# Use plotly express bar chart function px.bar. Provide input data, x and y axis variable, and title of the chart.\n",
        "# This will give total number of flights to the destination state.\n",
        "fig = px.bar(bar_data, x=\"DestState\", y=\"Flights\", title='Total number of flights to the destination state split by reporting airline') \n",
        "fig.show()"
      ]
    },
    {
      "cell_type": "markdown",
      "metadata": {},
      "source": [
        "## 2. Bubble Chart\n"
      ]
    },
    {
      "cell_type": "markdown",
      "metadata": {},
      "source": [
        "Learn more about bubble chart [here](https://plotly.com/python/bubble-charts/?utm_medium=Exinfluencer&utm_source=Exinfluencer&utm_content=000026UJ&utm_term=10006555&utm_id=NA-SkillsNetwork-Channel-SkillsNetworkCoursesIBMDeveloperSkillsNetworkDV0101ENSkillsNetwork20297740-2021-01-01)\n",
        "\n",
        "#### Idea: Get number of flights as per reporting airline\n"
      ]
    },
    {
      "cell_type": "code",
      "execution_count": 44,
      "metadata": {
        "trusted": true
      },
      "outputs": [],
      "source": [
        "# Group the data by reporting airline and get number of flights\n",
        "bub_data = data.groupby('Reporting_Airline')['Flights'].sum().reset_index()"
      ]
    },
    {
      "cell_type": "code",
      "execution_count": 45,
      "metadata": {
        "trusted": true
      },
      "outputs": [
        {
          "data": {
            "text/html": [
              "<div>\n",
              "<style scoped>\n",
              "    .dataframe tbody tr th:only-of-type {\n",
              "        vertical-align: middle;\n",
              "    }\n",
              "\n",
              "    .dataframe tbody tr th {\n",
              "        vertical-align: top;\n",
              "    }\n",
              "\n",
              "    .dataframe thead th {\n",
              "        text-align: right;\n",
              "    }\n",
              "</style>\n",
              "<table border=\"1\" class=\"dataframe\">\n",
              "  <thead>\n",
              "    <tr style=\"text-align: right;\">\n",
              "      <th></th>\n",
              "      <th>Reporting_Airline</th>\n",
              "      <th>Flights</th>\n",
              "    </tr>\n",
              "  </thead>\n",
              "  <tbody>\n",
              "    <tr>\n",
              "      <th>0</th>\n",
              "      <td>9E</td>\n",
              "      <td>5.0</td>\n",
              "    </tr>\n",
              "    <tr>\n",
              "      <th>1</th>\n",
              "      <td>AA</td>\n",
              "      <td>57.0</td>\n",
              "    </tr>\n",
              "    <tr>\n",
              "      <th>2</th>\n",
              "      <td>AS</td>\n",
              "      <td>14.0</td>\n",
              "    </tr>\n",
              "    <tr>\n",
              "      <th>3</th>\n",
              "      <td>B6</td>\n",
              "      <td>10.0</td>\n",
              "    </tr>\n",
              "    <tr>\n",
              "      <th>4</th>\n",
              "      <td>CO</td>\n",
              "      <td>12.0</td>\n",
              "    </tr>\n",
              "    <tr>\n",
              "      <th>5</th>\n",
              "      <td>DL</td>\n",
              "      <td>66.0</td>\n",
              "    </tr>\n",
              "    <tr>\n",
              "      <th>6</th>\n",
              "      <td>EA</td>\n",
              "      <td>4.0</td>\n",
              "    </tr>\n",
              "    <tr>\n",
              "      <th>7</th>\n",
              "      <td>EV</td>\n",
              "      <td>11.0</td>\n",
              "    </tr>\n",
              "    <tr>\n",
              "      <th>8</th>\n",
              "      <td>F9</td>\n",
              "      <td>4.0</td>\n",
              "    </tr>\n",
              "    <tr>\n",
              "      <th>9</th>\n",
              "      <td>FL</td>\n",
              "      <td>3.0</td>\n",
              "    </tr>\n",
              "    <tr>\n",
              "      <th>10</th>\n",
              "      <td>HA</td>\n",
              "      <td>3.0</td>\n",
              "    </tr>\n",
              "    <tr>\n",
              "      <th>11</th>\n",
              "      <td>HP</td>\n",
              "      <td>7.0</td>\n",
              "    </tr>\n",
              "    <tr>\n",
              "      <th>12</th>\n",
              "      <td>KH</td>\n",
              "      <td>1.0</td>\n",
              "    </tr>\n",
              "    <tr>\n",
              "      <th>13</th>\n",
              "      <td>MQ</td>\n",
              "      <td>27.0</td>\n",
              "    </tr>\n",
              "    <tr>\n",
              "      <th>14</th>\n",
              "      <td>NK</td>\n",
              "      <td>3.0</td>\n",
              "    </tr>\n",
              "    <tr>\n",
              "      <th>15</th>\n",
              "      <td>NW</td>\n",
              "      <td>26.0</td>\n",
              "    </tr>\n",
              "    <tr>\n",
              "      <th>16</th>\n",
              "      <td>OH</td>\n",
              "      <td>8.0</td>\n",
              "    </tr>\n",
              "    <tr>\n",
              "      <th>17</th>\n",
              "      <td>OO</td>\n",
              "      <td>28.0</td>\n",
              "    </tr>\n",
              "    <tr>\n",
              "      <th>18</th>\n",
              "      <td>PA (1)</td>\n",
              "      <td>1.0</td>\n",
              "    </tr>\n",
              "    <tr>\n",
              "      <th>19</th>\n",
              "      <td>PI</td>\n",
              "      <td>1.0</td>\n",
              "    </tr>\n",
              "    <tr>\n",
              "      <th>20</th>\n",
              "      <td>PS</td>\n",
              "      <td>1.0</td>\n",
              "    </tr>\n",
              "    <tr>\n",
              "      <th>21</th>\n",
              "      <td>TW</td>\n",
              "      <td>14.0</td>\n",
              "    </tr>\n",
              "    <tr>\n",
              "      <th>22</th>\n",
              "      <td>UA</td>\n",
              "      <td>51.0</td>\n",
              "    </tr>\n",
              "    <tr>\n",
              "      <th>23</th>\n",
              "      <td>US</td>\n",
              "      <td>43.0</td>\n",
              "    </tr>\n",
              "    <tr>\n",
              "      <th>24</th>\n",
              "      <td>VX</td>\n",
              "      <td>1.0</td>\n",
              "    </tr>\n",
              "    <tr>\n",
              "      <th>25</th>\n",
              "      <td>WN</td>\n",
              "      <td>86.0</td>\n",
              "    </tr>\n",
              "    <tr>\n",
              "      <th>26</th>\n",
              "      <td>XE</td>\n",
              "      <td>6.0</td>\n",
              "    </tr>\n",
              "    <tr>\n",
              "      <th>27</th>\n",
              "      <td>YV</td>\n",
              "      <td>6.0</td>\n",
              "    </tr>\n",
              "    <tr>\n",
              "      <th>28</th>\n",
              "      <td>YX</td>\n",
              "      <td>1.0</td>\n",
              "    </tr>\n",
              "  </tbody>\n",
              "</table>\n",
              "</div>"
            ],
            "text/plain": [
              "   Reporting_Airline  Flights\n",
              "0                 9E      5.0\n",
              "1                 AA     57.0\n",
              "2                 AS     14.0\n",
              "3                 B6     10.0\n",
              "4                 CO     12.0\n",
              "5                 DL     66.0\n",
              "6                 EA      4.0\n",
              "7                 EV     11.0\n",
              "8                 F9      4.0\n",
              "9                 FL      3.0\n",
              "10                HA      3.0\n",
              "11                HP      7.0\n",
              "12                KH      1.0\n",
              "13                MQ     27.0\n",
              "14                NK      3.0\n",
              "15                NW     26.0\n",
              "16                OH      8.0\n",
              "17                OO     28.0\n",
              "18            PA (1)      1.0\n",
              "19                PI      1.0\n",
              "20                PS      1.0\n",
              "21                TW     14.0\n",
              "22                UA     51.0\n",
              "23                US     43.0\n",
              "24                VX      1.0\n",
              "25                WN     86.0\n",
              "26                XE      6.0\n",
              "27                YV      6.0\n",
              "28                YX      1.0"
            ]
          },
          "execution_count": 45,
          "metadata": {},
          "output_type": "execute_result"
        }
      ],
      "source": [
        "bub_data"
      ]
    },
    {
      "cell_type": "markdown",
      "metadata": {},
      "source": [
        "**To do**\n",
        "\n",
        "*   Create a bubble chart using the `bub_data` with x-axis being reporting airline and y-axis being flights.\n",
        "*   Provide title to the chart\n",
        "*   Update size of the bubble based on the number of flights. Use `size` parameter.\n",
        "*   Update name of the hover tooltip to `reporting_airline` using `hover_name` parameter.\n"
      ]
    },
    {
      "cell_type": "code",
      "execution_count": 47,
      "metadata": {
        "trusted": true
      },
      "outputs": [
        {
          "data": {
            "application/vnd.plotly.v1+json": {
              "config": {
                "plotlyServerURL": "https://plot.ly"
              },
              "data": [
                {
                  "hovertemplate": "<b>%{hovertext}</b><br><br>Reporting_Airline=%{x}<br>Flights=%{marker.size}<extra></extra>",
                  "hovertext": [
                    "9E",
                    "AA",
                    "AS",
                    "B6",
                    "CO",
                    "DL",
                    "EA",
                    "EV",
                    "F9",
                    "FL",
                    "HA",
                    "HP",
                    "KH",
                    "MQ",
                    "NK",
                    "NW",
                    "OH",
                    "OO",
                    "PA (1)",
                    "PI",
                    "PS",
                    "TW",
                    "UA",
                    "US",
                    "VX",
                    "WN",
                    "XE",
                    "YV",
                    "YX"
                  ],
                  "legendgroup": "",
                  "marker": {
                    "color": "#636efa",
                    "size": [
                      5,
                      57,
                      14,
                      10,
                      12,
                      66,
                      4,
                      11,
                      4,
                      3,
                      3,
                      7,
                      1,
                      27,
                      3,
                      26,
                      8,
                      28,
                      1,
                      1,
                      1,
                      14,
                      51,
                      43,
                      1,
                      86,
                      6,
                      6,
                      1
                    ],
                    "sizemode": "area",
                    "sizeref": 0.02388888888888889,
                    "symbol": "circle"
                  },
                  "mode": "markers",
                  "name": "",
                  "orientation": "v",
                  "showlegend": false,
                  "type": "scatter",
                  "x": [
                    "9E",
                    "AA",
                    "AS",
                    "B6",
                    "CO",
                    "DL",
                    "EA",
                    "EV",
                    "F9",
                    "FL",
                    "HA",
                    "HP",
                    "KH",
                    "MQ",
                    "NK",
                    "NW",
                    "OH",
                    "OO",
                    "PA (1)",
                    "PI",
                    "PS",
                    "TW",
                    "UA",
                    "US",
                    "VX",
                    "WN",
                    "XE",
                    "YV",
                    "YX"
                  ],
                  "xaxis": "x",
                  "y": [
                    5,
                    57,
                    14,
                    10,
                    12,
                    66,
                    4,
                    11,
                    4,
                    3,
                    3,
                    7,
                    1,
                    27,
                    3,
                    26,
                    8,
                    28,
                    1,
                    1,
                    1,
                    14,
                    51,
                    43,
                    1,
                    86,
                    6,
                    6,
                    1
                  ],
                  "yaxis": "y"
                }
              ],
              "layout": {
                "autosize": true,
                "legend": {
                  "itemsizing": "constant",
                  "tracegroupgap": 0
                },
                "template": {
                  "data": {
                    "bar": [
                      {
                        "error_x": {
                          "color": "#2a3f5f"
                        },
                        "error_y": {
                          "color": "#2a3f5f"
                        },
                        "marker": {
                          "line": {
                            "color": "#E5ECF6",
                            "width": 0.5
                          },
                          "pattern": {
                            "fillmode": "overlay",
                            "size": 10,
                            "solidity": 0.2
                          }
                        },
                        "type": "bar"
                      }
                    ],
                    "barpolar": [
                      {
                        "marker": {
                          "line": {
                            "color": "#E5ECF6",
                            "width": 0.5
                          },
                          "pattern": {
                            "fillmode": "overlay",
                            "size": 10,
                            "solidity": 0.2
                          }
                        },
                        "type": "barpolar"
                      }
                    ],
                    "carpet": [
                      {
                        "aaxis": {
                          "endlinecolor": "#2a3f5f",
                          "gridcolor": "white",
                          "linecolor": "white",
                          "minorgridcolor": "white",
                          "startlinecolor": "#2a3f5f"
                        },
                        "baxis": {
                          "endlinecolor": "#2a3f5f",
                          "gridcolor": "white",
                          "linecolor": "white",
                          "minorgridcolor": "white",
                          "startlinecolor": "#2a3f5f"
                        },
                        "type": "carpet"
                      }
                    ],
                    "choropleth": [
                      {
                        "colorbar": {
                          "outlinewidth": 0,
                          "ticks": ""
                        },
                        "type": "choropleth"
                      }
                    ],
                    "contour": [
                      {
                        "colorbar": {
                          "outlinewidth": 0,
                          "ticks": ""
                        },
                        "colorscale": [
                          [
                            0,
                            "#0d0887"
                          ],
                          [
                            0.1111111111111111,
                            "#46039f"
                          ],
                          [
                            0.2222222222222222,
                            "#7201a8"
                          ],
                          [
                            0.3333333333333333,
                            "#9c179e"
                          ],
                          [
                            0.4444444444444444,
                            "#bd3786"
                          ],
                          [
                            0.5555555555555556,
                            "#d8576b"
                          ],
                          [
                            0.6666666666666666,
                            "#ed7953"
                          ],
                          [
                            0.7777777777777778,
                            "#fb9f3a"
                          ],
                          [
                            0.8888888888888888,
                            "#fdca26"
                          ],
                          [
                            1,
                            "#f0f921"
                          ]
                        ],
                        "type": "contour"
                      }
                    ],
                    "contourcarpet": [
                      {
                        "colorbar": {
                          "outlinewidth": 0,
                          "ticks": ""
                        },
                        "type": "contourcarpet"
                      }
                    ],
                    "heatmap": [
                      {
                        "colorbar": {
                          "outlinewidth": 0,
                          "ticks": ""
                        },
                        "colorscale": [
                          [
                            0,
                            "#0d0887"
                          ],
                          [
                            0.1111111111111111,
                            "#46039f"
                          ],
                          [
                            0.2222222222222222,
                            "#7201a8"
                          ],
                          [
                            0.3333333333333333,
                            "#9c179e"
                          ],
                          [
                            0.4444444444444444,
                            "#bd3786"
                          ],
                          [
                            0.5555555555555556,
                            "#d8576b"
                          ],
                          [
                            0.6666666666666666,
                            "#ed7953"
                          ],
                          [
                            0.7777777777777778,
                            "#fb9f3a"
                          ],
                          [
                            0.8888888888888888,
                            "#fdca26"
                          ],
                          [
                            1,
                            "#f0f921"
                          ]
                        ],
                        "type": "heatmap"
                      }
                    ],
                    "heatmapgl": [
                      {
                        "colorbar": {
                          "outlinewidth": 0,
                          "ticks": ""
                        },
                        "colorscale": [
                          [
                            0,
                            "#0d0887"
                          ],
                          [
                            0.1111111111111111,
                            "#46039f"
                          ],
                          [
                            0.2222222222222222,
                            "#7201a8"
                          ],
                          [
                            0.3333333333333333,
                            "#9c179e"
                          ],
                          [
                            0.4444444444444444,
                            "#bd3786"
                          ],
                          [
                            0.5555555555555556,
                            "#d8576b"
                          ],
                          [
                            0.6666666666666666,
                            "#ed7953"
                          ],
                          [
                            0.7777777777777778,
                            "#fb9f3a"
                          ],
                          [
                            0.8888888888888888,
                            "#fdca26"
                          ],
                          [
                            1,
                            "#f0f921"
                          ]
                        ],
                        "type": "heatmapgl"
                      }
                    ],
                    "histogram": [
                      {
                        "marker": {
                          "pattern": {
                            "fillmode": "overlay",
                            "size": 10,
                            "solidity": 0.2
                          }
                        },
                        "type": "histogram"
                      }
                    ],
                    "histogram2d": [
                      {
                        "colorbar": {
                          "outlinewidth": 0,
                          "ticks": ""
                        },
                        "colorscale": [
                          [
                            0,
                            "#0d0887"
                          ],
                          [
                            0.1111111111111111,
                            "#46039f"
                          ],
                          [
                            0.2222222222222222,
                            "#7201a8"
                          ],
                          [
                            0.3333333333333333,
                            "#9c179e"
                          ],
                          [
                            0.4444444444444444,
                            "#bd3786"
                          ],
                          [
                            0.5555555555555556,
                            "#d8576b"
                          ],
                          [
                            0.6666666666666666,
                            "#ed7953"
                          ],
                          [
                            0.7777777777777778,
                            "#fb9f3a"
                          ],
                          [
                            0.8888888888888888,
                            "#fdca26"
                          ],
                          [
                            1,
                            "#f0f921"
                          ]
                        ],
                        "type": "histogram2d"
                      }
                    ],
                    "histogram2dcontour": [
                      {
                        "colorbar": {
                          "outlinewidth": 0,
                          "ticks": ""
                        },
                        "colorscale": [
                          [
                            0,
                            "#0d0887"
                          ],
                          [
                            0.1111111111111111,
                            "#46039f"
                          ],
                          [
                            0.2222222222222222,
                            "#7201a8"
                          ],
                          [
                            0.3333333333333333,
                            "#9c179e"
                          ],
                          [
                            0.4444444444444444,
                            "#bd3786"
                          ],
                          [
                            0.5555555555555556,
                            "#d8576b"
                          ],
                          [
                            0.6666666666666666,
                            "#ed7953"
                          ],
                          [
                            0.7777777777777778,
                            "#fb9f3a"
                          ],
                          [
                            0.8888888888888888,
                            "#fdca26"
                          ],
                          [
                            1,
                            "#f0f921"
                          ]
                        ],
                        "type": "histogram2dcontour"
                      }
                    ],
                    "mesh3d": [
                      {
                        "colorbar": {
                          "outlinewidth": 0,
                          "ticks": ""
                        },
                        "type": "mesh3d"
                      }
                    ],
                    "parcoords": [
                      {
                        "line": {
                          "colorbar": {
                            "outlinewidth": 0,
                            "ticks": ""
                          }
                        },
                        "type": "parcoords"
                      }
                    ],
                    "pie": [
                      {
                        "automargin": true,
                        "type": "pie"
                      }
                    ],
                    "scatter": [
                      {
                        "fillpattern": {
                          "fillmode": "overlay",
                          "size": 10,
                          "solidity": 0.2
                        },
                        "type": "scatter"
                      }
                    ],
                    "scatter3d": [
                      {
                        "line": {
                          "colorbar": {
                            "outlinewidth": 0,
                            "ticks": ""
                          }
                        },
                        "marker": {
                          "colorbar": {
                            "outlinewidth": 0,
                            "ticks": ""
                          }
                        },
                        "type": "scatter3d"
                      }
                    ],
                    "scattercarpet": [
                      {
                        "marker": {
                          "colorbar": {
                            "outlinewidth": 0,
                            "ticks": ""
                          }
                        },
                        "type": "scattercarpet"
                      }
                    ],
                    "scattergeo": [
                      {
                        "marker": {
                          "colorbar": {
                            "outlinewidth": 0,
                            "ticks": ""
                          }
                        },
                        "type": "scattergeo"
                      }
                    ],
                    "scattergl": [
                      {
                        "marker": {
                          "colorbar": {
                            "outlinewidth": 0,
                            "ticks": ""
                          }
                        },
                        "type": "scattergl"
                      }
                    ],
                    "scattermapbox": [
                      {
                        "marker": {
                          "colorbar": {
                            "outlinewidth": 0,
                            "ticks": ""
                          }
                        },
                        "type": "scattermapbox"
                      }
                    ],
                    "scatterpolar": [
                      {
                        "marker": {
                          "colorbar": {
                            "outlinewidth": 0,
                            "ticks": ""
                          }
                        },
                        "type": "scatterpolar"
                      }
                    ],
                    "scatterpolargl": [
                      {
                        "marker": {
                          "colorbar": {
                            "outlinewidth": 0,
                            "ticks": ""
                          }
                        },
                        "type": "scatterpolargl"
                      }
                    ],
                    "scatterternary": [
                      {
                        "marker": {
                          "colorbar": {
                            "outlinewidth": 0,
                            "ticks": ""
                          }
                        },
                        "type": "scatterternary"
                      }
                    ],
                    "surface": [
                      {
                        "colorbar": {
                          "outlinewidth": 0,
                          "ticks": ""
                        },
                        "colorscale": [
                          [
                            0,
                            "#0d0887"
                          ],
                          [
                            0.1111111111111111,
                            "#46039f"
                          ],
                          [
                            0.2222222222222222,
                            "#7201a8"
                          ],
                          [
                            0.3333333333333333,
                            "#9c179e"
                          ],
                          [
                            0.4444444444444444,
                            "#bd3786"
                          ],
                          [
                            0.5555555555555556,
                            "#d8576b"
                          ],
                          [
                            0.6666666666666666,
                            "#ed7953"
                          ],
                          [
                            0.7777777777777778,
                            "#fb9f3a"
                          ],
                          [
                            0.8888888888888888,
                            "#fdca26"
                          ],
                          [
                            1,
                            "#f0f921"
                          ]
                        ],
                        "type": "surface"
                      }
                    ],
                    "table": [
                      {
                        "cells": {
                          "fill": {
                            "color": "#EBF0F8"
                          },
                          "line": {
                            "color": "white"
                          }
                        },
                        "header": {
                          "fill": {
                            "color": "#C8D4E3"
                          },
                          "line": {
                            "color": "white"
                          }
                        },
                        "type": "table"
                      }
                    ]
                  },
                  "layout": {
                    "annotationdefaults": {
                      "arrowcolor": "#2a3f5f",
                      "arrowhead": 0,
                      "arrowwidth": 1
                    },
                    "autotypenumbers": "strict",
                    "coloraxis": {
                      "colorbar": {
                        "outlinewidth": 0,
                        "ticks": ""
                      }
                    },
                    "colorscale": {
                      "diverging": [
                        [
                          0,
                          "#8e0152"
                        ],
                        [
                          0.1,
                          "#c51b7d"
                        ],
                        [
                          0.2,
                          "#de77ae"
                        ],
                        [
                          0.3,
                          "#f1b6da"
                        ],
                        [
                          0.4,
                          "#fde0ef"
                        ],
                        [
                          0.5,
                          "#f7f7f7"
                        ],
                        [
                          0.6,
                          "#e6f5d0"
                        ],
                        [
                          0.7,
                          "#b8e186"
                        ],
                        [
                          0.8,
                          "#7fbc41"
                        ],
                        [
                          0.9,
                          "#4d9221"
                        ],
                        [
                          1,
                          "#276419"
                        ]
                      ],
                      "sequential": [
                        [
                          0,
                          "#0d0887"
                        ],
                        [
                          0.1111111111111111,
                          "#46039f"
                        ],
                        [
                          0.2222222222222222,
                          "#7201a8"
                        ],
                        [
                          0.3333333333333333,
                          "#9c179e"
                        ],
                        [
                          0.4444444444444444,
                          "#bd3786"
                        ],
                        [
                          0.5555555555555556,
                          "#d8576b"
                        ],
                        [
                          0.6666666666666666,
                          "#ed7953"
                        ],
                        [
                          0.7777777777777778,
                          "#fb9f3a"
                        ],
                        [
                          0.8888888888888888,
                          "#fdca26"
                        ],
                        [
                          1,
                          "#f0f921"
                        ]
                      ],
                      "sequentialminus": [
                        [
                          0,
                          "#0d0887"
                        ],
                        [
                          0.1111111111111111,
                          "#46039f"
                        ],
                        [
                          0.2222222222222222,
                          "#7201a8"
                        ],
                        [
                          0.3333333333333333,
                          "#9c179e"
                        ],
                        [
                          0.4444444444444444,
                          "#bd3786"
                        ],
                        [
                          0.5555555555555556,
                          "#d8576b"
                        ],
                        [
                          0.6666666666666666,
                          "#ed7953"
                        ],
                        [
                          0.7777777777777778,
                          "#fb9f3a"
                        ],
                        [
                          0.8888888888888888,
                          "#fdca26"
                        ],
                        [
                          1,
                          "#f0f921"
                        ]
                      ]
                    },
                    "colorway": [
                      "#636efa",
                      "#EF553B",
                      "#00cc96",
                      "#ab63fa",
                      "#FFA15A",
                      "#19d3f3",
                      "#FF6692",
                      "#B6E880",
                      "#FF97FF",
                      "#FECB52"
                    ],
                    "font": {
                      "color": "#2a3f5f"
                    },
                    "geo": {
                      "bgcolor": "white",
                      "lakecolor": "white",
                      "landcolor": "#E5ECF6",
                      "showlakes": true,
                      "showland": true,
                      "subunitcolor": "white"
                    },
                    "hoverlabel": {
                      "align": "left"
                    },
                    "hovermode": "closest",
                    "mapbox": {
                      "style": "light"
                    },
                    "paper_bgcolor": "white",
                    "plot_bgcolor": "#E5ECF6",
                    "polar": {
                      "angularaxis": {
                        "gridcolor": "white",
                        "linecolor": "white",
                        "ticks": ""
                      },
                      "bgcolor": "#E5ECF6",
                      "radialaxis": {
                        "gridcolor": "white",
                        "linecolor": "white",
                        "ticks": ""
                      }
                    },
                    "scene": {
                      "xaxis": {
                        "backgroundcolor": "#E5ECF6",
                        "gridcolor": "white",
                        "gridwidth": 2,
                        "linecolor": "white",
                        "showbackground": true,
                        "ticks": "",
                        "zerolinecolor": "white"
                      },
                      "yaxis": {
                        "backgroundcolor": "#E5ECF6",
                        "gridcolor": "white",
                        "gridwidth": 2,
                        "linecolor": "white",
                        "showbackground": true,
                        "ticks": "",
                        "zerolinecolor": "white"
                      },
                      "zaxis": {
                        "backgroundcolor": "#E5ECF6",
                        "gridcolor": "white",
                        "gridwidth": 2,
                        "linecolor": "white",
                        "showbackground": true,
                        "ticks": "",
                        "zerolinecolor": "white"
                      }
                    },
                    "shapedefaults": {
                      "line": {
                        "color": "#2a3f5f"
                      }
                    },
                    "ternary": {
                      "aaxis": {
                        "gridcolor": "white",
                        "linecolor": "white",
                        "ticks": ""
                      },
                      "baxis": {
                        "gridcolor": "white",
                        "linecolor": "white",
                        "ticks": ""
                      },
                      "bgcolor": "#E5ECF6",
                      "caxis": {
                        "gridcolor": "white",
                        "linecolor": "white",
                        "ticks": ""
                      }
                    },
                    "title": {
                      "x": 0.05
                    },
                    "xaxis": {
                      "automargin": true,
                      "gridcolor": "white",
                      "linecolor": "white",
                      "ticks": "",
                      "title": {
                        "standoff": 15
                      },
                      "zerolinecolor": "white",
                      "zerolinewidth": 2
                    },
                    "yaxis": {
                      "automargin": true,
                      "gridcolor": "white",
                      "linecolor": "white",
                      "ticks": "",
                      "title": {
                        "standoff": 15
                      },
                      "zerolinecolor": "white",
                      "zerolinewidth": 2
                    }
                  }
                },
                "title": {
                  "text": "Reporting Airline vs Number of Flights"
                },
                "xaxis": {
                  "anchor": "y",
                  "autorange": true,
                  "domain": [
                    0,
                    1
                  ],
                  "range": [
                    -2.040387276068913,
                    29.78312854130656
                  ],
                  "title": {
                    "text": "Reporting_Airline"
                  },
                  "type": "category"
                },
                "yaxis": {
                  "anchor": "x",
                  "autorange": true,
                  "domain": [
                    0,
                    1
                  ],
                  "range": [
                    -11.29857085659159,
                    131.05154410047768
                  ],
                  "title": {
                    "text": "Flights"
                  },
                  "type": "linear"
                }
              }
            },
            "image/png": "[encoded data removed]",
            "text/html": [
              "<div>                            <div id=\"f6637393-599b-4c26-8611-fb15ae73d903\" class=\"plotly-graph-div\" style=\"height:525px; width:100%;\"></div>            <script type=\"text/javascript\">                require([\"plotly\"], function(Plotly) {                    window.PLOTLYENV=window.PLOTLYENV || {};                                    if (document.getElementById(\"f6637393-599b-4c26-8611-fb15ae73d903\")) {                    Plotly.newPlot(                        \"f6637393-599b-4c26-8611-fb15ae73d903\",                        [{\"hovertemplate\":\"<b>%{hovertext}</b><br><br>Reporting_Airline=%{x}<br>Flights=%{marker.size}<extra></extra>\",\"hovertext\":[\"9E\",\"AA\",\"AS\",\"B6\",\"CO\",\"DL\",\"EA\",\"EV\",\"F9\",\"FL\",\"HA\",\"HP\",\"KH\",\"MQ\",\"NK\",\"NW\",\"OH\",\"OO\",\"PA (1)\",\"PI\",\"PS\",\"TW\",\"UA\",\"US\",\"VX\",\"WN\",\"XE\",\"YV\",\"YX\"],\"legendgroup\":\"\",\"marker\":{\"color\":\"#636efa\",\"size\":[5.0,57.0,14.0,10.0,12.0,66.0,4.0,11.0,4.0,3.0,3.0,7.0,1.0,27.0,3.0,26.0,8.0,28.0,1.0,1.0,1.0,14.0,51.0,43.0,1.0,86.0,6.0,6.0,1.0],\"sizemode\":\"area\",\"sizeref\":0.02388888888888889,\"symbol\":\"circle\"},\"mode\":\"markers\",\"name\":\"\",\"orientation\":\"v\",\"showlegend\":false,\"x\":[\"9E\",\"AA\",\"AS\",\"B6\",\"CO\",\"DL\",\"EA\",\"EV\",\"F9\",\"FL\",\"HA\",\"HP\",\"KH\",\"MQ\",\"NK\",\"NW\",\"OH\",\"OO\",\"PA (1)\",\"PI\",\"PS\",\"TW\",\"UA\",\"US\",\"VX\",\"WN\",\"XE\",\"YV\",\"YX\"],\"xaxis\":\"x\",\"y\":[5.0,57.0,14.0,10.0,12.0,66.0,4.0,11.0,4.0,3.0,3.0,7.0,1.0,27.0,3.0,26.0,8.0,28.0,1.0,1.0,1.0,14.0,51.0,43.0,1.0,86.0,6.0,6.0,1.0],\"yaxis\":\"y\",\"type\":\"scatter\"}],                        {\"template\":{\"data\":{\"histogram2dcontour\":[{\"type\":\"histogram2dcontour\",\"colorbar\":{\"outlinewidth\":0,\"ticks\":\"\"},\"colorscale\":[[0.0,\"#0d0887\"],[0.1111111111111111,\"#46039f\"],[0.2222222222222222,\"#7201a8\"],[0.3333333333333333,\"#9c179e\"],[0.4444444444444444,\"#bd3786\"],[0.5555555555555556,\"#d8576b\"],[0.6666666666666666,\"#ed7953\"],[0.7777777777777778,\"#fb9f3a\"],[0.8888888888888888,\"#fdca26\"],[1.0,\"#f0f921\"]]}],\"choropleth\":[{\"type\":\"choropleth\",\"colorbar\":{\"outlinewidth\":0,\"ticks\":\"\"}}],\"histogram2d\":[{\"type\":\"histogram2d\",\"colorbar\":{\"outlinewidth\":0,\"ticks\":\"\"},\"colorscale\":[[0.0,\"#0d0887\"],[0.1111111111111111,\"#46039f\"],[0.2222222222222222,\"#7201a8\"],[0.3333333333333333,\"#9c179e\"],[0.4444444444444444,\"#bd3786\"],[0.5555555555555556,\"#d8576b\"],[0.6666666666666666,\"#ed7953\"],[0.7777777777777778,\"#fb9f3a\"],[0.8888888888888888,\"#fdca26\"],[1.0,\"#f0f921\"]]}],\"heatmap\":[{\"type\":\"heatmap\",\"colorbar\":{\"outlinewidth\":0,\"ticks\":\"\"},\"colorscale\":[[0.0,\"#0d0887\"],[0.1111111111111111,\"#46039f\"],[0.2222222222222222,\"#7201a8\"],[0.3333333333333333,\"#9c179e\"],[0.4444444444444444,\"#bd3786\"],[0.5555555555555556,\"#d8576b\"],[0.6666666666666666,\"#ed7953\"],[0.7777777777777778,\"#fb9f3a\"],[0.8888888888888888,\"#fdca26\"],[1.0,\"#f0f921\"]]}],\"heatmapgl\":[{\"type\":\"heatmapgl\",\"colorbar\":{\"outlinewidth\":0,\"ticks\":\"\"},\"colorscale\":[[0.0,\"#0d0887\"],[0.1111111111111111,\"#46039f\"],[0.2222222222222222,\"#7201a8\"],[0.3333333333333333,\"#9c179e\"],[0.4444444444444444,\"#bd3786\"],[0.5555555555555556,\"#d8576b\"],[0.6666666666666666,\"#ed7953\"],[0.7777777777777778,\"#fb9f3a\"],[0.8888888888888888,\"#fdca26\"],[1.0,\"#f0f921\"]]}],\"contourcarpet\":[{\"type\":\"contourcarpet\",\"colorbar\":{\"outlinewidth\":0,\"ticks\":\"\"}}],\"contour\":[{\"type\":\"contour\",\"colorbar\":{\"outlinewidth\":0,\"ticks\":\"\"},\"colorscale\":[[0.0,\"#0d0887\"],[0.1111111111111111,\"#46039f\"],[0.2222222222222222,\"#7201a8\"],[0.3333333333333333,\"#9c179e\"],[0.4444444444444444,\"#bd3786\"],[0.5555555555555556,\"#d8576b\"],[0.6666666666666666,\"#ed7953\"],[0.7777777777777778,\"#fb9f3a\"],[0.8888888888888888,\"#fdca26\"],[1.0,\"#f0f921\"]]}],\"surface\":[{\"type\":\"surface\",\"colorbar\":{\"outlinewidth\":0,\"ticks\":\"\"},\"colorscale\":[[0.0,\"#0d0887\"],[0.1111111111111111,\"#46039f\"],[0.2222222222222222,\"#7201a8\"],[0.3333333333333333,\"#9c179e\"],[0.4444444444444444,\"#bd3786\"],[0.5555555555555556,\"#d8576b\"],[0.6666666666666666,\"#ed7953\"],[0.7777777777777778,\"#fb9f3a\"],[0.8888888888888888,\"#fdca26\"],[1.0,\"#f0f921\"]]}],\"mesh3d\":[{\"type\":\"mesh3d\",\"colorbar\":{\"outlinewidth\":0,\"ticks\":\"\"}}],\"scatter\":[{\"fillpattern\":{\"fillmode\":\"overlay\",\"size\":10,\"solidity\":0.2},\"type\":\"scatter\"}],\"parcoords\":[{\"type\":\"parcoords\",\"line\":{\"colorbar\":{\"outlinewidth\":0,\"ticks\":\"\"}}}],\"scatterpolargl\":[{\"type\":\"scatterpolargl\",\"marker\":{\"colorbar\":{\"outlinewidth\":0,\"ticks\":\"\"}}}],\"bar\":[{\"error_x\":{\"color\":\"#2a3f5f\"},\"error_y\":{\"color\":\"#2a3f5f\"},\"marker\":{\"line\":{\"color\":\"#E5ECF6\",\"width\":0.5},\"pattern\":{\"fillmode\":\"overlay\",\"size\":10,\"solidity\":0.2}},\"type\":\"bar\"}],\"scattergeo\":[{\"type\":\"scattergeo\",\"marker\":{\"colorbar\":{\"outlinewidth\":0,\"ticks\":\"\"}}}],\"scatterpolar\":[{\"type\":\"scatterpolar\",\"marker\":{\"colorbar\":{\"outlinewidth\":0,\"ticks\":\"\"}}}],\"histogram\":[{\"marker\":{\"pattern\":{\"fillmode\":\"overlay\",\"size\":10,\"solidity\":0.2}},\"type\":\"histogram\"}],\"scattergl\":[{\"type\":\"scattergl\",\"marker\":{\"colorbar\":{\"outlinewidth\":0,\"ticks\":\"\"}}}],\"scatter3d\":[{\"type\":\"scatter3d\",\"line\":{\"colorbar\":{\"outlinewidth\":0,\"ticks\":\"\"}},\"marker\":{\"colorbar\":{\"outlinewidth\":0,\"ticks\":\"\"}}}],\"scattermapbox\":[{\"type\":\"scattermapbox\",\"marker\":{\"colorbar\":{\"outlinewidth\":0,\"ticks\":\"\"}}}],\"scatterternary\":[{\"type\":\"scatterternary\",\"marker\":{\"colorbar\":{\"outlinewidth\":0,\"ticks\":\"\"}}}],\"scattercarpet\":[{\"type\":\"scattercarpet\",\"marker\":{\"colorbar\":{\"outlinewidth\":0,\"ticks\":\"\"}}}],\"carpet\":[{\"aaxis\":{\"endlinecolor\":\"#2a3f5f\",\"gridcolor\":\"white\",\"linecolor\":\"white\",\"minorgridcolor\":\"white\",\"startlinecolor\":\"#2a3f5f\"},\"baxis\":{\"endlinecolor\":\"#2a3f5f\",\"gridcolor\":\"white\",\"linecolor\":\"white\",\"minorgridcolor\":\"white\",\"startlinecolor\":\"#2a3f5f\"},\"type\":\"carpet\"}],\"table\":[{\"cells\":{\"fill\":{\"color\":\"#EBF0F8\"},\"line\":{\"color\":\"white\"}},\"header\":{\"fill\":{\"color\":\"#C8D4E3\"},\"line\":{\"color\":\"white\"}},\"type\":\"table\"}],\"barpolar\":[{\"marker\":{\"line\":{\"color\":\"#E5ECF6\",\"width\":0.5},\"pattern\":{\"fillmode\":\"overlay\",\"size\":10,\"solidity\":0.2}},\"type\":\"barpolar\"}],\"pie\":[{\"automargin\":true,\"type\":\"pie\"}]},\"layout\":{\"autotypenumbers\":\"strict\",\"colorway\":[\"#636efa\",\"#EF553B\",\"#00cc96\",\"#ab63fa\",\"#FFA15A\",\"#19d3f3\",\"#FF6692\",\"#B6E880\",\"#FF97FF\",\"#FECB52\"],\"font\":{\"color\":\"#2a3f5f\"},\"hovermode\":\"closest\",\"hoverlabel\":{\"align\":\"left\"},\"paper_bgcolor\":\"white\",\"plot_bgcolor\":\"#E5ECF6\",\"polar\":{\"bgcolor\":\"#E5ECF6\",\"angularaxis\":{\"gridcolor\":\"white\",\"linecolor\":\"white\",\"ticks\":\"\"},\"radialaxis\":{\"gridcolor\":\"white\",\"linecolor\":\"white\",\"ticks\":\"\"}},\"ternary\":{\"bgcolor\":\"#E5ECF6\",\"aaxis\":{\"gridcolor\":\"white\",\"linecolor\":\"white\",\"ticks\":\"\"},\"baxis\":{\"gridcolor\":\"white\",\"linecolor\":\"white\",\"ticks\":\"\"},\"caxis\":{\"gridcolor\":\"white\",\"linecolor\":\"white\",\"ticks\":\"\"}},\"coloraxis\":{\"colorbar\":{\"outlinewidth\":0,\"ticks\":\"\"}},\"colorscale\":{\"sequential\":[[0.0,\"#0d0887\"],[0.1111111111111111,\"#46039f\"],[0.2222222222222222,\"#7201a8\"],[0.3333333333333333,\"#9c179e\"],[0.4444444444444444,\"#bd3786\"],[0.5555555555555556,\"#d8576b\"],[0.6666666666666666,\"#ed7953\"],[0.7777777777777778,\"#fb9f3a\"],[0.8888888888888888,\"#fdca26\"],[1.0,\"#f0f921\"]],\"sequentialminus\":[[0.0,\"#0d0887\"],[0.1111111111111111,\"#46039f\"],[0.2222222222222222,\"#7201a8\"],[0.3333333333333333,\"#9c179e\"],[0.4444444444444444,\"#bd3786\"],[0.5555555555555556,\"#d8576b\"],[0.6666666666666666,\"#ed7953\"],[0.7777777777777778,\"#fb9f3a\"],[0.8888888888888888,\"#fdca26\"],[1.0,\"#f0f921\"]],\"diverging\":[[0,\"#8e0152\"],[0.1,\"#c51b7d\"],[0.2,\"#de77ae\"],[0.3,\"#f1b6da\"],[0.4,\"#fde0ef\"],[0.5,\"#f7f7f7\"],[0.6,\"#e6f5d0\"],[0.7,\"#b8e186\"],[0.8,\"#7fbc41\"],[0.9,\"#4d9221\"],[1,\"#276419\"]]},\"xaxis\":{\"gridcolor\":\"white\",\"linecolor\":\"white\",\"ticks\":\"\",\"title\":{\"standoff\":15},\"zerolinecolor\":\"white\",\"automargin\":true,\"zerolinewidth\":2},\"yaxis\":{\"gridcolor\":\"white\",\"linecolor\":\"white\",\"ticks\":\"\",\"title\":{\"standoff\":15},\"zerolinecolor\":\"white\",\"automargin\":true,\"zerolinewidth\":2},\"scene\":{\"xaxis\":{\"backgroundcolor\":\"#E5ECF6\",\"gridcolor\":\"white\",\"linecolor\":\"white\",\"showbackground\":true,\"ticks\":\"\",\"zerolinecolor\":\"white\",\"gridwidth\":2},\"yaxis\":{\"backgroundcolor\":\"#E5ECF6\",\"gridcolor\":\"white\",\"linecolor\":\"white\",\"showbackground\":true,\"ticks\":\"\",\"zerolinecolor\":\"white\",\"gridwidth\":2},\"zaxis\":{\"backgroundcolor\":\"#E5ECF6\",\"gridcolor\":\"white\",\"linecolor\":\"white\",\"showbackground\":true,\"ticks\":\"\",\"zerolinecolor\":\"white\",\"gridwidth\":2}},\"shapedefaults\":{\"line\":{\"color\":\"#2a3f5f\"}},\"annotationdefaults\":{\"arrowcolor\":\"#2a3f5f\",\"arrowhead\":0,\"arrowwidth\":1},\"geo\":{\"bgcolor\":\"white\",\"landcolor\":\"#E5ECF6\",\"subunitcolor\":\"white\",\"showland\":true,\"showlakes\":true,\"lakecolor\":\"white\"},\"title\":{\"x\":0.05},\"mapbox\":{\"style\":\"light\"}}},\"xaxis\":{\"anchor\":\"y\",\"domain\":[0.0,1.0],\"title\":{\"text\":\"Reporting_Airline\"}},\"yaxis\":{\"anchor\":\"x\",\"domain\":[0.0,1.0],\"title\":{\"text\":\"Flights\"}},\"legend\":{\"tracegroupgap\":0,\"itemsizing\":\"constant\"},\"title\":{\"text\":\"Reporting Airline vs Number of Flights\"}},                        {\"responsive\": true}                    ).then(function(){\n",
              "                            \n",
              "var gd = document.getElementById('f6637393-599b-4c26-8611-fb15ae73d903');\n",
              "var x = new MutationObserver(function (mutations, observer) {{\n",
              "        var display = window.getComputedStyle(gd).display;\n",
              "        if (!display || display === 'none') {{\n",
              "            console.log([gd, 'removed!']);\n",
              "            Plotly.purge(gd);\n",
              "            observer.disconnect();\n",
              "        }}\n",
              "}});\n",
              "\n",
              "// Listen for the removal of the full notebook cells\n",
              "var notebookContainer = gd.closest('#notebook-container');\n",
              "if (notebookContainer) {{\n",
              "    x.observe(notebookContainer, {childList: true});\n",
              "}}\n",
              "\n",
              "// Listen for the clearing of the current output cell\n",
              "var outputEl = gd.closest('.output');\n",
              "if (outputEl) {{\n",
              "    x.observe(outputEl, {childList: true});\n",
              "}}\n",
              "\n",
              "                        })                };                });            </script>        </div>"
            ]
          },
          "metadata": {},
          "output_type": "display_data"
        }
      ],
      "source": [
        "# Create bubble chart here\n",
        "fig = px.scatter(bub_data, x=\"Reporting_Airline\", y=\"Flights\", size=\"Flights\",\n",
        "                 hover_name=\"Reporting_Airline\", title='Reporting Airline vs Number of Flights', size_max=60)\n",
        "fig.show()"
      ]
    },
    {
      "cell_type": "markdown",
      "metadata": {},
      "source": [
        "Double-click **here** for the solution.\n",
        "\n",
        "<!-- The answer is below:\n",
        "\n",
        "    \n",
        "fig = px.scatter(bub_data, x=\"Reporting_Airline\", y=\"Flights\", size=\"Flights\",\n",
        "                 hover_name=\"Reporting_Airline\", title='Reporting Airline vs Number of Flights', size_max=60)\n",
        "fig.show()\n",
        "\n",
        "-->\n"
      ]
    },
    {
      "cell_type": "markdown",
      "metadata": {},
      "source": [
        "# Histogram\n"
      ]
    },
    {
      "cell_type": "markdown",
      "metadata": {},
      "source": [
        "Learn more about histogram [here](https://plotly.com/python/histograms/?utm_medium=Exinfluencer&utm_source=Exinfluencer&utm_content=000026UJ&utm_term=10006555&utm_id=NA-SkillsNetwork-Channel-SkillsNetworkCoursesIBMDeveloperSkillsNetworkDV0101ENSkillsNetwork20297740-2021-01-01)\n",
        "\n",
        "#### Idea: Get distribution of arrival delay\n"
      ]
    },
    {
      "cell_type": "code",
      "execution_count": 48,
      "metadata": {
        "trusted": true
      },
      "outputs": [],
      "source": [
        "# Set missing values to 0\n",
        "data['ArrDelay'] = data['ArrDelay'].fillna(0)"
      ]
    },
    {
      "cell_type": "markdown",
      "metadata": {},
      "source": [
        "**To do**\n",
        "\n",
        "*   Use px.histogram and pass the dataset.\n",
        "*   Pass `ArrDelay` to x parameter.\n"
      ]
    },
    {
      "cell_type": "code",
      "execution_count": 50,
      "metadata": {
        "trusted": true
      },
      "outputs": [
        {
          "data": {
            "application/vnd.plotly.v1+json": {
              "config": {
                "plotlyServerURL": "https://plot.ly"
              },
              "data": [
                {
                  "alignmentgroup": "True",
                  "bingroup": "x",
                  "hovertemplate": "ArrDelay=%{x}<br>count=%{y}<extra></extra>",
                  "legendgroup": "",
                  "marker": {
                    "color": "#636efa",
                    "pattern": {
                      "shape": ""
                    }
                  },
                  "name": "",
                  "offsetgroup": "",
                  "orientation": "v",
                  "showlegend": false,
                  "type": "histogram",
                  "x": [
                    32,
                    -1,
                    -5,
                    -2,
                    -11,
                    -4,
                    -12,
                    10,
                    -7,
                    -4,
                    35,
                    -3,
                    -5,
                    7,
                    91,
                    2,
                    4,
                    -14,
                    0,
                    -22,
                    -5,
                    0,
                    -17,
                    -15,
                    25,
                    27,
                    -2,
                    3,
                    26,
                    -11,
                    -9,
                    -28,
                    -14,
                    18,
                    6,
                    76,
                    28,
                    0,
                    -2,
                    3,
                    -5,
                    -9,
                    12,
                    -10,
                    -13,
                    -29,
                    14,
                    -15,
                    18,
                    13,
                    -7,
                    -3,
                    -8,
                    -15,
                    -4,
                    -24,
                    13,
                    11,
                    -18,
                    -13,
                    16,
                    -23,
                    -3,
                    0,
                    12,
                    11,
                    -8,
                    -12,
                    -10,
                    -3,
                    -5,
                    19,
                    -5,
                    41,
                    2,
                    -7,
                    102,
                    -5,
                    -2,
                    -15,
                    6,
                    -4,
                    -11,
                    2,
                    -15,
                    7,
                    21,
                    48,
                    27,
                    31,
                    -5,
                    50,
                    11,
                    0,
                    -12,
                    5,
                    100,
                    7,
                    20,
                    75,
                    -14,
                    -7,
                    0,
                    32,
                    -9,
                    4,
                    -26,
                    15,
                    -12,
                    14,
                    -10,
                    -20,
                    78,
                    8,
                    -5,
                    10,
                    31,
                    -14,
                    -16,
                    103,
                    -22,
                    -7,
                    5,
                    -3,
                    -3,
                    -1,
                    1,
                    51,
                    40,
                    17,
                    4,
                    2,
                    -11,
                    -10,
                    -12,
                    -7,
                    -16,
                    -13,
                    13,
                    -19,
                    12,
                    5,
                    0,
                    0,
                    184,
                    15,
                    10,
                    4,
                    -1,
                    -23,
                    -26,
                    -9,
                    -6,
                    -13,
                    -1,
                    11,
                    9,
                    38,
                    13,
                    35,
                    28,
                    45,
                    -3,
                    28,
                    -9,
                    7,
                    -9,
                    16,
                    11,
                    3,
                    15,
                    -3,
                    8,
                    -3,
                    -8,
                    -7,
                    19,
                    48,
                    -14,
                    7,
                    -21,
                    -5,
                    -6,
                    -14,
                    19,
                    -24,
                    -21,
                    -22,
                    -23,
                    -11,
                    -9,
                    -21,
                    -16,
                    -9,
                    10,
                    -16,
                    -9,
                    -5,
                    -14,
                    -30,
                    31,
                    1,
                    -4,
                    -13,
                    -4,
                    -3,
                    4,
                    35,
                    7,
                    -7,
                    0,
                    0,
                    0,
                    12,
                    -23,
                    -19,
                    0,
                    10,
                    6,
                    -4,
                    4,
                    -17,
                    -17,
                    60,
                    0,
                    0,
                    51,
                    -12,
                    0,
                    37,
                    0,
                    76,
                    21,
                    10,
                    7,
                    3,
                    -3,
                    0,
                    -10,
                    9,
                    -14,
                    5,
                    -16,
                    0,
                    -5,
                    -9,
                    0,
                    -4,
                    -13,
                    -28,
                    -7,
                    -13,
                    -1,
                    18,
                    -8,
                    70,
                    -14,
                    12,
                    -2,
                    1,
                    -1,
                    5,
                    0,
                    -54,
                    0,
                    28,
                    -17,
                    -14,
                    1,
                    -8,
                    18,
                    -16,
                    -13,
                    5,
                    10,
                    48,
                    16,
                    -12,
                    0,
                    -4,
                    -12,
                    -27,
                    -5,
                    -15,
                    20,
                    -5,
                    -10,
                    33,
                    6,
                    -4,
                    108,
                    7,
                    -2,
                    8,
                    -1,
                    -10,
                    -10,
                    6,
                    4,
                    -7,
                    14,
                    22,
                    17,
                    1,
                    -25,
                    20,
                    3,
                    0,
                    3,
                    20,
                    5,
                    11,
                    -1,
                    4,
                    -13,
                    -20,
                    -19,
                    11,
                    -14,
                    9,
                    4,
                    -23,
                    -7,
                    -34,
                    -3,
                    -11,
                    -1,
                    -16,
                    -7,
                    -12,
                    0,
                    -9,
                    -8,
                    14,
                    2,
                    5,
                    -26,
                    -5,
                    -11,
                    24,
                    -9,
                    -6,
                    -22,
                    11,
                    -23,
                    -4,
                    35,
                    -4,
                    52,
                    -9,
                    66,
                    -12,
                    0,
                    9,
                    12,
                    111,
                    26,
                    -18,
                    7,
                    21,
                    106,
                    -11,
                    -1,
                    -11,
                    -10,
                    -17,
                    24,
                    12,
                    -14,
                    -12,
                    -45,
                    -14,
                    14,
                    -11,
                    11,
                    10,
                    34,
                    22,
                    1,
                    95,
                    -19,
                    -1,
                    3,
                    0,
                    -19,
                    5,
                    -19,
                    26,
                    -12,
                    15,
                    18,
                    9,
                    0,
                    -1,
                    -1,
                    -1,
                    0,
                    -14,
                    6,
                    12,
                    21,
                    0,
                    30,
                    -22,
                    -2,
                    13,
                    20,
                    47,
                    -11,
                    -19,
                    4,
                    -20,
                    -5,
                    23,
                    0,
                    -3,
                    14,
                    62,
                    -10,
                    3,
                    -11,
                    -2,
                    -12,
                    -8,
                    -4,
                    59,
                    7,
                    6,
                    4,
                    -12,
                    15,
                    -9,
                    8,
                    -8,
                    4,
                    -16,
                    7,
                    -18,
                    8,
                    12,
                    -3,
                    7,
                    3,
                    0,
                    -15,
                    10,
                    4,
                    7,
                    -9,
                    -15,
                    -13,
                    31,
                    0,
                    -4,
                    21,
                    -1,
                    -8,
                    12,
                    13,
                    7,
                    2,
                    -10,
                    19,
                    -3,
                    33,
                    -3,
                    -3,
                    210,
                    51,
                    4,
                    -10,
                    20,
                    10,
                    -8,
                    0,
                    14,
                    -6,
                    -29,
                    5,
                    0,
                    -7,
                    -34,
                    19,
                    -5,
                    8,
                    -23,
                    20,
                    5,
                    -50,
                    57,
                    -4,
                    -4,
                    -2,
                    -12,
                    -21,
                    8,
                    -5,
                    -14,
                    88,
                    4
                  ],
                  "xaxis": "x",
                  "yaxis": "y"
                }
              ],
              "layout": {
                "autosize": true,
                "barmode": "relative",
                "legend": {
                  "tracegroupgap": 0
                },
                "margin": {
                  "t": 60
                },
                "template": {
                  "data": {
                    "bar": [
                      {
                        "error_x": {
                          "color": "#2a3f5f"
                        },
                        "error_y": {
                          "color": "#2a3f5f"
                        },
                        "marker": {
                          "line": {
                            "color": "#E5ECF6",
                            "width": 0.5
                          },
                          "pattern": {
                            "fillmode": "overlay",
                            "size": 10,
                            "solidity": 0.2
                          }
                        },
                        "type": "bar"
                      }
                    ],
                    "barpolar": [
                      {
                        "marker": {
                          "line": {
                            "color": "#E5ECF6",
                            "width": 0.5
                          },
                          "pattern": {
                            "fillmode": "overlay",
                            "size": 10,
                            "solidity": 0.2
                          }
                        },
                        "type": "barpolar"
                      }
                    ],
                    "carpet": [
                      {
                        "aaxis": {
                          "endlinecolor": "#2a3f5f",
                          "gridcolor": "white",
                          "linecolor": "white",
                          "minorgridcolor": "white",
                          "startlinecolor": "#2a3f5f"
                        },
                        "baxis": {
                          "endlinecolor": "#2a3f5f",
                          "gridcolor": "white",
                          "linecolor": "white",
                          "minorgridcolor": "white",
                          "startlinecolor": "#2a3f5f"
                        },
                        "type": "carpet"
                      }
                    ],
                    "choropleth": [
                      {
                        "colorbar": {
                          "outlinewidth": 0,
                          "ticks": ""
                        },
                        "type": "choropleth"
                      }
                    ],
                    "contour": [
                      {
                        "colorbar": {
                          "outlinewidth": 0,
                          "ticks": ""
                        },
                        "colorscale": [
                          [
                            0,
                            "#0d0887"
                          ],
                          [
                            0.1111111111111111,
                            "#46039f"
                          ],
                          [
                            0.2222222222222222,
                            "#7201a8"
                          ],
                          [
                            0.3333333333333333,
                            "#9c179e"
                          ],
                          [
                            0.4444444444444444,
                            "#bd3786"
                          ],
                          [
                            0.5555555555555556,
                            "#d8576b"
                          ],
                          [
                            0.6666666666666666,
                            "#ed7953"
                          ],
                          [
                            0.7777777777777778,
                            "#fb9f3a"
                          ],
                          [
                            0.8888888888888888,
                            "#fdca26"
                          ],
                          [
                            1,
                            "#f0f921"
                          ]
                        ],
                        "type": "contour"
                      }
                    ],
                    "contourcarpet": [
                      {
                        "colorbar": {
                          "outlinewidth": 0,
                          "ticks": ""
                        },
                        "type": "contourcarpet"
                      }
                    ],
                    "heatmap": [
                      {
                        "colorbar": {
                          "outlinewidth": 0,
                          "ticks": ""
                        },
                        "colorscale": [
                          [
                            0,
                            "#0d0887"
                          ],
                          [
                            0.1111111111111111,
                            "#46039f"
                          ],
                          [
                            0.2222222222222222,
                            "#7201a8"
                          ],
                          [
                            0.3333333333333333,
                            "#9c179e"
                          ],
                          [
                            0.4444444444444444,
                            "#bd3786"
                          ],
                          [
                            0.5555555555555556,
                            "#d8576b"
                          ],
                          [
                            0.6666666666666666,
                            "#ed7953"
                          ],
                          [
                            0.7777777777777778,
                            "#fb9f3a"
                          ],
                          [
                            0.8888888888888888,
                            "#fdca26"
                          ],
                          [
                            1,
                            "#f0f921"
                          ]
                        ],
                        "type": "heatmap"
                      }
                    ],
                    "heatmapgl": [
                      {
                        "colorbar": {
                          "outlinewidth": 0,
                          "ticks": ""
                        },
                        "colorscale": [
                          [
                            0,
                            "#0d0887"
                          ],
                          [
                            0.1111111111111111,
                            "#46039f"
                          ],
                          [
                            0.2222222222222222,
                            "#7201a8"
                          ],
                          [
                            0.3333333333333333,
                            "#9c179e"
                          ],
                          [
                            0.4444444444444444,
                            "#bd3786"
                          ],
                          [
                            0.5555555555555556,
                            "#d8576b"
                          ],
                          [
                            0.6666666666666666,
                            "#ed7953"
                          ],
                          [
                            0.7777777777777778,
                            "#fb9f3a"
                          ],
                          [
                            0.8888888888888888,
                            "#fdca26"
                          ],
                          [
                            1,
                            "#f0f921"
                          ]
                        ],
                        "type": "heatmapgl"
                      }
                    ],
                    "histogram": [
                      {
                        "marker": {
                          "pattern": {
                            "fillmode": "overlay",
                            "size": 10,
                            "solidity": 0.2
                          }
                        },
                        "type": "histogram"
                      }
                    ],
                    "histogram2d": [
                      {
                        "colorbar": {
                          "outlinewidth": 0,
                          "ticks": ""
                        },
                        "colorscale": [
                          [
                            0,
                            "#0d0887"
                          ],
                          [
                            0.1111111111111111,
                            "#46039f"
                          ],
                          [
                            0.2222222222222222,
                            "#7201a8"
                          ],
                          [
                            0.3333333333333333,
                            "#9c179e"
                          ],
                          [
                            0.4444444444444444,
                            "#bd3786"
                          ],
                          [
                            0.5555555555555556,
                            "#d8576b"
                          ],
                          [
                            0.6666666666666666,
                            "#ed7953"
                          ],
                          [
                            0.7777777777777778,
                            "#fb9f3a"
                          ],
                          [
                            0.8888888888888888,
                            "#fdca26"
                          ],
                          [
                            1,
                            "#f0f921"
                          ]
                        ],
                        "type": "histogram2d"
                      }
                    ],
                    "histogram2dcontour": [
                      {
                        "colorbar": {
                          "outlinewidth": 0,
                          "ticks": ""
                        },
                        "colorscale": [
                          [
                            0,
                            "#0d0887"
                          ],
                          [
                            0.1111111111111111,
                            "#46039f"
                          ],
                          [
                            0.2222222222222222,
                            "#7201a8"
                          ],
                          [
                            0.3333333333333333,
                            "#9c179e"
                          ],
                          [
                            0.4444444444444444,
                            "#bd3786"
                          ],
                          [
                            0.5555555555555556,
                            "#d8576b"
                          ],
                          [
                            0.6666666666666666,
                            "#ed7953"
                          ],
                          [
                            0.7777777777777778,
                            "#fb9f3a"
                          ],
                          [
                            0.8888888888888888,
                            "#fdca26"
                          ],
                          [
                            1,
                            "#f0f921"
                          ]
                        ],
                        "type": "histogram2dcontour"
                      }
                    ],
                    "mesh3d": [
                      {
                        "colorbar": {
                          "outlinewidth": 0,
                          "ticks": ""
                        },
                        "type": "mesh3d"
                      }
                    ],
                    "parcoords": [
                      {
                        "line": {
                          "colorbar": {
                            "outlinewidth": 0,
                            "ticks": ""
                          }
                        },
                        "type": "parcoords"
                      }
                    ],
                    "pie": [
                      {
                        "automargin": true,
                        "type": "pie"
                      }
                    ],
                    "scatter": [
                      {
                        "fillpattern": {
                          "fillmode": "overlay",
                          "size": 10,
                          "solidity": 0.2
                        },
                        "type": "scatter"
                      }
                    ],
                    "scatter3d": [
                      {
                        "line": {
                          "colorbar": {
                            "outlinewidth": 0,
                            "ticks": ""
                          }
                        },
                        "marker": {
                          "colorbar": {
                            "outlinewidth": 0,
                            "ticks": ""
                          }
                        },
                        "type": "scatter3d"
                      }
                    ],
                    "scattercarpet": [
                      {
                        "marker": {
                          "colorbar": {
                            "outlinewidth": 0,
                            "ticks": ""
                          }
                        },
                        "type": "scattercarpet"
                      }
                    ],
                    "scattergeo": [
                      {
                        "marker": {
                          "colorbar": {
                            "outlinewidth": 0,
                            "ticks": ""
                          }
                        },
                        "type": "scattergeo"
                      }
                    ],
                    "scattergl": [
                      {
                        "marker": {
                          "colorbar": {
                            "outlinewidth": 0,
                            "ticks": ""
                          }
                        },
                        "type": "scattergl"
                      }
                    ],
                    "scattermapbox": [
                      {
                        "marker": {
                          "colorbar": {
                            "outlinewidth": 0,
                            "ticks": ""
                          }
                        },
                        "type": "scattermapbox"
                      }
                    ],
                    "scatterpolar": [
                      {
                        "marker": {
                          "colorbar": {
                            "outlinewidth": 0,
                            "ticks": ""
                          }
                        },
                        "type": "scatterpolar"
                      }
                    ],
                    "scatterpolargl": [
                      {
                        "marker": {
                          "colorbar": {
                            "outlinewidth": 0,
                            "ticks": ""
                          }
                        },
                        "type": "scatterpolargl"
                      }
                    ],
                    "scatterternary": [
                      {
                        "marker": {
                          "colorbar": {
                            "outlinewidth": 0,
                            "ticks": ""
                          }
                        },
                        "type": "scatterternary"
                      }
                    ],
                    "surface": [
                      {
                        "colorbar": {
                          "outlinewidth": 0,
                          "ticks": ""
                        },
                        "colorscale": [
                          [
                            0,
                            "#0d0887"
                          ],
                          [
                            0.1111111111111111,
                            "#46039f"
                          ],
                          [
                            0.2222222222222222,
                            "#7201a8"
                          ],
                          [
                            0.3333333333333333,
                            "#9c179e"
                          ],
                          [
                            0.4444444444444444,
                            "#bd3786"
                          ],
                          [
                            0.5555555555555556,
                            "#d8576b"
                          ],
                          [
                            0.6666666666666666,
                            "#ed7953"
                          ],
                          [
                            0.7777777777777778,
                            "#fb9f3a"
                          ],
                          [
                            0.8888888888888888,
                            "#fdca26"
                          ],
                          [
                            1,
                            "#f0f921"
                          ]
                        ],
                        "type": "surface"
                      }
                    ],
                    "table": [
                      {
                        "cells": {
                          "fill": {
                            "color": "#EBF0F8"
                          },
                          "line": {
                            "color": "white"
                          }
                        },
                        "header": {
                          "fill": {
                            "color": "#C8D4E3"
                          },
                          "line": {
                            "color": "white"
                          }
                        },
                        "type": "table"
                      }
                    ]
                  },
                  "layout": {
                    "annotationdefaults": {
                      "arrowcolor": "#2a3f5f",
                      "arrowhead": 0,
                      "arrowwidth": 1
                    },
                    "autotypenumbers": "strict",
                    "coloraxis": {
                      "colorbar": {
                        "outlinewidth": 0,
                        "ticks": ""
                      }
                    },
                    "colorscale": {
                      "diverging": [
                        [
                          0,
                          "#8e0152"
                        ],
                        [
                          0.1,
                          "#c51b7d"
                        ],
                        [
                          0.2,
                          "#de77ae"
                        ],
                        [
                          0.3,
                          "#f1b6da"
                        ],
                        [
                          0.4,
                          "#fde0ef"
                        ],
                        [
                          0.5,
                          "#f7f7f7"
                        ],
                        [
                          0.6,
                          "#e6f5d0"
                        ],
                        [
                          0.7,
                          "#b8e186"
                        ],
                        [
                          0.8,
                          "#7fbc41"
                        ],
                        [
                          0.9,
                          "#4d9221"
                        ],
                        [
                          1,
                          "#276419"
                        ]
                      ],
                      "sequential": [
                        [
                          0,
                          "#0d0887"
                        ],
                        [
                          0.1111111111111111,
                          "#46039f"
                        ],
                        [
                          0.2222222222222222,
                          "#7201a8"
                        ],
                        [
                          0.3333333333333333,
                          "#9c179e"
                        ],
                        [
                          0.4444444444444444,
                          "#bd3786"
                        ],
                        [
                          0.5555555555555556,
                          "#d8576b"
                        ],
                        [
                          0.6666666666666666,
                          "#ed7953"
                        ],
                        [
                          0.7777777777777778,
                          "#fb9f3a"
                        ],
                        [
                          0.8888888888888888,
                          "#fdca26"
                        ],
                        [
                          1,
                          "#f0f921"
                        ]
                      ],
                      "sequentialminus": [
                        [
                          0,
                          "#0d0887"
                        ],
                        [
                          0.1111111111111111,
                          "#46039f"
                        ],
                        [
                          0.2222222222222222,
                          "#7201a8"
                        ],
                        [
                          0.3333333333333333,
                          "#9c179e"
                        ],
                        [
                          0.4444444444444444,
                          "#bd3786"
                        ],
                        [
                          0.5555555555555556,
                          "#d8576b"
                        ],
                        [
                          0.6666666666666666,
                          "#ed7953"
                        ],
                        [
                          0.7777777777777778,
                          "#fb9f3a"
                        ],
                        [
                          0.8888888888888888,
                          "#fdca26"
                        ],
                        [
                          1,
                          "#f0f921"
                        ]
                      ]
                    },
                    "colorway": [
                      "#636efa",
                      "#EF553B",
                      "#00cc96",
                      "#ab63fa",
                      "#FFA15A",
                      "#19d3f3",
                      "#FF6692",
                      "#B6E880",
                      "#FF97FF",
                      "#FECB52"
                    ],
                    "font": {
                      "color": "#2a3f5f"
                    },
                    "geo": {
                      "bgcolor": "white",
                      "lakecolor": "white",
                      "landcolor": "#E5ECF6",
                      "showlakes": true,
                      "showland": true,
                      "subunitcolor": "white"
                    },
                    "hoverlabel": {
                      "align": "left"
                    },
                    "hovermode": "closest",
                    "mapbox": {
                      "style": "light"
                    },
                    "paper_bgcolor": "white",
                    "plot_bgcolor": "#E5ECF6",
                    "polar": {
                      "angularaxis": {
                        "gridcolor": "white",
                        "linecolor": "white",
                        "ticks": ""
                      },
                      "bgcolor": "#E5ECF6",
                      "radialaxis": {
                        "gridcolor": "white",
                        "linecolor": "white",
                        "ticks": ""
                      }
                    },
                    "scene": {
                      "xaxis": {
                        "backgroundcolor": "#E5ECF6",
                        "gridcolor": "white",
                        "gridwidth": 2,
                        "linecolor": "white",
                        "showbackground": true,
                        "ticks": "",
                        "zerolinecolor": "white"
                      },
                      "yaxis": {
                        "backgroundcolor": "#E5ECF6",
                        "gridcolor": "white",
                        "gridwidth": 2,
                        "linecolor": "white",
                        "showbackground": true,
                        "ticks": "",
                        "zerolinecolor": "white"
                      },
                      "zaxis": {
                        "backgroundcolor": "#E5ECF6",
                        "gridcolor": "white",
                        "gridwidth": 2,
                        "linecolor": "white",
                        "showbackground": true,
                        "ticks": "",
                        "zerolinecolor": "white"
                      }
                    },
                    "shapedefaults": {
                      "line": {
                        "color": "#2a3f5f"
                      }
                    },
                    "ternary": {
                      "aaxis": {
                        "gridcolor": "white",
                        "linecolor": "white",
                        "ticks": ""
                      },
                      "baxis": {
                        "gridcolor": "white",
                        "linecolor": "white",
                        "ticks": ""
                      },
                      "bgcolor": "#E5ECF6",
                      "caxis": {
                        "gridcolor": "white",
                        "linecolor": "white",
                        "ticks": ""
                      }
                    },
                    "title": {
                      "x": 0.05
                    },
                    "xaxis": {
                      "automargin": true,
                      "gridcolor": "white",
                      "linecolor": "white",
                      "ticks": "",
                      "title": {
                        "standoff": 15
                      },
                      "zerolinecolor": "white",
                      "zerolinewidth": 2
                    },
                    "yaxis": {
                      "automargin": true,
                      "gridcolor": "white",
                      "linecolor": "white",
                      "ticks": "",
                      "title": {
                        "standoff": 15
                      },
                      "zerolinecolor": "white",
                      "zerolinewidth": 2
                    }
                  }
                },
                "xaxis": {
                  "anchor": "y",
                  "autorange": true,
                  "domain": [
                    0,
                    1
                  ],
                  "range": [
                    -55.5,
                    214.5
                  ],
                  "title": {
                    "text": "ArrDelay"
                  },
                  "type": "linear"
                },
                "yaxis": {
                  "anchor": "x",
                  "autorange": true,
                  "domain": [
                    0,
                    1
                  ],
                  "range": [
                    0,
                    78.94736842105263
                  ],
                  "title": {
                    "text": "count"
                  }
                }
              }
            },
            "image/png": "[encoded data removed]",
            "text/html": [
              "<div>                            <div id=\"da8133ad-f4fa-4e75-8b3e-07f3ca14a8b2\" class=\"plotly-graph-div\" style=\"height:525px; width:100%;\"></div>            <script type=\"text/javascript\">                require([\"plotly\"], function(Plotly) {                    window.PLOTLYENV=window.PLOTLYENV || {};                                    if (document.getElementById(\"da8133ad-f4fa-4e75-8b3e-07f3ca14a8b2\")) {                    Plotly.newPlot(                        \"da8133ad-f4fa-4e75-8b3e-07f3ca14a8b2\",                        [{\"alignmentgroup\":\"True\",\"bingroup\":\"x\",\"hovertemplate\":\"ArrDelay=%{x}<br>count=%{y}<extra></extra>\",\"legendgroup\":\"\",\"marker\":{\"color\":\"#636efa\",\"pattern\":{\"shape\":\"\"}},\"name\":\"\",\"offsetgroup\":\"\",\"orientation\":\"v\",\"showlegend\":false,\"x\":[32.0,-1.0,-5.0,-2.0,-11.0,-4.0,-12.0,10.0,-7.0,-4.0,35.0,-3.0,-5.0,7.0,91.0,2.0,4.0,-14.0,0.0,-22.0,-5.0,0.0,-17.0,-15.0,25.0,27.0,-2.0,3.0,26.0,-11.0,-9.0,-28.0,-14.0,18.0,6.0,76.0,28.0,0.0,-2.0,3.0,-5.0,-9.0,12.0,-10.0,-13.0,-29.0,14.0,-15.0,18.0,13.0,-7.0,-3.0,-8.0,-15.0,-4.0,-24.0,13.0,11.0,-18.0,-13.0,16.0,-23.0,-3.0,0.0,12.0,11.0,-8.0,-12.0,-10.0,-3.0,-5.0,19.0,-5.0,41.0,2.0,-7.0,102.0,-5.0,-2.0,-15.0,6.0,-4.0,-11.0,2.0,-15.0,7.0,21.0,48.0,27.0,31.0,-5.0,50.0,11.0,0.0,-12.0,5.0,100.0,7.0,20.0,75.0,-14.0,-7.0,0.0,32.0,-9.0,4.0,-26.0,15.0,-12.0,14.0,-10.0,-20.0,78.0,8.0,-5.0,10.0,31.0,-14.0,-16.0,103.0,-22.0,-7.0,5.0,-3.0,-3.0,-1.0,1.0,51.0,40.0,17.0,4.0,2.0,-11.0,-10.0,-12.0,-7.0,-16.0,-13.0,13.0,-19.0,12.0,5.0,0.0,0.0,184.0,15.0,10.0,4.0,-1.0,-23.0,-26.0,-9.0,-6.0,-13.0,-1.0,11.0,9.0,38.0,13.0,35.0,28.0,45.0,-3.0,28.0,-9.0,7.0,-9.0,16.0,11.0,3.0,15.0,-3.0,8.0,-3.0,-8.0,-7.0,19.0,48.0,-14.0,7.0,-21.0,-5.0,-6.0,-14.0,19.0,-24.0,-21.0,-22.0,-23.0,-11.0,-9.0,-21.0,-16.0,-9.0,10.0,-16.0,-9.0,-5.0,-14.0,-30.0,31.0,1.0,-4.0,-13.0,-4.0,-3.0,4.0,35.0,7.0,-7.0,0.0,0.0,0.0,12.0,-23.0,-19.0,0.0,10.0,6.0,-4.0,4.0,-17.0,-17.0,60.0,0.0,0.0,51.0,-12.0,0.0,37.0,0.0,76.0,21.0,10.0,7.0,3.0,-3.0,0.0,-10.0,9.0,-14.0,5.0,-16.0,0.0,-5.0,-9.0,0.0,-4.0,-13.0,-28.0,-7.0,-13.0,-1.0,18.0,-8.0,70.0,-14.0,12.0,-2.0,1.0,-1.0,5.0,0.0,-54.0,0.0,28.0,-17.0,-14.0,1.0,-8.0,18.0,-16.0,-13.0,5.0,10.0,48.0,16.0,-12.0,0.0,-4.0,-12.0,-27.0,-5.0,-15.0,20.0,-5.0,-10.0,33.0,6.0,-4.0,108.0,7.0,-2.0,8.0,-1.0,-10.0,-10.0,6.0,4.0,-7.0,14.0,22.0,17.0,1.0,-25.0,20.0,3.0,0.0,3.0,20.0,5.0,11.0,-1.0,4.0,-13.0,-20.0,-19.0,11.0,-14.0,9.0,4.0,-23.0,-7.0,-34.0,-3.0,-11.0,-1.0,-16.0,-7.0,-12.0,0.0,-9.0,-8.0,14.0,2.0,5.0,-26.0,-5.0,-11.0,24.0,-9.0,-6.0,-22.0,11.0,-23.0,-4.0,35.0,-4.0,52.0,-9.0,66.0,-12.0,0.0,9.0,12.0,111.0,26.0,-18.0,7.0,21.0,106.0,-11.0,-1.0,-11.0,-10.0,-17.0,24.0,12.0,-14.0,-12.0,-45.0,-14.0,14.0,-11.0,11.0,10.0,34.0,22.0,1.0,95.0,-19.0,-1.0,3.0,0.0,-19.0,5.0,-19.0,26.0,-12.0,15.0,18.0,9.0,0.0,-1.0,-1.0,-1.0,0.0,-14.0,6.0,12.0,21.0,0.0,30.0,-22.0,-2.0,13.0,20.0,47.0,-11.0,-19.0,4.0,-20.0,-5.0,23.0,0.0,-3.0,14.0,62.0,-10.0,3.0,-11.0,-2.0,-12.0,-8.0,-4.0,59.0,7.0,6.0,4.0,-12.0,15.0,-9.0,8.0,-8.0,4.0,-16.0,7.0,-18.0,8.0,12.0,-3.0,7.0,3.0,0.0,-15.0,10.0,4.0,7.0,-9.0,-15.0,-13.0,31.0,0.0,-4.0,21.0,-1.0,-8.0,12.0,13.0,7.0,2.0,-10.0,19.0,-3.0,33.0,-3.0,-3.0,210.0,51.0,4.0,-10.0,20.0,10.0,-8.0,0.0,14.0,-6.0,-29.0,5.0,0.0,-7.0,-34.0,19.0,-5.0,8.0,-23.0,20.0,5.0,-50.0,57.0,-4.0,-4.0,-2.0,-12.0,-21.0,8.0,-5.0,-14.0,88.0,4.0],\"xaxis\":\"x\",\"yaxis\":\"y\",\"type\":\"histogram\"}],                        {\"template\":{\"data\":{\"histogram2dcontour\":[{\"type\":\"histogram2dcontour\",\"colorbar\":{\"outlinewidth\":0,\"ticks\":\"\"},\"colorscale\":[[0.0,\"#0d0887\"],[0.1111111111111111,\"#46039f\"],[0.2222222222222222,\"#7201a8\"],[0.3333333333333333,\"#9c179e\"],[0.4444444444444444,\"#bd3786\"],[0.5555555555555556,\"#d8576b\"],[0.6666666666666666,\"#ed7953\"],[0.7777777777777778,\"#fb9f3a\"],[0.8888888888888888,\"#fdca26\"],[1.0,\"#f0f921\"]]}],\"choropleth\":[{\"type\":\"choropleth\",\"colorbar\":{\"outlinewidth\":0,\"ticks\":\"\"}}],\"histogram2d\":[{\"type\":\"histogram2d\",\"colorbar\":{\"outlinewidth\":0,\"ticks\":\"\"},\"colorscale\":[[0.0,\"#0d0887\"],[0.1111111111111111,\"#46039f\"],[0.2222222222222222,\"#7201a8\"],[0.3333333333333333,\"#9c179e\"],[0.4444444444444444,\"#bd3786\"],[0.5555555555555556,\"#d8576b\"],[0.6666666666666666,\"#ed7953\"],[0.7777777777777778,\"#fb9f3a\"],[0.8888888888888888,\"#fdca26\"],[1.0,\"#f0f921\"]]}],\"heatmap\":[{\"type\":\"heatmap\",\"colorbar\":{\"outlinewidth\":0,\"ticks\":\"\"},\"colorscale\":[[0.0,\"#0d0887\"],[0.1111111111111111,\"#46039f\"],[0.2222222222222222,\"#7201a8\"],[0.3333333333333333,\"#9c179e\"],[0.4444444444444444,\"#bd3786\"],[0.5555555555555556,\"#d8576b\"],[0.6666666666666666,\"#ed7953\"],[0.7777777777777778,\"#fb9f3a\"],[0.8888888888888888,\"#fdca26\"],[1.0,\"#f0f921\"]]}],\"heatmapgl\":[{\"type\":\"heatmapgl\",\"colorbar\":{\"outlinewidth\":0,\"ticks\":\"\"},\"colorscale\":[[0.0,\"#0d0887\"],[0.1111111111111111,\"#46039f\"],[0.2222222222222222,\"#7201a8\"],[0.3333333333333333,\"#9c179e\"],[0.4444444444444444,\"#bd3786\"],[0.5555555555555556,\"#d8576b\"],[0.6666666666666666,\"#ed7953\"],[0.7777777777777778,\"#fb9f3a\"],[0.8888888888888888,\"#fdca26\"],[1.0,\"#f0f921\"]]}],\"contourcarpet\":[{\"type\":\"contourcarpet\",\"colorbar\":{\"outlinewidth\":0,\"ticks\":\"\"}}],\"contour\":[{\"type\":\"contour\",\"colorbar\":{\"outlinewidth\":0,\"ticks\":\"\"},\"colorscale\":[[0.0,\"#0d0887\"],[0.1111111111111111,\"#46039f\"],[0.2222222222222222,\"#7201a8\"],[0.3333333333333333,\"#9c179e\"],[0.4444444444444444,\"#bd3786\"],[0.5555555555555556,\"#d8576b\"],[0.6666666666666666,\"#ed7953\"],[0.7777777777777778,\"#fb9f3a\"],[0.8888888888888888,\"#fdca26\"],[1.0,\"#f0f921\"]]}],\"surface\":[{\"type\":\"surface\",\"colorbar\":{\"outlinewidth\":0,\"ticks\":\"\"},\"colorscale\":[[0.0,\"#0d0887\"],[0.1111111111111111,\"#46039f\"],[0.2222222222222222,\"#7201a8\"],[0.3333333333333333,\"#9c179e\"],[0.4444444444444444,\"#bd3786\"],[0.5555555555555556,\"#d8576b\"],[0.6666666666666666,\"#ed7953\"],[0.7777777777777778,\"#fb9f3a\"],[0.8888888888888888,\"#fdca26\"],[1.0,\"#f0f921\"]]}],\"mesh3d\":[{\"type\":\"mesh3d\",\"colorbar\":{\"outlinewidth\":0,\"ticks\":\"\"}}],\"scatter\":[{\"fillpattern\":{\"fillmode\":\"overlay\",\"size\":10,\"solidity\":0.2},\"type\":\"scatter\"}],\"parcoords\":[{\"type\":\"parcoords\",\"line\":{\"colorbar\":{\"outlinewidth\":0,\"ticks\":\"\"}}}],\"scatterpolargl\":[{\"type\":\"scatterpolargl\",\"marker\":{\"colorbar\":{\"outlinewidth\":0,\"ticks\":\"\"}}}],\"bar\":[{\"error_x\":{\"color\":\"#2a3f5f\"},\"error_y\":{\"color\":\"#2a3f5f\"},\"marker\":{\"line\":{\"color\":\"#E5ECF6\",\"width\":0.5},\"pattern\":{\"fillmode\":\"overlay\",\"size\":10,\"solidity\":0.2}},\"type\":\"bar\"}],\"scattergeo\":[{\"type\":\"scattergeo\",\"marker\":{\"colorbar\":{\"outlinewidth\":0,\"ticks\":\"\"}}}],\"scatterpolar\":[{\"type\":\"scatterpolar\",\"marker\":{\"colorbar\":{\"outlinewidth\":0,\"ticks\":\"\"}}}],\"histogram\":[{\"marker\":{\"pattern\":{\"fillmode\":\"overlay\",\"size\":10,\"solidity\":0.2}},\"type\":\"histogram\"}],\"scattergl\":[{\"type\":\"scattergl\",\"marker\":{\"colorbar\":{\"outlinewidth\":0,\"ticks\":\"\"}}}],\"scatter3d\":[{\"type\":\"scatter3d\",\"line\":{\"colorbar\":{\"outlinewidth\":0,\"ticks\":\"\"}},\"marker\":{\"colorbar\":{\"outlinewidth\":0,\"ticks\":\"\"}}}],\"scattermapbox\":[{\"type\":\"scattermapbox\",\"marker\":{\"colorbar\":{\"outlinewidth\":0,\"ticks\":\"\"}}}],\"scatterternary\":[{\"type\":\"scatterternary\",\"marker\":{\"colorbar\":{\"outlinewidth\":0,\"ticks\":\"\"}}}],\"scattercarpet\":[{\"type\":\"scattercarpet\",\"marker\":{\"colorbar\":{\"outlinewidth\":0,\"ticks\":\"\"}}}],\"carpet\":[{\"aaxis\":{\"endlinecolor\":\"#2a3f5f\",\"gridcolor\":\"white\",\"linecolor\":\"white\",\"minorgridcolor\":\"white\",\"startlinecolor\":\"#2a3f5f\"},\"baxis\":{\"endlinecolor\":\"#2a3f5f\",\"gridcolor\":\"white\",\"linecolor\":\"white\",\"minorgridcolor\":\"white\",\"startlinecolor\":\"#2a3f5f\"},\"type\":\"carpet\"}],\"table\":[{\"cells\":{\"fill\":{\"color\":\"#EBF0F8\"},\"line\":{\"color\":\"white\"}},\"header\":{\"fill\":{\"color\":\"#C8D4E3\"},\"line\":{\"color\":\"white\"}},\"type\":\"table\"}],\"barpolar\":[{\"marker\":{\"line\":{\"color\":\"#E5ECF6\",\"width\":0.5},\"pattern\":{\"fillmode\":\"overlay\",\"size\":10,\"solidity\":0.2}},\"type\":\"barpolar\"}],\"pie\":[{\"automargin\":true,\"type\":\"pie\"}]},\"layout\":{\"autotypenumbers\":\"strict\",\"colorway\":[\"#636efa\",\"#EF553B\",\"#00cc96\",\"#ab63fa\",\"#FFA15A\",\"#19d3f3\",\"#FF6692\",\"#B6E880\",\"#FF97FF\",\"#FECB52\"],\"font\":{\"color\":\"#2a3f5f\"},\"hovermode\":\"closest\",\"hoverlabel\":{\"align\":\"left\"},\"paper_bgcolor\":\"white\",\"plot_bgcolor\":\"#E5ECF6\",\"polar\":{\"bgcolor\":\"#E5ECF6\",\"angularaxis\":{\"gridcolor\":\"white\",\"linecolor\":\"white\",\"ticks\":\"\"},\"radialaxis\":{\"gridcolor\":\"white\",\"linecolor\":\"white\",\"ticks\":\"\"}},\"ternary\":{\"bgcolor\":\"#E5ECF6\",\"aaxis\":{\"gridcolor\":\"white\",\"linecolor\":\"white\",\"ticks\":\"\"},\"baxis\":{\"gridcolor\":\"white\",\"linecolor\":\"white\",\"ticks\":\"\"},\"caxis\":{\"gridcolor\":\"white\",\"linecolor\":\"white\",\"ticks\":\"\"}},\"coloraxis\":{\"colorbar\":{\"outlinewidth\":0,\"ticks\":\"\"}},\"colorscale\":{\"sequential\":[[0.0,\"#0d0887\"],[0.1111111111111111,\"#46039f\"],[0.2222222222222222,\"#7201a8\"],[0.3333333333333333,\"#9c179e\"],[0.4444444444444444,\"#bd3786\"],[0.5555555555555556,\"#d8576b\"],[0.6666666666666666,\"#ed7953\"],[0.7777777777777778,\"#fb9f3a\"],[0.8888888888888888,\"#fdca26\"],[1.0,\"#f0f921\"]],\"sequentialminus\":[[0.0,\"#0d0887\"],[0.1111111111111111,\"#46039f\"],[0.2222222222222222,\"#7201a8\"],[0.3333333333333333,\"#9c179e\"],[0.4444444444444444,\"#bd3786\"],[0.5555555555555556,\"#d8576b\"],[0.6666666666666666,\"#ed7953\"],[0.7777777777777778,\"#fb9f3a\"],[0.8888888888888888,\"#fdca26\"],[1.0,\"#f0f921\"]],\"diverging\":[[0,\"#8e0152\"],[0.1,\"#c51b7d\"],[0.2,\"#de77ae\"],[0.3,\"#f1b6da\"],[0.4,\"#fde0ef\"],[0.5,\"#f7f7f7\"],[0.6,\"#e6f5d0\"],[0.7,\"#b8e186\"],[0.8,\"#7fbc41\"],[0.9,\"#4d9221\"],[1,\"#276419\"]]},\"xaxis\":{\"gridcolor\":\"white\",\"linecolor\":\"white\",\"ticks\":\"\",\"title\":{\"standoff\":15},\"zerolinecolor\":\"white\",\"automargin\":true,\"zerolinewidth\":2},\"yaxis\":{\"gridcolor\":\"white\",\"linecolor\":\"white\",\"ticks\":\"\",\"title\":{\"standoff\":15},\"zerolinecolor\":\"white\",\"automargin\":true,\"zerolinewidth\":2},\"scene\":{\"xaxis\":{\"backgroundcolor\":\"#E5ECF6\",\"gridcolor\":\"white\",\"linecolor\":\"white\",\"showbackground\":true,\"ticks\":\"\",\"zerolinecolor\":\"white\",\"gridwidth\":2},\"yaxis\":{\"backgroundcolor\":\"#E5ECF6\",\"gridcolor\":\"white\",\"linecolor\":\"white\",\"showbackground\":true,\"ticks\":\"\",\"zerolinecolor\":\"white\",\"gridwidth\":2},\"zaxis\":{\"backgroundcolor\":\"#E5ECF6\",\"gridcolor\":\"white\",\"linecolor\":\"white\",\"showbackground\":true,\"ticks\":\"\",\"zerolinecolor\":\"white\",\"gridwidth\":2}},\"shapedefaults\":{\"line\":{\"color\":\"#2a3f5f\"}},\"annotationdefaults\":{\"arrowcolor\":\"#2a3f5f\",\"arrowhead\":0,\"arrowwidth\":1},\"geo\":{\"bgcolor\":\"white\",\"landcolor\":\"#E5ECF6\",\"subunitcolor\":\"white\",\"showland\":true,\"showlakes\":true,\"lakecolor\":\"white\"},\"title\":{\"x\":0.05},\"mapbox\":{\"style\":\"light\"}}},\"xaxis\":{\"anchor\":\"y\",\"domain\":[0.0,1.0],\"title\":{\"text\":\"ArrDelay\"}},\"yaxis\":{\"anchor\":\"x\",\"domain\":[0.0,1.0],\"title\":{\"text\":\"count\"}},\"legend\":{\"tracegroupgap\":0},\"margin\":{\"t\":60},\"barmode\":\"relative\"},                        {\"responsive\": true}                    ).then(function(){\n",
              "                            \n",
              "var gd = document.getElementById('da8133ad-f4fa-4e75-8b3e-07f3ca14a8b2');\n",
              "var x = new MutationObserver(function (mutations, observer) {{\n",
              "        var display = window.getComputedStyle(gd).display;\n",
              "        if (!display || display === 'none') {{\n",
              "            console.log([gd, 'removed!']);\n",
              "            Plotly.purge(gd);\n",
              "            observer.disconnect();\n",
              "        }}\n",
              "}});\n",
              "\n",
              "// Listen for the removal of the full notebook cells\n",
              "var notebookContainer = gd.closest('#notebook-container');\n",
              "if (notebookContainer) {{\n",
              "    x.observe(notebookContainer, {childList: true});\n",
              "}}\n",
              "\n",
              "// Listen for the clearing of the current output cell\n",
              "var outputEl = gd.closest('.output');\n",
              "if (outputEl) {{\n",
              "    x.observe(outputEl, {childList: true});\n",
              "}}\n",
              "\n",
              "                        })                };                });            </script>        </div>"
            ]
          },
          "metadata": {},
          "output_type": "display_data"
        }
      ],
      "source": [
        "# Create histogram here\n",
        "fig = px.histogram(data, x=\"ArrDelay\")\n",
        "fig.show()"
      ]
    },
    {
      "cell_type": "markdown",
      "metadata": {},
      "source": [
        "Double-click **here** for the solution.\n",
        "\n",
        "<!-- The answer is below:\n",
        "\n",
        "fig = px.histogram(data, x=\"ArrDelay\")\n",
        "fig.show()\n",
        "\n",
        "-->\n"
      ]
    },
    {
      "cell_type": "markdown",
      "metadata": {},
      "source": [
        "# Pie Chart\n"
      ]
    },
    {
      "cell_type": "markdown",
      "metadata": {},
      "source": [
        "Learn more about pie chart [here](https://plotly.com/python/pie-charts/?utm_medium=Exinfluencer&utm_source=Exinfluencer&utm_content=000026UJ&utm_term=10006555&utm_id=NA-SkillsNetwork-Channel-SkillsNetworkCoursesIBMDeveloperSkillsNetworkDV0101ENSkillsNetwork20297740-2021-01-01)\n",
        "\n",
        "#### Idea: Proportion of distance group by month (month indicated by numbers)\n"
      ]
    },
    {
      "cell_type": "code",
      "execution_count": 51,
      "metadata": {
        "trusted": true
      },
      "outputs": [
        {
          "data": {
            "application/vnd.plotly.v1+json": {
              "config": {
                "plotlyServerURL": "https://plot.ly"
              },
              "data": [
                {
                  "domain": {
                    "x": [
                      0,
                      1
                    ],
                    "y": [
                      0,
                      1
                    ]
                  },
                  "hovertemplate": "DistanceGroup=%{label}<br>Month=%{value}<extra></extra>",
                  "labels": [
                    1,
                    3,
                    1,
                    8,
                    2,
                    7,
                    9,
                    4,
                    1,
                    4,
                    2,
                    2,
                    1,
                    7,
                    2,
                    10,
                    2,
                    3,
                    2,
                    9,
                    2,
                    4,
                    2,
                    1,
                    1,
                    2,
                    4,
                    5,
                    1,
                    10,
                    2,
                    2,
                    7,
                    4,
                    4,
                    2,
                    1,
                    1,
                    3,
                    5,
                    4,
                    1,
                    2,
                    1,
                    7,
                    11,
                    3,
                    4,
                    3,
                    2,
                    2,
                    1,
                    1,
                    4,
                    5,
                    2,
                    2,
                    2,
                    5,
                    2,
                    2,
                    5,
                    3,
                    1,
                    4,
                    1,
                    10,
                    2,
                    1,
                    1,
                    2,
                    6,
                    4,
                    2,
                    1,
                    3,
                    2,
                    2,
                    1,
                    2,
                    2,
                    8,
                    3,
                    6,
                    2,
                    1,
                    2,
                    2,
                    3,
                    4,
                    3,
                    1,
                    3,
                    5,
                    2,
                    2,
                    5,
                    2,
                    8,
                    11,
                    4,
                    1,
                    1,
                    2,
                    3,
                    2,
                    4,
                    3,
                    7,
                    3,
                    2,
                    2,
                    3,
                    1,
                    1,
                    1,
                    3,
                    8,
                    2,
                    3,
                    2,
                    1,
                    8,
                    2,
                    3,
                    3,
                    2,
                    10,
                    6,
                    4,
                    5,
                    2,
                    3,
                    3,
                    3,
                    4,
                    3,
                    1,
                    5,
                    1,
                    4,
                    2,
                    4,
                    2,
                    8,
                    1,
                    4,
                    3,
                    2,
                    10,
                    9,
                    3,
                    1,
                    1,
                    1,
                    5,
                    5,
                    3,
                    3,
                    2,
                    1,
                    2,
                    7,
                    1,
                    4,
                    5,
                    4,
                    2,
                    2,
                    2,
                    3,
                    2,
                    7,
                    2,
                    2,
                    2,
                    3,
                    1,
                    2,
                    2,
                    1,
                    4,
                    2,
                    2,
                    1,
                    5,
                    3,
                    5,
                    3,
                    2,
                    3,
                    3,
                    6,
                    1,
                    3,
                    2,
                    1,
                    2,
                    7,
                    10,
                    1,
                    1,
                    4,
                    3,
                    2,
                    3,
                    4,
                    2,
                    4,
                    7,
                    3,
                    3,
                    1,
                    1,
                    8,
                    4,
                    1,
                    6,
                    3,
                    2,
                    2,
                    2,
                    5,
                    2,
                    3,
                    5,
                    10,
                    3,
                    4,
                    2,
                    6,
                    4,
                    2,
                    4,
                    2,
                    5,
                    3,
                    1,
                    4,
                    3,
                    4,
                    3,
                    11,
                    6,
                    5,
                    2,
                    7,
                    2,
                    4,
                    2,
                    4,
                    5,
                    2,
                    8,
                    7,
                    2,
                    1,
                    2,
                    2,
                    1,
                    1,
                    1,
                    3,
                    11,
                    5,
                    6,
                    1,
                    3,
                    2,
                    3,
                    3,
                    4,
                    3,
                    2,
                    3,
                    2,
                    2,
                    1,
                    1,
                    2,
                    11,
                    4,
                    4,
                    4,
                    4,
                    3,
                    4,
                    4,
                    8,
                    2,
                    5,
                    2,
                    4,
                    2,
                    2,
                    11,
                    2,
                    3,
                    2,
                    1,
                    3,
                    7,
                    2,
                    8,
                    2,
                    5,
                    1,
                    3,
                    4,
                    5,
                    1,
                    5,
                    2,
                    2,
                    2,
                    4,
                    1,
                    5,
                    1,
                    5,
                    5,
                    7,
                    2,
                    6,
                    2,
                    6,
                    3,
                    4,
                    3,
                    3,
                    2,
                    2,
                    2,
                    3,
                    2,
                    2,
                    8,
                    6,
                    2,
                    1,
                    1,
                    1,
                    6,
                    5,
                    4,
                    5,
                    3,
                    4,
                    1,
                    2,
                    2,
                    7,
                    4,
                    1,
                    3,
                    5,
                    4,
                    3,
                    2,
                    7,
                    2,
                    1,
                    1,
                    11,
                    4,
                    5,
                    2,
                    3,
                    2,
                    2,
                    7,
                    2,
                    1,
                    3,
                    2,
                    3,
                    2,
                    11,
                    4,
                    2,
                    5,
                    1,
                    3,
                    3,
                    2,
                    4,
                    7,
                    3,
                    3,
                    3,
                    4,
                    5,
                    4,
                    2,
                    2,
                    3,
                    2,
                    1,
                    2,
                    3,
                    4,
                    4,
                    5,
                    3,
                    4,
                    2,
                    1,
                    1,
                    6,
                    3,
                    1,
                    2,
                    2,
                    1,
                    5,
                    2,
                    3,
                    5,
                    3,
                    2,
                    4,
                    3,
                    4,
                    7,
                    3,
                    3,
                    2,
                    3,
                    3,
                    3,
                    8,
                    3,
                    3,
                    1,
                    2,
                    8,
                    1,
                    1,
                    2,
                    5,
                    3,
                    1,
                    1,
                    2,
                    7,
                    1,
                    4,
                    11,
                    4,
                    1,
                    4,
                    2,
                    4,
                    1,
                    2,
                    10,
                    5,
                    4,
                    1,
                    1,
                    5,
                    1,
                    3,
                    1,
                    2,
                    4,
                    4,
                    2,
                    4,
                    2,
                    1,
                    11,
                    3,
                    2,
                    1,
                    2,
                    9,
                    7,
                    3,
                    3,
                    2,
                    7,
                    4,
                    1,
                    1,
                    6,
                    3,
                    3,
                    8,
                    1,
                    4,
                    4,
                    3,
                    5,
                    1,
                    2,
                    7,
                    5,
                    2,
                    5
                  ],
                  "legendgroup": "",
                  "name": "",
                  "showlegend": true,
                  "type": "pie",
                  "values": [
                    3,
                    8,
                    7,
                    10,
                    2,
                    1,
                    2,
                    1,
                    3,
                    11,
                    8,
                    8,
                    9,
                    11,
                    3,
                    10,
                    3,
                    2,
                    12,
                    12,
                    7,
                    10,
                    1,
                    6,
                    8,
                    1,
                    2,
                    12,
                    10,
                    11,
                    5,
                    11,
                    9,
                    4,
                    10,
                    7,
                    9,
                    10,
                    7,
                    1,
                    1,
                    7,
                    5,
                    6,
                    4,
                    3,
                    2,
                    2,
                    10,
                    12,
                    4,
                    2,
                    11,
                    11,
                    4,
                    11,
                    7,
                    7,
                    5,
                    11,
                    4,
                    7,
                    9,
                    5,
                    4,
                    5,
                    3,
                    12,
                    5,
                    3,
                    7,
                    5,
                    1,
                    1,
                    3,
                    7,
                    8,
                    10,
                    11,
                    3,
                    4,
                    2,
                    4,
                    12,
                    5,
                    8,
                    12,
                    6,
                    7,
                    12,
                    8,
                    2,
                    8,
                    8,
                    5,
                    7,
                    6,
                    9,
                    7,
                    10,
                    1,
                    5,
                    6,
                    5,
                    12,
                    8,
                    7,
                    12,
                    12,
                    12,
                    6,
                    4,
                    6,
                    7,
                    12,
                    3,
                    6,
                    7,
                    8,
                    10,
                    11,
                    7,
                    2,
                    4,
                    2,
                    1,
                    4,
                    4,
                    9,
                    4,
                    6,
                    2,
                    9,
                    7,
                    4,
                    1,
                    12,
                    5,
                    8,
                    8,
                    12,
                    5,
                    12,
                    2,
                    7,
                    5,
                    5,
                    9,
                    7,
                    6,
                    5,
                    10,
                    4,
                    1,
                    9,
                    8,
                    8,
                    1,
                    1,
                    6,
                    1,
                    4,
                    3,
                    4,
                    9,
                    10,
                    2,
                    11,
                    10,
                    2,
                    4,
                    5,
                    11,
                    1,
                    4,
                    11,
                    4,
                    12,
                    5,
                    6,
                    12,
                    9,
                    9,
                    4,
                    12,
                    4,
                    12,
                    7,
                    10,
                    3,
                    8,
                    3,
                    10,
                    12,
                    12,
                    6,
                    10,
                    8,
                    5,
                    12,
                    8,
                    11,
                    7,
                    1,
                    12,
                    1,
                    6,
                    6,
                    4,
                    12,
                    3,
                    10,
                    3,
                    12,
                    10,
                    10,
                    12,
                    7,
                    9,
                    7,
                    11,
                    8,
                    12,
                    11,
                    2,
                    9,
                    9,
                    5,
                    6,
                    9,
                    3,
                    9,
                    12,
                    5,
                    4,
                    7,
                    1,
                    2,
                    10,
                    6,
                    8,
                    6,
                    10,
                    11,
                    7,
                    8,
                    12,
                    4,
                    7,
                    11,
                    4,
                    6,
                    5,
                    11,
                    4,
                    1,
                    2,
                    12,
                    3,
                    3,
                    9,
                    9,
                    12,
                    10,
                    12,
                    7,
                    9,
                    1,
                    7,
                    2,
                    4,
                    8,
                    7,
                    8,
                    5,
                    1,
                    4,
                    1,
                    7,
                    8,
                    9,
                    6,
                    1,
                    4,
                    3,
                    11,
                    9,
                    12,
                    12,
                    11,
                    3,
                    8,
                    10,
                    11,
                    5,
                    11,
                    3,
                    8,
                    5,
                    8,
                    6,
                    5,
                    4,
                    8,
                    2,
                    4,
                    11,
                    5,
                    7,
                    3,
                    12,
                    2,
                    3,
                    10,
                    10,
                    1,
                    1,
                    6,
                    11,
                    9,
                    1,
                    4,
                    1,
                    9,
                    6,
                    5,
                    5,
                    8,
                    9,
                    10,
                    6,
                    12,
                    1,
                    5,
                    10,
                    5,
                    7,
                    11,
                    10,
                    8,
                    7,
                    12,
                    12,
                    4,
                    12,
                    12,
                    12,
                    9,
                    12,
                    7,
                    12,
                    11,
                    8,
                    6,
                    11,
                    9,
                    5,
                    10,
                    4,
                    3,
                    1,
                    8,
                    12,
                    1,
                    12,
                    12,
                    2,
                    10,
                    3,
                    9,
                    1,
                    5,
                    4,
                    5,
                    10,
                    5,
                    3,
                    12,
                    4,
                    3,
                    12,
                    5,
                    11,
                    12,
                    4,
                    2,
                    9,
                    2,
                    7,
                    11,
                    6,
                    6,
                    6,
                    1,
                    9,
                    7,
                    6,
                    4,
                    3,
                    4,
                    4,
                    8,
                    7,
                    11,
                    5,
                    11,
                    9,
                    10,
                    8,
                    12,
                    3,
                    11,
                    7,
                    3,
                    12,
                    8,
                    9,
                    9,
                    1,
                    12,
                    8,
                    3,
                    10,
                    11,
                    5,
                    2,
                    11,
                    5,
                    2,
                    10,
                    3,
                    1,
                    2,
                    8,
                    2,
                    5,
                    11,
                    11,
                    12,
                    4,
                    6,
                    4,
                    5,
                    8,
                    4,
                    2,
                    8,
                    5,
                    5,
                    3,
                    2,
                    4,
                    5,
                    1,
                    3,
                    3,
                    1,
                    3,
                    8,
                    10,
                    1,
                    2,
                    1,
                    9,
                    7,
                    7,
                    9,
                    6,
                    9,
                    4,
                    1,
                    7,
                    2,
                    9,
                    9,
                    11,
                    2,
                    7,
                    8,
                    2,
                    3,
                    1,
                    12,
                    5,
                    12,
                    10,
                    7,
                    4,
                    11,
                    3,
                    11,
                    5,
                    7,
                    1,
                    11,
                    7,
                    6,
                    3,
                    4,
                    1
                  ]
                }
              ],
              "layout": {
                "autosize": true,
                "legend": {
                  "tracegroupgap": 0
                },
                "template": {
                  "data": {
                    "bar": [
                      {
                        "error_x": {
                          "color": "#2a3f5f"
                        },
                        "error_y": {
                          "color": "#2a3f5f"
                        },
                        "marker": {
                          "line": {
                            "color": "#E5ECF6",
                            "width": 0.5
                          },
                          "pattern": {
                            "fillmode": "overlay",
                            "size": 10,
                            "solidity": 0.2
                          }
                        },
                        "type": "bar"
                      }
                    ],
                    "barpolar": [
                      {
                        "marker": {
                          "line": {
                            "color": "#E5ECF6",
                            "width": 0.5
                          },
                          "pattern": {
                            "fillmode": "overlay",
                            "size": 10,
                            "solidity": 0.2
                          }
                        },
                        "type": "barpolar"
                      }
                    ],
                    "carpet": [
                      {
                        "aaxis": {
                          "endlinecolor": "#2a3f5f",
                          "gridcolor": "white",
                          "linecolor": "white",
                          "minorgridcolor": "white",
                          "startlinecolor": "#2a3f5f"
                        },
                        "baxis": {
                          "endlinecolor": "#2a3f5f",
                          "gridcolor": "white",
                          "linecolor": "white",
                          "minorgridcolor": "white",
                          "startlinecolor": "#2a3f5f"
                        },
                        "type": "carpet"
                      }
                    ],
                    "choropleth": [
                      {
                        "colorbar": {
                          "outlinewidth": 0,
                          "ticks": ""
                        },
                        "type": "choropleth"
                      }
                    ],
                    "contour": [
                      {
                        "colorbar": {
                          "outlinewidth": 0,
                          "ticks": ""
                        },
                        "colorscale": [
                          [
                            0,
                            "#0d0887"
                          ],
                          [
                            0.1111111111111111,
                            "#46039f"
                          ],
                          [
                            0.2222222222222222,
                            "#7201a8"
                          ],
                          [
                            0.3333333333333333,
                            "#9c179e"
                          ],
                          [
                            0.4444444444444444,
                            "#bd3786"
                          ],
                          [
                            0.5555555555555556,
                            "#d8576b"
                          ],
                          [
                            0.6666666666666666,
                            "#ed7953"
                          ],
                          [
                            0.7777777777777778,
                            "#fb9f3a"
                          ],
                          [
                            0.8888888888888888,
                            "#fdca26"
                          ],
                          [
                            1,
                            "#f0f921"
                          ]
                        ],
                        "type": "contour"
                      }
                    ],
                    "contourcarpet": [
                      {
                        "colorbar": {
                          "outlinewidth": 0,
                          "ticks": ""
                        },
                        "type": "contourcarpet"
                      }
                    ],
                    "heatmap": [
                      {
                        "colorbar": {
                          "outlinewidth": 0,
                          "ticks": ""
                        },
                        "colorscale": [
                          [
                            0,
                            "#0d0887"
                          ],
                          [
                            0.1111111111111111,
                            "#46039f"
                          ],
                          [
                            0.2222222222222222,
                            "#7201a8"
                          ],
                          [
                            0.3333333333333333,
                            "#9c179e"
                          ],
                          [
                            0.4444444444444444,
                            "#bd3786"
                          ],
                          [
                            0.5555555555555556,
                            "#d8576b"
                          ],
                          [
                            0.6666666666666666,
                            "#ed7953"
                          ],
                          [
                            0.7777777777777778,
                            "#fb9f3a"
                          ],
                          [
                            0.8888888888888888,
                            "#fdca26"
                          ],
                          [
                            1,
                            "#f0f921"
                          ]
                        ],
                        "type": "heatmap"
                      }
                    ],
                    "heatmapgl": [
                      {
                        "colorbar": {
                          "outlinewidth": 0,
                          "ticks": ""
                        },
                        "colorscale": [
                          [
                            0,
                            "#0d0887"
                          ],
                          [
                            0.1111111111111111,
                            "#46039f"
                          ],
                          [
                            0.2222222222222222,
                            "#7201a8"
                          ],
                          [
                            0.3333333333333333,
                            "#9c179e"
                          ],
                          [
                            0.4444444444444444,
                            "#bd3786"
                          ],
                          [
                            0.5555555555555556,
                            "#d8576b"
                          ],
                          [
                            0.6666666666666666,
                            "#ed7953"
                          ],
                          [
                            0.7777777777777778,
                            "#fb9f3a"
                          ],
                          [
                            0.8888888888888888,
                            "#fdca26"
                          ],
                          [
                            1,
                            "#f0f921"
                          ]
                        ],
                        "type": "heatmapgl"
                      }
                    ],
                    "histogram": [
                      {
                        "marker": {
                          "pattern": {
                            "fillmode": "overlay",
                            "size": 10,
                            "solidity": 0.2
                          }
                        },
                        "type": "histogram"
                      }
                    ],
                    "histogram2d": [
                      {
                        "colorbar": {
                          "outlinewidth": 0,
                          "ticks": ""
                        },
                        "colorscale": [
                          [
                            0,
                            "#0d0887"
                          ],
                          [
                            0.1111111111111111,
                            "#46039f"
                          ],
                          [
                            0.2222222222222222,
                            "#7201a8"
                          ],
                          [
                            0.3333333333333333,
                            "#9c179e"
                          ],
                          [
                            0.4444444444444444,
                            "#bd3786"
                          ],
                          [
                            0.5555555555555556,
                            "#d8576b"
                          ],
                          [
                            0.6666666666666666,
                            "#ed7953"
                          ],
                          [
                            0.7777777777777778,
                            "#fb9f3a"
                          ],
                          [
                            0.8888888888888888,
                            "#fdca26"
                          ],
                          [
                            1,
                            "#f0f921"
                          ]
                        ],
                        "type": "histogram2d"
                      }
                    ],
                    "histogram2dcontour": [
                      {
                        "colorbar": {
                          "outlinewidth": 0,
                          "ticks": ""
                        },
                        "colorscale": [
                          [
                            0,
                            "#0d0887"
                          ],
                          [
                            0.1111111111111111,
                            "#46039f"
                          ],
                          [
                            0.2222222222222222,
                            "#7201a8"
                          ],
                          [
                            0.3333333333333333,
                            "#9c179e"
                          ],
                          [
                            0.4444444444444444,
                            "#bd3786"
                          ],
                          [
                            0.5555555555555556,
                            "#d8576b"
                          ],
                          [
                            0.6666666666666666,
                            "#ed7953"
                          ],
                          [
                            0.7777777777777778,
                            "#fb9f3a"
                          ],
                          [
                            0.8888888888888888,
                            "#fdca26"
                          ],
                          [
                            1,
                            "#f0f921"
                          ]
                        ],
                        "type": "histogram2dcontour"
                      }
                    ],
                    "mesh3d": [
                      {
                        "colorbar": {
                          "outlinewidth": 0,
                          "ticks": ""
                        },
                        "type": "mesh3d"
                      }
                    ],
                    "parcoords": [
                      {
                        "line": {
                          "colorbar": {
                            "outlinewidth": 0,
                            "ticks": ""
                          }
                        },
                        "type": "parcoords"
                      }
                    ],
                    "pie": [
                      {
                        "automargin": true,
                        "type": "pie"
                      }
                    ],
                    "scatter": [
                      {
                        "fillpattern": {
                          "fillmode": "overlay",
                          "size": 10,
                          "solidity": 0.2
                        },
                        "type": "scatter"
                      }
                    ],
                    "scatter3d": [
                      {
                        "line": {
                          "colorbar": {
                            "outlinewidth": 0,
                            "ticks": ""
                          }
                        },
                        "marker": {
                          "colorbar": {
                            "outlinewidth": 0,
                            "ticks": ""
                          }
                        },
                        "type": "scatter3d"
                      }
                    ],
                    "scattercarpet": [
                      {
                        "marker": {
                          "colorbar": {
                            "outlinewidth": 0,
                            "ticks": ""
                          }
                        },
                        "type": "scattercarpet"
                      }
                    ],
                    "scattergeo": [
                      {
                        "marker": {
                          "colorbar": {
                            "outlinewidth": 0,
                            "ticks": ""
                          }
                        },
                        "type": "scattergeo"
                      }
                    ],
                    "scattergl": [
                      {
                        "marker": {
                          "colorbar": {
                            "outlinewidth": 0,
                            "ticks": ""
                          }
                        },
                        "type": "scattergl"
                      }
                    ],
                    "scattermapbox": [
                      {
                        "marker": {
                          "colorbar": {
                            "outlinewidth": 0,
                            "ticks": ""
                          }
                        },
                        "type": "scattermapbox"
                      }
                    ],
                    "scatterpolar": [
                      {
                        "marker": {
                          "colorbar": {
                            "outlinewidth": 0,
                            "ticks": ""
                          }
                        },
                        "type": "scatterpolar"
                      }
                    ],
                    "scatterpolargl": [
                      {
                        "marker": {
                          "colorbar": {
                            "outlinewidth": 0,
                            "ticks": ""
                          }
                        },
                        "type": "scatterpolargl"
                      }
                    ],
                    "scatterternary": [
                      {
                        "marker": {
                          "colorbar": {
                            "outlinewidth": 0,
                            "ticks": ""
                          }
                        },
                        "type": "scatterternary"
                      }
                    ],
                    "surface": [
                      {
                        "colorbar": {
                          "outlinewidth": 0,
                          "ticks": ""
                        },
                        "colorscale": [
                          [
                            0,
                            "#0d0887"
                          ],
                          [
                            0.1111111111111111,
                            "#46039f"
                          ],
                          [
                            0.2222222222222222,
                            "#7201a8"
                          ],
                          [
                            0.3333333333333333,
                            "#9c179e"
                          ],
                          [
                            0.4444444444444444,
                            "#bd3786"
                          ],
                          [
                            0.5555555555555556,
                            "#d8576b"
                          ],
                          [
                            0.6666666666666666,
                            "#ed7953"
                          ],
                          [
                            0.7777777777777778,
                            "#fb9f3a"
                          ],
                          [
                            0.8888888888888888,
                            "#fdca26"
                          ],
                          [
                            1,
                            "#f0f921"
                          ]
                        ],
                        "type": "surface"
                      }
                    ],
                    "table": [
                      {
                        "cells": {
                          "fill": {
                            "color": "#EBF0F8"
                          },
                          "line": {
                            "color": "white"
                          }
                        },
                        "header": {
                          "fill": {
                            "color": "#C8D4E3"
                          },
                          "line": {
                            "color": "white"
                          }
                        },
                        "type": "table"
                      }
                    ]
                  },
                  "layout": {
                    "annotationdefaults": {
                      "arrowcolor": "#2a3f5f",
                      "arrowhead": 0,
                      "arrowwidth": 1
                    },
                    "autotypenumbers": "strict",
                    "coloraxis": {
                      "colorbar": {
                        "outlinewidth": 0,
                        "ticks": ""
                      }
                    },
                    "colorscale": {
                      "diverging": [
                        [
                          0,
                          "#8e0152"
                        ],
                        [
                          0.1,
                          "#c51b7d"
                        ],
                        [
                          0.2,
                          "#de77ae"
                        ],
                        [
                          0.3,
                          "#f1b6da"
                        ],
                        [
                          0.4,
                          "#fde0ef"
                        ],
                        [
                          0.5,
                          "#f7f7f7"
                        ],
                        [
                          0.6,
                          "#e6f5d0"
                        ],
                        [
                          0.7,
                          "#b8e186"
                        ],
                        [
                          0.8,
                          "#7fbc41"
                        ],
                        [
                          0.9,
                          "#4d9221"
                        ],
                        [
                          1,
                          "#276419"
                        ]
                      ],
                      "sequential": [
                        [
                          0,
                          "#0d0887"
                        ],
                        [
                          0.1111111111111111,
                          "#46039f"
                        ],
                        [
                          0.2222222222222222,
                          "#7201a8"
                        ],
                        [
                          0.3333333333333333,
                          "#9c179e"
                        ],
                        [
                          0.4444444444444444,
                          "#bd3786"
                        ],
                        [
                          0.5555555555555556,
                          "#d8576b"
                        ],
                        [
                          0.6666666666666666,
                          "#ed7953"
                        ],
                        [
                          0.7777777777777778,
                          "#fb9f3a"
                        ],
                        [
                          0.8888888888888888,
                          "#fdca26"
                        ],
                        [
                          1,
                          "#f0f921"
                        ]
                      ],
                      "sequentialminus": [
                        [
                          0,
                          "#0d0887"
                        ],
                        [
                          0.1111111111111111,
                          "#46039f"
                        ],
                        [
                          0.2222222222222222,
                          "#7201a8"
                        ],
                        [
                          0.3333333333333333,
                          "#9c179e"
                        ],
                        [
                          0.4444444444444444,
                          "#bd3786"
                        ],
                        [
                          0.5555555555555556,
                          "#d8576b"
                        ],
                        [
                          0.6666666666666666,
                          "#ed7953"
                        ],
                        [
                          0.7777777777777778,
                          "#fb9f3a"
                        ],
                        [
                          0.8888888888888888,
                          "#fdca26"
                        ],
                        [
                          1,
                          "#f0f921"
                        ]
                      ]
                    },
                    "colorway": [
                      "#636efa",
                      "#EF553B",
                      "#00cc96",
                      "#ab63fa",
                      "#FFA15A",
                      "#19d3f3",
                      "#FF6692",
                      "#B6E880",
                      "#FF97FF",
                      "#FECB52"
                    ],
                    "font": {
                      "color": "#2a3f5f"
                    },
                    "geo": {
                      "bgcolor": "white",
                      "lakecolor": "white",
                      "landcolor": "#E5ECF6",
                      "showlakes": true,
                      "showland": true,
                      "subunitcolor": "white"
                    },
                    "hoverlabel": {
                      "align": "left"
                    },
                    "hovermode": "closest",
                    "mapbox": {
                      "style": "light"
                    },
                    "paper_bgcolor": "white",
                    "plot_bgcolor": "#E5ECF6",
                    "polar": {
                      "angularaxis": {
                        "gridcolor": "white",
                        "linecolor": "white",
                        "ticks": ""
                      },
                      "bgcolor": "#E5ECF6",
                      "radialaxis": {
                        "gridcolor": "white",
                        "linecolor": "white",
                        "ticks": ""
                      }
                    },
                    "scene": {
                      "xaxis": {
                        "backgroundcolor": "#E5ECF6",
                        "gridcolor": "white",
                        "gridwidth": 2,
                        "linecolor": "white",
                        "showbackground": true,
                        "ticks": "",
                        "zerolinecolor": "white"
                      },
                      "yaxis": {
                        "backgroundcolor": "#E5ECF6",
                        "gridcolor": "white",
                        "gridwidth": 2,
                        "linecolor": "white",
                        "showbackground": true,
                        "ticks": "",
                        "zerolinecolor": "white"
                      },
                      "zaxis": {
                        "backgroundcolor": "#E5ECF6",
                        "gridcolor": "white",
                        "gridwidth": 2,
                        "linecolor": "white",
                        "showbackground": true,
                        "ticks": "",
                        "zerolinecolor": "white"
                      }
                    },
                    "shapedefaults": {
                      "line": {
                        "color": "#2a3f5f"
                      }
                    },
                    "ternary": {
                      "aaxis": {
                        "gridcolor": "white",
                        "linecolor": "white",
                        "ticks": ""
                      },
                      "baxis": {
                        "gridcolor": "white",
                        "linecolor": "white",
                        "ticks": ""
                      },
                      "bgcolor": "#E5ECF6",
                      "caxis": {
                        "gridcolor": "white",
                        "linecolor": "white",
                        "ticks": ""
                      }
                    },
                    "title": {
                      "x": 0.05
                    },
                    "xaxis": {
                      "automargin": true,
                      "gridcolor": "white",
                      "linecolor": "white",
                      "ticks": "",
                      "title": {
                        "standoff": 15
                      },
                      "zerolinecolor": "white",
                      "zerolinewidth": 2
                    },
                    "yaxis": {
                      "automargin": true,
                      "gridcolor": "white",
                      "linecolor": "white",
                      "ticks": "",
                      "title": {
                        "standoff": 15
                      },
                      "zerolinecolor": "white",
                      "zerolinewidth": 2
                    }
                  }
                },
                "title": {
                  "text": "Distance group proportion by month"
                }
              }
            },
            "image/png": "[encoded data removed]",
            "text/html": [
              "<div>                            <div id=\"ffcbd0fd-4ce1-4580-9f9f-7fdcbca27865\" class=\"plotly-graph-div\" style=\"height:525px; width:100%;\"></div>            <script type=\"text/javascript\">                require([\"plotly\"], function(Plotly) {                    window.PLOTLYENV=window.PLOTLYENV || {};                                    if (document.getElementById(\"ffcbd0fd-4ce1-4580-9f9f-7fdcbca27865\")) {                    Plotly.newPlot(                        \"ffcbd0fd-4ce1-4580-9f9f-7fdcbca27865\",                        [{\"domain\":{\"x\":[0.0,1.0],\"y\":[0.0,1.0]},\"hovertemplate\":\"DistanceGroup=%{label}<br>Month=%{value}<extra></extra>\",\"labels\":[1,3,1,8,2,7,9,4,1,4,2,2,1,7,2,10,2,3,2,9,2,4,2,1,1,2,4,5,1,10,2,2,7,4,4,2,1,1,3,5,4,1,2,1,7,11,3,4,3,2,2,1,1,4,5,2,2,2,5,2,2,5,3,1,4,1,10,2,1,1,2,6,4,2,1,3,2,2,1,2,2,8,3,6,2,1,2,2,3,4,3,1,3,5,2,2,5,2,8,11,4,1,1,2,3,2,4,3,7,3,2,2,3,1,1,1,3,8,2,3,2,1,8,2,3,3,2,10,6,4,5,2,3,3,3,4,3,1,5,1,4,2,4,2,8,1,4,3,2,10,9,3,1,1,1,5,5,3,3,2,1,2,7,1,4,5,4,2,2,2,3,2,7,2,2,2,3,1,2,2,1,4,2,2,1,5,3,5,3,2,3,3,6,1,3,2,1,2,7,10,1,1,4,3,2,3,4,2,4,7,3,3,1,1,8,4,1,6,3,2,2,2,5,2,3,5,10,3,4,2,6,4,2,4,2,5,3,1,4,3,4,3,11,6,5,2,7,2,4,2,4,5,2,8,7,2,1,2,2,1,1,1,3,11,5,6,1,3,2,3,3,4,3,2,3,2,2,1,1,2,11,4,4,4,4,3,4,4,8,2,5,2,4,2,2,11,2,3,2,1,3,7,2,8,2,5,1,3,4,5,1,5,2,2,2,4,1,5,1,5,5,7,2,6,2,6,3,4,3,3,2,2,2,3,2,2,8,6,2,1,1,1,6,5,4,5,3,4,1,2,2,7,4,1,3,5,4,3,2,7,2,1,1,11,4,5,2,3,2,2,7,2,1,3,2,3,2,11,4,2,5,1,3,3,2,4,7,3,3,3,4,5,4,2,2,3,2,1,2,3,4,4,5,3,4,2,1,1,6,3,1,2,2,1,5,2,3,5,3,2,4,3,4,7,3,3,2,3,3,3,8,3,3,1,2,8,1,1,2,5,3,1,1,2,7,1,4,11,4,1,4,2,4,1,2,10,5,4,1,1,5,1,3,1,2,4,4,2,4,2,1,11,3,2,1,2,9,7,3,3,2,7,4,1,1,6,3,3,8,1,4,4,3,5,1,2,7,5,2,5],\"legendgroup\":\"\",\"name\":\"\",\"showlegend\":true,\"values\":[3,8,7,10,2,1,2,1,3,11,8,8,9,11,3,10,3,2,12,12,7,10,1,6,8,1,2,12,10,11,5,11,9,4,10,7,9,10,7,1,1,7,5,6,4,3,2,2,10,12,4,2,11,11,4,11,7,7,5,11,4,7,9,5,4,5,3,12,5,3,7,5,1,1,3,7,8,10,11,3,4,2,4,12,5,8,12,6,7,12,8,2,8,8,5,7,6,9,7,10,1,5,6,5,12,8,7,12,12,12,6,4,6,7,12,3,6,7,8,10,11,7,2,4,2,1,4,4,9,4,6,2,9,7,4,1,12,5,8,8,12,5,12,2,7,5,5,9,7,6,5,10,4,1,9,8,8,1,1,6,1,4,3,4,9,10,2,11,10,2,4,5,11,1,4,11,4,12,5,6,12,9,9,4,12,4,12,7,10,3,8,3,10,12,12,6,10,8,5,12,8,11,7,1,12,1,6,6,4,12,3,10,3,12,10,10,12,7,9,7,11,8,12,11,2,9,9,5,6,9,3,9,12,5,4,7,1,2,10,6,8,6,10,11,7,8,12,4,7,11,4,6,5,11,4,1,2,12,3,3,9,9,12,10,12,7,9,1,7,2,4,8,7,8,5,1,4,1,7,8,9,6,1,4,3,11,9,12,12,11,3,8,10,11,5,11,3,8,5,8,6,5,4,8,2,4,11,5,7,3,12,2,3,10,10,1,1,6,11,9,1,4,1,9,6,5,5,8,9,10,6,12,1,5,10,5,7,11,10,8,7,12,12,4,12,12,12,9,12,7,12,11,8,6,11,9,5,10,4,3,1,8,12,1,12,12,2,10,3,9,1,5,4,5,10,5,3,12,4,3,12,5,11,12,4,2,9,2,7,11,6,6,6,1,9,7,6,4,3,4,4,8,7,11,5,11,9,10,8,12,3,11,7,3,12,8,9,9,1,12,8,3,10,11,5,2,11,5,2,10,3,1,2,8,2,5,11,11,12,4,6,4,5,8,4,2,8,5,5,3,2,4,5,1,3,3,1,3,8,10,1,2,1,9,7,7,9,6,9,4,1,7,2,9,9,11,2,7,8,2,3,1,12,5,12,10,7,4,11,3,11,5,7,1,11,7,6,3,4,1],\"type\":\"pie\"}],                        {\"template\":{\"data\":{\"histogram2dcontour\":[{\"type\":\"histogram2dcontour\",\"colorbar\":{\"outlinewidth\":0,\"ticks\":\"\"},\"colorscale\":[[0.0,\"#0d0887\"],[0.1111111111111111,\"#46039f\"],[0.2222222222222222,\"#7201a8\"],[0.3333333333333333,\"#9c179e\"],[0.4444444444444444,\"#bd3786\"],[0.5555555555555556,\"#d8576b\"],[0.6666666666666666,\"#ed7953\"],[0.7777777777777778,\"#fb9f3a\"],[0.8888888888888888,\"#fdca26\"],[1.0,\"#f0f921\"]]}],\"choropleth\":[{\"type\":\"choropleth\",\"colorbar\":{\"outlinewidth\":0,\"ticks\":\"\"}}],\"histogram2d\":[{\"type\":\"histogram2d\",\"colorbar\":{\"outlinewidth\":0,\"ticks\":\"\"},\"colorscale\":[[0.0,\"#0d0887\"],[0.1111111111111111,\"#46039f\"],[0.2222222222222222,\"#7201a8\"],[0.3333333333333333,\"#9c179e\"],[0.4444444444444444,\"#bd3786\"],[0.5555555555555556,\"#d8576b\"],[0.6666666666666666,\"#ed7953\"],[0.7777777777777778,\"#fb9f3a\"],[0.8888888888888888,\"#fdca26\"],[1.0,\"#f0f921\"]]}],\"heatmap\":[{\"type\":\"heatmap\",\"colorbar\":{\"outlinewidth\":0,\"ticks\":\"\"},\"colorscale\":[[0.0,\"#0d0887\"],[0.1111111111111111,\"#46039f\"],[0.2222222222222222,\"#7201a8\"],[0.3333333333333333,\"#9c179e\"],[0.4444444444444444,\"#bd3786\"],[0.5555555555555556,\"#d8576b\"],[0.6666666666666666,\"#ed7953\"],[0.7777777777777778,\"#fb9f3a\"],[0.8888888888888888,\"#fdca26\"],[1.0,\"#f0f921\"]]}],\"heatmapgl\":[{\"type\":\"heatmapgl\",\"colorbar\":{\"outlinewidth\":0,\"ticks\":\"\"},\"colorscale\":[[0.0,\"#0d0887\"],[0.1111111111111111,\"#46039f\"],[0.2222222222222222,\"#7201a8\"],[0.3333333333333333,\"#9c179e\"],[0.4444444444444444,\"#bd3786\"],[0.5555555555555556,\"#d8576b\"],[0.6666666666666666,\"#ed7953\"],[0.7777777777777778,\"#fb9f3a\"],[0.8888888888888888,\"#fdca26\"],[1.0,\"#f0f921\"]]}],\"contourcarpet\":[{\"type\":\"contourcarpet\",\"colorbar\":{\"outlinewidth\":0,\"ticks\":\"\"}}],\"contour\":[{\"type\":\"contour\",\"colorbar\":{\"outlinewidth\":0,\"ticks\":\"\"},\"colorscale\":[[0.0,\"#0d0887\"],[0.1111111111111111,\"#46039f\"],[0.2222222222222222,\"#7201a8\"],[0.3333333333333333,\"#9c179e\"],[0.4444444444444444,\"#bd3786\"],[0.5555555555555556,\"#d8576b\"],[0.6666666666666666,\"#ed7953\"],[0.7777777777777778,\"#fb9f3a\"],[0.8888888888888888,\"#fdca26\"],[1.0,\"#f0f921\"]]}],\"surface\":[{\"type\":\"surface\",\"colorbar\":{\"outlinewidth\":0,\"ticks\":\"\"},\"colorscale\":[[0.0,\"#0d0887\"],[0.1111111111111111,\"#46039f\"],[0.2222222222222222,\"#7201a8\"],[0.3333333333333333,\"#9c179e\"],[0.4444444444444444,\"#bd3786\"],[0.5555555555555556,\"#d8576b\"],[0.6666666666666666,\"#ed7953\"],[0.7777777777777778,\"#fb9f3a\"],[0.8888888888888888,\"#fdca26\"],[1.0,\"#f0f921\"]]}],\"mesh3d\":[{\"type\":\"mesh3d\",\"colorbar\":{\"outlinewidth\":0,\"ticks\":\"\"}}],\"scatter\":[{\"fillpattern\":{\"fillmode\":\"overlay\",\"size\":10,\"solidity\":0.2},\"type\":\"scatter\"}],\"parcoords\":[{\"type\":\"parcoords\",\"line\":{\"colorbar\":{\"outlinewidth\":0,\"ticks\":\"\"}}}],\"scatterpolargl\":[{\"type\":\"scatterpolargl\",\"marker\":{\"colorbar\":{\"outlinewidth\":0,\"ticks\":\"\"}}}],\"bar\":[{\"error_x\":{\"color\":\"#2a3f5f\"},\"error_y\":{\"color\":\"#2a3f5f\"},\"marker\":{\"line\":{\"color\":\"#E5ECF6\",\"width\":0.5},\"pattern\":{\"fillmode\":\"overlay\",\"size\":10,\"solidity\":0.2}},\"type\":\"bar\"}],\"scattergeo\":[{\"type\":\"scattergeo\",\"marker\":{\"colorbar\":{\"outlinewidth\":0,\"ticks\":\"\"}}}],\"scatterpolar\":[{\"type\":\"scatterpolar\",\"marker\":{\"colorbar\":{\"outlinewidth\":0,\"ticks\":\"\"}}}],\"histogram\":[{\"marker\":{\"pattern\":{\"fillmode\":\"overlay\",\"size\":10,\"solidity\":0.2}},\"type\":\"histogram\"}],\"scattergl\":[{\"type\":\"scattergl\",\"marker\":{\"colorbar\":{\"outlinewidth\":0,\"ticks\":\"\"}}}],\"scatter3d\":[{\"type\":\"scatter3d\",\"line\":{\"colorbar\":{\"outlinewidth\":0,\"ticks\":\"\"}},\"marker\":{\"colorbar\":{\"outlinewidth\":0,\"ticks\":\"\"}}}],\"scattermapbox\":[{\"type\":\"scattermapbox\",\"marker\":{\"colorbar\":{\"outlinewidth\":0,\"ticks\":\"\"}}}],\"scatterternary\":[{\"type\":\"scatterternary\",\"marker\":{\"colorbar\":{\"outlinewidth\":0,\"ticks\":\"\"}}}],\"scattercarpet\":[{\"type\":\"scattercarpet\",\"marker\":{\"colorbar\":{\"outlinewidth\":0,\"ticks\":\"\"}}}],\"carpet\":[{\"aaxis\":{\"endlinecolor\":\"#2a3f5f\",\"gridcolor\":\"white\",\"linecolor\":\"white\",\"minorgridcolor\":\"white\",\"startlinecolor\":\"#2a3f5f\"},\"baxis\":{\"endlinecolor\":\"#2a3f5f\",\"gridcolor\":\"white\",\"linecolor\":\"white\",\"minorgridcolor\":\"white\",\"startlinecolor\":\"#2a3f5f\"},\"type\":\"carpet\"}],\"table\":[{\"cells\":{\"fill\":{\"color\":\"#EBF0F8\"},\"line\":{\"color\":\"white\"}},\"header\":{\"fill\":{\"color\":\"#C8D4E3\"},\"line\":{\"color\":\"white\"}},\"type\":\"table\"}],\"barpolar\":[{\"marker\":{\"line\":{\"color\":\"#E5ECF6\",\"width\":0.5},\"pattern\":{\"fillmode\":\"overlay\",\"size\":10,\"solidity\":0.2}},\"type\":\"barpolar\"}],\"pie\":[{\"automargin\":true,\"type\":\"pie\"}]},\"layout\":{\"autotypenumbers\":\"strict\",\"colorway\":[\"#636efa\",\"#EF553B\",\"#00cc96\",\"#ab63fa\",\"#FFA15A\",\"#19d3f3\",\"#FF6692\",\"#B6E880\",\"#FF97FF\",\"#FECB52\"],\"font\":{\"color\":\"#2a3f5f\"},\"hovermode\":\"closest\",\"hoverlabel\":{\"align\":\"left\"},\"paper_bgcolor\":\"white\",\"plot_bgcolor\":\"#E5ECF6\",\"polar\":{\"bgcolor\":\"#E5ECF6\",\"angularaxis\":{\"gridcolor\":\"white\",\"linecolor\":\"white\",\"ticks\":\"\"},\"radialaxis\":{\"gridcolor\":\"white\",\"linecolor\":\"white\",\"ticks\":\"\"}},\"ternary\":{\"bgcolor\":\"#E5ECF6\",\"aaxis\":{\"gridcolor\":\"white\",\"linecolor\":\"white\",\"ticks\":\"\"},\"baxis\":{\"gridcolor\":\"white\",\"linecolor\":\"white\",\"ticks\":\"\"},\"caxis\":{\"gridcolor\":\"white\",\"linecolor\":\"white\",\"ticks\":\"\"}},\"coloraxis\":{\"colorbar\":{\"outlinewidth\":0,\"ticks\":\"\"}},\"colorscale\":{\"sequential\":[[0.0,\"#0d0887\"],[0.1111111111111111,\"#46039f\"],[0.2222222222222222,\"#7201a8\"],[0.3333333333333333,\"#9c179e\"],[0.4444444444444444,\"#bd3786\"],[0.5555555555555556,\"#d8576b\"],[0.6666666666666666,\"#ed7953\"],[0.7777777777777778,\"#fb9f3a\"],[0.8888888888888888,\"#fdca26\"],[1.0,\"#f0f921\"]],\"sequentialminus\":[[0.0,\"#0d0887\"],[0.1111111111111111,\"#46039f\"],[0.2222222222222222,\"#7201a8\"],[0.3333333333333333,\"#9c179e\"],[0.4444444444444444,\"#bd3786\"],[0.5555555555555556,\"#d8576b\"],[0.6666666666666666,\"#ed7953\"],[0.7777777777777778,\"#fb9f3a\"],[0.8888888888888888,\"#fdca26\"],[1.0,\"#f0f921\"]],\"diverging\":[[0,\"#8e0152\"],[0.1,\"#c51b7d\"],[0.2,\"#de77ae\"],[0.3,\"#f1b6da\"],[0.4,\"#fde0ef\"],[0.5,\"#f7f7f7\"],[0.6,\"#e6f5d0\"],[0.7,\"#b8e186\"],[0.8,\"#7fbc41\"],[0.9,\"#4d9221\"],[1,\"#276419\"]]},\"xaxis\":{\"gridcolor\":\"white\",\"linecolor\":\"white\",\"ticks\":\"\",\"title\":{\"standoff\":15},\"zerolinecolor\":\"white\",\"automargin\":true,\"zerolinewidth\":2},\"yaxis\":{\"gridcolor\":\"white\",\"linecolor\":\"white\",\"ticks\":\"\",\"title\":{\"standoff\":15},\"zerolinecolor\":\"white\",\"automargin\":true,\"zerolinewidth\":2},\"scene\":{\"xaxis\":{\"backgroundcolor\":\"#E5ECF6\",\"gridcolor\":\"white\",\"linecolor\":\"white\",\"showbackground\":true,\"ticks\":\"\",\"zerolinecolor\":\"white\",\"gridwidth\":2},\"yaxis\":{\"backgroundcolor\":\"#E5ECF6\",\"gridcolor\":\"white\",\"linecolor\":\"white\",\"showbackground\":true,\"ticks\":\"\",\"zerolinecolor\":\"white\",\"gridwidth\":2},\"zaxis\":{\"backgroundcolor\":\"#E5ECF6\",\"gridcolor\":\"white\",\"linecolor\":\"white\",\"showbackground\":true,\"ticks\":\"\",\"zerolinecolor\":\"white\",\"gridwidth\":2}},\"shapedefaults\":{\"line\":{\"color\":\"#2a3f5f\"}},\"annotationdefaults\":{\"arrowcolor\":\"#2a3f5f\",\"arrowhead\":0,\"arrowwidth\":1},\"geo\":{\"bgcolor\":\"white\",\"landcolor\":\"#E5ECF6\",\"subunitcolor\":\"white\",\"showland\":true,\"showlakes\":true,\"lakecolor\":\"white\"},\"title\":{\"x\":0.05},\"mapbox\":{\"style\":\"light\"}}},\"legend\":{\"tracegroupgap\":0},\"title\":{\"text\":\"Distance group proportion by month\"}},                        {\"responsive\": true}                    ).then(function(){\n",
              "                            \n",
              "var gd = document.getElementById('ffcbd0fd-4ce1-4580-9f9f-7fdcbca27865');\n",
              "var x = new MutationObserver(function (mutations, observer) {{\n",
              "        var display = window.getComputedStyle(gd).display;\n",
              "        if (!display || display === 'none') {{\n",
              "            console.log([gd, 'removed!']);\n",
              "            Plotly.purge(gd);\n",
              "            observer.disconnect();\n",
              "        }}\n",
              "}});\n",
              "\n",
              "// Listen for the removal of the full notebook cells\n",
              "var notebookContainer = gd.closest('#notebook-container');\n",
              "if (notebookContainer) {{\n",
              "    x.observe(notebookContainer, {childList: true});\n",
              "}}\n",
              "\n",
              "// Listen for the clearing of the current output cell\n",
              "var outputEl = gd.closest('.output');\n",
              "if (outputEl) {{\n",
              "    x.observe(outputEl, {childList: true});\n",
              "}}\n",
              "\n",
              "                        })                };                });            </script>        </div>"
            ]
          },
          "metadata": {},
          "output_type": "display_data"
        }
      ],
      "source": [
        "# Use px.pie function to create the chart. Input dataset. \n",
        "# Values parameter will set values associated to the sector. 'Month' feature is passed to it.\n",
        "# labels for the sector are passed to the `names` parameter.\n",
        "fig = px.pie(data, values='Month', names='DistanceGroup', title='Distance group proportion by month')\n",
        "fig.show()"
      ]
    },
    {
      "cell_type": "markdown",
      "metadata": {},
      "source": [
        "# Sunburst Charts\n"
      ]
    },
    {
      "cell_type": "markdown",
      "metadata": {},
      "source": [
        "Learn more about sunburst chart [here](https://plotly.com/python/sunburst-charts/?utm_medium=Exinfluencer&utm_source=Exinfluencer&utm_content=000026UJ&utm_term=10006555&utm_id=NA-SkillsNetwork-Channel-SkillsNetworkCoursesIBMDeveloperSkillsNetworkDV0101ENSkillsNetwork20297740-2021-01-01)\n",
        "\n",
        "#### Idea: Hierarchical view in othe order of month and destination state holding value of number of flights\n"
      ]
    },
    {
      "cell_type": "markdown",
      "metadata": {},
      "source": [
        "**To do**\n",
        "\n",
        "*   Create sunburst chart using `px.sunburst`.\n",
        "*   Define hierarchy of sectors from root to leaves in `path` parameter. Here, we go from `Month` to `DestStateName` feature.\n",
        "*   Set sector values in `values` paramter. Here, we can pass in `Flights` feature.\n",
        "*   Show the figure.\n"
      ]
    },
    {
      "cell_type": "code",
      "execution_count": 53,
      "metadata": {
        "trusted": true
      },
      "outputs": [
        {
          "data": {
            "application/vnd.plotly.v1+json": {
              "config": {
                "plotlyServerURL": "https://plot.ly"
              },
              "data": [
                {
                  "branchvalues": "total",
                  "domain": {
                    "x": [
                      0,
                      1
                    ],
                    "y": [
                      0,
                      1
                    ]
                  },
                  "hovertemplate": "labels=%{label}<br>Flights=%{value}<br>parent=%{parent}<br>id=%{id}<extra></extra>",
                  "ids": [
                    "6/Alabama",
                    "12/Alabama",
                    "4/Alaska",
                    "6/Alaska",
                    "10/Alaska",
                    "11/Alaska",
                    "1/Arizona",
                    "5/Arizona",
                    "7/Arizona",
                    "8/Arizona",
                    "11/Arizona",
                    "12/Arizona",
                    "1/California",
                    "2/California",
                    "3/California",
                    "4/California",
                    "5/California",
                    "6/California",
                    "7/California",
                    "8/California",
                    "9/California",
                    "10/California",
                    "11/California",
                    "12/California",
                    "1/Colorado",
                    "2/Colorado",
                    "3/Colorado",
                    "4/Colorado",
                    "5/Colorado",
                    "6/Colorado",
                    "7/Colorado",
                    "8/Colorado",
                    "10/Colorado",
                    "11/Colorado",
                    "12/Colorado",
                    "1/Connecticut",
                    "3/Connecticut",
                    "6/Connecticut",
                    "7/Connecticut",
                    "8/Connecticut",
                    "1/Florida",
                    "2/Florida",
                    "3/Florida",
                    "4/Florida",
                    "5/Florida",
                    "7/Florida",
                    "8/Florida",
                    "9/Florida",
                    "10/Florida",
                    "11/Florida",
                    "12/Florida",
                    "1/Georgia",
                    "2/Georgia",
                    "3/Georgia",
                    "4/Georgia",
                    "5/Georgia",
                    "6/Georgia",
                    "7/Georgia",
                    "8/Georgia",
                    "9/Georgia",
                    "10/Georgia",
                    "11/Georgia",
                    "12/Georgia",
                    "3/Hawaii",
                    "8/Hawaii",
                    "9/Hawaii",
                    "2/Idaho",
                    "1/Illinois",
                    "2/Illinois",
                    "3/Illinois",
                    "4/Illinois",
                    "5/Illinois",
                    "6/Illinois",
                    "7/Illinois",
                    "8/Illinois",
                    "9/Illinois",
                    "10/Illinois",
                    "11/Illinois",
                    "12/Illinois",
                    "2/Indiana",
                    "5/Indiana",
                    "9/Indiana",
                    "11/Indiana",
                    "1/Iowa",
                    "10/Kansas",
                    "2/Kentucky",
                    "3/Kentucky",
                    "4/Kentucky",
                    "6/Kentucky",
                    "7/Kentucky",
                    "10/Kentucky",
                    "11/Kentucky",
                    "12/Kentucky",
                    "1/Louisiana",
                    "6/Louisiana",
                    "11/Louisiana",
                    "1/Maryland",
                    "5/Maryland",
                    "6/Maryland",
                    "11/Maryland",
                    "12/Maryland",
                    "1/Massachusetts",
                    "7/Massachusetts",
                    "9/Massachusetts",
                    "10/Massachusetts",
                    "11/Massachusetts",
                    "12/Massachusetts",
                    "1/Michigan",
                    "2/Michigan",
                    "3/Michigan",
                    "4/Michigan",
                    "6/Michigan",
                    "7/Michigan",
                    "9/Michigan",
                    "10/Michigan",
                    "11/Michigan",
                    "12/Michigan",
                    "1/Minnesota",
                    "4/Minnesota",
                    "7/Minnesota",
                    "8/Minnesota",
                    "9/Minnesota",
                    "10/Minnesota",
                    "12/Minnesota",
                    "3/Missouri",
                    "4/Missouri",
                    "5/Missouri",
                    "7/Missouri",
                    "8/Missouri",
                    "9/Missouri",
                    "11/Missouri",
                    "12/Missouri",
                    "3/Montana",
                    "6/Montana",
                    "12/Montana",
                    "7/Nebraska",
                    "9/Nebraska",
                    "1/Nevada",
                    "2/Nevada",
                    "4/Nevada",
                    "5/Nevada",
                    "6/Nevada",
                    "7/Nevada",
                    "8/Nevada",
                    "9/Nevada",
                    "10/Nevada",
                    "11/Nevada",
                    "12/Nevada",
                    "3/New Hampshire",
                    "1/New Jersey",
                    "7/New Jersey",
                    "10/New Jersey",
                    "11/New Jersey",
                    "10/New Mexico",
                    "1/New York",
                    "2/New York",
                    "3/New York",
                    "5/New York",
                    "6/New York",
                    "7/New York",
                    "8/New York",
                    "10/New York",
                    "11/New York",
                    "12/New York",
                    "2/North Carolina",
                    "5/North Carolina",
                    "6/North Carolina",
                    "7/North Carolina",
                    "9/North Carolina",
                    "10/North Carolina",
                    "11/North Carolina",
                    "12/North Carolina",
                    "4/Ohio",
                    "5/Ohio",
                    "6/Ohio",
                    "9/Ohio",
                    "10/Ohio",
                    "4/Oklahoma",
                    "5/Oklahoma",
                    "8/Oklahoma",
                    "11/Oklahoma",
                    "3/Oregon",
                    "8/Oregon",
                    "10/Oregon",
                    "1/Pennsylvania",
                    "4/Pennsylvania",
                    "5/Pennsylvania",
                    "7/Pennsylvania",
                    "8/Pennsylvania",
                    "9/Pennsylvania",
                    "10/Pennsylvania",
                    "12/Pennsylvania",
                    "2/Puerto Rico",
                    "7/Puerto Rico",
                    "3/Rhode Island",
                    "11/South Carolina",
                    "1/Tennessee",
                    "2/Tennessee",
                    "4/Tennessee",
                    "5/Tennessee",
                    "6/Tennessee",
                    "7/Tennessee",
                    "9/Tennessee",
                    "10/Tennessee",
                    "11/Tennessee",
                    "12/Tennessee",
                    "1/Texas",
                    "2/Texas",
                    "3/Texas",
                    "4/Texas",
                    "5/Texas",
                    "6/Texas",
                    "7/Texas",
                    "8/Texas",
                    "9/Texas",
                    "10/Texas",
                    "11/Texas",
                    "12/Texas",
                    "5/U.S. Virgin Islands",
                    "1/Utah",
                    "2/Utah",
                    "5/Utah",
                    "6/Utah",
                    "7/Utah",
                    "2/Virginia",
                    "3/Virginia",
                    "4/Virginia",
                    "8/Virginia",
                    "9/Virginia",
                    "10/Virginia",
                    "11/Virginia",
                    "12/Virginia",
                    "1/Washington",
                    "2/Washington",
                    "3/Washington",
                    "4/Washington",
                    "5/Washington",
                    "6/Washington",
                    "8/Washington",
                    "9/Washington",
                    "12/Washington",
                    "2/Wisconsin",
                    "3/Wisconsin",
                    "5/Wisconsin",
                    "7/Wisconsin",
                    "8/Wisconsin",
                    "10/Wisconsin",
                    "11/Wisconsin",
                    "1",
                    "2",
                    "3",
                    "4",
                    "5",
                    "6",
                    "7",
                    "8",
                    "9",
                    "10",
                    "11",
                    "12"
                  ],
                  "labels": [
                    "Alabama",
                    "Alabama",
                    "Alaska",
                    "Alaska",
                    "Alaska",
                    "Alaska",
                    "Arizona",
                    "Arizona",
                    "Arizona",
                    "Arizona",
                    "Arizona",
                    "Arizona",
                    "California",
                    "California",
                    "California",
                    "California",
                    "California",
                    "California",
                    "California",
                    "California",
                    "California",
                    "California",
                    "California",
                    "California",
                    "Colorado",
                    "Colorado",
                    "Colorado",
                    "Colorado",
                    "Colorado",
                    "Colorado",
                    "Colorado",
                    "Colorado",
                    "Colorado",
                    "Colorado",
                    "Colorado",
                    "Connecticut",
                    "Connecticut",
                    "Connecticut",
                    "Connecticut",
                    "Connecticut",
                    "Florida",
                    "Florida",
                    "Florida",
                    "Florida",
                    "Florida",
                    "Florida",
                    "Florida",
                    "Florida",
                    "Florida",
                    "Florida",
                    "Florida",
                    "Georgia",
                    "Georgia",
                    "Georgia",
                    "Georgia",
                    "Georgia",
                    "Georgia",
                    "Georgia",
                    "Georgia",
                    "Georgia",
                    "Georgia",
                    "Georgia",
                    "Georgia",
                    "Hawaii",
                    "Hawaii",
                    "Hawaii",
                    "Idaho",
                    "Illinois",
                    "Illinois",
                    "Illinois",
                    "Illinois",
                    "Illinois",
                    "Illinois",
                    "Illinois",
                    "Illinois",
                    "Illinois",
                    "Illinois",
                    "Illinois",
                    "Illinois",
                    "Indiana",
                    "Indiana",
                    "Indiana",
                    "Indiana",
                    "Iowa",
                    "Kansas",
                    "Kentucky",
                    "Kentucky",
                    "Kentucky",
                    "Kentucky",
                    "Kentucky",
                    "Kentucky",
                    "Kentucky",
                    "Kentucky",
                    "Louisiana",
                    "Louisiana",
                    "Louisiana",
                    "Maryland",
                    "Maryland",
                    "Maryland",
                    "Maryland",
                    "Maryland",
                    "Massachusetts",
                    "Massachusetts",
                    "Massachusetts",
                    "Massachusetts",
                    "Massachusetts",
                    "Massachusetts",
                    "Michigan",
                    "Michigan",
                    "Michigan",
                    "Michigan",
                    "Michigan",
                    "Michigan",
                    "Michigan",
                    "Michigan",
                    "Michigan",
                    "Michigan",
                    "Minnesota",
                    "Minnesota",
                    "Minnesota",
                    "Minnesota",
                    "Minnesota",
                    "Minnesota",
                    "Minnesota",
                    "Missouri",
                    "Missouri",
                    "Missouri",
                    "Missouri",
                    "Missouri",
                    "Missouri",
                    "Missouri",
                    "Missouri",
                    "Montana",
                    "Montana",
                    "Montana",
                    "Nebraska",
                    "Nebraska",
                    "Nevada",
                    "Nevada",
                    "Nevada",
                    "Nevada",
                    "Nevada",
                    "Nevada",
                    "Nevada",
                    "Nevada",
                    "Nevada",
                    "Nevada",
                    "Nevada",
                    "New Hampshire",
                    "New Jersey",
                    "New Jersey",
                    "New Jersey",
                    "New Jersey",
                    "New Mexico",
                    "New York",
                    "New York",
                    "New York",
                    "New York",
                    "New York",
                    "New York",
                    "New York",
                    "New York",
                    "New York",
                    "New York",
                    "North Carolina",
                    "North Carolina",
                    "North Carolina",
                    "North Carolina",
                    "North Carolina",
                    "North Carolina",
                    "North Carolina",
                    "North Carolina",
                    "Ohio",
                    "Ohio",
                    "Ohio",
                    "Ohio",
                    "Ohio",
                    "Oklahoma",
                    "Oklahoma",
                    "Oklahoma",
                    "Oklahoma",
                    "Oregon",
                    "Oregon",
                    "Oregon",
                    "Pennsylvania",
                    "Pennsylvania",
                    "Pennsylvania",
                    "Pennsylvania",
                    "Pennsylvania",
                    "Pennsylvania",
                    "Pennsylvania",
                    "Pennsylvania",
                    "Puerto Rico",
                    "Puerto Rico",
                    "Rhode Island",
                    "South Carolina",
                    "Tennessee",
                    "Tennessee",
                    "Tennessee",
                    "Tennessee",
                    "Tennessee",
                    "Tennessee",
                    "Tennessee",
                    "Tennessee",
                    "Tennessee",
                    "Tennessee",
                    "Texas",
                    "Texas",
                    "Texas",
                    "Texas",
                    "Texas",
                    "Texas",
                    "Texas",
                    "Texas",
                    "Texas",
                    "Texas",
                    "Texas",
                    "Texas",
                    "U.S. Virgin Islands",
                    "Utah",
                    "Utah",
                    "Utah",
                    "Utah",
                    "Utah",
                    "Virginia",
                    "Virginia",
                    "Virginia",
                    "Virginia",
                    "Virginia",
                    "Virginia",
                    "Virginia",
                    "Virginia",
                    "Washington",
                    "Washington",
                    "Washington",
                    "Washington",
                    "Washington",
                    "Washington",
                    "Washington",
                    "Washington",
                    "Washington",
                    "Wisconsin",
                    "Wisconsin",
                    "Wisconsin",
                    "Wisconsin",
                    "Wisconsin",
                    "Wisconsin",
                    "Wisconsin",
                    "1",
                    "2",
                    "3",
                    "4",
                    "5",
                    "6",
                    "7",
                    "8",
                    "9",
                    "10",
                    "11",
                    "12"
                  ],
                  "name": "",
                  "parents": [
                    "6",
                    "12",
                    "4",
                    "6",
                    "10",
                    "11",
                    "1",
                    "5",
                    "7",
                    "8",
                    "11",
                    "12",
                    "1",
                    "2",
                    "3",
                    "4",
                    "5",
                    "6",
                    "7",
                    "8",
                    "9",
                    "10",
                    "11",
                    "12",
                    "1",
                    "2",
                    "3",
                    "4",
                    "5",
                    "6",
                    "7",
                    "8",
                    "10",
                    "11",
                    "12",
                    "1",
                    "3",
                    "6",
                    "7",
                    "8",
                    "1",
                    "2",
                    "3",
                    "4",
                    "5",
                    "7",
                    "8",
                    "9",
                    "10",
                    "11",
                    "12",
                    "1",
                    "2",
                    "3",
                    "4",
                    "5",
                    "6",
                    "7",
                    "8",
                    "9",
                    "10",
                    "11",
                    "12",
                    "3",
                    "8",
                    "9",
                    "2",
                    "1",
                    "2",
                    "3",
                    "4",
                    "5",
                    "6",
                    "7",
                    "8",
                    "9",
                    "10",
                    "11",
                    "12",
                    "2",
                    "5",
                    "9",
                    "11",
                    "1",
                    "10",
                    "2",
                    "3",
                    "4",
                    "6",
                    "7",
                    "10",
                    "11",
                    "12",
                    "1",
                    "6",
                    "11",
                    "1",
                    "5",
                    "6",
                    "11",
                    "12",
                    "1",
                    "7",
                    "9",
                    "10",
                    "11",
                    "12",
                    "1",
                    "2",
                    "3",
                    "4",
                    "6",
                    "7",
                    "9",
                    "10",
                    "11",
                    "12",
                    "1",
                    "4",
                    "7",
                    "8",
                    "9",
                    "10",
                    "12",
                    "3",
                    "4",
                    "5",
                    "7",
                    "8",
                    "9",
                    "11",
                    "12",
                    "3",
                    "6",
                    "12",
                    "7",
                    "9",
                    "1",
                    "2",
                    "4",
                    "5",
                    "6",
                    "7",
                    "8",
                    "9",
                    "10",
                    "11",
                    "12",
                    "3",
                    "1",
                    "7",
                    "10",
                    "11",
                    "10",
                    "1",
                    "2",
                    "3",
                    "5",
                    "6",
                    "7",
                    "8",
                    "10",
                    "11",
                    "12",
                    "2",
                    "5",
                    "6",
                    "7",
                    "9",
                    "10",
                    "11",
                    "12",
                    "4",
                    "5",
                    "6",
                    "9",
                    "10",
                    "4",
                    "5",
                    "8",
                    "11",
                    "3",
                    "8",
                    "10",
                    "1",
                    "4",
                    "5",
                    "7",
                    "8",
                    "9",
                    "10",
                    "12",
                    "2",
                    "7",
                    "3",
                    "11",
                    "1",
                    "2",
                    "4",
                    "5",
                    "6",
                    "7",
                    "9",
                    "10",
                    "11",
                    "12",
                    "1",
                    "2",
                    "3",
                    "4",
                    "5",
                    "6",
                    "7",
                    "8",
                    "9",
                    "10",
                    "11",
                    "12",
                    "5",
                    "1",
                    "2",
                    "5",
                    "6",
                    "7",
                    "2",
                    "3",
                    "4",
                    "8",
                    "9",
                    "10",
                    "11",
                    "12",
                    "1",
                    "2",
                    "3",
                    "4",
                    "5",
                    "6",
                    "8",
                    "9",
                    "12",
                    "2",
                    "3",
                    "5",
                    "7",
                    "8",
                    "10",
                    "11",
                    "",
                    "",
                    "",
                    "",
                    "",
                    "",
                    "",
                    "",
                    "",
                    "",
                    "",
                    ""
                  ],
                  "type": "sunburst",
                  "values": [
                    1,
                    2,
                    1,
                    1,
                    1,
                    1,
                    1,
                    1,
                    1,
                    3,
                    1,
                    1,
                    7,
                    6,
                    9,
                    7,
                    5,
                    3,
                    7,
                    6,
                    5,
                    2,
                    5,
                    6,
                    2,
                    1,
                    2,
                    1,
                    1,
                    2,
                    2,
                    3,
                    1,
                    3,
                    2,
                    1,
                    1,
                    1,
                    1,
                    1,
                    2,
                    3,
                    1,
                    5,
                    1,
                    5,
                    1,
                    2,
                    4,
                    2,
                    6,
                    1,
                    1,
                    3,
                    1,
                    1,
                    3,
                    3,
                    3,
                    3,
                    2,
                    2,
                    4,
                    2,
                    1,
                    2,
                    1,
                    5,
                    1,
                    2,
                    5,
                    4,
                    2,
                    4,
                    3,
                    2,
                    3,
                    1,
                    1,
                    1,
                    2,
                    2,
                    1,
                    1,
                    1,
                    1,
                    4,
                    2,
                    1,
                    2,
                    2,
                    1,
                    1,
                    1,
                    2,
                    1,
                    1,
                    1,
                    2,
                    1,
                    2,
                    2,
                    2,
                    1,
                    1,
                    1,
                    3,
                    1,
                    2,
                    3,
                    2,
                    1,
                    1,
                    1,
                    2,
                    2,
                    1,
                    1,
                    3,
                    1,
                    1,
                    1,
                    2,
                    2,
                    1,
                    3,
                    4,
                    3,
                    1,
                    2,
                    2,
                    2,
                    1,
                    1,
                    1,
                    1,
                    1,
                    1,
                    1,
                    1,
                    1,
                    1,
                    2,
                    1,
                    1,
                    1,
                    2,
                    1,
                    1,
                    1,
                    1,
                    2,
                    1,
                    1,
                    3,
                    2,
                    1,
                    3,
                    1,
                    1,
                    3,
                    2,
                    1,
                    4,
                    1,
                    2,
                    1,
                    2,
                    2,
                    1,
                    2,
                    2,
                    2,
                    4,
                    1,
                    1,
                    1,
                    2,
                    1,
                    2,
                    1,
                    1,
                    1,
                    1,
                    2,
                    2,
                    3,
                    1,
                    2,
                    2,
                    1,
                    1,
                    1,
                    1,
                    1,
                    1,
                    2,
                    1,
                    1,
                    2,
                    1,
                    1,
                    2,
                    1,
                    2,
                    1,
                    5,
                    4,
                    3,
                    7,
                    6,
                    5,
                    2,
                    5,
                    6,
                    2,
                    5,
                    10,
                    1,
                    2,
                    2,
                    1,
                    1,
                    1,
                    2,
                    1,
                    2,
                    1,
                    1,
                    1,
                    1,
                    2,
                    1,
                    1,
                    1,
                    1,
                    1,
                    1,
                    2,
                    1,
                    1,
                    2,
                    1,
                    1,
                    1,
                    1,
                    1,
                    1,
                    43,
                    34,
                    39,
                    48,
                    46,
                    32,
                    46,
                    41,
                    38,
                    36,
                    41,
                    56
                  ]
                }
              ],
              "layout": {
                "autosize": true,
                "legend": {
                  "tracegroupgap": 0
                },
                "margin": {
                  "t": 60
                },
                "template": {
                  "data": {
                    "bar": [
                      {
                        "error_x": {
                          "color": "#2a3f5f"
                        },
                        "error_y": {
                          "color": "#2a3f5f"
                        },
                        "marker": {
                          "line": {
                            "color": "#E5ECF6",
                            "width": 0.5
                          },
                          "pattern": {
                            "fillmode": "overlay",
                            "size": 10,
                            "solidity": 0.2
                          }
                        },
                        "type": "bar"
                      }
                    ],
                    "barpolar": [
                      {
                        "marker": {
                          "line": {
                            "color": "#E5ECF6",
                            "width": 0.5
                          },
                          "pattern": {
                            "fillmode": "overlay",
                            "size": 10,
                            "solidity": 0.2
                          }
                        },
                        "type": "barpolar"
                      }
                    ],
                    "carpet": [
                      {
                        "aaxis": {
                          "endlinecolor": "#2a3f5f",
                          "gridcolor": "white",
                          "linecolor": "white",
                          "minorgridcolor": "white",
                          "startlinecolor": "#2a3f5f"
                        },
                        "baxis": {
                          "endlinecolor": "#2a3f5f",
                          "gridcolor": "white",
                          "linecolor": "white",
                          "minorgridcolor": "white",
                          "startlinecolor": "#2a3f5f"
                        },
                        "type": "carpet"
                      }
                    ],
                    "choropleth": [
                      {
                        "colorbar": {
                          "outlinewidth": 0,
                          "ticks": ""
                        },
                        "type": "choropleth"
                      }
                    ],
                    "contour": [
                      {
                        "colorbar": {
                          "outlinewidth": 0,
                          "ticks": ""
                        },
                        "colorscale": [
                          [
                            0,
                            "#0d0887"
                          ],
                          [
                            0.1111111111111111,
                            "#46039f"
                          ],
                          [
                            0.2222222222222222,
                            "#7201a8"
                          ],
                          [
                            0.3333333333333333,
                            "#9c179e"
                          ],
                          [
                            0.4444444444444444,
                            "#bd3786"
                          ],
                          [
                            0.5555555555555556,
                            "#d8576b"
                          ],
                          [
                            0.6666666666666666,
                            "#ed7953"
                          ],
                          [
                            0.7777777777777778,
                            "#fb9f3a"
                          ],
                          [
                            0.8888888888888888,
                            "#fdca26"
                          ],
                          [
                            1,
                            "#f0f921"
                          ]
                        ],
                        "type": "contour"
                      }
                    ],
                    "contourcarpet": [
                      {
                        "colorbar": {
                          "outlinewidth": 0,
                          "ticks": ""
                        },
                        "type": "contourcarpet"
                      }
                    ],
                    "heatmap": [
                      {
                        "colorbar": {
                          "outlinewidth": 0,
                          "ticks": ""
                        },
                        "colorscale": [
                          [
                            0,
                            "#0d0887"
                          ],
                          [
                            0.1111111111111111,
                            "#46039f"
                          ],
                          [
                            0.2222222222222222,
                            "#7201a8"
                          ],
                          [
                            0.3333333333333333,
                            "#9c179e"
                          ],
                          [
                            0.4444444444444444,
                            "#bd3786"
                          ],
                          [
                            0.5555555555555556,
                            "#d8576b"
                          ],
                          [
                            0.6666666666666666,
                            "#ed7953"
                          ],
                          [
                            0.7777777777777778,
                            "#fb9f3a"
                          ],
                          [
                            0.8888888888888888,
                            "#fdca26"
                          ],
                          [
                            1,
                            "#f0f921"
                          ]
                        ],
                        "type": "heatmap"
                      }
                    ],
                    "heatmapgl": [
                      {
                        "colorbar": {
                          "outlinewidth": 0,
                          "ticks": ""
                        },
                        "colorscale": [
                          [
                            0,
                            "#0d0887"
                          ],
                          [
                            0.1111111111111111,
                            "#46039f"
                          ],
                          [
                            0.2222222222222222,
                            "#7201a8"
                          ],
                          [
                            0.3333333333333333,
                            "#9c179e"
                          ],
                          [
                            0.4444444444444444,
                            "#bd3786"
                          ],
                          [
                            0.5555555555555556,
                            "#d8576b"
                          ],
                          [
                            0.6666666666666666,
                            "#ed7953"
                          ],
                          [
                            0.7777777777777778,
                            "#fb9f3a"
                          ],
                          [
                            0.8888888888888888,
                            "#fdca26"
                          ],
                          [
                            1,
                            "#f0f921"
                          ]
                        ],
                        "type": "heatmapgl"
                      }
                    ],
                    "histogram": [
                      {
                        "marker": {
                          "pattern": {
                            "fillmode": "overlay",
                            "size": 10,
                            "solidity": 0.2
                          }
                        },
                        "type": "histogram"
                      }
                    ],
                    "histogram2d": [
                      {
                        "colorbar": {
                          "outlinewidth": 0,
                          "ticks": ""
                        },
                        "colorscale": [
                          [
                            0,
                            "#0d0887"
                          ],
                          [
                            0.1111111111111111,
                            "#46039f"
                          ],
                          [
                            0.2222222222222222,
                            "#7201a8"
                          ],
                          [
                            0.3333333333333333,
                            "#9c179e"
                          ],
                          [
                            0.4444444444444444,
                            "#bd3786"
                          ],
                          [
                            0.5555555555555556,
                            "#d8576b"
                          ],
                          [
                            0.6666666666666666,
                            "#ed7953"
                          ],
                          [
                            0.7777777777777778,
                            "#fb9f3a"
                          ],
                          [
                            0.8888888888888888,
                            "#fdca26"
                          ],
                          [
                            1,
                            "#f0f921"
                          ]
                        ],
                        "type": "histogram2d"
                      }
                    ],
                    "histogram2dcontour": [
                      {
                        "colorbar": {
                          "outlinewidth": 0,
                          "ticks": ""
                        },
                        "colorscale": [
                          [
                            0,
                            "#0d0887"
                          ],
                          [
                            0.1111111111111111,
                            "#46039f"
                          ],
                          [
                            0.2222222222222222,
                            "#7201a8"
                          ],
                          [
                            0.3333333333333333,
                            "#9c179e"
                          ],
                          [
                            0.4444444444444444,
                            "#bd3786"
                          ],
                          [
                            0.5555555555555556,
                            "#d8576b"
                          ],
                          [
                            0.6666666666666666,
                            "#ed7953"
                          ],
                          [
                            0.7777777777777778,
                            "#fb9f3a"
                          ],
                          [
                            0.8888888888888888,
                            "#fdca26"
                          ],
                          [
                            1,
                            "#f0f921"
                          ]
                        ],
                        "type": "histogram2dcontour"
                      }
                    ],
                    "mesh3d": [
                      {
                        "colorbar": {
                          "outlinewidth": 0,
                          "ticks": ""
                        },
                        "type": "mesh3d"
                      }
                    ],
                    "parcoords": [
                      {
                        "line": {
                          "colorbar": {
                            "outlinewidth": 0,
                            "ticks": ""
                          }
                        },
                        "type": "parcoords"
                      }
                    ],
                    "pie": [
                      {
                        "automargin": true,
                        "type": "pie"
                      }
                    ],
                    "scatter": [
                      {
                        "fillpattern": {
                          "fillmode": "overlay",
                          "size": 10,
                          "solidity": 0.2
                        },
                        "type": "scatter"
                      }
                    ],
                    "scatter3d": [
                      {
                        "line": {
                          "colorbar": {
                            "outlinewidth": 0,
                            "ticks": ""
                          }
                        },
                        "marker": {
                          "colorbar": {
                            "outlinewidth": 0,
                            "ticks": ""
                          }
                        },
                        "type": "scatter3d"
                      }
                    ],
                    "scattercarpet": [
                      {
                        "marker": {
                          "colorbar": {
                            "outlinewidth": 0,
                            "ticks": ""
                          }
                        },
                        "type": "scattercarpet"
                      }
                    ],
                    "scattergeo": [
                      {
                        "marker": {
                          "colorbar": {
                            "outlinewidth": 0,
                            "ticks": ""
                          }
                        },
                        "type": "scattergeo"
                      }
                    ],
                    "scattergl": [
                      {
                        "marker": {
                          "colorbar": {
                            "outlinewidth": 0,
                            "ticks": ""
                          }
                        },
                        "type": "scattergl"
                      }
                    ],
                    "scattermapbox": [
                      {
                        "marker": {
                          "colorbar": {
                            "outlinewidth": 0,
                            "ticks": ""
                          }
                        },
                        "type": "scattermapbox"
                      }
                    ],
                    "scatterpolar": [
                      {
                        "marker": {
                          "colorbar": {
                            "outlinewidth": 0,
                            "ticks": ""
                          }
                        },
                        "type": "scatterpolar"
                      }
                    ],
                    "scatterpolargl": [
                      {
                        "marker": {
                          "colorbar": {
                            "outlinewidth": 0,
                            "ticks": ""
                          }
                        },
                        "type": "scatterpolargl"
                      }
                    ],
                    "scatterternary": [
                      {
                        "marker": {
                          "colorbar": {
                            "outlinewidth": 0,
                            "ticks": ""
                          }
                        },
                        "type": "scatterternary"
                      }
                    ],
                    "surface": [
                      {
                        "colorbar": {
                          "outlinewidth": 0,
                          "ticks": ""
                        },
                        "colorscale": [
                          [
                            0,
                            "#0d0887"
                          ],
                          [
                            0.1111111111111111,
                            "#46039f"
                          ],
                          [
                            0.2222222222222222,
                            "#7201a8"
                          ],
                          [
                            0.3333333333333333,
                            "#9c179e"
                          ],
                          [
                            0.4444444444444444,
                            "#bd3786"
                          ],
                          [
                            0.5555555555555556,
                            "#d8576b"
                          ],
                          [
                            0.6666666666666666,
                            "#ed7953"
                          ],
                          [
                            0.7777777777777778,
                            "#fb9f3a"
                          ],
                          [
                            0.8888888888888888,
                            "#fdca26"
                          ],
                          [
                            1,
                            "#f0f921"
                          ]
                        ],
                        "type": "surface"
                      }
                    ],
                    "table": [
                      {
                        "cells": {
                          "fill": {
                            "color": "#EBF0F8"
                          },
                          "line": {
                            "color": "white"
                          }
                        },
                        "header": {
                          "fill": {
                            "color": "#C8D4E3"
                          },
                          "line": {
                            "color": "white"
                          }
                        },
                        "type": "table"
                      }
                    ]
                  },
                  "layout": {
                    "annotationdefaults": {
                      "arrowcolor": "#2a3f5f",
                      "arrowhead": 0,
                      "arrowwidth": 1
                    },
                    "autotypenumbers": "strict",
                    "coloraxis": {
                      "colorbar": {
                        "outlinewidth": 0,
                        "ticks": ""
                      }
                    },
                    "colorscale": {
                      "diverging": [
                        [
                          0,
                          "#8e0152"
                        ],
                        [
                          0.1,
                          "#c51b7d"
                        ],
                        [
                          0.2,
                          "#de77ae"
                        ],
                        [
                          0.3,
                          "#f1b6da"
                        ],
                        [
                          0.4,
                          "#fde0ef"
                        ],
                        [
                          0.5,
                          "#f7f7f7"
                        ],
                        [
                          0.6,
                          "#e6f5d0"
                        ],
                        [
                          0.7,
                          "#b8e186"
                        ],
                        [
                          0.8,
                          "#7fbc41"
                        ],
                        [
                          0.9,
                          "#4d9221"
                        ],
                        [
                          1,
                          "#276419"
                        ]
                      ],
                      "sequential": [
                        [
                          0,
                          "#0d0887"
                        ],
                        [
                          0.1111111111111111,
                          "#46039f"
                        ],
                        [
                          0.2222222222222222,
                          "#7201a8"
                        ],
                        [
                          0.3333333333333333,
                          "#9c179e"
                        ],
                        [
                          0.4444444444444444,
                          "#bd3786"
                        ],
                        [
                          0.5555555555555556,
                          "#d8576b"
                        ],
                        [
                          0.6666666666666666,
                          "#ed7953"
                        ],
                        [
                          0.7777777777777778,
                          "#fb9f3a"
                        ],
                        [
                          0.8888888888888888,
                          "#fdca26"
                        ],
                        [
                          1,
                          "#f0f921"
                        ]
                      ],
                      "sequentialminus": [
                        [
                          0,
                          "#0d0887"
                        ],
                        [
                          0.1111111111111111,
                          "#46039f"
                        ],
                        [
                          0.2222222222222222,
                          "#7201a8"
                        ],
                        [
                          0.3333333333333333,
                          "#9c179e"
                        ],
                        [
                          0.4444444444444444,
                          "#bd3786"
                        ],
                        [
                          0.5555555555555556,
                          "#d8576b"
                        ],
                        [
                          0.6666666666666666,
                          "#ed7953"
                        ],
                        [
                          0.7777777777777778,
                          "#fb9f3a"
                        ],
                        [
                          0.8888888888888888,
                          "#fdca26"
                        ],
                        [
                          1,
                          "#f0f921"
                        ]
                      ]
                    },
                    "colorway": [
                      "#636efa",
                      "#EF553B",
                      "#00cc96",
                      "#ab63fa",
                      "#FFA15A",
                      "#19d3f3",
                      "#FF6692",
                      "#B6E880",
                      "#FF97FF",
                      "#FECB52"
                    ],
                    "font": {
                      "color": "#2a3f5f"
                    },
                    "geo": {
                      "bgcolor": "white",
                      "lakecolor": "white",
                      "landcolor": "#E5ECF6",
                      "showlakes": true,
                      "showland": true,
                      "subunitcolor": "white"
                    },
                    "hoverlabel": {
                      "align": "left"
                    },
                    "hovermode": "closest",
                    "mapbox": {
                      "style": "light"
                    },
                    "paper_bgcolor": "white",
                    "plot_bgcolor": "#E5ECF6",
                    "polar": {
                      "angularaxis": {
                        "gridcolor": "white",
                        "linecolor": "white",
                        "ticks": ""
                      },
                      "bgcolor": "#E5ECF6",
                      "radialaxis": {
                        "gridcolor": "white",
                        "linecolor": "white",
                        "ticks": ""
                      }
                    },
                    "scene": {
                      "xaxis": {
                        "backgroundcolor": "#E5ECF6",
                        "gridcolor": "white",
                        "gridwidth": 2,
                        "linecolor": "white",
                        "showbackground": true,
                        "ticks": "",
                        "zerolinecolor": "white"
                      },
                      "yaxis": {
                        "backgroundcolor": "#E5ECF6",
                        "gridcolor": "white",
                        "gridwidth": 2,
                        "linecolor": "white",
                        "showbackground": true,
                        "ticks": "",
                        "zerolinecolor": "white"
                      },
                      "zaxis": {
                        "backgroundcolor": "#E5ECF6",
                        "gridcolor": "white",
                        "gridwidth": 2,
                        "linecolor": "white",
                        "showbackground": true,
                        "ticks": "",
                        "zerolinecolor": "white"
                      }
                    },
                    "shapedefaults": {
                      "line": {
                        "color": "#2a3f5f"
                      }
                    },
                    "ternary": {
                      "aaxis": {
                        "gridcolor": "white",
                        "linecolor": "white",
                        "ticks": ""
                      },
                      "baxis": {
                        "gridcolor": "white",
                        "linecolor": "white",
                        "ticks": ""
                      },
                      "bgcolor": "#E5ECF6",
                      "caxis": {
                        "gridcolor": "white",
                        "linecolor": "white",
                        "ticks": ""
                      }
                    },
                    "title": {
                      "x": 0.05
                    },
                    "xaxis": {
                      "automargin": true,
                      "gridcolor": "white",
                      "linecolor": "white",
                      "ticks": "",
                      "title": {
                        "standoff": 15
                      },
                      "zerolinecolor": "white",
                      "zerolinewidth": 2
                    },
                    "yaxis": {
                      "automargin": true,
                      "gridcolor": "white",
                      "linecolor": "white",
                      "ticks": "",
                      "title": {
                        "standoff": 15
                      },
                      "zerolinecolor": "white",
                      "zerolinewidth": 2
                    }
                  }
                }
              }
            },
            "image/png": "[encoded data removed]",
            "text/html": [
              "<div>                            <div id=\"f5df6ae0-a99b-489a-960d-1d9019b327f2\" class=\"plotly-graph-div\" style=\"height:525px; width:100%;\"></div>            <script type=\"text/javascript\">                require([\"plotly\"], function(Plotly) {                    window.PLOTLYENV=window.PLOTLYENV || {};                                    if (document.getElementById(\"f5df6ae0-a99b-489a-960d-1d9019b327f2\")) {                    Plotly.newPlot(                        \"f5df6ae0-a99b-489a-960d-1d9019b327f2\",                        [{\"branchvalues\":\"total\",\"domain\":{\"x\":[0.0,1.0],\"y\":[0.0,1.0]},\"hovertemplate\":\"labels=%{label}<br>Flights=%{value}<br>parent=%{parent}<br>id=%{id}<extra></extra>\",\"ids\":[\"6/Alabama\",\"12/Alabama\",\"4/Alaska\",\"6/Alaska\",\"10/Alaska\",\"11/Alaska\",\"1/Arizona\",\"5/Arizona\",\"7/Arizona\",\"8/Arizona\",\"11/Arizona\",\"12/Arizona\",\"1/California\",\"2/California\",\"3/California\",\"4/California\",\"5/California\",\"6/California\",\"7/California\",\"8/California\",\"9/California\",\"10/California\",\"11/California\",\"12/California\",\"1/Colorado\",\"2/Colorado\",\"3/Colorado\",\"4/Colorado\",\"5/Colorado\",\"6/Colorado\",\"7/Colorado\",\"8/Colorado\",\"10/Colorado\",\"11/Colorado\",\"12/Colorado\",\"1/Connecticut\",\"3/Connecticut\",\"6/Connecticut\",\"7/Connecticut\",\"8/Connecticut\",\"1/Florida\",\"2/Florida\",\"3/Florida\",\"4/Florida\",\"5/Florida\",\"7/Florida\",\"8/Florida\",\"9/Florida\",\"10/Florida\",\"11/Florida\",\"12/Florida\",\"1/Georgia\",\"2/Georgia\",\"3/Georgia\",\"4/Georgia\",\"5/Georgia\",\"6/Georgia\",\"7/Georgia\",\"8/Georgia\",\"9/Georgia\",\"10/Georgia\",\"11/Georgia\",\"12/Georgia\",\"3/Hawaii\",\"8/Hawaii\",\"9/Hawaii\",\"2/Idaho\",\"1/Illinois\",\"2/Illinois\",\"3/Illinois\",\"4/Illinois\",\"5/Illinois\",\"6/Illinois\",\"7/Illinois\",\"8/Illinois\",\"9/Illinois\",\"10/Illinois\",\"11/Illinois\",\"12/Illinois\",\"2/Indiana\",\"5/Indiana\",\"9/Indiana\",\"11/Indiana\",\"1/Iowa\",\"10/Kansas\",\"2/Kentucky\",\"3/Kentucky\",\"4/Kentucky\",\"6/Kentucky\",\"7/Kentucky\",\"10/Kentucky\",\"11/Kentucky\",\"12/Kentucky\",\"1/Louisiana\",\"6/Louisiana\",\"11/Louisiana\",\"1/Maryland\",\"5/Maryland\",\"6/Maryland\",\"11/Maryland\",\"12/Maryland\",\"1/Massachusetts\",\"7/Massachusetts\",\"9/Massachusetts\",\"10/Massachusetts\",\"11/Massachusetts\",\"12/Massachusetts\",\"1/Michigan\",\"2/Michigan\",\"3/Michigan\",\"4/Michigan\",\"6/Michigan\",\"7/Michigan\",\"9/Michigan\",\"10/Michigan\",\"11/Michigan\",\"12/Michigan\",\"1/Minnesota\",\"4/Minnesota\",\"7/Minnesota\",\"8/Minnesota\",\"9/Minnesota\",\"10/Minnesota\",\"12/Minnesota\",\"3/Missouri\",\"4/Missouri\",\"5/Missouri\",\"7/Missouri\",\"8/Missouri\",\"9/Missouri\",\"11/Missouri\",\"12/Missouri\",\"3/Montana\",\"6/Montana\",\"12/Montana\",\"7/Nebraska\",\"9/Nebraska\",\"1/Nevada\",\"2/Nevada\",\"4/Nevada\",\"5/Nevada\",\"6/Nevada\",\"7/Nevada\",\"8/Nevada\",\"9/Nevada\",\"10/Nevada\",\"11/Nevada\",\"12/Nevada\",\"3/New Hampshire\",\"1/New Jersey\",\"7/New Jersey\",\"10/New Jersey\",\"11/New Jersey\",\"10/New Mexico\",\"1/New York\",\"2/New York\",\"3/New York\",\"5/New York\",\"6/New York\",\"7/New York\",\"8/New York\",\"10/New York\",\"11/New York\",\"12/New York\",\"2/North Carolina\",\"5/North Carolina\",\"6/North Carolina\",\"7/North Carolina\",\"9/North Carolina\",\"10/North Carolina\",\"11/North Carolina\",\"12/North Carolina\",\"4/Ohio\",\"5/Ohio\",\"6/Ohio\",\"9/Ohio\",\"10/Ohio\",\"4/Oklahoma\",\"5/Oklahoma\",\"8/Oklahoma\",\"11/Oklahoma\",\"3/Oregon\",\"8/Oregon\",\"10/Oregon\",\"1/Pennsylvania\",\"4/Pennsylvania\",\"5/Pennsylvania\",\"7/Pennsylvania\",\"8/Pennsylvania\",\"9/Pennsylvania\",\"10/Pennsylvania\",\"12/Pennsylvania\",\"2/Puerto Rico\",\"7/Puerto Rico\",\"3/Rhode Island\",\"11/South Carolina\",\"1/Tennessee\",\"2/Tennessee\",\"4/Tennessee\",\"5/Tennessee\",\"6/Tennessee\",\"7/Tennessee\",\"9/Tennessee\",\"10/Tennessee\",\"11/Tennessee\",\"12/Tennessee\",\"1/Texas\",\"2/Texas\",\"3/Texas\",\"4/Texas\",\"5/Texas\",\"6/Texas\",\"7/Texas\",\"8/Texas\",\"9/Texas\",\"10/Texas\",\"11/Texas\",\"12/Texas\",\"5/U.S. Virgin Islands\",\"1/Utah\",\"2/Utah\",\"5/Utah\",\"6/Utah\",\"7/Utah\",\"2/Virginia\",\"3/Virginia\",\"4/Virginia\",\"8/Virginia\",\"9/Virginia\",\"10/Virginia\",\"11/Virginia\",\"12/Virginia\",\"1/Washington\",\"2/Washington\",\"3/Washington\",\"4/Washington\",\"5/Washington\",\"6/Washington\",\"8/Washington\",\"9/Washington\",\"12/Washington\",\"2/Wisconsin\",\"3/Wisconsin\",\"5/Wisconsin\",\"7/Wisconsin\",\"8/Wisconsin\",\"10/Wisconsin\",\"11/Wisconsin\",\"1\",\"2\",\"3\",\"4\",\"5\",\"6\",\"7\",\"8\",\"9\",\"10\",\"11\",\"12\"],\"labels\":[\"Alabama\",\"Alabama\",\"Alaska\",\"Alaska\",\"Alaska\",\"Alaska\",\"Arizona\",\"Arizona\",\"Arizona\",\"Arizona\",\"Arizona\",\"Arizona\",\"California\",\"California\",\"California\",\"California\",\"California\",\"California\",\"California\",\"California\",\"California\",\"California\",\"California\",\"California\",\"Colorado\",\"Colorado\",\"Colorado\",\"Colorado\",\"Colorado\",\"Colorado\",\"Colorado\",\"Colorado\",\"Colorado\",\"Colorado\",\"Colorado\",\"Connecticut\",\"Connecticut\",\"Connecticut\",\"Connecticut\",\"Connecticut\",\"Florida\",\"Florida\",\"Florida\",\"Florida\",\"Florida\",\"Florida\",\"Florida\",\"Florida\",\"Florida\",\"Florida\",\"Florida\",\"Georgia\",\"Georgia\",\"Georgia\",\"Georgia\",\"Georgia\",\"Georgia\",\"Georgia\",\"Georgia\",\"Georgia\",\"Georgia\",\"Georgia\",\"Georgia\",\"Hawaii\",\"Hawaii\",\"Hawaii\",\"Idaho\",\"Illinois\",\"Illinois\",\"Illinois\",\"Illinois\",\"Illinois\",\"Illinois\",\"Illinois\",\"Illinois\",\"Illinois\",\"Illinois\",\"Illinois\",\"Illinois\",\"Indiana\",\"Indiana\",\"Indiana\",\"Indiana\",\"Iowa\",\"Kansas\",\"Kentucky\",\"Kentucky\",\"Kentucky\",\"Kentucky\",\"Kentucky\",\"Kentucky\",\"Kentucky\",\"Kentucky\",\"Louisiana\",\"Louisiana\",\"Louisiana\",\"Maryland\",\"Maryland\",\"Maryland\",\"Maryland\",\"Maryland\",\"Massachusetts\",\"Massachusetts\",\"Massachusetts\",\"Massachusetts\",\"Massachusetts\",\"Massachusetts\",\"Michigan\",\"Michigan\",\"Michigan\",\"Michigan\",\"Michigan\",\"Michigan\",\"Michigan\",\"Michigan\",\"Michigan\",\"Michigan\",\"Minnesota\",\"Minnesota\",\"Minnesota\",\"Minnesota\",\"Minnesota\",\"Minnesota\",\"Minnesota\",\"Missouri\",\"Missouri\",\"Missouri\",\"Missouri\",\"Missouri\",\"Missouri\",\"Missouri\",\"Missouri\",\"Montana\",\"Montana\",\"Montana\",\"Nebraska\",\"Nebraska\",\"Nevada\",\"Nevada\",\"Nevada\",\"Nevada\",\"Nevada\",\"Nevada\",\"Nevada\",\"Nevada\",\"Nevada\",\"Nevada\",\"Nevada\",\"New Hampshire\",\"New Jersey\",\"New Jersey\",\"New Jersey\",\"New Jersey\",\"New Mexico\",\"New York\",\"New York\",\"New York\",\"New York\",\"New York\",\"New York\",\"New York\",\"New York\",\"New York\",\"New York\",\"North Carolina\",\"North Carolina\",\"North Carolina\",\"North Carolina\",\"North Carolina\",\"North Carolina\",\"North Carolina\",\"North Carolina\",\"Ohio\",\"Ohio\",\"Ohio\",\"Ohio\",\"Ohio\",\"Oklahoma\",\"Oklahoma\",\"Oklahoma\",\"Oklahoma\",\"Oregon\",\"Oregon\",\"Oregon\",\"Pennsylvania\",\"Pennsylvania\",\"Pennsylvania\",\"Pennsylvania\",\"Pennsylvania\",\"Pennsylvania\",\"Pennsylvania\",\"Pennsylvania\",\"Puerto Rico\",\"Puerto Rico\",\"Rhode Island\",\"South Carolina\",\"Tennessee\",\"Tennessee\",\"Tennessee\",\"Tennessee\",\"Tennessee\",\"Tennessee\",\"Tennessee\",\"Tennessee\",\"Tennessee\",\"Tennessee\",\"Texas\",\"Texas\",\"Texas\",\"Texas\",\"Texas\",\"Texas\",\"Texas\",\"Texas\",\"Texas\",\"Texas\",\"Texas\",\"Texas\",\"U.S. Virgin Islands\",\"Utah\",\"Utah\",\"Utah\",\"Utah\",\"Utah\",\"Virginia\",\"Virginia\",\"Virginia\",\"Virginia\",\"Virginia\",\"Virginia\",\"Virginia\",\"Virginia\",\"Washington\",\"Washington\",\"Washington\",\"Washington\",\"Washington\",\"Washington\",\"Washington\",\"Washington\",\"Washington\",\"Wisconsin\",\"Wisconsin\",\"Wisconsin\",\"Wisconsin\",\"Wisconsin\",\"Wisconsin\",\"Wisconsin\",\"1\",\"2\",\"3\",\"4\",\"5\",\"6\",\"7\",\"8\",\"9\",\"10\",\"11\",\"12\"],\"name\":\"\",\"parents\":[\"6\",\"12\",\"4\",\"6\",\"10\",\"11\",\"1\",\"5\",\"7\",\"8\",\"11\",\"12\",\"1\",\"2\",\"3\",\"4\",\"5\",\"6\",\"7\",\"8\",\"9\",\"10\",\"11\",\"12\",\"1\",\"2\",\"3\",\"4\",\"5\",\"6\",\"7\",\"8\",\"10\",\"11\",\"12\",\"1\",\"3\",\"6\",\"7\",\"8\",\"1\",\"2\",\"3\",\"4\",\"5\",\"7\",\"8\",\"9\",\"10\",\"11\",\"12\",\"1\",\"2\",\"3\",\"4\",\"5\",\"6\",\"7\",\"8\",\"9\",\"10\",\"11\",\"12\",\"3\",\"8\",\"9\",\"2\",\"1\",\"2\",\"3\",\"4\",\"5\",\"6\",\"7\",\"8\",\"9\",\"10\",\"11\",\"12\",\"2\",\"5\",\"9\",\"11\",\"1\",\"10\",\"2\",\"3\",\"4\",\"6\",\"7\",\"10\",\"11\",\"12\",\"1\",\"6\",\"11\",\"1\",\"5\",\"6\",\"11\",\"12\",\"1\",\"7\",\"9\",\"10\",\"11\",\"12\",\"1\",\"2\",\"3\",\"4\",\"6\",\"7\",\"9\",\"10\",\"11\",\"12\",\"1\",\"4\",\"7\",\"8\",\"9\",\"10\",\"12\",\"3\",\"4\",\"5\",\"7\",\"8\",\"9\",\"11\",\"12\",\"3\",\"6\",\"12\",\"7\",\"9\",\"1\",\"2\",\"4\",\"5\",\"6\",\"7\",\"8\",\"9\",\"10\",\"11\",\"12\",\"3\",\"1\",\"7\",\"10\",\"11\",\"10\",\"1\",\"2\",\"3\",\"5\",\"6\",\"7\",\"8\",\"10\",\"11\",\"12\",\"2\",\"5\",\"6\",\"7\",\"9\",\"10\",\"11\",\"12\",\"4\",\"5\",\"6\",\"9\",\"10\",\"4\",\"5\",\"8\",\"11\",\"3\",\"8\",\"10\",\"1\",\"4\",\"5\",\"7\",\"8\",\"9\",\"10\",\"12\",\"2\",\"7\",\"3\",\"11\",\"1\",\"2\",\"4\",\"5\",\"6\",\"7\",\"9\",\"10\",\"11\",\"12\",\"1\",\"2\",\"3\",\"4\",\"5\",\"6\",\"7\",\"8\",\"9\",\"10\",\"11\",\"12\",\"5\",\"1\",\"2\",\"5\",\"6\",\"7\",\"2\",\"3\",\"4\",\"8\",\"9\",\"10\",\"11\",\"12\",\"1\",\"2\",\"3\",\"4\",\"5\",\"6\",\"8\",\"9\",\"12\",\"2\",\"3\",\"5\",\"7\",\"8\",\"10\",\"11\",\"\",\"\",\"\",\"\",\"\",\"\",\"\",\"\",\"\",\"\",\"\",\"\"],\"values\":[1.0,2.0,1.0,1.0,1.0,1.0,1.0,1.0,1.0,3.0,1.0,1.0,7.0,6.0,9.0,7.0,5.0,3.0,7.0,6.0,5.0,2.0,5.0,6.0,2.0,1.0,2.0,1.0,1.0,2.0,2.0,3.0,1.0,3.0,2.0,1.0,1.0,1.0,1.0,1.0,2.0,3.0,1.0,5.0,1.0,5.0,1.0,2.0,4.0,2.0,6.0,1.0,1.0,3.0,1.0,1.0,3.0,3.0,3.0,3.0,2.0,2.0,4.0,2.0,1.0,2.0,1.0,5.0,1.0,2.0,5.0,4.0,2.0,4.0,3.0,2.0,3.0,1.0,1.0,1.0,2.0,2.0,1.0,1.0,1.0,1.0,4.0,2.0,1.0,2.0,2.0,1.0,1.0,1.0,2.0,1.0,1.0,1.0,2.0,1.0,2.0,2.0,2.0,1.0,1.0,1.0,3.0,1.0,2.0,3.0,2.0,1.0,1.0,1.0,2.0,2.0,1.0,1.0,3.0,1.0,1.0,1.0,2.0,2.0,1.0,3.0,4.0,3.0,1.0,2.0,2.0,2.0,1.0,1.0,1.0,1.0,1.0,1.0,1.0,1.0,1.0,1.0,2.0,1.0,1.0,1.0,2.0,1.0,1.0,1.0,1.0,2.0,1.0,1.0,3.0,2.0,1.0,3.0,1.0,1.0,3.0,2.0,1.0,4.0,1.0,2.0,1.0,2.0,2.0,1.0,2.0,2.0,2.0,4.0,1.0,1.0,1.0,2.0,1.0,2.0,1.0,1.0,1.0,1.0,2.0,2.0,3.0,1.0,2.0,2.0,1.0,1.0,1.0,1.0,1.0,1.0,2.0,1.0,1.0,2.0,1.0,1.0,2.0,1.0,2.0,1.0,5.0,4.0,3.0,7.0,6.0,5.0,2.0,5.0,6.0,2.0,5.0,10.0,1.0,2.0,2.0,1.0,1.0,1.0,2.0,1.0,2.0,1.0,1.0,1.0,1.0,2.0,1.0,1.0,1.0,1.0,1.0,1.0,2.0,1.0,1.0,2.0,1.0,1.0,1.0,1.0,1.0,1.0,43.0,34.0,39.0,48.0,46.0,32.0,46.0,41.0,38.0,36.0,41.0,56.0],\"type\":\"sunburst\"}],                        {\"template\":{\"data\":{\"histogram2dcontour\":[{\"type\":\"histogram2dcontour\",\"colorbar\":{\"outlinewidth\":0,\"ticks\":\"\"},\"colorscale\":[[0.0,\"#0d0887\"],[0.1111111111111111,\"#46039f\"],[0.2222222222222222,\"#7201a8\"],[0.3333333333333333,\"#9c179e\"],[0.4444444444444444,\"#bd3786\"],[0.5555555555555556,\"#d8576b\"],[0.6666666666666666,\"#ed7953\"],[0.7777777777777778,\"#fb9f3a\"],[0.8888888888888888,\"#fdca26\"],[1.0,\"#f0f921\"]]}],\"choropleth\":[{\"type\":\"choropleth\",\"colorbar\":{\"outlinewidth\":0,\"ticks\":\"\"}}],\"histogram2d\":[{\"type\":\"histogram2d\",\"colorbar\":{\"outlinewidth\":0,\"ticks\":\"\"},\"colorscale\":[[0.0,\"#0d0887\"],[0.1111111111111111,\"#46039f\"],[0.2222222222222222,\"#7201a8\"],[0.3333333333333333,\"#9c179e\"],[0.4444444444444444,\"#bd3786\"],[0.5555555555555556,\"#d8576b\"],[0.6666666666666666,\"#ed7953\"],[0.7777777777777778,\"#fb9f3a\"],[0.8888888888888888,\"#fdca26\"],[1.0,\"#f0f921\"]]}],\"heatmap\":[{\"type\":\"heatmap\",\"colorbar\":{\"outlinewidth\":0,\"ticks\":\"\"},\"colorscale\":[[0.0,\"#0d0887\"],[0.1111111111111111,\"#46039f\"],[0.2222222222222222,\"#7201a8\"],[0.3333333333333333,\"#9c179e\"],[0.4444444444444444,\"#bd3786\"],[0.5555555555555556,\"#d8576b\"],[0.6666666666666666,\"#ed7953\"],[0.7777777777777778,\"#fb9f3a\"],[0.8888888888888888,\"#fdca26\"],[1.0,\"#f0f921\"]]}],\"heatmapgl\":[{\"type\":\"heatmapgl\",\"colorbar\":{\"outlinewidth\":0,\"ticks\":\"\"},\"colorscale\":[[0.0,\"#0d0887\"],[0.1111111111111111,\"#46039f\"],[0.2222222222222222,\"#7201a8\"],[0.3333333333333333,\"#9c179e\"],[0.4444444444444444,\"#bd3786\"],[0.5555555555555556,\"#d8576b\"],[0.6666666666666666,\"#ed7953\"],[0.7777777777777778,\"#fb9f3a\"],[0.8888888888888888,\"#fdca26\"],[1.0,\"#f0f921\"]]}],\"contourcarpet\":[{\"type\":\"contourcarpet\",\"colorbar\":{\"outlinewidth\":0,\"ticks\":\"\"}}],\"contour\":[{\"type\":\"contour\",\"colorbar\":{\"outlinewidth\":0,\"ticks\":\"\"},\"colorscale\":[[0.0,\"#0d0887\"],[0.1111111111111111,\"#46039f\"],[0.2222222222222222,\"#7201a8\"],[0.3333333333333333,\"#9c179e\"],[0.4444444444444444,\"#bd3786\"],[0.5555555555555556,\"#d8576b\"],[0.6666666666666666,\"#ed7953\"],[0.7777777777777778,\"#fb9f3a\"],[0.8888888888888888,\"#fdca26\"],[1.0,\"#f0f921\"]]}],\"surface\":[{\"type\":\"surface\",\"colorbar\":{\"outlinewidth\":0,\"ticks\":\"\"},\"colorscale\":[[0.0,\"#0d0887\"],[0.1111111111111111,\"#46039f\"],[0.2222222222222222,\"#7201a8\"],[0.3333333333333333,\"#9c179e\"],[0.4444444444444444,\"#bd3786\"],[0.5555555555555556,\"#d8576b\"],[0.6666666666666666,\"#ed7953\"],[0.7777777777777778,\"#fb9f3a\"],[0.8888888888888888,\"#fdca26\"],[1.0,\"#f0f921\"]]}],\"mesh3d\":[{\"type\":\"mesh3d\",\"colorbar\":{\"outlinewidth\":0,\"ticks\":\"\"}}],\"scatter\":[{\"fillpattern\":{\"fillmode\":\"overlay\",\"size\":10,\"solidity\":0.2},\"type\":\"scatter\"}],\"parcoords\":[{\"type\":\"parcoords\",\"line\":{\"colorbar\":{\"outlinewidth\":0,\"ticks\":\"\"}}}],\"scatterpolargl\":[{\"type\":\"scatterpolargl\",\"marker\":{\"colorbar\":{\"outlinewidth\":0,\"ticks\":\"\"}}}],\"bar\":[{\"error_x\":{\"color\":\"#2a3f5f\"},\"error_y\":{\"color\":\"#2a3f5f\"},\"marker\":{\"line\":{\"color\":\"#E5ECF6\",\"width\":0.5},\"pattern\":{\"fillmode\":\"overlay\",\"size\":10,\"solidity\":0.2}},\"type\":\"bar\"}],\"scattergeo\":[{\"type\":\"scattergeo\",\"marker\":{\"colorbar\":{\"outlinewidth\":0,\"ticks\":\"\"}}}],\"scatterpolar\":[{\"type\":\"scatterpolar\",\"marker\":{\"colorbar\":{\"outlinewidth\":0,\"ticks\":\"\"}}}],\"histogram\":[{\"marker\":{\"pattern\":{\"fillmode\":\"overlay\",\"size\":10,\"solidity\":0.2}},\"type\":\"histogram\"}],\"scattergl\":[{\"type\":\"scattergl\",\"marker\":{\"colorbar\":{\"outlinewidth\":0,\"ticks\":\"\"}}}],\"scatter3d\":[{\"type\":\"scatter3d\",\"line\":{\"colorbar\":{\"outlinewidth\":0,\"ticks\":\"\"}},\"marker\":{\"colorbar\":{\"outlinewidth\":0,\"ticks\":\"\"}}}],\"scattermapbox\":[{\"type\":\"scattermapbox\",\"marker\":{\"colorbar\":{\"outlinewidth\":0,\"ticks\":\"\"}}}],\"scatterternary\":[{\"type\":\"scatterternary\",\"marker\":{\"colorbar\":{\"outlinewidth\":0,\"ticks\":\"\"}}}],\"scattercarpet\":[{\"type\":\"scattercarpet\",\"marker\":{\"colorbar\":{\"outlinewidth\":0,\"ticks\":\"\"}}}],\"carpet\":[{\"aaxis\":{\"endlinecolor\":\"#2a3f5f\",\"gridcolor\":\"white\",\"linecolor\":\"white\",\"minorgridcolor\":\"white\",\"startlinecolor\":\"#2a3f5f\"},\"baxis\":{\"endlinecolor\":\"#2a3f5f\",\"gridcolor\":\"white\",\"linecolor\":\"white\",\"minorgridcolor\":\"white\",\"startlinecolor\":\"#2a3f5f\"},\"type\":\"carpet\"}],\"table\":[{\"cells\":{\"fill\":{\"color\":\"#EBF0F8\"},\"line\":{\"color\":\"white\"}},\"header\":{\"fill\":{\"color\":\"#C8D4E3\"},\"line\":{\"color\":\"white\"}},\"type\":\"table\"}],\"barpolar\":[{\"marker\":{\"line\":{\"color\":\"#E5ECF6\",\"width\":0.5},\"pattern\":{\"fillmode\":\"overlay\",\"size\":10,\"solidity\":0.2}},\"type\":\"barpolar\"}],\"pie\":[{\"automargin\":true,\"type\":\"pie\"}]},\"layout\":{\"autotypenumbers\":\"strict\",\"colorway\":[\"#636efa\",\"#EF553B\",\"#00cc96\",\"#ab63fa\",\"#FFA15A\",\"#19d3f3\",\"#FF6692\",\"#B6E880\",\"#FF97FF\",\"#FECB52\"],\"font\":{\"color\":\"#2a3f5f\"},\"hovermode\":\"closest\",\"hoverlabel\":{\"align\":\"left\"},\"paper_bgcolor\":\"white\",\"plot_bgcolor\":\"#E5ECF6\",\"polar\":{\"bgcolor\":\"#E5ECF6\",\"angularaxis\":{\"gridcolor\":\"white\",\"linecolor\":\"white\",\"ticks\":\"\"},\"radialaxis\":{\"gridcolor\":\"white\",\"linecolor\":\"white\",\"ticks\":\"\"}},\"ternary\":{\"bgcolor\":\"#E5ECF6\",\"aaxis\":{\"gridcolor\":\"white\",\"linecolor\":\"white\",\"ticks\":\"\"},\"baxis\":{\"gridcolor\":\"white\",\"linecolor\":\"white\",\"ticks\":\"\"},\"caxis\":{\"gridcolor\":\"white\",\"linecolor\":\"white\",\"ticks\":\"\"}},\"coloraxis\":{\"colorbar\":{\"outlinewidth\":0,\"ticks\":\"\"}},\"colorscale\":{\"sequential\":[[0.0,\"#0d0887\"],[0.1111111111111111,\"#46039f\"],[0.2222222222222222,\"#7201a8\"],[0.3333333333333333,\"#9c179e\"],[0.4444444444444444,\"#bd3786\"],[0.5555555555555556,\"#d8576b\"],[0.6666666666666666,\"#ed7953\"],[0.7777777777777778,\"#fb9f3a\"],[0.8888888888888888,\"#fdca26\"],[1.0,\"#f0f921\"]],\"sequentialminus\":[[0.0,\"#0d0887\"],[0.1111111111111111,\"#46039f\"],[0.2222222222222222,\"#7201a8\"],[0.3333333333333333,\"#9c179e\"],[0.4444444444444444,\"#bd3786\"],[0.5555555555555556,\"#d8576b\"],[0.6666666666666666,\"#ed7953\"],[0.7777777777777778,\"#fb9f3a\"],[0.8888888888888888,\"#fdca26\"],[1.0,\"#f0f921\"]],\"diverging\":[[0,\"#8e0152\"],[0.1,\"#c51b7d\"],[0.2,\"#de77ae\"],[0.3,\"#f1b6da\"],[0.4,\"#fde0ef\"],[0.5,\"#f7f7f7\"],[0.6,\"#e6f5d0\"],[0.7,\"#b8e186\"],[0.8,\"#7fbc41\"],[0.9,\"#4d9221\"],[1,\"#276419\"]]},\"xaxis\":{\"gridcolor\":\"white\",\"linecolor\":\"white\",\"ticks\":\"\",\"title\":{\"standoff\":15},\"zerolinecolor\":\"white\",\"automargin\":true,\"zerolinewidth\":2},\"yaxis\":{\"gridcolor\":\"white\",\"linecolor\":\"white\",\"ticks\":\"\",\"title\":{\"standoff\":15},\"zerolinecolor\":\"white\",\"automargin\":true,\"zerolinewidth\":2},\"scene\":{\"xaxis\":{\"backgroundcolor\":\"#E5ECF6\",\"gridcolor\":\"white\",\"linecolor\":\"white\",\"showbackground\":true,\"ticks\":\"\",\"zerolinecolor\":\"white\",\"gridwidth\":2},\"yaxis\":{\"backgroundcolor\":\"#E5ECF6\",\"gridcolor\":\"white\",\"linecolor\":\"white\",\"showbackground\":true,\"ticks\":\"\",\"zerolinecolor\":\"white\",\"gridwidth\":2},\"zaxis\":{\"backgroundcolor\":\"#E5ECF6\",\"gridcolor\":\"white\",\"linecolor\":\"white\",\"showbackground\":true,\"ticks\":\"\",\"zerolinecolor\":\"white\",\"gridwidth\":2}},\"shapedefaults\":{\"line\":{\"color\":\"#2a3f5f\"}},\"annotationdefaults\":{\"arrowcolor\":\"#2a3f5f\",\"arrowhead\":0,\"arrowwidth\":1},\"geo\":{\"bgcolor\":\"white\",\"landcolor\":\"#E5ECF6\",\"subunitcolor\":\"white\",\"showland\":true,\"showlakes\":true,\"lakecolor\":\"white\"},\"title\":{\"x\":0.05},\"mapbox\":{\"style\":\"light\"}}},\"legend\":{\"tracegroupgap\":0},\"margin\":{\"t\":60}},                        {\"responsive\": true}                    ).then(function(){\n",
              "                            \n",
              "var gd = document.getElementById('f5df6ae0-a99b-489a-960d-1d9019b327f2');\n",
              "var x = new MutationObserver(function (mutations, observer) {{\n",
              "        var display = window.getComputedStyle(gd).display;\n",
              "        if (!display || display === 'none') {{\n",
              "            console.log([gd, 'removed!']);\n",
              "            Plotly.purge(gd);\n",
              "            observer.disconnect();\n",
              "        }}\n",
              "}});\n",
              "\n",
              "// Listen for the removal of the full notebook cells\n",
              "var notebookContainer = gd.closest('#notebook-container');\n",
              "if (notebookContainer) {{\n",
              "    x.observe(notebookContainer, {childList: true});\n",
              "}}\n",
              "\n",
              "// Listen for the clearing of the current output cell\n",
              "var outputEl = gd.closest('.output');\n",
              "if (outputEl) {{\n",
              "    x.observe(outputEl, {childList: true});\n",
              "}}\n",
              "\n",
              "                        })                };                });            </script>        </div>"
            ]
          },
          "metadata": {},
          "output_type": "display_data"
        }
      ],
      "source": [
        "# Create sunburst chart here\n",
        "fig = px.sunburst(data, path=['Month', 'DestStateName'], values='Flights')\n",
        "fig.show()"
      ]
    },
    {
      "cell_type": "markdown",
      "metadata": {},
      "source": [
        "Double-click **here** for the solution.\n",
        "\n",
        "<!-- The answer is below:\n",
        "    \n",
        "fig = px.sunburst(data, path=['Month', 'DestStateName'], values='Flights')\n",
        "fig.show()\n",
        "\n",
        "-->\n"
      ]
    },
    {
      "cell_type": "markdown",
      "metadata": {},
      "source": [
        "## Summary\n",
        "\n",
        "Congratulations for completing your first lab.\n",
        "\n",
        "In this lab, you have learnt how to use `plotly.graph_objects` and `plotly.express` for creating plots and charts.\n"
      ]
    },
    {
      "cell_type": "markdown",
      "metadata": {},
      "source": [
        "## Author\n",
        "\n",
        "[Saishruthi Swaminathan](https://www.linkedin.com/in/saishruthi-swaminathan/?utm_medium=Exinfluencer&utm_source=Exinfluencer&utm_content=000026UJ&utm_term=10006555&utm_id=NA-SkillsNetwork-Channel-SkillsNetworkCoursesIBMDeveloperSkillsNetworkDV0101ENSkillsNetwork20297740-2021-01-01)\n"
      ]
    },
    {
      "cell_type": "markdown",
      "metadata": {},
      "source": [
        "## Changelog\n",
        "\n",
        "| Date       | Version | Changed by | Change Description                   |\n",
        "| ---------- | ------- | ---------- | ------------------------------------ |\n",
        "| 12-18-2020 | 1.0     | Nayef      | Added dataset link and upload to Git |\n"
      ]
    },
    {
      "cell_type": "markdown",
      "metadata": {},
      "source": [
        "## <h3 align=\"center\"> © IBM Corporation 2020. All rights reserved. <h3/>\n"
      ]
    }
  ],
  "metadata": {
    "kernelspec": {
      "display_name": "Python 3.10.1 64-bit",
      "language": "python",
      "name": "python3"
    },
    "language_info": {
      "codemirror_mode": {
        "name": "python",
        "version": 3
      },
      "file_extension": ".py",
      "mimetype": "text/x-python",
      "name": "python",
      "nbconvert_exporter": "python",
      "pygments_lexer": "ipython3",
      "version": "3.10.1"
    },
    "vscode": {
      "interpreter": {
        "hash": "2ff2ccb759c312f16333144a4b6111ec80a85b7c933648d28689ac6773b7d4e6"
      }
    }
  },
  "nbformat": 4,
  "nbformat_minor": 4
}
