{
 "metadata": {
  "language_info": {
   "codemirror_mode": {
    "name": "ipython",
    "version": 3
   },
   "file_extension": ".py",
   "mimetype": "text/x-python",
   "name": "python",
   "nbconvert_exporter": "python",
   "pygments_lexer": "ipython3",
   "version": "3.7.6-final"
  },
  "orig_nbformat": 2,
  "kernelspec": {
   "name": "python3",
   "display_name": "Python 3",
   "language": "python"
  }
 },
 "nbformat": 4,
 "nbformat_minor": 2,
 "cells": [
  {
   "cell_type": "code",
   "execution_count": null,
   "metadata": {},
   "outputs": [],
   "source": [
    "# PART I : \n",
    "### Arrays vs Lists\n",
    "## Array : More convinient when dealing with numberical operation (creates vectors : +/-/*... )\n",
    "## Lists : deals with different type of data type"
   ]
  },
  {
   "cell_type": "code",
   "execution_count": 3,
   "metadata": {},
   "outputs": [
    {
     "output_type": "stream",
     "name": "stdout",
     "text": [
      "[2, 12, 36]\n"
     ]
    }
   ],
   "source": [
    "# Lists\n",
    "list_two = list(range(1,4))\n",
    "# print(list_two)\n",
    "list_three = list(range(1,4))\n",
    "list_sum = []\n",
    "for idx in range(3): \n",
    "    list_two[idx] = list_two[idx] ** 2 #(a^2 + a^3)\n",
    "    list_three[idx] = list_three[idx] ** 3\n",
    "    list_sum.append(list_two[idx] + list_three[idx])\n",
    "print(list_sum)"
   ]
  },
  {
   "cell_type": "code",
   "execution_count": 2,
   "metadata": {},
   "outputs": [
    {
     "output_type": "stream",
     "name": "stdout",
     "text": [
      "[ 2 12 36]\n"
     ]
    }
   ],
   "source": [
    "# Array : in NumPy\n",
    "import numpy as np # (import functions and Maths modules)\n",
    "\n",
    "#array(without a comma) : data structure intended for numerical data\n",
    "array_two = np.arange(1,4)  # arange similar to range() of a list\n",
    "array_three = np.arange(1,4) \n",
    "\n",
    "print(array_two ** 2  + array_three ** 3) #(a^2 + a^3) "
   ]
  },
  {
   "cell_type": "code",
   "execution_count": 22,
   "metadata": {},
   "outputs": [
    {
     "output_type": "stream",
     "name": "stdout",
     "text": [
      "[1 2 3]\n[ 1  8 27]\n[-1 -2 -3]\n[ 2.71828183  7.3890561  20.08553692]\n[0.         0.69314718 1.09861229]\n[0.84147098 0.90929743 0.14112001]\n[ 0.54030231 -0.41614684 -0.9899925 ]\n[ 1.55740772 -2.18503986 -0.14254654]\n[ 1.55740772 -2.18503986 -0.14254654]\n"
     ]
    }
   ],
   "source": [
    "# Some numpy maths functions :\n",
    "\n",
    "sample_array = np.array([1,2,3]) # converts a list to array\n",
    "\n",
    "print(sample_array)  \n",
    "\n",
    "# power function\n",
    "print(np.power(sample_array,3) )\n",
    "# negative\n",
    "print(np.negative(sample_array))\n",
    "#exponencial\n",
    "print(np.exp(sample_array))\n",
    "# log\n",
    "print(np.log(sample_array))\n",
    "# sin\n",
    "print(np.sin(sample_array))\n",
    "# cos\n",
    "print(np.cos(sample_array))\n",
    "#tan\n",
    "print(np.tan(sample_array))\n",
    "print(np.sin(sample_array)/np.cos(sample_array))\n"
   ]
  },
  {
   "cell_type": "code",
   "execution_count": 1,
   "metadata": {},
   "outputs": [
    {
     "output_type": "stream",
     "name": "stdout",
     "text": [
      "[[0 1 2]\n [0 1 2]\n [0 1 2]]\n(3, 3)\n"
     ]
    }
   ],
   "source": [
    "# N dimension Array : to create Vectors\n",
    "\n",
    "# Shape: \n",
    "# 1D Array : (n,)\n",
    "# 2D Array : (n,m)\n",
    "import numpy as np \n",
    "\n",
    "x = np.arange(3) # Starts from zero same :  x = np.arange(0,3)\n",
    "y = np.arange(3)\n",
    "z = np.arange(3)\n",
    "\n",
    "multi_array = np.array([x, y, z])\n",
    "print(multi_array)\n",
    "print(np.shape(multi_array))"
   ]
  },
  {
   "cell_type": "code",
   "execution_count": 29,
   "metadata": {},
   "outputs": [
    {
     "output_type": "stream",
     "name": "stdout",
     "text": [
      "[ 1.          1.18367347  1.36734694  1.55102041  1.73469388  1.91836735\n  2.10204082  2.28571429  2.46938776  2.65306122  2.83673469  3.02040816\n  3.20408163  3.3877551   3.57142857  3.75510204  3.93877551  4.12244898\n  4.30612245  4.48979592  4.67346939  4.85714286  5.04081633  5.2244898\n  5.40816327  5.59183673  5.7755102   5.95918367  6.14285714  6.32653061\n  6.51020408  6.69387755  6.87755102  7.06122449  7.24489796  7.42857143\n  7.6122449   7.79591837  7.97959184  8.16326531  8.34693878  8.53061224\n  8.71428571  8.89795918  9.08163265  9.26530612  9.44897959  9.63265306\n  9.81632653 10.        ]\n"
     ]
    }
   ],
   "source": [
    "# Generate sample or random numbers\n",
    "\n",
    "w = np.linspace(1,10, 50)   \n",
    "print(w)"
   ]
  },
  {
   "cell_type": "code",
   "execution_count": 12,
   "metadata": {},
   "outputs": [
    {
     "output_type": "stream",
     "name": "stdout",
     "text": [
      "[ 1  2  3  4  5  6  7  8  9 10 11 12 13 14 15 16 17 18 19 20 21 22 23 24\n 25 26 27 28 29]\n[ 1.  15.5 30. ]\n"
     ]
    }
   ],
   "source": [
    "#Create arrays\n",
    "a = np.arange(1,30) \n",
    "b = np.linspace(1,30, 3,)   \n",
    "# b = np.linspace(1,30, 3, False)   \n",
    "\n",
    "print(a)\n",
    "print(b)"
   ]
  },
  {
   "cell_type": "code",
   "execution_count": 14,
   "metadata": {},
   "outputs": [
    {
     "output_type": "stream",
     "name": "stdout",
     "text": [
      "[[0 1 2]\n [3 4 5]\n [6 7 8]]\n(3, 3)\n"
     ]
    }
   ],
   "source": [
    "import numpy as np \n",
    "\n",
    "x = np.arange(3) # Starts from zero same :  x = np.arange(0,3)\n",
    "y = np.arange(3, 6)\n",
    "z = np.arange(6, 9)\n",
    "\n",
    "multi_array = np.array([x, y, z])\n",
    "print(multi_array)\n",
    "print(np.shape(multi_array))"
   ]
  },
  {
   "cell_type": "code",
   "execution_count": 25,
   "metadata": {},
   "outputs": [
    {
     "output_type": "stream",
     "name": "stdout",
     "text": [
      "0\n1\n2\n"
     ]
    }
   ],
   "source": [
    "# Act on specific element of the  matrix/Vectors\n",
    "# print(multi_array[0][0])\n",
    "print(multi_array[0, 0])\n",
    "# print(multi_array[0][1])\n",
    "print(multi_array[0, 1])\n",
    "# print(multi_array[0][2])\n",
    "print(multi_array[0, 2])"
   ]
  },
  {
   "cell_type": "code",
   "execution_count": 29,
   "metadata": {},
   "outputs": [
    {
     "output_type": "stream",
     "name": "stdout",
     "text": [
      "[[0 1 2]\n [3 4 5]\n [6 7 8]]\n(3, 3)\nuint8\n"
     ]
    }
   ],
   "source": [
    "# change type array\n",
    "\n",
    "import numpy as np \n",
    "\n",
    "x = np.arange(3) # Starts from zero same :  x = np.arange(0,3)\n",
    "y = np.arange(3, 6)\n",
    "z = np.arange(6, 9)\n",
    "\n",
    "multi_array = np.array([x, y, z], dtype = np.uint8)\n",
    "print(multi_array)\n",
    "print(np.shape(multi_array))\n",
    "print(multi_array.dtype)\n"
   ]
  },
  {
   "cell_type": "code",
   "execution_count": 30,
   "metadata": {},
   "outputs": [
    {
     "output_type": "stream",
     "name": "stdout",
     "text": [
      "[1 2 3 4 5 6 7 8 9]\n"
     ]
    }
   ],
   "source": [
    "# 1D slicing\n",
    "# [start stop step]\n",
    "\n",
    "import numpy as np \n",
    "\n",
    "x = np.arange(1, 10)\n",
    "print(x)"
   ]
  },
  {
   "cell_type": "code",
   "execution_count": 35,
   "metadata": {},
   "outputs": [
    {
     "output_type": "stream",
     "name": "stdout",
     "text": [
      "[2 4 6 8]\n"
     ]
    }
   ],
   "source": [
    "print(x[1:10:2])"
   ]
  },
  {
   "cell_type": "code",
   "execution_count": 37,
   "metadata": {},
   "outputs": [
    {
     "output_type": "stream",
     "name": "stdout",
     "text": [
      "[[0 1 2]\n [3 4 5]\n [6 7 8]]\n"
     ]
    }
   ],
   "source": [
    "# Reshaping Array\n",
    "\n",
    "import numpy as np \n",
    "\n",
    "x = np.arange(9).reshape(3, 3)\n",
    "print(x)"
   ]
  },
  {
   "cell_type": "code",
   "execution_count": 38,
   "metadata": {},
   "outputs": [
    {
     "output_type": "error",
     "ename": "ValueError",
     "evalue": "cannot reshape array of size 9 into shape (3,5)",
     "traceback": [
      "\u001b[1;31m---------------------------------------------------------------------------\u001b[0m",
      "\u001b[1;31mValueError\u001b[0m                                Traceback (most recent call last)",
      "\u001b[1;32m<ipython-input-38-5f5d8f53278b>\u001b[0m in \u001b[0;36m<module>\u001b[1;34m\u001b[0m\n\u001b[1;32m----> 1\u001b[1;33m \u001b[0mx\u001b[0m \u001b[1;33m=\u001b[0m \u001b[0mnp\u001b[0m\u001b[1;33m.\u001b[0m\u001b[0marange\u001b[0m\u001b[1;33m(\u001b[0m\u001b[1;36m9\u001b[0m\u001b[1;33m)\u001b[0m\u001b[1;33m.\u001b[0m\u001b[0mreshape\u001b[0m\u001b[1;33m(\u001b[0m\u001b[1;36m3\u001b[0m\u001b[1;33m,\u001b[0m \u001b[1;36m5\u001b[0m\u001b[1;33m)\u001b[0m\u001b[1;33m\u001b[0m\u001b[1;33m\u001b[0m\u001b[0m\n\u001b[0m\u001b[0;32m      2\u001b[0m \u001b[0mprint\u001b[0m\u001b[1;33m(\u001b[0m\u001b[0mx\u001b[0m\u001b[1;33m)\u001b[0m\u001b[1;33m\u001b[0m\u001b[1;33m\u001b[0m\u001b[0m\n",
      "\u001b[1;31mValueError\u001b[0m: cannot reshape array of size 9 into shape (3,5)"
     ]
    }
   ],
   "source": [
    "# respect the dimmension of the array when reshaping dim (x) = 3x3\n",
    "x = np.arange(9).reshape(3, 5)\n",
    "print(x)"
   ]
  },
  {
   "cell_type": "code",
   "execution_count": 39,
   "metadata": {},
   "outputs": [
    {
     "output_type": "stream",
     "name": "stdout",
     "text": [
      "[[0 1 2]\n [3 4 5]\n [6 7 8]]\n"
     ]
    }
   ],
   "source": [
    "# respect the dimmension of the array when reshaping dim (x) = 3x3\n",
    "x = np.arange(9).reshape(3, -1)\n",
    "print(x)"
   ]
  },
  {
   "cell_type": "code",
   "execution_count": 41,
   "metadata": {},
   "outputs": [
    {
     "output_type": "stream",
     "name": "stdout",
     "text": [
      "[[[ 0  1  2]\n  [ 3  4  5]\n  [ 6  7  8]]\n\n [[ 9 10 11]\n  [12 13 14]\n  [15 16 17]]]\n"
     ]
    }
   ],
   "source": [
    "# Reshaping twà Array of [(3x3), (3x3)]\n",
    "# Pratical for Excel \n",
    "x = np.arange(18).reshape(2, 3, 3) # [Dim, n, m]\n",
    "print(x)"
   ]
  },
  {
   "cell_type": "code",
   "execution_count": 44,
   "metadata": {},
   "outputs": [
    {
     "output_type": "stream",
     "name": "stdout",
     "text": [
      "[[[ 0  1  2]\n  [ 3  4  5]]\n\n [[ 6  7  8]\n  [ 9 10 11]]\n\n [[12 13 14]\n  [15 16 17]]]\n"
     ]
    }
   ],
   "source": [
    "# Miltidimensional Slicing : \n",
    "\n",
    "import numpy as np \n",
    "\n",
    "x = np.arange(18).reshape(3, 2, 3) \n",
    "print(x)"
   ]
  },
  {
   "cell_type": "code",
   "execution_count": 47,
   "metadata": {},
   "outputs": [
    {
     "output_type": "execute_result",
     "data": {
      "text/plain": [
       "11"
      ]
     },
     "metadata": {},
     "execution_count": 47
    }
   ],
   "source": [
    "x[1 , 1, 2]"
   ]
  },
  {
   "cell_type": "code",
   "execution_count": 59,
   "metadata": {},
   "outputs": [
    {
     "output_type": "execute_result",
     "data": {
      "text/plain": [
       "array([[ 6,  8],\n",
       "       [ 9, 11]])"
      ]
     },
     "metadata": {},
     "execution_count": 59
    }
   ],
   "source": [
    "# slicing\n",
    "\n",
    "# x[1 , :1, 2]\n",
    "x[1, :2, :3 :2]"
   ]
  },
  {
   "cell_type": "code",
   "execution_count": 51,
   "metadata": {},
   "outputs": [
    {
     "output_type": "execute_result",
     "data": {
      "text/plain": [
       "array([[ 6,  7,  8],\n",
       "       [ 9, 10, 11]])"
      ]
     },
     "metadata": {},
     "execution_count": 51
    }
   ],
   "source": [
    "# access first bloc (1st row and colons)\n",
    "x[1 , ...]"
   ]
  },
  {
   "cell_type": "code",
   "execution_count": 60,
   "metadata": {},
   "outputs": [
    {
     "output_type": "stream",
     "name": "stdout",
     "text": [
      "[[[False False False]\n  [False False False]]\n\n [[ True  True  True]\n  [ True  True  True]]\n\n [[ True  True  True]\n  [ True  True  True]]]\n"
     ]
    }
   ],
   "source": [
    "comp = x > 5\n",
    "print(comp)"
   ]
  },
  {
   "cell_type": "code",
   "execution_count": 61,
   "metadata": {},
   "outputs": [
    {
     "output_type": "execute_result",
     "data": {
      "text/plain": [
       "array([ 6,  7,  8,  9, 10, 11, 12, 13, 14, 15, 16, 17])"
      ]
     },
     "metadata": {},
     "execution_count": 61
    }
   ],
   "source": [
    "x[x>5]  # this can be reshapped"
   ]
  },
  {
   "cell_type": "code",
   "execution_count": 66,
   "metadata": {},
   "outputs": [
    {
     "output_type": "execute_result",
     "data": {
      "text/plain": [
       "17"
      ]
     },
     "metadata": {},
     "execution_count": 66
    }
   ],
   "source": [
    "x.max()"
   ]
  },
  {
   "cell_type": "code",
   "execution_count": 64,
   "metadata": {},
   "outputs": [
    {
     "output_type": "execute_result",
     "data": {
      "text/plain": [
       "0"
      ]
     },
     "metadata": {},
     "execution_count": 64
    }
   ],
   "source": [
    "x.min()"
   ]
  },
  {
   "cell_type": "code",
   "execution_count": 79,
   "metadata": {},
   "outputs": [
    {
     "output_type": "stream",
     "name": "stdout",
     "text": [
      "[[0 1 2]\n [3 4 5]\n [6 7 8]]\n"
     ]
    }
   ],
   "source": [
    "# Manipulation Array shapes\n",
    "import numpy as np \n",
    "\n",
    "x = np.arange(9).reshape(3, 3)\n",
    "print(x)\n",
    "\n"
   ]
  },
  {
   "cell_type": "code",
   "execution_count": 80,
   "metadata": {},
   "outputs": [
    {
     "output_type": "stream",
     "name": "stdout",
     "text": [
      "[0 1 2 3 4 5 6 7 8]\n"
     ]
    }
   ],
   "source": [
    "#Effilocher\n",
    "#return a view of the orignal array\n",
    "ravelled_array = x.ravel()\n",
    "print(ravelled_array)"
   ]
  },
  {
   "cell_type": "code",
   "execution_count": 81,
   "metadata": {},
   "outputs": [
    {
     "output_type": "stream",
     "name": "stdout",
     "text": [
      "[0 1 2 3 4 5 6 7 8]\n"
     ]
    }
   ],
   "source": [
    "# Mettre à plat == aplatir\n",
    "#  malloc and Return a copy\n",
    "flatten_array = x.flatten() \n",
    "print(flatten_array)"
   ]
  },
  {
   "cell_type": "code",
   "execution_count": 82,
   "metadata": {},
   "outputs": [
    {
     "output_type": "stream",
     "name": "stdout",
     "text": [
      "[0 1 2 3 4 5 6 7 8]\n[[0 1 2]\n [3 4 5]\n [6 7 8]]\n"
     ]
    }
   ],
   "source": [
    "# Effilocher\n",
    "# return a view of the orignal array : \n",
    "# La modification sur l'un élément se repercute sur le tableau de départ\n",
    "ravelled_array = x.ravel()\n",
    "#ravelled_array[2] = 1000000\n",
    "print(ravelled_array)\n",
    "print(x)\n"
   ]
  },
  {
   "cell_type": "code",
   "execution_count": 83,
   "metadata": {},
   "outputs": [
    {
     "output_type": "stream",
     "name": "stdout",
     "text": [
      "[      0       1 1000000       3       4       5       6       7       8]\n[[0 1 2]\n [3 4 5]\n [6 7 8]]\n"
     ]
    }
   ],
   "source": [
    "# Mettre à plat == aplatir\n",
    "#  malloc and Return a copy\n",
    "# La modification sur l'un élément NE repercute PAS sur le tableau de départ\n",
    "flatten_array = x.flatten()\n",
    "flatten_array[2] = 1000000\n",
    "print(flatten_array)\n",
    "print(x)\n"
   ]
  },
  {
   "cell_type": "code",
   "execution_count": 92,
   "metadata": {},
   "outputs": [
    {
     "output_type": "stream",
     "name": "stdout",
     "text": [
      "[[0 1 2]\n [3 4 5]\n [6 7 8]]\n"
     ]
    }
   ],
   "source": [
    "# CREATE A BEAUTIFUL MATRIX !!! \n",
    "\n",
    "y = np.arange(9)\n",
    "y.shape = [3, 3]\n",
    "print(y)"
   ]
  },
  {
   "cell_type": "code",
   "execution_count": 93,
   "metadata": {},
   "outputs": [
    {
     "output_type": "stream",
     "name": "stdout",
     "text": [
      "[[0 3 6]\n [1 4 7]\n [2 5 8]]\n"
     ]
    }
   ],
   "source": [
    "# TRANSPOSED MATRIX \n",
    "y = np.arange(9)\n",
    "y.shape = [3, 3]\n",
    "# print(y.transpose())\n",
    "print(y.T)"
   ]
  },
  {
   "cell_type": "code",
   "execution_count": 94,
   "metadata": {},
   "outputs": [
    {
     "output_type": "stream",
     "name": "stdout",
     "text": [
      "[[0 1 2 3 4 5]\n [6 7 8 0 1 2]\n [3 4 5 6 7 8]\n [0 1 2 3 4 5]\n [6 7 8 0 1 2]\n [3 4 5 6 7 8]]\n"
     ]
    }
   ],
   "source": [
    "print(np.resize(y, (6 , 6)))"
   ]
  },
  {
   "cell_type": "code",
   "execution_count": 100,
   "metadata": {},
   "outputs": [
    {
     "output_type": "stream",
     "name": "stdout",
     "text": [
      "[0 0 0 0 0 0]\n"
     ]
    }
   ],
   "source": [
    "# matrice Zeros\n",
    "print(np.zeros((6, ), dtype = int))"
   ]
  },
  {
   "cell_type": "code",
   "execution_count": 103,
   "metadata": {},
   "outputs": [
    {
     "output_type": "stream",
     "name": "stdout",
     "text": [
      "[[1. 0. 0.]\n [0. 1. 0.]\n [0. 0. 1.]]\n"
     ]
    }
   ],
   "source": [
    "# matrice identité\n",
    "print(np.eye(3))"
   ]
  },
  {
   "cell_type": "code",
   "execution_count": 104,
   "metadata": {},
   "outputs": [
    {
     "output_type": "stream",
     "name": "stdout",
     "text": [
      "[[0.17396231 0.14428123 0.89033868 0.54503796]\n [0.93716007 0.97994999 0.17468047 0.84210292]\n [0.50495833 0.31100454 0.67891019 0.22924788]\n [0.76267273 0.68601865 0.62384405 0.37916795]]\n"
     ]
    }
   ],
   "source": [
    "print(np.random.rand(4, 4))"
   ]
  },
  {
   "cell_type": "code",
   "execution_count": null,
   "metadata": {},
   "outputs": [],
   "source": [
    "#### MATRIX MMULTIPLICATION\n",
    "# A*B = sum of elements (row(i) * colons(i))"
   ]
  },
  {
   "cell_type": "code",
   "execution_count": 115,
   "metadata": {},
   "outputs": [
    {
     "output_type": "stream",
     "name": "stdout",
     "text": [
      "[[0 3 5]\n [5 5 2]]\n[[ 3  4]\n [ 3 -2]\n [ 4 -2]]\n"
     ]
    }
   ],
   "source": [
    "import numpy as np \n",
    "\n",
    "mat_a = np.matrix([0, 3, 5, 5, 5, 2]).reshape(2, 3)\n",
    "mat_b = np.matrix([3, 4, 3, -2, 4, -2]).reshape(3,2)\n",
    "\n",
    "print(mat_a)\n",
    "print(mat_b)"
   ]
  },
  {
   "cell_type": "code",
   "execution_count": 118,
   "metadata": {},
   "outputs": [
    {
     "output_type": "stream",
     "name": "stdout",
     "text": [
      "[[ 29 -16]\n [ 38   6]]\n"
     ]
    }
   ],
   "source": [
    "product = np.matmul(mat_a, mat_b)\n",
    "\n",
    "print(product)"
   ]
  },
  {
   "cell_type": "code",
   "execution_count": 120,
   "metadata": {},
   "outputs": [
    {
     "output_type": "error",
     "ename": "TypeError",
     "evalue": "'matrix' object is not callable",
     "traceback": [
      "\u001b[1;31m---------------------------------------------------------------------------\u001b[0m",
      "\u001b[1;31mTypeError\u001b[0m                                 Traceback (most recent call last)",
      "\u001b[1;32m<ipython-input-120-d35781e5c8d7>\u001b[0m in \u001b[0;36m<module>\u001b[1;34m\u001b[0m\n\u001b[1;32m----> 1\u001b[1;33m \u001b[0mproduct\u001b[0m\u001b[1;33m(\u001b[0m\u001b[0mmat_a\u001b[0m \u001b[1;33m@\u001b[0m \u001b[0mmat_b\u001b[0m\u001b[1;33m)\u001b[0m\u001b[1;33m\u001b[0m\u001b[1;33m\u001b[0m\u001b[0m\n\u001b[0m",
      "\u001b[1;31mTypeError\u001b[0m: 'matrix' object is not callable"
     ]
    }
   ],
   "source": [
    "product(mat_a @ mat_b)\n"
   ]
  },
  {
   "cell_type": "code",
   "execution_count": 121,
   "metadata": {},
   "outputs": [
    {
     "output_type": "stream",
     "name": "stdout",
     "text": [
      "[[0 1]\n [2 3]]\n"
     ]
    }
   ],
   "source": [
    "# STACKING : matrix concatenation\n",
    "\n",
    "x = np.arange(4)\n",
    "x.shape = [2, 2]\n",
    "print(x)"
   ]
  },
  {
   "cell_type": "code",
   "execution_count": 122,
   "metadata": {},
   "outputs": [
    {
     "output_type": "stream",
     "name": "stdout",
     "text": [
      "[[4 5]\n [6 7]]\n"
     ]
    }
   ],
   "source": [
    "y = np.arange(4, 8)\n",
    "y.shape = [2, 2]\n",
    "print(y)"
   ]
  },
  {
   "cell_type": "code",
   "execution_count": 123,
   "metadata": {},
   "outputs": [
    {
     "output_type": "stream",
     "name": "stdout",
     "text": [
      "[[0 1 4 5]\n [2 3 6 7]]\n"
     ]
    }
   ],
   "source": [
    "z = np.hstack((x, y))\n",
    "print(z)"
   ]
  },
  {
   "cell_type": "code",
   "execution_count": null,
   "metadata": {},
   "outputs": [],
   "source": [
    "##### COMPUTER VISION ###### \n",
    "# The way computer sees things.\n",
    "#  "
   ]
  }
 ]
}