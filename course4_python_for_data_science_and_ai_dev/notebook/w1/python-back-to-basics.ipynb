{
 "cells": [
  {
   "cell_type": "code",
   "execution_count": 4,
   "metadata": {},
   "outputs": [],
   "source": [
    "#\"\"\" Python training course notes \"\"\"\n",
    "\n",
    "## Why Python ?\n",
    "# - Versatility\n",
    "# - Readability\n",
    "# - Clear Syntax\n",
    "\n",
    "# Usage :  Games, Web dev, Data sciences ...\n",
    "\n",
    "## Installation :  ? \n",
    "# Anaconda3 : \n",
    "# https://www.anaconda.com/products/individual "
   ]
  },
  {
   "cell_type": "code",
   "execution_count": 1,
   "metadata": {},
   "outputs": [
    {
     "data": {
      "text/plain": [
       "4"
      ]
     },
     "execution_count": 1,
     "metadata": {},
     "output_type": "execute_result"
    }
   ],
   "source": [
    "# ### DATA TYPES & OPERATTORS ####\n",
    "# Data types and operators ?\n",
    "1 + 1 + 2"
   ]
  },
  {
   "cell_type": "code",
   "execution_count": 6,
   "metadata": {},
   "outputs": [
    {
     "name": "stdout",
     "output_type": "stream",
     "text": [
      "1\n"
     ]
    }
   ],
   "source": [
    "print(2-1)"
   ]
  },
  {
   "cell_type": "code",
   "execution_count": 7,
   "metadata": {},
   "outputs": [
    {
     "data": {
      "text/plain": [
       "3.3333333333333335"
      ]
     },
     "execution_count": 7,
     "metadata": {},
     "output_type": "execute_result"
    }
   ],
   "source": [
    "(10/3)"
   ]
  },
  {
   "cell_type": "code",
   "execution_count": 8,
   "metadata": {},
   "outputs": [
    {
     "data": {
      "text/plain": [
       "16"
      ]
     },
     "execution_count": 8,
     "metadata": {},
     "output_type": "execute_result"
    }
   ],
   "source": [
    "(4*4)"
   ]
  },
  {
   "cell_type": "code",
   "execution_count": 9,
   "metadata": {},
   "outputs": [
    {
     "data": {
      "text/plain": [
       "0"
      ]
     },
     "execution_count": 9,
     "metadata": {},
     "output_type": "execute_result"
    }
   ],
   "source": [
    "3%1"
   ]
  },
  {
   "cell_type": "code",
   "execution_count": 10,
   "metadata": {},
   "outputs": [
    {
     "data": {
      "text/plain": [
       "16"
      ]
     },
     "execution_count": 10,
     "metadata": {},
     "output_type": "execute_result"
    }
   ],
   "source": [
    "2**4"
   ]
  },
  {
   "cell_type": "code",
   "execution_count": 11,
   "metadata": {},
   "outputs": [
    {
     "data": {
      "text/plain": [
       "6"
      ]
     },
     "execution_count": 11,
     "metadata": {},
     "output_type": "execute_result"
    }
   ],
   "source": [
    "13//2"
   ]
  },
  {
   "cell_type": "code",
   "execution_count": 12,
   "metadata": {},
   "outputs": [
    {
     "ename": "SyntaxError",
     "evalue": "invalid syntax (<ipython-input-12-5dc86d11971a>, line 3)",
     "output_type": "error",
     "traceback": [
      "\u001b[1;36m  File \u001b[1;32m\"<ipython-input-12-5dc86d11971a>\"\u001b[1;36m, line \u001b[1;32m3\u001b[0m\n\u001b[1;33m    holds a value in a memory\u001b[0m\n\u001b[1;37m          ^\u001b[0m\n\u001b[1;31mSyntaxError\u001b[0m\u001b[1;31m:\u001b[0m invalid syntax\n"
     ]
    }
   ],
   "source": [
    "# Variables\n",
    "\n",
    "holds a value in a memory"
   ]
  },
  {
   "cell_type": "code",
   "execution_count": 9,
   "metadata": {},
   "outputs": [
    {
     "data": {
      "text/plain": [
       "5"
      ]
     },
     "execution_count": 9,
     "metadata": {},
     "output_type": "execute_result"
    }
   ],
   "source": [
    "age = 5\n",
    "age"
   ]
  },
  {
   "cell_type": "code",
   "execution_count": 13,
   "metadata": {},
   "outputs": [
    {
     "name": "stdout",
     "output_type": "stream",
     "text": [
      "30 afondiel male\n"
     ]
    }
   ],
   "source": [
    "# variable with same characteristic\n",
    "age, name, gender = 30, 'afondiel', 'male'\n",
    "print (age, name, gender)"
   ]
  },
  {
   "cell_type": "code",
   "execution_count": 16,
   "metadata": {},
   "outputs": [
    {
     "name": "stdout",
     "output_type": "stream",
     "text": [
      "full_name\n"
     ]
    }
   ],
   "source": [
    "# Variable Convention\n",
    "# all variable name shold be low case with undercore between\n",
    "full_name = \"Wakanda Forever\"\n",
    "print('full_name')\n"
   ]
  },
  {
   "cell_type": "code",
   "execution_count": 17,
   "metadata": {},
   "outputs": [
    {
     "name": "stdout",
     "output_type": "stream",
     "text": [
      "35\n"
     ]
    }
   ],
   "source": [
    "age +=5\n",
    "print (age)"
   ]
  },
  {
   "cell_type": "code",
   "execution_count": 19,
   "metadata": {},
   "outputs": [
    {
     "name": "stdout",
     "output_type": "stream",
     "text": [
      "30\n"
     ]
    }
   ],
   "source": [
    "age -= 5\n",
    "print(age)"
   ]
  },
  {
   "cell_type": "code",
   "execution_count": 27,
   "metadata": {},
   "outputs": [
    {
     "name": "stdout",
     "output_type": "stream",
     "text": [
      "2.3333333333333335\n",
      "hello human\n"
     ]
    }
   ],
   "source": [
    "# Numerical data types\n",
    "# int, float\n",
    "\n",
    "x = 7\n",
    "y = 3\n",
    "z = x/y\n",
    "hi = 'hello human'\n",
    "print(z)\n",
    "print(hi)"
   ]
  },
  {
   "cell_type": "code",
   "execution_count": 28,
   "metadata": {},
   "outputs": [
    {
     "name": "stdout",
     "output_type": "stream",
     "text": [
      "<class 'float'>\n",
      "<class 'str'>\n"
     ]
    }
   ],
   "source": [
    "print((type(z)))\n",
    "print((type(hi)))"
   ]
  },
  {
   "cell_type": "code",
   "execution_count": 30,
   "metadata": {},
   "outputs": [
    {
     "name": "stdout",
     "output_type": "stream",
     "text": [
      "3\n"
     ]
    }
   ],
   "source": [
    "# Conversion & Casting\n",
    "print(int(3.7))"
   ]
  },
  {
   "cell_type": "code",
   "execution_count": null,
   "metadata": {},
   "outputs": [],
   "source": [
    "# String Data Types\n",
    "# str\n"
   ]
  },
  {
   "cell_type": "code",
   "execution_count": 33,
   "metadata": {},
   "outputs": [
    {
     "name": "stdout",
     "output_type": "stream",
     "text": [
      "Terminator\n",
      "<class 'str'>\n"
     ]
    }
   ],
   "source": [
    "name = 'Terminator'\n",
    "print(name)\n",
    "print(type(name))"
   ]
  },
  {
   "cell_type": "code",
   "execution_count": 38,
   "metadata": {},
   "outputs": [
    {
     "name": "stdout",
     "output_type": "stream",
     "text": [
      "Terminator said \"Hello John\", to which John replied, \"Hello You're the best\"\n"
     ]
    }
   ],
   "source": [
    "dialogue = 'Terminator said \"Hello John\", to which John replied, \"Hello You\\'re the best\"'\n",
    "print(dialogue)"
   ]
  },
  {
   "cell_type": "code",
   "execution_count": 46,
   "metadata": {},
   "outputs": [
    {
     "name": "stdout",
     "output_type": "stream",
     "text": [
      "I'am 25 year old\n",
      "I'am 25 year oldI'am 25 year oldI'am 25 year oldI'am 25 year oldI'am 25 year oldI'am 25 year oldI'am 25 year oldI'am 25 year oldI'am 25 year oldI'am 25 year oldI'am 25 year oldI'am 25 year oldI'am 25 year oldI'am 25 year oldI'am 25 year oldI'am 25 year oldI'am 25 year oldI'am 25 year oldI'am 25 year oldI'am 25 year old\n",
      "320\n"
     ]
    }
   ],
   "source": [
    "segment_one = 'I\\'am 25'\n",
    "segment_two = 'year old'\n",
    "full_sentence =segment_one + \" \" + segment_two # concatenation\n",
    "long_sentence = full_sentence*20 # multiply strings\n",
    "print(full_sentence)\n",
    "print(long_sentence) \n",
    "print(len(long_sentence))   #length"
   ]
  },
  {
   "cell_type": "code",
   "execution_count": null,
   "metadata": {},
   "outputs": [],
   "source": [
    "# Booleans\n",
    "# True or False"
   ]
  },
  {
   "cell_type": "code",
   "execution_count": 48,
   "metadata": {},
   "outputs": [
    {
     "name": "stdout",
     "output_type": "stream",
     "text": [
      "<class 'bool'>\n"
     ]
    }
   ],
   "source": [
    "cool = True\n",
    "not_cool = False\n",
    "print(type(cool))"
   ]
  },
  {
   "cell_type": "code",
   "execution_count": 54,
   "metadata": {},
   "outputs": [
    {
     "name": "stdout",
     "output_type": "stream",
     "text": [
      "True\n"
     ]
    }
   ],
   "source": [
    "# Boolean used for comparaison : >, <, >=, =<, !=, and, or, not\n",
    "comp = not (( 1 > 2) and (3 > 2))\n",
    "print(comp)"
   ]
  },
  {
   "cell_type": "code",
   "execution_count": null,
   "metadata": {},
   "outputs": [],
   "source": [
    "#3 Methods != Functions ? \n",
    "# Methods : Data Type that can be associate with multiples(specific) methods | can be access with dot (\".)\n",
    "# Function : accepts args and return or not a single values\n"
   ]
  },
  {
   "cell_type": "code",
   "execution_count": 59,
   "metadata": {},
   "outputs": [
    {
     "name": "stdout",
     "output_type": "stream",
     "text": [
      "4\n"
     ]
    }
   ],
   "source": [
    "movie_title = 'Harry Potter and Prisoner of Azkaban'\n",
    "# print(movie_title.upper())\n",
    "print(movie_title.count('a')) # count the number of the letter 'a' in the string"
   ]
  },
  {
   "cell_type": "code",
   "execution_count": 60,
   "metadata": {},
   "outputs": [],
   "source": [
    "# Collections Types\n",
    "# List, Tuple, dict ...\n",
    "# List : sequence Data Type"
   ]
  },
  {
   "cell_type": "code",
   "execution_count": 62,
   "metadata": {},
   "outputs": [
    {
     "name": "stdout",
     "output_type": "stream",
     "text": [
      "John\n",
      "3\n"
     ]
    }
   ],
   "source": [
    "names = ['John','Jane', 'Joe']\n",
    "print(names[0])\n",
    "print(len(names))"
   ]
  },
  {
   "cell_type": "code",
   "execution_count": 124,
   "metadata": {},
   "outputs": [
    {
     "name": "stdout",
     "output_type": "stream",
     "text": [
      "[True, False, 1.2, 4, 'Jane', 'Joe']\n",
      "38\n"
     ]
    }
   ],
   "source": [
    "random_names = [True, False,1.2, 4,'Jane', 'Joe']\n",
    "name_path = len('D:\\\\Lab\\\\Training\\\\Udemy\\\\self-driving-car')\n",
    "print(random_names)\n",
    "print(name_path)"
   ]
  },
  {
   "cell_type": "code",
   "execution_count": 125,
   "metadata": {},
   "outputs": [
    {
     "ename": "TypeError",
     "evalue": "'int' object is not subscriptable",
     "output_type": "error",
     "traceback": [
      "\u001b[1;31m---------------------------------------------------------------------------\u001b[0m",
      "\u001b[1;31mTypeError\u001b[0m                                 Traceback (most recent call last)",
      "\u001b[1;32m<ipython-input-125-c83ef578373c>\u001b[0m in \u001b[0;36m<module>\u001b[1;34m\u001b[0m\n\u001b[0;32m      4\u001b[0m \u001b[1;31m# print(random_names_new)\u001b[0m\u001b[1;33m\u001b[0m\u001b[1;33m\u001b[0m\u001b[1;33m\u001b[0m\u001b[0m\n\u001b[0;32m      5\u001b[0m \u001b[1;31m# print(random_names_new_new)\u001b[0m\u001b[1;33m\u001b[0m\u001b[1;33m\u001b[0m\u001b[1;33m\u001b[0m\u001b[0m\n\u001b[1;32m----> 6\u001b[1;33m \u001b[0mprint\u001b[0m\u001b[1;33m(\u001b[0m\u001b[0mname_path\u001b[0m\u001b[1;33m[\u001b[0m\u001b[1;33m:\u001b[0m\u001b[1;33m-\u001b[0m\u001b[1;36m3\u001b[0m\u001b[1;33m]\u001b[0m\u001b[1;33m)\u001b[0m\u001b[1;33m\u001b[0m\u001b[1;33m\u001b[0m\u001b[0m\n\u001b[0m",
      "\u001b[1;31mTypeError\u001b[0m: 'int' object is not subscriptable"
     ]
    }
   ],
   "source": [
    "# random_names_new = random_names.append('Hendrix')\n",
    "# random_names_new_new = random_names_new.insert(3,'Hendrix')\n",
    "# print(random_names)\n",
    "# print(random_names_new)\n",
    "# print(random_names_new_new)\n",
    "print(name_path[:-3])"
   ]
  },
  {
   "cell_type": "code",
   "execution_count": null,
   "metadata": {},
   "outputs": [],
   "source": [
    "# SLICING\n",
    "# List[start ========> (end - 1)] "
   ]
  },
  {
   "cell_type": "code",
   "execution_count": 132,
   "metadata": {},
   "outputs": [
    {
     "name": "stdout",
     "output_type": "stream",
     "text": [
      "[2, 3, 4, 5, 6, 7, 8]\n",
      "[0, 1, 2, 3, 4, 5, 6, 7, 8]\n",
      "[0, 1, 2, 3, 4, 5, 6, 7, 8, 9, 10]\n",
      "[0, 1, 2, 3, 4, 5, 6, 7, 8, 9, 10]\n",
      "[0, 1]\n"
     ]
    }
   ],
   "source": [
    "ordered_numbers = [0, 1, 2, 3, 4, 5, 6, 7, 8, 9, 10]\n",
    "print (ordered_numbers[2:9])\n",
    "print (ordered_numbers[:9])\n",
    "print (ordered_numbers[:len(ordered_numbers)])\n",
    "print (ordered_numbers[:])\n",
    "print (ordered_numbers[:2])"
   ]
  },
  {
   "cell_type": "code",
   "execution_count": 140,
   "metadata": {},
   "outputs": [
    {
     "name": "stdout",
     "output_type": "stream",
     "text": [
      "[0, 2, 4, 6, 8]\n"
     ]
    }
   ],
   "source": [
    "# Creating list of numbers\n",
    "print(list(range(0,10)))\n",
    "print(list(range(0,10,2)))  # step of 2"
   ]
  },
  {
   "cell_type": "code",
   "execution_count": 143,
   "metadata": {},
   "outputs": [
    {
     "name": "stdout",
     "output_type": "stream",
     "text": [
      "game_of_thro\n"
     ]
    }
   ],
   "source": [
    "show_title = 'game_of_thrones'\n",
    "print(show_title[:-3])"
   ]
  },
  {
   "cell_type": "code",
   "execution_count": 145,
   "metadata": {},
   "outputs": [
    {
     "name": "stdout",
     "output_type": "stream",
     "text": [
      "True\n",
      "False\n"
     ]
    }
   ],
   "source": [
    "# Membership operators\n",
    "# in / not in\n",
    "\n",
    "months = ['January', 'February', 'March']\n",
    "print('January' in months)\n",
    "print('January' not in months)"
   ]
  },
  {
   "cell_type": "code",
   "execution_count": 149,
   "metadata": {},
   "outputs": [
    {
     "name": "stdout",
     "output_type": "stream",
     "text": [
      "True\n",
      "False\n"
     ]
    }
   ],
   "source": [
    "#String cases\n",
    "\n",
    "course = 'python crash course'\n",
    "print('crash' in course)\n",
    "print('crash' not in course)"
   ]
  },
  {
   "cell_type": "code",
   "execution_count": null,
   "metadata": {},
   "outputs": [],
   "source": [
    "# Mutability \n",
    "\n",
    "# Mutable : Liable to change\n",
    "# Immutable : Not liable to change\n",
    "# List : Mutable \n",
    "# String : Immutable\n"
   ]
  },
  {
   "cell_type": "code",
   "execution_count": 151,
   "metadata": {},
   "outputs": [
    {
     "name": "stdout",
     "output_type": "stream",
     "text": [
      "['bananas', 'apples', 'cauliflower']\n",
      "['bananas', 'apples', 'rutabagas']\n"
     ]
    }
   ],
   "source": [
    "grocery_list = ['bananas','apples', 'cauliflower']\n",
    "print(grocery_list)\n",
    "grocery_list[2] = 'rutabagas'\n",
    "print(grocery_list)"
   ]
  },
  {
   "cell_type": "code",
   "execution_count": 154,
   "metadata": {},
   "outputs": [
    {
     "ename": "TypeError",
     "evalue": "'str' object does not support item assignment",
     "output_type": "error",
     "traceback": [
      "\u001b[1;31m---------------------------------------------------------------------------\u001b[0m",
      "\u001b[1;31mTypeError\u001b[0m                                 Traceback (most recent call last)",
      "\u001b[1;32m<ipython-input-154-55840abc2b59>\u001b[0m in \u001b[0;36m<module>\u001b[1;34m\u001b[0m\n\u001b[0;32m      1\u001b[0m \u001b[0mmisspelled_vegetable\u001b[0m \u001b[1;33m=\u001b[0m \u001b[1;34m'cucomber'\u001b[0m\u001b[1;33m\u001b[0m\u001b[1;33m\u001b[0m\u001b[0m\n\u001b[1;32m----> 2\u001b[1;33m \u001b[0mmisspelled_vegetable\u001b[0m\u001b[1;33m[\u001b[0m\u001b[1;36m3\u001b[0m\u001b[1;33m]\u001b[0m \u001b[1;33m=\u001b[0m \u001b[1;34m'u'\u001b[0m\u001b[1;33m\u001b[0m\u001b[1;33m\u001b[0m\u001b[0m\n\u001b[0m\u001b[0;32m      3\u001b[0m \u001b[0mprint\u001b[0m\u001b[1;33m(\u001b[0m\u001b[0mmisspelled_vegetable\u001b[0m\u001b[1;33m)\u001b[0m\u001b[1;33m\u001b[0m\u001b[1;33m\u001b[0m\u001b[0m\n",
      "\u001b[1;31mTypeError\u001b[0m: 'str' object does not support item assignment"
     ]
    }
   ],
   "source": [
    "misspelled_vegetable = 'cucomber'\n",
    "misspelled_vegetable[3] = 'u'\n",
    "print(misspelled_vegetable)"
   ]
  },
  {
   "cell_type": "code",
   "execution_count": 155,
   "metadata": {},
   "outputs": [
    {
     "name": "stdout",
     "output_type": "stream",
     "text": [
      "John\n",
      "Ameer\n"
     ]
    }
   ],
   "source": [
    "name = 'Ameer'\n",
    "other_name = name\n",
    "name = 'John'\n",
    "print(name)\n",
    "print(other_name)"
   ]
  },
  {
   "cell_type": "code",
   "execution_count": 157,
   "metadata": {},
   "outputs": [
    {
     "name": "stdout",
     "output_type": "stream",
     "text": [
      "A song of ice and fire\n",
      "['A song of ice and fire', 'The Mist', 'Lord of Rings']\n"
     ]
    }
   ],
   "source": [
    "# Memory storage \n",
    "\n",
    "books = ['The Catcher in the Rye', 'The Mist', 'Lord of Rings']\n",
    "more_books = books\n",
    "books[0] = 'A song of ice and fire'\n",
    "print(books[0])\n",
    "print(more_books)"
   ]
  },
  {
   "cell_type": "code",
   "execution_count": 167,
   "metadata": {},
   "outputs": [
    {
     "name": "stdout",
     "output_type": "stream",
     "text": [
      "3\n",
      "4\n",
      "1\n",
      "[1, 3, 4]\n"
     ]
    }
   ],
   "source": [
    "# FUNCTIONS AND METHODS LIST\n",
    "# Data type functions\n",
    "# len ()  : returns number of items of an object\n",
    "# max () : returns the maximum value of  the list\n",
    "# sorted() : sort low to higest\n",
    "# insert(pos, val) : \n",
    "\n",
    "numbers = [3, 1, 4]  # list of integers\n",
    "print(len(numbers))\n",
    "print(max(numbers))\n",
    "print(min(numbers))\n",
    "print(sorted(numbers))"
   ]
  },
  {
   "cell_type": "code",
   "execution_count": 168,
   "metadata": {},
   "outputs": [
    {
     "name": "stdout",
     "output_type": "stream",
     "text": [
      "Gio\n",
      "Zack\n",
      "['Gio', 'Thomas', 'Zack']\n"
     ]
    }
   ],
   "source": [
    "name = ['Thomas', 'Gio', 'Zack']\n",
    "print(min(name))    # returns the alphabet order of the less letter of the string\n",
    "print(max(name))    # returns the alphabet order of the greater letter of the string\n",
    "print(sorted(name))"
   ]
  },
  {
   "cell_type": "code",
   "execution_count": 184,
   "metadata": {},
   "outputs": [
    {
     "name": "stdout",
     "output_type": "stream",
     "text": [
      "Mon-Tue-Wed\n",
      "Mon Tue Wed\n",
      "This person is tall, slim and blond\n",
      "['January', 'February', 'March', 'April']\n"
     ]
    }
   ],
   "source": [
    "# Data types Methods\n",
    "# \n",
    "# join(list)\n",
    "# format(list of strings)\n",
    "# append() : \n",
    "print('-'.join(['Mon', 'Tue', 'Wed']))\n",
    "print(' '.join(['Mon', 'Tue', 'Wed']))\n",
    "# FORMAT STRINGS\n",
    "print('This person is {}, {} and {}'.format('tall', 'slim','blond'))\n",
    "months = ['January', 'February', 'March']\n",
    "months.append('April')\n",
    "print(months)\n"
   ]
  },
  {
   "cell_type": "code",
   "execution_count": 180,
   "metadata": {},
   "outputs": [
    {
     "name": "stdout",
     "output_type": "stream",
     "text": [
      "This person is tall, slim and blond\n"
     ]
    }
   ],
   "source": [
    "# TUPLES (just like lists)\n",
    "# Immutable ordered sequence of elements :stored RELATED element\n"
   ]
  },
  {
   "cell_type": "code",
   "execution_count": 185,
   "metadata": {},
   "outputs": [
    {
     "name": "stdout",
     "output_type": "stream",
     "text": [
      "tail slim\n"
     ]
    }
   ],
   "source": [
    "traits = ('tail', 'slim', 'blond')\n",
    "height = traits[0]\n",
    "build = traits[1]\n",
    "print (height, build)"
   ]
  },
  {
   "cell_type": "code",
   "execution_count": 186,
   "metadata": {},
   "outputs": [
    {
     "name": "stdout",
     "output_type": "stream",
     "text": [
      "tail slim blond\n"
     ]
    }
   ],
   "source": [
    "# /!\\  TUPLES UNPACKING \n",
    "traits = ('tail', 'slim', 'blond')\n",
    "height, build, hair = traits\n",
    "print (height, build, hair)\n"
   ]
  },
  {
   "cell_type": "code",
   "execution_count": 190,
   "metadata": {},
   "outputs": [
    {
     "name": "stdout",
     "output_type": "stream",
     "text": [
      "{1, 2, 3}\n",
      "{1, 2, 3, 4}\n"
     ]
    }
   ],
   "source": [
    "# SETS\n",
    "# a collection data types of uniques elements (it takes out the duplicated)\n",
    "# Mutable, unordered\n",
    "\n",
    "duplicated_numbers = [1, 1, 2, 2, 3, 3]\n",
    "unique_numbers = set(duplicated_numbers)\n",
    "print(unique_numbers)\n",
    "unique_numbers.add(4)\n",
    "print(unique_numbers)\n"
   ]
  },
  {
   "cell_type": "code",
   "execution_count": 191,
   "metadata": {},
   "outputs": [
    {
     "name": "stdout",
     "output_type": "stream",
     "text": [
      "True\n"
     ]
    }
   ],
   "source": [
    "print(2 in unique_numbers) # membership operator\n"
   ]
  },
  {
   "cell_type": "code",
   "execution_count": 198,
   "metadata": {},
   "outputs": [
    {
     "name": "stdout",
     "output_type": "stream",
     "text": [
      "{'bananas': 1.29, 'apples': 2.99, 'papays': 1.39}\n",
      "1.29\n"
     ]
    }
   ],
   "source": [
    "# !!!! DICTIONNARIES : !!!!\n",
    "# more flexible data types/MUTABLE \n",
    "# pair of (key:value) (/!\\ key shall be unique)\n",
    "# unordered sequence\n",
    "\n",
    "# inventory = { key (item) : value(price) }\n",
    "inventory = {'bananas' : 1.29, 'apples' : 2.99, 'papays' : 1.39}\n",
    "print(inventory)\n",
    "print(inventory['bananas'])\n"
   ]
  },
  {
   "cell_type": "code",
   "execution_count": 197,
   "metadata": {},
   "outputs": [
    {
     "name": "stdout",
     "output_type": "stream",
     "text": [
      "2.3\n"
     ]
    }
   ],
   "source": [
    "inventory['bananas'] = 2.3\n",
    "print(inventory['bananas'])"
   ]
  },
  {
   "cell_type": "code",
   "execution_count": 200,
   "metadata": {},
   "outputs": [
    {
     "name": "stdout",
     "output_type": "stream",
     "text": [
      "1.29\n"
     ]
    }
   ],
   "source": [
    "bananas_price = inventory.get('bananas')\n",
    "print(bananas_price)"
   ]
  },
  {
   "cell_type": "code",
   "execution_count": 201,
   "metadata": {},
   "outputs": [
    {
     "name": "stdout",
     "output_type": "stream",
     "text": [
      "None\n"
     ]
    }
   ],
   "source": [
    "toto_price = inventory.get('toto')\n",
    "print(toto_price)"
   ]
  },
  {
   "cell_type": "code",
   "execution_count": 202,
   "metadata": {},
   "outputs": [
    {
     "name": "stdout",
     "output_type": "stream",
     "text": [
      "False\n"
     ]
    }
   ],
   "source": [
    "print('celery' in inventory)"
   ]
  },
  {
   "cell_type": "code",
   "execution_count": 205,
   "metadata": {},
   "outputs": [
    {
     "name": "stdout",
     "output_type": "stream",
     "text": [
      "{'bananas': {'price': 2.29, 'country of origin': 'Guatamala'}, 'apples': {'price': 1.29, 'country of origin': 'UK'}, 'papays': {'price': 2.39, 'country of origin': 'Costa Rica'}}\n",
      "\n",
      "\n",
      "{'price': 2.29, 'country of origin': 'Guatamala'}\n"
     ]
    }
   ],
   "source": [
    "# /!\\ COMPOUND DATA STRUCTURES /!\\ \n",
    "\n",
    "grocery_items = {'bananas' : {'price' : 2.29,'country of origin': 'Guatamala' },  \n",
    "                 'apples'  : {'price' : 1.29,'country of origin': 'UK' },\n",
    "                 'papays'  : {'price' : 2.39,'country of origin': 'Costa Rica' }}\n",
    "print(grocery_items)\n",
    "print('\\n')\n",
    "print(grocery_items['bananas'])"
   ]
  },
  {
   "cell_type": "code",
   "execution_count": 210,
   "metadata": {},
   "outputs": [
    {
     "name": "stdout",
     "output_type": "stream",
     "text": [
      "Guatamala\n"
     ]
    }
   ],
   "source": [
    "print(grocery_items['bananas']['country of origin'])"
   ]
  },
  {
   "cell_type": "code",
   "execution_count": 214,
   "metadata": {},
   "outputs": [],
   "source": [
    "# #### PARTI II : CONTROL FLOW #####\n",
    "# Add Logic in the Code : Condition, Loop, ... \n",
    "grocery_items = {'bananas' : 1.29, 'apples' : 2.99, 'papays' : 1.39}"
   ]
  },
  {
   "cell_type": "code",
   "execution_count": 219,
   "metadata": {},
   "outputs": [
    {
     "name": "stdout",
     "output_type": "stream",
     "text": [
      "item not found brussel sprouts\n",
      "just added the item, here is the updated grocery list {'bananas': 1.29, 'apples': 2.99, 'papays': 1.39, 'brussel sprouts': 3.1}\n"
     ]
    }
   ],
   "source": [
    "item = 'brussel sprouts'\n",
    "if item in grocery_items: \n",
    "    print('item found : ', item)\n",
    "else :\n",
    "    print('item not found', item)\n",
    "    grocery_items.update({item: 3.1})\n",
    "    print('just added the item, here is the updated grocery list', grocery_items)"
   ]
  },
  {
   "cell_type": "code",
   "execution_count": 220,
   "metadata": {},
   "outputs": [
    {
     "name": "stdout",
     "output_type": "stream",
     "text": [
      "item not found rutabagas\n",
      "just added the item, here is the updated grocery list {'bananas': 1.29, 'apples': 2.99, 'papays': 1.39, 'brussel sprouts': 3.1, 'rutabagas': 2.99}\n"
     ]
    }
   ],
   "source": [
    "item, price = 'rutabagas', 2.99\n",
    "if item in grocery_items: \n",
    "    print('item found : ', item)\n",
    "elif price > 2.99:\n",
    "    print('too expensive for inventory') \n",
    "else :\n",
    "    print('item not found', item)\n",
    "    grocery_items.update({item: price})\n",
    "    print('just added the item, here is the updated grocery list', grocery_items)"
   ]
  },
  {
   "cell_type": "code",
   "execution_count": 224,
   "metadata": {},
   "outputs": [
    {
     "name": "stdout",
     "output_type": "stream",
     "text": [
      "time to go to sleep\n"
     ]
    }
   ],
   "source": [
    "daytime = 'noon'\n",
    "if daytime == 'dawn' :\n",
    "    print('still asleep')\n",
    "elif daytime == 'morning' : \n",
    "    print('time to go to work')\n",
    "else : \n",
    "    print('time to go to sleep')"
   ]
  },
  {
   "cell_type": "code",
   "execution_count": 227,
   "metadata": {},
   "outputs": [
    {
     "name": "stdout",
     "output_type": "stream",
     "text": [
      "flow regime is transitional\n"
     ]
    }
   ],
   "source": [
    "# COMPLEX COMPARISON\n",
    "\n",
    "# 1000 < Reynold's Number < 2000\n",
    "\n",
    "reynold_number = 5000\n",
    "\n",
    "if 2000 < reynold_number < 10000:\n",
    "    print('flow regime is transitional')"
   ]
  },
  {
   "cell_type": "code",
   "execution_count": 228,
   "metadata": {},
   "outputs": [
    {
     "name": "stdout",
     "output_type": "stream",
     "text": [
      "flow regime is transitional\n"
     ]
    }
   ],
   "source": [
    "if reynold_number > 2000 and reynold_number < 10000:\n",
    "    print('flow regime is transitional')"
   ]
  },
  {
   "cell_type": "code",
   "execution_count": null,
   "metadata": {},
   "outputs": [],
   "source": [
    "# LOOOOPPPPPSSSSSS ! \n",
    "# For loop : iterates over an iterable : \n",
    "# /!\\ interable : can run one element at time (List, String, Dict, Tuples)\n"
   ]
  },
  {
   "cell_type": "code",
   "execution_count": 229,
   "metadata": {},
   "outputs": [
    {
     "name": "stdout",
     "output_type": "stream",
     "text": [
      "January\n",
      "February\n",
      "March\n"
     ]
    }
   ],
   "source": [
    "months = ['January', 'February', 'March']\n",
    "for month in months : \n",
    "    print(month)"
   ]
  },
  {
   "cell_type": "code",
   "execution_count": 231,
   "metadata": {},
   "outputs": [
    {
     "name": "stdout",
     "output_type": "stream",
     "text": [
      "0\n",
      "1\n",
      "2\n",
      "3\n",
      "4\n",
      "5\n",
      "6\n",
      "7\n",
      "8\n",
      "9\n",
      "10\n",
      "11\n",
      "12\n",
      "13\n",
      "14\n",
      "15\n",
      "16\n",
      "17\n",
      "18\n",
      "19\n",
      "20\n",
      "21\n",
      "22\n",
      "23\n",
      "24\n",
      "25\n",
      "26\n",
      "27\n",
      "28\n",
      "29\n",
      "30\n",
      "31\n",
      "32\n",
      "33\n",
      "34\n",
      "35\n",
      "36\n",
      "37\n",
      "38\n",
      "39\n",
      "40\n",
      "41\n",
      "42\n",
      "43\n",
      "44\n",
      "45\n",
      "46\n",
      "47\n",
      "48\n",
      "49\n",
      "50\n",
      "51\n",
      "52\n",
      "53\n",
      "54\n",
      "55\n",
      "56\n",
      "57\n",
      "58\n",
      "59\n",
      "60\n",
      "61\n",
      "62\n",
      "63\n",
      "64\n",
      "65\n",
      "66\n",
      "67\n",
      "68\n",
      "69\n",
      "70\n",
      "71\n",
      "72\n",
      "73\n",
      "74\n",
      "75\n",
      "76\n",
      "77\n",
      "78\n",
      "79\n",
      "80\n",
      "81\n",
      "82\n",
      "83\n",
      "84\n",
      "85\n",
      "86\n",
      "87\n",
      "88\n",
      "89\n",
      "90\n",
      "91\n",
      "92\n",
      "93\n",
      "94\n",
      "95\n",
      "96\n",
      "97\n",
      "98\n",
      "99\n"
     ]
    }
   ],
   "source": [
    "for number in range(0, 100):\n",
    "    print(number)"
   ]
  },
  {
   "cell_type": "code",
   "execution_count": 239,
   "metadata": {},
   "outputs": [
    {
     "name": "stdout",
     "output_type": "stream",
     "text": [
      "['hilary', 'Diana', 'Brian']\n",
      "['hilary', 'diana', 'Brian']\n",
      "['hilary', 'diana', 'brian']\n",
      "['hilary', 'diana', 'brian']\n"
     ]
    }
   ],
   "source": [
    "name = ['Hilary', 'Diana', 'Brian']\n",
    "for idx in range (len(name)):\n",
    "    # print(idx)\n",
    "    name [idx] = name[idx].lower()\n",
    "    print(name)\n",
    "print(name)"
   ]
  },
  {
   "cell_type": "code",
   "execution_count": 241,
   "metadata": {},
   "outputs": [
    {
     "name": "stdout",
     "output_type": "stream",
     "text": [
      "Titanic\n",
      "Finding Nemo\n"
     ]
    }
   ],
   "source": [
    "movies = {'Titanic' : 1997, 'Finding Nemo' : 2003}\n",
    "for key in movies : \n",
    "    print(key)"
   ]
  },
  {
   "cell_type": "code",
   "execution_count": 249,
   "metadata": {},
   "outputs": [
    {
     "name": "stdout",
     "output_type": "stream",
     "text": [
      "The movie Titanic, was made in 1997\n",
      "The movie Finding Nemo, was made in 2003\n"
     ]
    }
   ],
   "source": [
    "movies = {'Titanic' : 1997, 'Finding Nemo' : 2003}\n",
    "for key , value in movies.items() :  # item() : return the list of dict key:value pairs\n",
    "    print('The movie {}, was made in {}'.format(key, value))"
   ]
  },
  {
   "cell_type": "code",
   "execution_count": 1,
   "metadata": {},
   "outputs": [],
   "source": [
    "# LOOOOOOOOOOP II\n",
    "\n",
    "#  While loop : Condition : ok => intruction\n",
    "#/!\\ Could run forever if condition never verified\n",
    "\n",
    "random_number = 20\n",
    "\n",
    "while random_number > 30 : \n",
    "    print(random_number)\n",
    "    break \n",
    "    # continue\n"
   ]
  },
  {
   "cell_type": "code",
   "execution_count": 2,
   "metadata": {},
   "outputs": [
    {
     "name": "stdout",
     "output_type": "stream",
     "text": [
      "[0, 1, 2, 3, 4, 5, 6, 7, 8, 9]\n"
     ]
    }
   ],
   "source": [
    "numbers = list(range(0,10))\n",
    "print(numbers)"
   ]
  },
  {
   "cell_type": "code",
   "execution_count": 3,
   "metadata": {},
   "outputs": [
    {
     "name": "stdout",
     "output_type": "stream",
     "text": [
      "0\n",
      "2\n",
      "4\n",
      "6\n",
      "8\n"
     ]
    }
   ],
   "source": [
    "for number in numbers :\n",
    "    if number % 2 != 0: \n",
    "        continue\n",
    "    print(number) "
   ]
  },
  {
   "cell_type": "code",
   "execution_count": null,
   "metadata": {},
   "outputs": [],
   "source": [
    "# ### PART III ###\n",
    "# FUNCTIONS : Performs a specific task\n",
    "# main goal : reusability\n",
    "# scope, Docstrings, Lambda ...\n",
    "# def function_name\n"
   ]
  },
  {
   "cell_type": "code",
   "execution_count": 13,
   "metadata": {},
   "outputs": [],
   "source": [
    "def rectangle_area(length, width) : \n",
    "    return length*width"
   ]
  },
  {
   "cell_type": "code",
   "execution_count": 15,
   "metadata": {},
   "outputs": [
    {
     "name": "stdout",
     "output_type": "stream",
     "text": [
      "8\n"
     ]
    }
   ],
   "source": [
    "area = rectangle_area(2 , 4)\n",
    "print(area)"
   ]
  },
  {
   "cell_type": "code",
   "execution_count": 18,
   "metadata": {},
   "outputs": [
    {
     "name": "stdout",
     "output_type": "stream",
     "text": [
      "6\n",
      "20\n"
     ]
    }
   ],
   "source": [
    "def rectangle_area(length, width) : \n",
    "    print(length*width)\n",
    "\n",
    "rectangle_area(2, 3) \n",
    "rectangle_area(4, 5) \n"
   ]
  },
  {
   "cell_type": "code",
   "execution_count": null,
   "metadata": {},
   "outputs": [],
   "source": [
    "# Function Scope  : part of your program that can use or access a variable\n",
    "# Local : Variable names assigned within a function\n",
    "# Global : Variable names assigned every part of the program / Moduem  (Encapsulation) "
   ]
  },
  {
   "cell_type": "code",
   "execution_count": 21,
   "metadata": {},
   "outputs": [
    {
     "name": "stdout",
     "output_type": "stream",
     "text": [
      "2\n"
     ]
    }
   ],
   "source": [
    "number = 2  # Global scoped\n",
    "def random_function() :\n",
    "    name = 'Bill'  # name is scoped to the function \n",
    "print (number)"
   ]
  },
  {
   "cell_type": "code",
   "execution_count": null,
   "metadata": {},
   "outputs": [],
   "source": [
    "# Docstrings : String literal that documents a segment of code\n"
   ]
  },
  {
   "cell_type": "code",
   "execution_count": null,
   "metadata": {},
   "outputs": [],
   "source": [
    "def rectangle_area(length, width) :\n",
    "    \"\"\" \n",
    "        INPUT : \n",
    "        This function takes in two lenght and width\n",
    "        OUTPUT :     \n",
    "        The Calculate the area based on the lenght and width by the user, where area = lenght x width\n",
    "    \"\"\"\n",
    "    return length*width"
   ]
  },
  {
   "cell_type": "code",
   "execution_count": 39,
   "metadata": {},
   "outputs": [
    {
     "name": "stdout",
     "output_type": "stream",
     "text": [
      "[2, 4]\n"
     ]
    }
   ],
   "source": [
    "# LAMBADA & HIGH ORDER FUNCTIONS : \n",
    "\n",
    "numbers = [1, 2, 3, 4, 5]\n",
    "for idx in range(len(numbers)+1) :\n",
    "    if idx % 2 != 0 :\n",
    "        numbers.remove(idx)\n",
    "        # numbers.pop(idx)\n",
    "print(numbers)"
   ]
  },
  {
   "cell_type": "code",
   "execution_count": 38,
   "metadata": {},
   "outputs": [
    {
     "name": "stdout",
     "output_type": "stream",
     "text": [
      "[2, 4]\n"
     ]
    }
   ],
   "source": [
    "numbers = [1, 2, 3, 4, 5]\n",
    "def even_or_odd(number) : \n",
    "    return number % 2 == 0\n",
    "\n",
    "print(list(filter(even_or_odd, numbers)))\n",
    "\n",
    "# Not reuseble"
   ]
  },
  {
   "cell_type": "code",
   "execution_count": 41,
   "metadata": {},
   "outputs": [
    {
     "name": "stdout",
     "output_type": "stream",
     "text": [
      "[2, 4]\n"
     ]
    }
   ],
   "source": [
    "numbers = [1, 2, 3, 4, 5]\n",
    "# For a no reuseble code !!!\n",
    "\n",
    "print(list(filter(lambda number : number % 2 == 0, numbers)))\n"
   ]
  },
  {
   "cell_type": "code",
   "execution_count": null,
   "metadata": {},
   "outputs": [],
   "source": []
  }
 ],
 "metadata": {
  "kernelspec": {
   "display_name": "Python 3",
   "language": "python",
   "name": "python3"
  },
  "language_info": {
   "codemirror_mode": {
    "name": "ipython",
    "version": 3
   },
   "file_extension": ".py",
   "mimetype": "text/x-python",
   "name": "python",
   "nbconvert_exporter": "python",
   "pygments_lexer": "ipython3",
   "version": "3.9.16"
  },
  "orig_nbformat": 2
 },
 "nbformat": 4,
 "nbformat_minor": 2
}
